{
 "cells": [
  {
   "cell_type": "code",
   "execution_count": 1,
   "metadata": {},
   "outputs": [
    {
     "data": {
      "text/plain": [
       "['python', '데이터', '분석', '빅', '전처리']"
      ]
     },
     "execution_count": 1,
     "metadata": {},
     "output_type": "execute_result"
    }
   ],
   "source": [
    "docs=['python 데이터','데이터 분석','빅 데이터 분석','데이터 전처리']\n",
    "\n",
    "vocab=list() # 단어사전 리스트\n",
    "for doc in docs: # 문서\n",
    "    for w in doc.split(): # 단어\n",
    "        vocab.append(w) # 단어 추가\n",
    "\n",
    "vocab=list(set(vocab)) # 중복 단어를 제거한 리스트\n",
    "vocab.sort() # 오름차순 정렬\n",
    "vocab"
   ]
  },
  {
   "cell_type": "code",
   "execution_count": 5,
   "metadata": {},
   "outputs": [],
   "source": [
    "from math import log\n",
    "N=len(docs) # 총 문서의 수\n",
    "\n",
    "# TF(Term Frequency) : 단어의 빈도\n",
    "# 특정 문서 d에서 특정 단어 t의 출현 빈도\n",
    "def tf(t, d):\n",
    "    return d.count(t)\n",
    "\n",
    "# DF(Document Frequency) : 특정 단어가 등장한 문서의 수. 모든 문서에 자주 나오는 단어는 중요 단어가 아닐 수도..\n",
    "# ex) 논문에서 abstract, 서론, 본론, 결론, 참고문헌 등 항상 나오는 단어들 - 논문 내용과는 무관\n",
    "\n",
    "# IDF(Inverse Document Frequency) : DF에 반비례하는 수\n",
    "# log( N/(df(t)+1) )\n",
    "# 희귀 단어의 경우 분모가 매우 작아지게 되어 IDF값이 너무 커지게 되므로 로그를 취함\n",
    "# 한번도 등장하지 않는 단어라면 분모가 0이 되므로 분모에 +1 처리\n",
    "def idf(t):\n",
    "    df=0\n",
    "    for doc in docs:\n",
    "        df+= t in doc\n",
    "    return log(N/(df+1))\n",
    "\n",
    "# TF와 IDF를 곱한 값\n",
    "def tfidf(t,d):\n",
    "    return tf(t,d)*idf(t)"
   ]
  },
  {
   "cell_type": "code",
   "execution_count": 3,
   "metadata": {},
   "outputs": [
    {
     "name": "stdout",
     "output_type": "stream",
     "text": [
      "[[1, 1, 0, 0, 0], [0, 1, 1, 0, 0], [0, 1, 1, 1, 0], [0, 1, 0, 0, 1]]\n"
     ]
    },
    {
     "data": {
      "text/html": [
       "<div>\n",
       "<style scoped>\n",
       "    .dataframe tbody tr th:only-of-type {\n",
       "        vertical-align: middle;\n",
       "    }\n",
       "\n",
       "    .dataframe tbody tr th {\n",
       "        vertical-align: top;\n",
       "    }\n",
       "\n",
       "    .dataframe thead th {\n",
       "        text-align: right;\n",
       "    }\n",
       "</style>\n",
       "<table border=\"1\" class=\"dataframe\">\n",
       "  <thead>\n",
       "    <tr style=\"text-align: right;\">\n",
       "      <th></th>\n",
       "      <th>python</th>\n",
       "      <th>데이터</th>\n",
       "      <th>분석</th>\n",
       "      <th>빅</th>\n",
       "      <th>전처리</th>\n",
       "    </tr>\n",
       "  </thead>\n",
       "  <tbody>\n",
       "    <tr>\n",
       "      <th>0</th>\n",
       "      <td>1</td>\n",
       "      <td>1</td>\n",
       "      <td>0</td>\n",
       "      <td>0</td>\n",
       "      <td>0</td>\n",
       "    </tr>\n",
       "    <tr>\n",
       "      <th>1</th>\n",
       "      <td>0</td>\n",
       "      <td>1</td>\n",
       "      <td>1</td>\n",
       "      <td>0</td>\n",
       "      <td>0</td>\n",
       "    </tr>\n",
       "    <tr>\n",
       "      <th>2</th>\n",
       "      <td>0</td>\n",
       "      <td>1</td>\n",
       "      <td>1</td>\n",
       "      <td>1</td>\n",
       "      <td>0</td>\n",
       "    </tr>\n",
       "    <tr>\n",
       "      <th>3</th>\n",
       "      <td>0</td>\n",
       "      <td>1</td>\n",
       "      <td>0</td>\n",
       "      <td>0</td>\n",
       "      <td>1</td>\n",
       "    </tr>\n",
       "  </tbody>\n",
       "</table>\n",
       "</div>"
      ],
      "text/plain": [
       "   python  데이터  분석  빅  전처리\n",
       "0       1    1   0  0    0\n",
       "1       0    1   1  0    0\n",
       "2       0    1   1  1    0\n",
       "3       0    1   0  0    1"
      ]
     },
     "execution_count": 3,
     "metadata": {},
     "output_type": "execute_result"
    }
   ],
   "source": [
    "import pandas as pd\n",
    "\n",
    "result=[]\n",
    "\n",
    "for i in range(N): # 문서 반복\n",
    "    result.append([])\n",
    "    d=docs[i]\n",
    "    for j in range(len(vocab)):\n",
    "        t=vocab[j]\n",
    "        result[-1].append(tf(t,d)) # 1차원 배열의 끝에 추가\n",
    "\n",
    "print(result)\n",
    "df_tf=pd.DataFrame(result, columns=vocab)\n",
    "df_tf # 단어의 출현 빈도"
   ]
  },
  {
   "cell_type": "code",
   "execution_count": 6,
   "metadata": {},
   "outputs": [
    {
     "data": {
      "text/html": [
       "<div>\n",
       "<style scoped>\n",
       "    .dataframe tbody tr th:only-of-type {\n",
       "        vertical-align: middle;\n",
       "    }\n",
       "\n",
       "    .dataframe tbody tr th {\n",
       "        vertical-align: top;\n",
       "    }\n",
       "\n",
       "    .dataframe thead th {\n",
       "        text-align: right;\n",
       "    }\n",
       "</style>\n",
       "<table border=\"1\" class=\"dataframe\">\n",
       "  <thead>\n",
       "    <tr style=\"text-align: right;\">\n",
       "      <th></th>\n",
       "      <th>IDF</th>\n",
       "    </tr>\n",
       "  </thead>\n",
       "  <tbody>\n",
       "    <tr>\n",
       "      <th>python</th>\n",
       "      <td>0.693147</td>\n",
       "    </tr>\n",
       "    <tr>\n",
       "      <th>데이터</th>\n",
       "      <td>-0.223144</td>\n",
       "    </tr>\n",
       "    <tr>\n",
       "      <th>분석</th>\n",
       "      <td>0.287682</td>\n",
       "    </tr>\n",
       "    <tr>\n",
       "      <th>빅</th>\n",
       "      <td>0.693147</td>\n",
       "    </tr>\n",
       "    <tr>\n",
       "      <th>전처리</th>\n",
       "      <td>0.693147</td>\n",
       "    </tr>\n",
       "  </tbody>\n",
       "</table>\n",
       "</div>"
      ],
      "text/plain": [
       "             IDF\n",
       "python  0.693147\n",
       "데이터    -0.223144\n",
       "분석      0.287682\n",
       "빅       0.693147\n",
       "전처리     0.693147"
      ]
     },
     "execution_count": 6,
     "metadata": {},
     "output_type": "execute_result"
    }
   ],
   "source": [
    "# 각 단어의 IDF 계산\n",
    "result=[]\n",
    "for j in range(len(vocab)):\n",
    "    t=vocab[j]\n",
    "    result.append(idf(t))\n",
    "\n",
    "df_idf=pd.DataFrame(result, index=vocab, columns=['IDF'])\n",
    "df_idf"
   ]
  },
  {
   "cell_type": "code",
   "execution_count": 7,
   "metadata": {},
   "outputs": [
    {
     "data": {
      "text/html": [
       "<div>\n",
       "<style scoped>\n",
       "    .dataframe tbody tr th:only-of-type {\n",
       "        vertical-align: middle;\n",
       "    }\n",
       "\n",
       "    .dataframe tbody tr th {\n",
       "        vertical-align: top;\n",
       "    }\n",
       "\n",
       "    .dataframe thead th {\n",
       "        text-align: right;\n",
       "    }\n",
       "</style>\n",
       "<table border=\"1\" class=\"dataframe\">\n",
       "  <thead>\n",
       "    <tr style=\"text-align: right;\">\n",
       "      <th></th>\n",
       "      <th>python</th>\n",
       "      <th>데이터</th>\n",
       "      <th>분석</th>\n",
       "      <th>빅</th>\n",
       "      <th>전처리</th>\n",
       "    </tr>\n",
       "  </thead>\n",
       "  <tbody>\n",
       "    <tr>\n",
       "      <th>0</th>\n",
       "      <td>0.693147</td>\n",
       "      <td>-0.223144</td>\n",
       "      <td>0.000000</td>\n",
       "      <td>0.000000</td>\n",
       "      <td>0.000000</td>\n",
       "    </tr>\n",
       "    <tr>\n",
       "      <th>1</th>\n",
       "      <td>0.000000</td>\n",
       "      <td>-0.223144</td>\n",
       "      <td>0.287682</td>\n",
       "      <td>0.000000</td>\n",
       "      <td>0.000000</td>\n",
       "    </tr>\n",
       "    <tr>\n",
       "      <th>2</th>\n",
       "      <td>0.000000</td>\n",
       "      <td>-0.223144</td>\n",
       "      <td>0.287682</td>\n",
       "      <td>0.693147</td>\n",
       "      <td>0.000000</td>\n",
       "    </tr>\n",
       "    <tr>\n",
       "      <th>3</th>\n",
       "      <td>0.000000</td>\n",
       "      <td>-0.223144</td>\n",
       "      <td>0.000000</td>\n",
       "      <td>0.000000</td>\n",
       "      <td>0.693147</td>\n",
       "    </tr>\n",
       "  </tbody>\n",
       "</table>\n",
       "</div>"
      ],
      "text/plain": [
       "     python       데이터        분석         빅       전처리\n",
       "0  0.693147 -0.223144  0.000000  0.000000  0.000000\n",
       "1  0.000000 -0.223144  0.287682  0.000000  0.000000\n",
       "2  0.000000 -0.223144  0.287682  0.693147  0.000000\n",
       "3  0.000000 -0.223144  0.000000  0.000000  0.693147"
      ]
     },
     "execution_count": 7,
     "metadata": {},
     "output_type": "execute_result"
    }
   ],
   "source": [
    "# 모든 단어들의 TF-IDF 계산 : TF-IDF가 크면 중요도가 높고, 작으면 중요도가 낮음\n",
    "result=[]\n",
    "for i in range(N):\n",
    "    result.append([])\n",
    "    d=docs[i]\n",
    "    for j in range(len(vocab)):\n",
    "        t=vocab[j]\n",
    "        result[-1].append(tfidf(t,d))\n",
    "\n",
    "df_tfidf=pd.DataFrame(result,columns=vocab)\n",
    "df_tfidf"
   ]
  },
  {
   "cell_type": "code",
   "execution_count": 8,
   "metadata": {},
   "outputs": [
    {
     "name": "stdout",
     "output_type": "stream",
     "text": [
      "[[0 1 0 1 0 1 0 1 1]\n",
      " [0 0 1 0 0 0 0 1 0]\n",
      " [1 0 0 0 1 0 1 0 0]]\n",
      "{'you': 7, 'know': 1, 'want': 5, 'your': 8, 'love': 3, 'like': 2, 'what': 6, 'should': 4, 'do': 0}\n"
     ]
    }
   ],
   "source": [
    "from sklearn.feature_extraction.text import CountVectorizer\n",
    "corpus=['You know I want your love', 'I like you', 'what should I do']\n",
    "# DTM(Document Term Matrix, 문서 단어 행렬)\n",
    "vector=CountVectorizer()\n",
    "# 코퍼스로부터 각 단어의 빈도수 계산\n",
    "print(vector.fit_transform(corpus).toarray())\n",
    "print(vector.vocabulary_)"
   ]
  },
  {
   "cell_type": "code",
   "execution_count": 9,
   "metadata": {},
   "outputs": [
    {
     "name": "stdout",
     "output_type": "stream",
     "text": [
      "[[0.88654763 0.46263733 0.         0.        ]\n",
      " [0.         0.55193942 0.83388421 0.        ]\n",
      " [0.         0.55193942 0.83388421 0.        ]\n",
      " [0.         0.46263733 0.         0.88654763]]\n",
      "{'python': 0, '데이터': 1, '분석': 2, '전처리': 3}\n"
     ]
    }
   ],
   "source": [
    "from sklearn.feature_extraction.text import TfidfVectorizer\n",
    "\n",
    "corpus=['python 데이터','데이터 분석','빅 데이터 분석','데이터 전처리']\n",
    "tfidfv=TfidfVectorizer().fit(corpus)\n",
    "print(tfidfv.transform(corpus).toarray())\n",
    "print(tfidfv.vocabulary_)\n",
    "# 사이킷런의 TF-IDF 계산 방식이 약간 달라서 차이가 나지만 일반적으로 많이 사용하는 함수\n",
    "# TF-IDF에 L2 정규화를 적용하여 값을 조정함"
   ]
  }
 ],
 "metadata": {
  "interpreter": {
   "hash": "7b4b4feff2f24a0f0a34464dbe537a36fda679851528fb8735cb41fa49dffb2d"
  },
  "kernelspec": {
   "display_name": "Python 3.8.8 64-bit ('base': conda)",
   "language": "python",
   "name": "python3"
  },
  "language_info": {
   "codemirror_mode": {
    "name": "ipython",
    "version": 3
   },
   "file_extension": ".py",
   "mimetype": "text/x-python",
   "name": "python",
   "nbconvert_exporter": "python",
   "pygments_lexer": "ipython3",
   "version": "3.8.8"
  },
  "orig_nbformat": 4
 },
 "nbformat": 4,
 "nbformat_minor": 2
}
