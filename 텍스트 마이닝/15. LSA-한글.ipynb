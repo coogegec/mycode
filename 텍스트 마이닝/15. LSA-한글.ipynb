{
 "cells": [
  {
   "cell_type": "code",
   "execution_count": 2,
   "metadata": {},
   "outputs": [],
   "source": [
    "import pandas as pd\n",
    "\n",
    "f=open('d:/data/text/news1.txt', 'r', encoding='utf-8')\n",
    "lines=f.readlines()\n",
    "f.close()"
   ]
  },
  {
   "cell_type": "code",
   "execution_count": 3,
   "metadata": {},
   "outputs": [],
   "source": [
    "import re\n",
    "from konlpy.tag import Hannanum\n",
    "\n",
    "han=Hannanum()\n",
    "word_list=[]\n",
    "for i in range(len(lines)):\n",
    "    sentence=re.sub('[^가-힣ㄱ-ㅎㅏ-ㅣa-zA-Z]', ' ', lines[i])\n",
    "    # 명사만 추출\n",
    "    a=sentence.strip()\n",
    "    n=han.nouns(a)\n",
    "    n2=[x for x in n if len(x)>1]\n",
    "    if len(n2)>0:\n",
    "        word_list.append(n2)"
   ]
  },
  {
   "cell_type": "code",
   "execution_count": 4,
   "metadata": {},
   "outputs": [
    {
     "data": {
      "text/plain": [
       "['치맥전쟁 제너시스BBQ 신제품 레트 감성 트렌디한 세대 겨냥 공략 치킨업계 처음 수제 맥주 맥주 신제품 개발 기선제압',\n",
       " '오후 가을겨울 성수 겨냥 신제품 익숙 비주얼 옛날통닭 재해석 마리 세트 갈릭 와사비 구성 한국인 입맛 마늘 시작 코끝 와사비 마무리',\n",
       " '베어무 순간 맥주 바삭한 껍질 속살 육즙 입안 맥주 판매 모금 완벽 궁합 표현',\n",
       " '가격 옛날 통닭 옛날 물가 반영 기분 소비자 이날 치킨 매장 옛날통닭 가격 마리 가격 마리 가구 마리 판매 설명 가격',\n",
       " '맞은닭 특제 간장소스 갈릭 후레이크 쌓아올린 제품 처음 치즈 생각 가루 갈릭 후레이크 베어물자 향긋 갈릭향 짭짤 소스',\n",
       " '맞은닭 안주 사람 치맥 메뉴 단짠 정석 계속 맥주 가격',\n",
       " '마지막 까먹 강렬한 비주얼 자랑 비주얼 플레이팅된 감귤칩 선명 셋팅된 백년 소스 사진 충동 메뉴',\n",
       " '메뉴 넓적다리살 오징어 먹물 세대 취향 저격 출시 제주맥주 협업 치어스 메뉴 제주 감성 치킨 현무암 연상 감귤칩 제주 감귤칩 백년 제주 재료',\n",
       " '강렬한 까먹 비주얼 바삭 소리 특유 황금올리브 강렬 튀김 오징어 먹물 느끼긴 백년 소스 풍부',\n",
       " '진입장벽 비주얼 합격점 가격 재미 감안 적절 이날 까먹 메신저 프로그램 친구들 대부분 신기 반응 친구 연인 치킨 기회 까먹 치킨 도전',\n",
       " '소비자 다양한 니즈 충족 신제품 개발 황금올리브 스테디셀러 탄생 관심 이유',\n",
       " '교촌 참전 치맥전쟁 업계 관심사 옥토버페스트 운영사인 마이크로브루어리코리아 수제맥주 개발 대규모 수제맥주 공장 건립 추진 교촌 수제맥주 브랜드 문베어브루잉 운영 인덜지 인수 업계 치맥전쟁 예고']"
      ]
     },
     "execution_count": 4,
     "metadata": {},
     "output_type": "execute_result"
    }
   ],
   "source": [
    "# TF-IDF 행렬을 만들기 위해 다시 역토큰화\n",
    "detokenized_doc=[]\n",
    "for i in range(len(word_list)):\n",
    "    t=' '.join(word_list[i])\n",
    "    detokenized_doc.append(t)\n",
    "\n",
    "detokenized_doc"
   ]
  },
  {
   "cell_type": "code",
   "execution_count": 5,
   "metadata": {},
   "outputs": [
    {
     "data": {
      "text/plain": [
       "(12, 150)"
      ]
     },
     "execution_count": 5,
     "metadata": {},
     "output_type": "execute_result"
    }
   ],
   "source": [
    "from sklearn.feature_extraction.text import TfidfVectorizer\n",
    "\n",
    "vectorizer=TfidfVectorizer()\n",
    "X=vectorizer.fit_transform(detokenized_doc)\n",
    "X.shape # TF-IDF 행렬의 크기 확인"
   ]
  },
  {
   "cell_type": "code",
   "execution_count": 6,
   "metadata": {},
   "outputs": [
    {
     "data": {
      "text/plain": [
       "12"
      ]
     },
     "execution_count": 6,
     "metadata": {},
     "output_type": "execute_result"
    }
   ],
   "source": [
    "from sklearn.decomposition import TruncatedSVD\n",
    "# n_components : 토픽 수\n",
    "svd_model=TruncatedSVD(n_components=17)\n",
    "svd_model.fit(X)\n",
    "len(svd_model.components_)"
   ]
  },
  {
   "cell_type": "code",
   "execution_count": 7,
   "metadata": {},
   "outputs": [
    {
     "data": {
      "text/plain": [
       "(12, 150)"
      ]
     },
     "execution_count": 7,
     "metadata": {},
     "output_type": "execute_result"
    }
   ],
   "source": [
    "import numpy as np\n",
    "# 토픽수 × 단어수\n",
    "np.shape(svd_model.components_)"
   ]
  },
  {
   "cell_type": "code",
   "execution_count": 8,
   "metadata": {},
   "outputs": [
    {
     "data": {
      "text/plain": [
       "array([[ 0.227226  ,  0.03969549,  0.02596375, ...,  0.0537854 ,\n",
       "         0.1215905 ,  0.0519275 ],\n",
       "       [ 0.1592092 ,  0.03560502,  0.01656862, ..., -0.02657205,\n",
       "        -0.02334556,  0.03313724],\n",
       "       [ 0.43180992,  0.10168748, -0.01330248, ..., -0.0275865 ,\n",
       "        -0.12978825, -0.02660495],\n",
       "       ...,\n",
       "       [-0.08902462, -0.08598913, -0.0592772 , ..., -0.081573  ,\n",
       "        -0.06345342, -0.11855441],\n",
       "       [ 0.11181658,  0.0482677 , -0.00869111, ..., -0.0086737 ,\n",
       "         0.06362435, -0.01738222],\n",
       "       [ 0.14117363,  0.09295341,  0.01232701, ..., -0.04448599,\n",
       "        -0.11597647,  0.02465403]])"
      ]
     },
     "execution_count": 8,
     "metadata": {},
     "output_type": "execute_result"
    }
   ],
   "source": [
    "svd_model.components_"
   ]
  },
  {
   "cell_type": "code",
   "execution_count": 9,
   "metadata": {},
   "outputs": [
    {
     "name": "stdout",
     "output_type": "stream",
     "text": [
      "Topic 1 :  [('비주얼', 0.28391), ('까먹', 0.24848), ('가격', 0.22723), ('메뉴', 0.22562), ('백년', 0.19862)]\n",
      "Topic 2 :  [('맥주', 0.37893), ('신제품', 0.24699), ('가격', 0.15921), ('개발', 0.15284), ('치맥전쟁', 0.1387)]\n",
      "Topic 3 :  [('가격', 0.43181), ('마리', 0.27331), ('옛날', 0.20337), ('치킨', 0.1823), ('이날', 0.1587)]\n",
      "Topic 4 :  [('와사비', 0.22554), ('마리', 0.17892), ('신제품', 0.1703), ('갈릭', 0.15967), ('소비자', 0.13243)]\n",
      "Topic 5 :  [('갈릭', 0.33195), ('후레이크', 0.32099), ('맞은닭', 0.17448), ('가루', 0.16049), ('특제', 0.16049)]\n",
      "Topic 6 :  [('수제맥주', 0.41762), ('교촌', 0.27841), ('업계', 0.27841), ('치맥전쟁', 0.22765), ('예고', 0.13921)]\n",
      "Topic 7 :  [('제주', 0.365), ('메뉴', 0.2266), ('감귤칩', 0.18139), ('치어스', 0.12167), ('출시', 0.12167)]\n",
      "Topic 8 :  [('와사비', 0.26678), ('겨냥', 0.14361), ('오후', 0.13339), ('코끝', 0.13339), ('익숙', 0.13339)]\n",
      "Topic 9 :  [('치킨', 0.23462), ('제주', 0.19426), ('메신저', 0.13938), ('친구들', 0.13938), ('적절', 0.13938)]\n",
      "Topic 10 :  [('계속', 0.16483), ('안주', 0.16483), ('정석', 0.16483), ('치맥', 0.16483), ('단짠', 0.16483)]\n",
      "Topic 11 :  [('소리', 0.20489), ('바삭', 0.20489), ('느끼긴', 0.20489), ('풍부', 0.20489), ('특유', 0.20489)]\n",
      "Topic 12 :  [('옛날', 0.18591), ('자랑', 0.18218), ('충동', 0.18218), ('셋팅된', 0.18218), ('선명', 0.18218)]\n"
     ]
    }
   ],
   "source": [
    "# 단어 집합\n",
    "terms=vectorizer.get_feature_names()\n",
    "\n",
    "def get_topics(components, feature_names, n=5):\n",
    "    for idx, topic in enumerate(components):\n",
    "        print(\"Topic %d : \" % (idx+1),\n",
    "        [(feature_names[i], topic[i].round(5)) for i in topic.argsort()[:-n - 1:-1]])\n",
    "\n",
    "get_topics(svd_model.components_, terms)\n",
    "# 각 토픽의 핵심 키워드 추출"
   ]
  }
 ],
 "metadata": {
  "interpreter": {
   "hash": "7b4b4feff2f24a0f0a34464dbe537a36fda679851528fb8735cb41fa49dffb2d"
  },
  "kernelspec": {
   "display_name": "Python 3.8.8 64-bit ('base': conda)",
   "language": "python",
   "name": "python3"
  },
  "language_info": {
   "codemirror_mode": {
    "name": "ipython",
    "version": 3
   },
   "file_extension": ".py",
   "mimetype": "text/x-python",
   "name": "python",
   "nbconvert_exporter": "python",
   "pygments_lexer": "ipython3",
   "version": "3.8.8"
  },
  "orig_nbformat": 4
 },
 "nbformat": 4,
 "nbformat_minor": 2
}
