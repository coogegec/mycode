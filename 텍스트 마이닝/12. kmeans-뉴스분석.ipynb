{
 "cells": [
  {
   "cell_type": "code",
   "execution_count": 2,
   "metadata": {},
   "outputs": [
    {
     "data": {
      "text/html": [
       "<div>\n",
       "<style scoped>\n",
       "    .dataframe tbody tr th:only-of-type {\n",
       "        vertical-align: middle;\n",
       "    }\n",
       "\n",
       "    .dataframe tbody tr th {\n",
       "        vertical-align: top;\n",
       "    }\n",
       "\n",
       "    .dataframe thead th {\n",
       "        text-align: right;\n",
       "    }\n",
       "</style>\n",
       "<table border=\"1\" class=\"dataframe\">\n",
       "  <thead>\n",
       "    <tr style=\"text-align: right;\">\n",
       "      <th></th>\n",
       "      <th>category</th>\n",
       "      <th>content</th>\n",
       "      <th>date</th>\n",
       "      <th>hate</th>\n",
       "      <th>id</th>\n",
       "      <th>image</th>\n",
       "      <th>keyword</th>\n",
       "      <th>like</th>\n",
       "      <th>rate</th>\n",
       "      <th>skip</th>\n",
       "      <th>sub_category</th>\n",
       "      <th>title</th>\n",
       "      <th>update_date</th>\n",
       "      <th>url</th>\n",
       "      <th>view_count</th>\n",
       "    </tr>\n",
       "  </thead>\n",
       "  <tbody>\n",
       "    <tr>\n",
       "      <th>0</th>\n",
       "      <td>1</td>\n",
       "      <td>“2028학년도에 수시·정시를 통합하겠다는 방안은 수능을 무력화해 대입제도를 학생부...</td>\n",
       "      <td>2019-02-15 02:42:56.000000</td>\n",
       "      <td>0</td>\n",
       "      <td>4</td>\n",
       "      <td>https://pds.joins.com/news/component/htmlphoto...</td>\n",
       "      <td>대입,교수,수능,시기,학년도</td>\n",
       "      <td>0</td>\n",
       "      <td>0</td>\n",
       "      <td>0</td>\n",
       "      <td>0</td>\n",
       "      <td>“수시·정시 통합해야” vs “수능 무력화 의도”…2028 대입 두고 논란</td>\n",
       "      <td>2019-02-16 17:50:04.872868</td>\n",
       "      <td>https://news.joins.com/article/23373597</td>\n",
       "      <td>0</td>\n",
       "    </tr>\n",
       "    <tr>\n",
       "      <th>1</th>\n",
       "      <td>1</td>\n",
       "      <td>최근 열린 삼보국가대표 선발전에서 1위를 한 뒤. 신재용 씨 제공\\n\\n고교 국가대...</td>\n",
       "      <td>2019-02-16 05:00:00.000000</td>\n",
       "      <td>1</td>\n",
       "      <td>5</td>\n",
       "      <td>http://dimg.donga.com/a/600/0/90/5/wps/NEWS/IM...</td>\n",
       "      <td>공부,운동,유도,때,대회</td>\n",
       "      <td>0</td>\n",
       "      <td>-2</td>\n",
       "      <td>0</td>\n",
       "      <td>0</td>\n",
       "      <td>“공부하겠다는 내게 감독님이 열쇠 주셔” 서울대 가서도 유도-삼보로 꿈 키워 [양종...</td>\n",
       "      <td>2019-02-16 17:50:05.303722</td>\n",
       "      <td>http://news.donga.com/3/all/20190216/94152869/1</td>\n",
       "      <td>1</td>\n",
       "    </tr>\n",
       "    <tr>\n",
       "      <th>2</th>\n",
       "      <td>1</td>\n",
       "      <td>/첨부용/연세대 수험생 대나무숲\\n\\n우체국 전산 오류로 등록금을 못 내 연세대 합...</td>\n",
       "      <td>2019-02-13 15:00:00.000000</td>\n",
       "      <td>0</td>\n",
       "      <td>6</td>\n",
       "      <td>http://image.chosun.com/sitedata/image/201902/...</td>\n",
       "      <td>수험,우체국,등록금,글,해당</td>\n",
       "      <td>0</td>\n",
       "      <td>0</td>\n",
       "      <td>0</td>\n",
       "      <td>0</td>\n",
       "      <td>\"등록금 전산 오류로 연대 합격 취소\" 책임 갑론을박</td>\n",
       "      <td>2019-02-16 17:50:05.412111</td>\n",
       "      <td>http://news.chosun.com/site/data/html_dir/2019...</td>\n",
       "      <td>0</td>\n",
       "    </tr>\n",
       "    <tr>\n",
       "      <th>3</th>\n",
       "      <td>1</td>\n",
       "      <td>교육당국, 갑자기 통과 기준 점수 대폭 올려… 폐지 논란 재점화\\n\\n자사고聯, 교...</td>\n",
       "      <td>2019-02-15 15:00:00.000000</td>\n",
       "      <td>0</td>\n",
       "      <td>7</td>\n",
       "      <td>http://image.chosun.com/sitedata/image/201902/...</td>\n",
       "      <td>자사고,평가,기준,지표,교육부</td>\n",
       "      <td>2</td>\n",
       "      <td>4</td>\n",
       "      <td>0</td>\n",
       "      <td>0</td>\n",
       "      <td>\"또 자사고 죽이기냐\" 再지정 문턱 높이자 폭발한 학교들</td>\n",
       "      <td>2019-02-16 17:50:05.495572</td>\n",
       "      <td>http://news.chosun.com/site/data/html_dir/2019...</td>\n",
       "      <td>2</td>\n",
       "    </tr>\n",
       "    <tr>\n",
       "      <th>4</th>\n",
       "      <td>1</td>\n",
       "      <td>[베리타스알파=권수진 기자] 14일 오후9시 마감한 상위9개대학(고려대 동국대 서강...</td>\n",
       "      <td>2019-02-15 07:37:32.000000</td>\n",
       "      <td>0</td>\n",
       "      <td>8</td>\n",
       "      <td>http://cds.veritas-a.com/news/photo/201902/144...</td>\n",
       "      <td>충원,모집,추합,과,교육</td>\n",
       "      <td>0</td>\n",
       "      <td>0</td>\n",
       "      <td>0</td>\n",
       "      <td>0</td>\n",
       "      <td>[2019정시충원율] 상위9개대학 57.9%.. ‘상승’.. 추합 4159명</td>\n",
       "      <td>2019-02-16 17:50:06.153964</td>\n",
       "      <td>http://www.veritas-a.com/news/articleView.html...</td>\n",
       "      <td>0</td>\n",
       "    </tr>\n",
       "  </tbody>\n",
       "</table>\n",
       "</div>"
      ],
      "text/plain": [
       "   category                                            content  \\\n",
       "0         1  “2028학년도에 수시·정시를 통합하겠다는 방안은 수능을 무력화해 대입제도를 학생부...   \n",
       "1         1  최근 열린 삼보국가대표 선발전에서 1위를 한 뒤. 신재용 씨 제공\\n\\n고교 국가대...   \n",
       "2         1  /첨부용/연세대 수험생 대나무숲\\n\\n우체국 전산 오류로 등록금을 못 내 연세대 합...   \n",
       "3         1  교육당국, 갑자기 통과 기준 점수 대폭 올려… 폐지 논란 재점화\\n\\n자사고聯, 교...   \n",
       "4         1  [베리타스알파=권수진 기자] 14일 오후9시 마감한 상위9개대학(고려대 동국대 서강...   \n",
       "\n",
       "                         date  hate  id  \\\n",
       "0  2019-02-15 02:42:56.000000     0   4   \n",
       "1  2019-02-16 05:00:00.000000     1   5   \n",
       "2  2019-02-13 15:00:00.000000     0   6   \n",
       "3  2019-02-15 15:00:00.000000     0   7   \n",
       "4  2019-02-15 07:37:32.000000     0   8   \n",
       "\n",
       "                                               image           keyword  like  \\\n",
       "0  https://pds.joins.com/news/component/htmlphoto...   대입,교수,수능,시기,학년도     0   \n",
       "1  http://dimg.donga.com/a/600/0/90/5/wps/NEWS/IM...     공부,운동,유도,때,대회     0   \n",
       "2  http://image.chosun.com/sitedata/image/201902/...   수험,우체국,등록금,글,해당     0   \n",
       "3  http://image.chosun.com/sitedata/image/201902/...  자사고,평가,기준,지표,교육부     2   \n",
       "4  http://cds.veritas-a.com/news/photo/201902/144...     충원,모집,추합,과,교육     0   \n",
       "\n",
       "   rate  skip  sub_category  \\\n",
       "0     0     0             0   \n",
       "1    -2     0             0   \n",
       "2     0     0             0   \n",
       "3     4     0             0   \n",
       "4     0     0             0   \n",
       "\n",
       "                                               title  \\\n",
       "0          “수시·정시 통합해야” vs “수능 무력화 의도”…2028 대입 두고 논란   \n",
       "1  “공부하겠다는 내게 감독님이 열쇠 주셔” 서울대 가서도 유도-삼보로 꿈 키워 [양종...   \n",
       "2                      \"등록금 전산 오류로 연대 합격 취소\" 책임 갑론을박   \n",
       "3                    \"또 자사고 죽이기냐\" 再지정 문턱 높이자 폭발한 학교들   \n",
       "4         [2019정시충원율] 상위9개대학 57.9%.. ‘상승’.. 추합 4159명   \n",
       "\n",
       "                  update_date  \\\n",
       "0  2019-02-16 17:50:04.872868   \n",
       "1  2019-02-16 17:50:05.303722   \n",
       "2  2019-02-16 17:50:05.412111   \n",
       "3  2019-02-16 17:50:05.495572   \n",
       "4  2019-02-16 17:50:06.153964   \n",
       "\n",
       "                                                 url  view_count  \n",
       "0            https://news.joins.com/article/23373597           0  \n",
       "1    http://news.donga.com/3/all/20190216/94152869/1           1  \n",
       "2  http://news.chosun.com/site/data/html_dir/2019...           0  \n",
       "3  http://news.chosun.com/site/data/html_dir/2019...           2  \n",
       "4  http://www.veritas-a.com/news/articleView.html...           0  "
      ]
     },
     "execution_count": 2,
     "metadata": {},
     "output_type": "execute_result"
    }
   ],
   "source": [
    "# 한글 뉴스 데이터 분석\n",
    "import pandas as pd\n",
    "\n",
    "df=pd.read_csv('d:/data/news/news.csv')\n",
    "df.head()"
   ]
  },
  {
   "cell_type": "code",
   "execution_count": 3,
   "metadata": {},
   "outputs": [
    {
     "data": {
      "text/plain": [
       "Index(['category', 'content', 'date', 'hate', 'id', 'image', 'keyword', 'like',\n",
       "       'rate', 'skip', 'sub_category', 'title', 'update_date', 'url',\n",
       "       'view_count'],\n",
       "      dtype='object')"
      ]
     },
     "execution_count": 3,
     "metadata": {},
     "output_type": "execute_result"
    }
   ],
   "source": [
    "df.columns"
   ]
  },
  {
   "cell_type": "code",
   "execution_count": 4,
   "metadata": {},
   "outputs": [
    {
     "data": {
      "text/plain": [
       "2    4682\n",
       "1    2872\n",
       "3    2121\n",
       "Name: category, dtype: int64"
      ]
     },
     "execution_count": 4,
     "metadata": {},
     "output_type": "execute_result"
    }
   ],
   "source": [
    "# 클래스별 샘플 개수\n",
    "df['category'].value_counts()"
   ]
  },
  {
   "cell_type": "code",
   "execution_count": 5,
   "metadata": {},
   "outputs": [],
   "source": [
    "import re\n",
    "\n",
    "def preprocessing(sentence):\n",
    "    sentence=re.sub('[^가-힣ㄱ-ㅎㅏ-ㅣa-zA-Z]', ' ', sentence)\n",
    "    return sentence\n",
    "\n",
    "# content 필드에 preprocessing 함수 적용\n",
    "df['content_cleaned']=df['content'].apply(preprocessing)\n",
    "content=df['content_cleaned'].tolist()"
   ]
  },
  {
   "cell_type": "code",
   "execution_count": 6,
   "metadata": {},
   "outputs": [],
   "source": [
    "from sklearn.feature_extraction.text import CountVectorizer\n",
    "\n",
    "# 문서 집합에서 단어 토큰을 생성하고 각 단어의 수를 세어 인코딩한 벡터를 생성\n",
    "vectorizer=CountVectorizer()\n",
    "X=vectorizer.fit_transform(content)"
   ]
  },
  {
   "cell_type": "code",
   "execution_count": 7,
   "metadata": {},
   "outputs": [],
   "source": [
    "from sklearn.preprocessing import normalize\n",
    "# l2 정규화\n",
    "# 아주 큰 값이나 아주 작은 값을 가지는 outlier를 0에 가까운 값으로 만드는 방식\n",
    "X=normalize(X) "
   ]
  },
  {
   "cell_type": "code",
   "execution_count": 8,
   "metadata": {},
   "outputs": [],
   "source": [
    "from sklearn.cluster import KMeans\n",
    "# k-means 알고리즘 적용\n",
    "kmeans=KMeans(n_clusters=3, random_state=10).fit(X)"
   ]
  },
  {
   "cell_type": "code",
   "execution_count": 9,
   "metadata": {},
   "outputs": [
    {
     "name": "stdout",
     "output_type": "stream",
     "text": [
      "[2 2 2 ... 2 2 2]\n"
     ]
    }
   ],
   "source": [
    "print(kmeans.labels_)"
   ]
  },
  {
   "cell_type": "code",
   "execution_count": 11,
   "metadata": {},
   "outputs": [
    {
     "data": {
      "text/plain": [
       "2    8482\n",
       "0    1085\n",
       "1     108\n",
       "Name: labels, dtype: int64"
      ]
     },
     "execution_count": 11,
     "metadata": {},
     "output_type": "execute_result"
    }
   ],
   "source": [
    "df['labels']=kmeans.labels_\n",
    "df['labels'].value_counts()"
   ]
  }
 ],
 "metadata": {
  "interpreter": {
   "hash": "7b4b4feff2f24a0f0a34464dbe537a36fda679851528fb8735cb41fa49dffb2d"
  },
  "kernelspec": {
   "display_name": "Python 3.8.8 64-bit ('base': conda)",
   "language": "python",
   "name": "python3"
  },
  "language_info": {
   "codemirror_mode": {
    "name": "ipython",
    "version": 3
   },
   "file_extension": ".py",
   "mimetype": "text/x-python",
   "name": "python",
   "nbconvert_exporter": "python",
   "pygments_lexer": "ipython3",
   "version": "3.8.8"
  },
  "orig_nbformat": 4
 },
 "nbformat": 4,
 "nbformat_minor": 2
}
