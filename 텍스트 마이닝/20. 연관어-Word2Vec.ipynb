{
 "cells": [
  {
   "cell_type": "code",
   "execution_count": 2,
   "metadata": {},
   "outputs": [],
   "source": [
    "# 단어의 의미는 그 단어 주변 단어의 분포로 이해될 수 있다\n",
    "# 단어의 의미는 단어 벡터 안에 인코딩될 수 있다.\n",
    "# 단순히 출현횟수만을 고려하는 것이 아닌 단어 위치, 순서도 고려하는 방법\n",
    "# CBOW : 주변 단어로 중심 단어를 예측하는 방법\n",
    "# Skip-gram : 중심 단어로 주변 단어를 예측하는 방법 (최근에 더 많이 사용)"
   ]
  },
  {
   "cell_type": "code",
   "execution_count": 3,
   "metadata": {},
   "outputs": [
    {
     "data": {
      "text/plain": [
       "100"
      ]
     },
     "execution_count": 3,
     "metadata": {},
     "output_type": "execute_result"
    }
   ],
   "source": [
    "import glob\n",
    "\n",
    "pos_review=(glob.glob('d:/data/imdb/train/pos/*.txt'))[0:100] # 긍정 리뷰 100개 로딩\n",
    "\n",
    "lines_pos=[]\n",
    "for i in pos_review:\n",
    "    try:\n",
    "        f=open(i, 'r')\n",
    "        temp=f.readlines()[0]\n",
    "        lines_pos.append(temp)\n",
    "        f.close()\n",
    "    except Exception as e:\n",
    "        continue\n",
    "\n",
    "len(lines_pos)"
   ]
  },
  {
   "cell_type": "code",
   "execution_count": 4,
   "metadata": {},
   "outputs": [
    {
     "name": "stderr",
     "output_type": "stream",
     "text": [
      "<ipython-input-4-ee56e65a3a1a>:21: DeprecationWarning: Call to deprecated `init_sims` (Gensim 4.0.0 implemented internal optimizations that make calls to init_sims() unnecessary. init_sims() is now obsoleted and will be completely removed in future versions. See https://github.com/RaRe-Technologies/gensim/wiki/Migrating-from-Gensim-3.x-to-4).\n",
      "  model.init_sims(replace=True) # 불필요한 메모리 unload\n"
     ]
    },
    {
     "data": {
      "text/plain": [
       "0.9529418"
      ]
     },
     "execution_count": 4,
     "metadata": {},
     "output_type": "execute_result"
    }
   ],
   "source": [
    "from gensim.models.word2vec import Word2Vec\n",
    "from nltk.corpus import stopwords\n",
    "from nltk.tokenize import RegexpTokenizer\n",
    "\n",
    "stop_words=stopwords.words('english')\n",
    "\n",
    "tokenizer=RegexpTokenizer('[\\w]+')\n",
    "\n",
    "# 단어 추출\n",
    "text=[]\n",
    "for line in lines_pos:\n",
    "    words=line.lower()\n",
    "    tokens=tokenizer.tokenize(words)\n",
    "    stopped_tokens=[i for i in list(set(tokens)) if i not in stop_words+[\"br\"]]\n",
    "    stopped_tokens2=[i for i in stopped_tokens if len(i)>1]\n",
    "    text.append(stopped_tokens2)\n",
    "\n",
    "model= Word2Vec(text, vector_size=10, sg=1, window=2, min_count=3) # word2vec 모형 생성\n",
    "# sg=1 : skip-gram을 적용, window=2 : 중심 단어로부터 좌우 2개의 단어까지 학습에 적용\n",
    "# min_count=3 : 최소 3회 이상 출현한 단어들을 대상으로 학습\n",
    "model.init_sims(replace=True) # 불필요한 메모리 unload\n",
    "model.wv.similarity('film', 'movie') # 두 단어의 유사도 계산"
   ]
  },
  {
   "cell_type": "code",
   "execution_count": 5,
   "metadata": {},
   "outputs": [
    {
     "data": {
      "text/plain": [
       "[('looked', 0.8431591987609863),\n",
       " ('wants', 0.8327230215072632),\n",
       " ('points', 0.8305514454841614),\n",
       " ('cameron', 0.8194266557693481),\n",
       " ('whether', 0.8019423484802246)]"
      ]
     },
     "execution_count": 5,
     "metadata": {},
     "output_type": "execute_result"
    }
   ],
   "source": [
    "model.wv.most_similar('good', topn=5) # good과 가장 유사한 단어 5개"
   ]
  }
 ],
 "metadata": {
  "interpreter": {
   "hash": "7b4b4feff2f24a0f0a34464dbe537a36fda679851528fb8735cb41fa49dffb2d"
  },
  "kernelspec": {
   "display_name": "Python 3.8.8 64-bit ('base': conda)",
   "language": "python",
   "name": "python3"
  },
  "language_info": {
   "codemirror_mode": {
    "name": "ipython",
    "version": 3
   },
   "file_extension": ".py",
   "mimetype": "text/x-python",
   "name": "python",
   "nbconvert_exporter": "python",
   "pygments_lexer": "ipython3",
   "version": "3.8.8"
  },
  "orig_nbformat": 4
 },
 "nbformat": 4,
 "nbformat_minor": 2
}
