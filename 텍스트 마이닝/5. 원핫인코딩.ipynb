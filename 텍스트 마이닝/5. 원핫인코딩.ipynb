{
 "cells": [
  {
   "cell_type": "code",
   "execution_count": 1,
   "metadata": {},
   "outputs": [
    {
     "name": "stdout",
     "output_type": "stream",
     "text": [
      "['나', '는', '학교', '에', '간다', '나', '는', '집', '에', '간다']\n"
     ]
    }
   ],
   "source": [
    "from konlpy.tag import Okt\n",
    "\n",
    "okt=Okt()\n",
    "token=okt.morphs(\"나는 학교에 간다 나는 집에 간다\") # 토큰화\n",
    "print(token)"
   ]
  },
  {
   "cell_type": "code",
   "execution_count": 2,
   "metadata": {},
   "outputs": [
    {
     "name": "stdout",
     "output_type": "stream",
     "text": [
      "{'나': 0, '는': 1, '학교': 2, '에': 3, '간다': 4, '집': 5}\n"
     ]
    }
   ],
   "source": [
    "# 중복된 단어는 제외하고 단어를 key로 고유한 숫자 인덱스 부여\n",
    "word2index={}\n",
    "for idx, voca in enumerate(token):\n",
    "    if voca not in word2index.keys():\n",
    "        word2index[voca]=len(word2index)\n",
    "\n",
    "print(word2index)"
   ]
  },
  {
   "cell_type": "code",
   "execution_count": 3,
   "metadata": {},
   "outputs": [],
   "source": [
    "# 원핫인코딩 함수\n",
    "def one_hot_encoding(word, word2index):\n",
    "    one_hot_vector=[0]*(len(word2index)) # 전체 단어 개수만큼 0으로 채운 리스트, * : 반복\n",
    "    index=word2index[word] # 해당하는 단어의 인덱스를 찾아서\n",
    "    one_hot_vector[index]=1 # 1로 설정 (나머지는 0)\n",
    "    return one_hot_vector"
   ]
  },
  {
   "cell_type": "code",
   "execution_count": 4,
   "metadata": {},
   "outputs": [
    {
     "name": "stdout",
     "output_type": "stream",
     "text": [
      "dict_keys(['나', '는', '학교', '에', '간다', '집'])\n",
      "나 [1, 0, 0, 0, 0, 0]\n",
      "는 [0, 1, 0, 0, 0, 0]\n",
      "학교 [0, 0, 1, 0, 0, 0]\n",
      "에 [0, 0, 0, 1, 0, 0]\n",
      "간다 [0, 0, 0, 0, 1, 0]\n",
      "집 [0, 0, 0, 0, 0, 1]\n"
     ]
    }
   ],
   "source": [
    "key_list=word2index.keys() # word2index에서 key값만 뽑아낸 배열\n",
    "print(key_list)\n",
    "for key in key_list:\n",
    "    print(key, one_hot_encoding(key,word2index))"
   ]
  },
  {
   "cell_type": "markdown",
   "metadata": {},
   "source": [
    "원핫인코딩의 단점\n",
    "\n",
    "1. 단어 개수가 많아지면 변수의 개수가 많아지게 됨(메모리 활용의 비효율성- 변수가 100개라면 99개의 0과 1개의 1)\n",
    "\n",
    "2. 비슷한 단어들의 유사성을 표현하기 어려움\n",
    "강아지 [0,0,1]와 개 [1,0,0] 라면 비슷한 단어이지만 유사성을 찾기 어려움\n",
    "→ 유사성을 찾기 위한 방법으로 LSA, RNN, Word2Vec 등의 방법이 있다."
   ]
  }
 ],
 "metadata": {
  "interpreter": {
   "hash": "7b4b4feff2f24a0f0a34464dbe537a36fda679851528fb8735cb41fa49dffb2d"
  },
  "kernelspec": {
   "display_name": "Python 3.8.8 64-bit ('base': conda)",
   "language": "python",
   "name": "python3"
  },
  "language_info": {
   "codemirror_mode": {
    "name": "ipython",
    "version": 3
   },
   "file_extension": ".py",
   "mimetype": "text/x-python",
   "name": "python",
   "nbconvert_exporter": "python",
   "pygments_lexer": "ipython3",
   "version": "3.8.8"
  },
  "orig_nbformat": 4
 },
 "nbformat": 4,
 "nbformat_minor": 2
}
