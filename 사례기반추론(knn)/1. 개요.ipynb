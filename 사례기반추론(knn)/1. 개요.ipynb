{
 "cells": [
  {
   "cell_type": "code",
   "execution_count": 1,
   "metadata": {},
   "outputs": [
    {
     "name": "stdout",
     "output_type": "stream",
     "text": [
      "[0]\n",
      "[[0.66666667 0.33333333]]\n",
      "[0]\n"
     ]
    }
   ],
   "source": [
    "# 지도학습\n",
    "X=[[0],[1],[2],[3]]\n",
    "y=[0,0,1,1]\n",
    "from sklearn.neighbors import KNeighborsClassifier\n",
    "knn=KNeighborsClassifier(n_neighbors=3)\n",
    "knn.fit(X,y)\n",
    "# 1.1의 분류는?\n",
    "print(knn.predict([[1.1]])) # 0으로 분류됨 \n",
    "print(knn.predict_proba([[0.9]])) # 0.9는 0일 확률 66%, 1일 확률 33% \n",
    "print(knn.predict([[0.9]])) # → 0으로 분류됨"
   ]
  },
  {
   "cell_type": "code",
   "execution_count": 2,
   "metadata": {},
   "outputs": [
    {
     "name": "stdout",
     "output_type": "stream",
     "text": [
      "(array([[0.8]]), array([[2]], dtype=int64))\n"
     ]
    }
   ],
   "source": [
    "# 비지도학습\n",
    "samples=[[0.,0.,0.],[0.,.5,0.],[1.,1.,.2]]\n",
    "from sklearn.neighbors import NearestNeighbors\n",
    "nn=NearestNeighbors(n_neighbors=1)\n",
    "nn.fit(samples)\n",
    "# 새로운 데이터 1,1,1에 가장 가까운 데이터는?\n",
    "print(nn.kneighbors([[1.,1.,1.]])) # 2번 인덱스(세 번째)가 가장 가깝고 거리는 0.8"
   ]
  },
  {
   "cell_type": "code",
   "execution_count": 3,
   "metadata": {},
   "outputs": [
    {
     "name": "stdout",
     "output_type": "stream",
     "text": [
      "[32.5]\n",
      "[21.  21.  32.5 32.5]\n"
     ]
    }
   ],
   "source": [
    "# 최근접 이웃 회귀모형\n",
    "from sklearn.neighbors import KNeighborsRegressor\n",
    "X=[[40],[45],[60],[70]] # 평방미터\n",
    "y=[20,22,30,35] # 월세\n",
    "neigh=KNeighborsRegressor(n_neighbors=2)\n",
    "neigh.fit(X,y)\n",
    "\n",
    "print(neigh.predict([[65]])) # 65평방미터일 때의 월세는?\n",
    "print(neigh.predict(X))"
   ]
  }
 ],
 "metadata": {
  "interpreter": {
   "hash": "7b4b4feff2f24a0f0a34464dbe537a36fda679851528fb8735cb41fa49dffb2d"
  },
  "kernelspec": {
   "display_name": "Python 3.8.8 64-bit ('base': conda)",
   "language": "python",
   "name": "python3"
  },
  "language_info": {
   "codemirror_mode": {
    "name": "ipython",
    "version": 3
   },
   "file_extension": ".py",
   "mimetype": "text/x-python",
   "name": "python",
   "nbconvert_exporter": "python",
   "pygments_lexer": "ipython3",
   "version": "3.8.8"
  },
  "orig_nbformat": 4
 },
 "nbformat": 4,
 "nbformat_minor": 2
}
