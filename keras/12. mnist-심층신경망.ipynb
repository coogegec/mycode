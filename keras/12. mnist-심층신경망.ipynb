{
 "cells": [
  {
   "cell_type": "code",
   "execution_count": 1,
   "metadata": {},
   "outputs": [
    {
     "name": "stdout",
     "output_type": "stream",
     "text": [
      "[5 0 4 1 9]\n",
      "[[0. 0. 0. 0. 0. 1. 0. 0. 0. 0.]\n",
      " [1. 0. 0. 0. 0. 0. 0. 0. 0. 0.]\n",
      " [0. 0. 0. 0. 1. 0. 0. 0. 0. 0.]\n",
      " [0. 1. 0. 0. 0. 0. 0. 0. 0. 0.]\n",
      " [0. 0. 0. 0. 0. 0. 0. 0. 0. 1.]]\n"
     ]
    }
   ],
   "source": [
    "from tensorflow.keras import datasets\n",
    "from keras.utils import np_utils\n",
    "#데이터 준비\n",
    "(X_train, y_train), (X_test, y_test)=datasets.mnist.load_data()\n",
    "print(y_train[:5])\n",
    "# one hot encoding\n",
    "y_train=np_utils.to_categorical(y_train)\n",
    "print(y_train[:5])\n",
    "y_test=np_utils.to_categorical(y_test)\n",
    "L,W,H=X_train.shape\n",
    "# -1 샘플의 개수\n",
    "X_train=X_train.reshape(-1, W*H)\n",
    "X_test=X_test.reshape(-1, W*H)\n",
    "X_train=X_train/255.0\n",
    "X_test=X_test/255.0"
   ]
  },
  {
   "cell_type": "code",
   "execution_count": 2,
   "metadata": {},
   "outputs": [],
   "source": [
    "from keras.layers import Dense, Dropout\n",
    "from tensorflow.keras.models import Sequential\n",
    "# 분류 DNN 모델 구현 함수\n",
    "def make_model(input_number, layers, output_number):\n",
    "    model=Sequential() # 모델 초기화\n",
    "    model.add(Dense(layers[0], activation='relu', input_shape=(input_number,), name='Hidden-1')) # 입력층\n",
    "    model.add(Dense(layers[1], activation='relu', name='Hidden-2')) # 첫번째 은닉층\n",
    "    model.add(Dense(layers[2], activation='relu', name='Hidden-3')) # 두번째 은닉층\n",
    "    model.add(Dropout(0.2)) # 드랍아웃 계층 - Dropout(p) : p의 확률로 출력 노드의 신호를 보내다 말다 함\n",
    "                            #                             과적합 방지\n",
    "    model.add(Dense(output_number, activation='softmax', name='output')) # 출력층\n",
    "    model.compile(loss='categorical_crossentropy', optimizer='adam', metrics=['accuracy'])\n",
    "    return model"
   ]
  },
  {
   "cell_type": "code",
   "execution_count": 3,
   "metadata": {},
   "outputs": [
    {
     "name": "stdout",
     "output_type": "stream",
     "text": [
      "[128, 64, 32]\n"
     ]
    }
   ],
   "source": [
    "input_number=784 # 28*28\n",
    "hidden_layers=[128,64,32] # 은닉계층 3개, 은닉 노드수 128개, 64개, 32개\n",
    "print(hidden_layers)\n",
    "number_of_class=10\n",
    "output_number=number_of_class\n",
    "model=make_model(input_number, hidden_layers, output_number) # 모델 생성"
   ]
  },
  {
   "cell_type": "code",
   "execution_count": 4,
   "metadata": {},
   "outputs": [
    {
     "name": "stdout",
     "output_type": "stream",
     "text": [
      "Epoch 1/50\n",
      "480/480 [==============================] - 3s 4ms/step - loss: 0.4771 - accuracy: 0.8595 - val_loss: 0.1923 - val_accuracy: 0.9445\n",
      "Epoch 2/50\n",
      "480/480 [==============================] - 2s 4ms/step - loss: 0.1861 - accuracy: 0.9476 - val_loss: 0.1243 - val_accuracy: 0.9641\n",
      "Epoch 3/50\n",
      "480/480 [==============================] - 2s 4ms/step - loss: 0.1309 - accuracy: 0.9628 - val_loss: 0.1151 - val_accuracy: 0.9648\n",
      "Epoch 4/50\n",
      "480/480 [==============================] - 2s 4ms/step - loss: 0.1004 - accuracy: 0.9708 - val_loss: 0.1012 - val_accuracy: 0.9701\n",
      "Epoch 5/50\n",
      "480/480 [==============================] - 2s 4ms/step - loss: 0.0798 - accuracy: 0.9766 - val_loss: 0.0978 - val_accuracy: 0.9716\n",
      "Epoch 6/50\n",
      "480/480 [==============================] - 2s 4ms/step - loss: 0.0649 - accuracy: 0.9811 - val_loss: 0.0995 - val_accuracy: 0.9707\n",
      "Epoch 7/50\n",
      "480/480 [==============================] - 2s 4ms/step - loss: 0.0561 - accuracy: 0.9839 - val_loss: 0.0923 - val_accuracy: 0.9737\n",
      "Epoch 8/50\n",
      "480/480 [==============================] - 2s 4ms/step - loss: 0.0468 - accuracy: 0.9861 - val_loss: 0.1025 - val_accuracy: 0.9726\n",
      "Epoch 9/50\n",
      "480/480 [==============================] - 2s 4ms/step - loss: 0.0414 - accuracy: 0.9876 - val_loss: 0.0965 - val_accuracy: 0.9761\n",
      "Epoch 10/50\n",
      "480/480 [==============================] - 2s 4ms/step - loss: 0.0360 - accuracy: 0.9887 - val_loss: 0.1135 - val_accuracy: 0.9720\n",
      "Epoch 11/50\n",
      "480/480 [==============================] - 2s 4ms/step - loss: 0.0333 - accuracy: 0.9897 - val_loss: 0.1060 - val_accuracy: 0.9746\n",
      "Epoch 12/50\n",
      "480/480 [==============================] - 2s 4ms/step - loss: 0.0284 - accuracy: 0.9906 - val_loss: 0.0990 - val_accuracy: 0.9763\n",
      "Epoch 13/50\n",
      "480/480 [==============================] - 2s 4ms/step - loss: 0.0237 - accuracy: 0.9928 - val_loss: 0.1095 - val_accuracy: 0.9743\n",
      "Epoch 14/50\n",
      "480/480 [==============================] - 2s 4ms/step - loss: 0.0233 - accuracy: 0.9928 - val_loss: 0.1113 - val_accuracy: 0.9745\n",
      "Epoch 15/50\n",
      "480/480 [==============================] - 2s 4ms/step - loss: 0.0207 - accuracy: 0.9932 - val_loss: 0.1155 - val_accuracy: 0.9742\n",
      "Epoch 16/50\n",
      "480/480 [==============================] - 2s 4ms/step - loss: 0.0182 - accuracy: 0.9942 - val_loss: 0.1247 - val_accuracy: 0.9744\n",
      "Epoch 17/50\n",
      "480/480 [==============================] - 2s 4ms/step - loss: 0.0173 - accuracy: 0.9944 - val_loss: 0.1308 - val_accuracy: 0.9721\n",
      "Epoch 18/50\n",
      "480/480 [==============================] - 2s 4ms/step - loss: 0.0167 - accuracy: 0.9945 - val_loss: 0.1300 - val_accuracy: 0.9761\n",
      "Epoch 19/50\n",
      "480/480 [==============================] - 2s 4ms/step - loss: 0.0166 - accuracy: 0.9947 - val_loss: 0.1248 - val_accuracy: 0.9768\n",
      "Epoch 20/50\n",
      "480/480 [==============================] - 2s 4ms/step - loss: 0.0159 - accuracy: 0.9948 - val_loss: 0.1387 - val_accuracy: 0.9753\n",
      "Epoch 21/50\n",
      "480/480 [==============================] - 2s 4ms/step - loss: 0.0156 - accuracy: 0.9949 - val_loss: 0.1304 - val_accuracy: 0.9748\n",
      "Epoch 22/50\n",
      "480/480 [==============================] - 2s 4ms/step - loss: 0.0126 - accuracy: 0.9960 - val_loss: 0.1241 - val_accuracy: 0.9776\n",
      "Epoch 23/50\n",
      "480/480 [==============================] - 2s 4ms/step - loss: 0.0126 - accuracy: 0.9960 - val_loss: 0.1363 - val_accuracy: 0.9754\n",
      "Epoch 24/50\n",
      "480/480 [==============================] - 2s 4ms/step - loss: 0.0119 - accuracy: 0.9966 - val_loss: 0.1356 - val_accuracy: 0.9766\n",
      "Epoch 25/50\n",
      "480/480 [==============================] - 2s 4ms/step - loss: 0.0132 - accuracy: 0.9961 - val_loss: 0.1250 - val_accuracy: 0.9788\n",
      "Epoch 26/50\n",
      "480/480 [==============================] - 2s 4ms/step - loss: 0.0123 - accuracy: 0.9963 - val_loss: 0.1386 - val_accuracy: 0.9771\n",
      "Epoch 27/50\n",
      "480/480 [==============================] - 2s 4ms/step - loss: 0.0106 - accuracy: 0.9966 - val_loss: 0.1573 - val_accuracy: 0.9753\n",
      "Epoch 28/50\n",
      "480/480 [==============================] - 2s 4ms/step - loss: 0.0115 - accuracy: 0.9962 - val_loss: 0.1461 - val_accuracy: 0.9772\n",
      "Epoch 29/50\n",
      "480/480 [==============================] - 2s 4ms/step - loss: 0.0101 - accuracy: 0.9970 - val_loss: 0.1436 - val_accuracy: 0.9779\n",
      "Epoch 30/50\n",
      "480/480 [==============================] - 2s 4ms/step - loss: 0.0086 - accuracy: 0.9973 - val_loss: 0.1468 - val_accuracy: 0.9765\n",
      "Epoch 31/50\n",
      "480/480 [==============================] - 2s 4ms/step - loss: 0.0090 - accuracy: 0.9973 - val_loss: 0.1369 - val_accuracy: 0.9778\n",
      "Epoch 32/50\n",
      "480/480 [==============================] - 2s 4ms/step - loss: 0.0109 - accuracy: 0.9971 - val_loss: 0.1586 - val_accuracy: 0.9755\n",
      "Epoch 33/50\n",
      "480/480 [==============================] - 2s 4ms/step - loss: 0.0099 - accuracy: 0.9969 - val_loss: 0.1587 - val_accuracy: 0.9760\n",
      "Epoch 34/50\n",
      "480/480 [==============================] - 2s 4ms/step - loss: 0.0081 - accuracy: 0.9974 - val_loss: 0.1531 - val_accuracy: 0.9756\n",
      "Epoch 35/50\n",
      "480/480 [==============================] - 2s 4ms/step - loss: 0.0108 - accuracy: 0.9969 - val_loss: 0.1445 - val_accuracy: 0.9779\n",
      "Epoch 36/50\n",
      "480/480 [==============================] - 2s 4ms/step - loss: 0.0077 - accuracy: 0.9979 - val_loss: 0.1544 - val_accuracy: 0.9782\n",
      "Epoch 37/50\n",
      "480/480 [==============================] - 2s 4ms/step - loss: 0.0079 - accuracy: 0.9976 - val_loss: 0.1484 - val_accuracy: 0.9778\n",
      "Epoch 38/50\n",
      "480/480 [==============================] - 2s 4ms/step - loss: 0.0086 - accuracy: 0.9971 - val_loss: 0.1652 - val_accuracy: 0.9769\n",
      "Epoch 39/50\n",
      "480/480 [==============================] - 2s 4ms/step - loss: 0.0086 - accuracy: 0.9973 - val_loss: 0.1756 - val_accuracy: 0.9743\n",
      "Epoch 40/50\n",
      "480/480 [==============================] - 2s 4ms/step - loss: 0.0050 - accuracy: 0.9984 - val_loss: 0.1645 - val_accuracy: 0.9795\n",
      "Epoch 41/50\n",
      "480/480 [==============================] - 2s 4ms/step - loss: 0.0060 - accuracy: 0.9981 - val_loss: 0.1852 - val_accuracy: 0.9762\n",
      "Epoch 42/50\n",
      "480/480 [==============================] - 2s 4ms/step - loss: 0.0071 - accuracy: 0.9980 - val_loss: 0.1964 - val_accuracy: 0.9737\n",
      "Epoch 43/50\n",
      "480/480 [==============================] - 2s 4ms/step - loss: 0.0082 - accuracy: 0.9974 - val_loss: 0.1801 - val_accuracy: 0.9768\n",
      "Epoch 44/50\n",
      "480/480 [==============================] - 2s 4ms/step - loss: 0.0052 - accuracy: 0.9985 - val_loss: 0.1680 - val_accuracy: 0.9783\n",
      "Epoch 45/50\n",
      "480/480 [==============================] - 2s 4ms/step - loss: 0.0029 - accuracy: 0.9992 - val_loss: 0.2061 - val_accuracy: 0.9739\n",
      "Epoch 46/50\n",
      "480/480 [==============================] - 2s 4ms/step - loss: 0.0103 - accuracy: 0.9971 - val_loss: 0.1673 - val_accuracy: 0.9772\n",
      "Epoch 47/50\n",
      "480/480 [==============================] - 2s 4ms/step - loss: 0.0063 - accuracy: 0.9981 - val_loss: 0.1930 - val_accuracy: 0.9767\n",
      "Epoch 48/50\n",
      "480/480 [==============================] - 2s 4ms/step - loss: 0.0133 - accuracy: 0.9965 - val_loss: 0.1521 - val_accuracy: 0.9780\n",
      "Epoch 49/50\n",
      "480/480 [==============================] - 2s 4ms/step - loss: 0.0047 - accuracy: 0.9986 - val_loss: 0.1558 - val_accuracy: 0.9791\n",
      "Epoch 50/50\n",
      "480/480 [==============================] - 2s 4ms/step - loss: 0.0046 - accuracy: 0.9986 - val_loss: 0.1847 - val_accuracy: 0.9770\n"
     ]
    }
   ],
   "source": [
    "# 모델 학습\n",
    "hist=model.fit(X_train, y_train, epochs=50, batch_size=100, validation_split=0.2)"
   ]
  },
  {
   "cell_type": "code",
   "execution_count": 5,
   "metadata": {},
   "outputs": [
    {
     "name": "stdout",
     "output_type": "stream",
     "text": [
      "100/100 [==============================] - 0s 3ms/step - loss: 0.1574 - accuracy: 0.9795\n",
      "Loss, Accuracy : [0.15744329988956451, 0.9794999957084656]\n"
     ]
    }
   ],
   "source": [
    "# 모델 평가\n",
    "performance_test=model.evaluate(X_test,y_test,batch_size=100)\n",
    "print('Loss, Accuracy :', performance_test)"
   ]
  },
  {
   "cell_type": "code",
   "execution_count": 7,
   "metadata": {},
   "outputs": [
    {
     "data": {
      "image/png": "[encoded data removed]",
      "text/plain": [
       "<Figure size 864x576 with 1 Axes>"
      ]
     },
     "metadata": {
      "needs_background": "light"
     },
     "output_type": "display_data"
    }
   ],
   "source": [
    "# 모델 학습 과정 표시\n",
    "import matplotlib.pyplot as plt\n",
    "\n",
    "plt.figure(figsize=(12,8))\n",
    "plt.plot(hist.history['loss'])\n",
    "plt.plot(hist.history['accuracy'])\n",
    "plt.legend(['loss','accuracy'])\n",
    "plt.grid()\n",
    "plt.show()"
   ]
  },
  {
   "cell_type": "code",
   "execution_count": 8,
   "metadata": {},
   "outputs": [
    {
     "name": "stdout",
     "output_type": "stream",
     "text": [
      "Model: \"sequential\"\n",
      "_________________________________________________________________\n",
      " Layer (type)                Output Shape              Param #   \n",
      "=================================================================\n",
      " Hidden-1 (Dense)            (None, 128)               100480    \n",
      "                                                                 \n",
      " Hidden-2 (Dense)            (None, 64)                8256      \n",
      "                                                                 \n",
      " Hidden-3 (Dense)            (None, 32)                2080      \n",
      "                                                                 \n",
      " dropout (Dropout)           (None, 32)                0         \n",
      "                                                                 \n",
      " output (Dense)              (None, 10)                330       \n",
      "                                                                 \n",
      "=================================================================\n",
      "Total params: 111,146\n",
      "Trainable params: 111,146\n",
      "Non-trainable params: 0\n",
      "_________________________________________________________________\n"
     ]
    }
   ],
   "source": [
    "model.summary()"
   ]
  }
 ],
 "metadata": {
  "interpreter": {
   "hash": "7b4b4feff2f24a0f0a34464dbe537a36fda679851528fb8735cb41fa49dffb2d"
  },
  "kernelspec": {
   "display_name": "Python 3.8.8 64-bit ('base': conda)",
   "language": "python",
   "name": "python3"
  },
  "language_info": {
   "codemirror_mode": {
    "name": "ipython",
    "version": 3
   },
   "file_extension": ".py",
   "mimetype": "text/x-python",
   "name": "python",
   "nbconvert_exporter": "python",
   "pygments_lexer": "ipython3",
   "version": "3.8.8"
  },
  "orig_nbformat": 4
 },
 "nbformat": 4,
 "nbformat_minor": 2
}
