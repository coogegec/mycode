{
 "cells": [
  {
   "cell_type": "code",
   "execution_count": 1,
   "metadata": {},
   "outputs": [
    {
     "name": "stdout",
     "output_type": "stream",
     "text": [
      "[[0. 0. 0. 0. 0. 1. 0. 0. 0. 0.]\n",
      " [1. 0. 0. 0. 0. 0. 0. 0. 0. 0.]\n",
      " [0. 0. 0. 0. 1. 0. 0. 0. 0. 0.]\n",
      " [0. 1. 0. 0. 0. 0. 0. 0. 0. 0.]\n",
      " [0. 0. 0. 0. 0. 0. 0. 0. 0. 1.]]\n"
     ]
    }
   ],
   "source": [
    "from tensorflow.keras.datasets import mnist\n",
    "from keras.utils import np_utils\n",
    "from tensorflow.keras.models import Sequential\n",
    "from tensorflow.keras.layers import Dense\n",
    "\n",
    "# 1. 데이터셋 생성\n",
    "(x_train, y_train), (x_test, y_test)=mnist.load_data() # 학습용과 검증용 분리\n",
    "# 데이터 전처리\n",
    "x_train=x_train.reshape(60000,784).astype('float32') / 255.0\n",
    "x_test=x_test.reshape(10000,784).astype('float32') / 255.0\n",
    "# 원핫인코딩(one-hot encoding) 처리\n",
    "y_train=np_utils.to_categorical(y_train)\n",
    "y_test=np_utils.to_categorical(y_test)\n",
    "print(y_train[:5])\n",
    "# 학습용 데이터셋의 일부를 validation set으로 분리 - (train, validation, test)\n",
    "# 인공신경망의 파라미터를 튜닝하고 학습중지점을 설정하는 용도로 사용\n",
    "x_val=x_train[:12600]\n",
    "x_train=x_train[12600:]\n",
    "y_val=y_train[:12600]\n",
    "y_train=y_train[12600:]\n",
    "\n",
    "# 2. 모델 구성\n",
    "model=Sequential()\n",
    "model.add(Dense(units=512, input_dim=28*28, activation='relu')) # 은닉층\n",
    "model.add(Dense(units=10, activation='softmax')) # 출력층\n",
    "\n",
    "# 3. 모델 학습과정 설정\n",
    "model.compile(loss='categorical_crossentropy', optimizer='sgd', metrics=['accuracy'])"
   ]
  },
  {
   "cell_type": "code",
   "execution_count": 2,
   "metadata": {},
   "outputs": [
    {
     "name": "stdout",
     "output_type": "stream",
     "text": [
      "Epoch 1/5\n",
      "1482/1482 [==============================] - 9s 3ms/step - loss: 0.6750 - accuracy: 0.8373 - val_loss: 0.3854 - val_accuracy: 0.8971\n",
      "Epoch 2/5\n",
      "1482/1482 [==============================] - 5s 3ms/step - loss: 0.3485 - accuracy: 0.9048 - val_loss: 0.3119 - val_accuracy: 0.9144\n",
      "Epoch 3/5\n",
      "1482/1482 [==============================] - 5s 3ms/step - loss: 0.2966 - accuracy: 0.9169 - val_loss: 0.2782 - val_accuracy: 0.9220\n",
      "Epoch 4/5\n",
      "1482/1482 [==============================] - 5s 3ms/step - loss: 0.2658 - accuracy: 0.9260 - val_loss: 0.2564 - val_accuracy: 0.9269\n",
      "Epoch 5/5\n",
      "1482/1482 [==============================] - 6s 4ms/step - loss: 0.2426 - accuracy: 0.9332 - val_loss: 0.2370 - val_accuracy: 0.9324\n"
     ]
    }
   ],
   "source": [
    "# 4. 모델 학습\n",
    "hist=model.fit(x_train, y_train, epochs=5, batch_size=32, validation_data=(x_val, y_val))"
   ]
  },
  {
   "cell_type": "code",
   "execution_count": 3,
   "metadata": {},
   "outputs": [
    {
     "name": "stdout",
     "output_type": "stream",
     "text": [
      "loss_and_metrics : [0.22713905572891235, 0.9354000091552734]\n",
      "INFO:tensorflow:Assets written to: d:/data/mnist\\assets\n"
     ]
    }
   ],
   "source": [
    "import numpy as np\n",
    "\n",
    "# 5. 모델 평가\n",
    "loss_and_metrics=model.evaluate(x_test, y_test, batch_size=32, verbose=0)\n",
    "print('loss_and_metrics : '+str(loss_and_metrics))\n",
    "\n",
    "# 6. 모델 저장(지정한 디렉토리 하위에 assets, variables 디렉토리가 자동 생성)\n",
    "model.save('d:/data/mnist')"
   ]
  },
  {
   "cell_type": "code",
   "execution_count": 5,
   "metadata": {},
   "outputs": [
    {
     "data": {
      "image/png": "[encoded data removed]",
      "text/plain": [
       "<Figure size 432x288 with 2 Axes>"
      ]
     },
     "metadata": {
      "needs_background": "light"
     },
     "output_type": "display_data"
    }
   ],
   "source": [
    "import matplotlib.pyplot as plt\n",
    "\n",
    "# 7. 모델 학습 과정 표시\n",
    "fig, loss_ax=plt.subplots()\n",
    "# 서로 다른 y축을 가진 2개의 x데이터를 사용하여 동일한 플롯에 그래프 출력\n",
    "acc_ax=loss_ax.twinx() # x축에 2개의 요소 사용\n",
    "loss_ax.plot(hist.history['loss'], 'y', label='train loss')\n",
    "loss_ax.plot(hist.history['val_loss'], 'r', label='val loss')\n",
    "acc_ax.plot(hist.history['accuracy'], 'b', label='train acc')\n",
    "acc_ax.plot(hist.history['val_accuracy'], 'g', label='val acc')\n",
    "loss_ax.set_xlabel('epoch')\n",
    "loss_ax.set_ylabel('loss')\n",
    "acc_ax.set_ylabel('accuracy')\n",
    "loss_ax.legend(loc='upper left')\n",
    "acc_ax.legend(loc='lower left')\n",
    "plt.show()\n"
   ]
  },
  {
   "cell_type": "code",
   "execution_count": 6,
   "metadata": {},
   "outputs": [
    {
     "name": "stdout",
     "output_type": "stream",
     "text": [
      "실제값 : 1 , 예측값 : 1\n",
      "실제값 : 0 , 예측값 : 0\n",
      "실제값 : 7 , 예측값 : 7\n",
      "실제값 : 0 , 예측값 : 0\n",
      "실제값 : 0 , 예측값 : 0\n",
      "실제값 : 4 , 예측값 : 4\n",
      "실제값 : 1 , 예측값 : 1\n",
      "실제값 : 8 , 예측값 : 3\n",
      "실제값 : 4 , 예측값 : 4\n",
      "실제값 : 7 , 예측값 : 7\n"
     ]
    }
   ],
   "source": [
    "from tensorflow.keras.models import load_model\n",
    "from numpy import argmax\n",
    "\n",
    "# 전체 샘플 중에서 50개 샘플 선택\n",
    "xhat_idx=np.random.choice(x_test.shape[0], 50)\n",
    "xhat=x_test[xhat_idx]\n",
    "# 모형이 저장된 디렉토리 지정\n",
    "model=load_model('d:/data/mnist')\n",
    "yhat=model.predict(xhat)\n",
    "\n",
    "for i in range(10):\n",
    "    print('실제값 :',argmax(y_test[xhat_idx[i]]), ', 예측값 :', np.argmax(yhat[i]))\n"
   ]
  }
 ],
 "metadata": {
  "interpreter": {
   "hash": "7b4b4feff2f24a0f0a34464dbe537a36fda679851528fb8735cb41fa49dffb2d"
  },
  "kernelspec": {
   "display_name": "Python 3.8.8 64-bit ('base': conda)",
   "language": "python",
   "name": "python3"
  },
  "language_info": {
   "codemirror_mode": {
    "name": "ipython",
    "version": 3
   },
   "file_extension": ".py",
   "mimetype": "text/x-python",
   "name": "python",
   "nbconvert_exporter": "python",
   "pygments_lexer": "ipython3",
   "version": "3.8.8"
  },
  "orig_nbformat": 4
 },
 "nbformat": 4,
 "nbformat_minor": 2
}
