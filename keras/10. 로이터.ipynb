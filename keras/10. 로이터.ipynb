{
 "cells": [
  {
   "cell_type": "code",
   "execution_count": 1,
   "metadata": {},
   "outputs": [
    {
     "data": {
      "text/plain": [
       "'2.7.0'"
      ]
     },
     "execution_count": 1,
     "metadata": {},
     "output_type": "execute_result"
    }
   ],
   "source": [
    "import keras\n",
    "keras.__version__"
   ]
  },
  {
   "cell_type": "code",
   "execution_count": 2,
   "metadata": {},
   "outputs": [],
   "source": [
    "# 뉴스 기사 분류 : 다중 분류 문제\n",
    "# 로이터 뉴스를 46개의 토픽으로 분류하는 신경망(다중 분류)\n",
    "# 로이터 데이터셋 : 1986년에 로이터에서 공개한 짧은 뉴스 기사와 토픽의 집합인 데이터셋(케라스 내장 데이터셋)\n",
    "# 텍스트 분류를 위해 널리 사용되는 간단한 데이터셋\n",
    "# 46개의 토픽, 각 토픽은 최소 10개의 샘플이 있음\n",
    "from tensorflow.keras.datasets import reuters\n",
    "\n",
    "(train_data, train_labels),(test_data, test_labels)=\\\n",
    "    reuters.load_data(num_words=10000) # 데이터 다운로드\n",
    "# num_words=10000 : 최빈 단어 10,000개만 사용, 드물게 나타나는 단어는 무시"
   ]
  },
  {
   "cell_type": "code",
   "execution_count": 3,
   "metadata": {},
   "outputs": [
    {
     "name": "stdout",
     "output_type": "stream",
     "text": [
      "8982\n",
      "2246\n"
     ]
    }
   ],
   "source": [
    "# 8,982개의 학습용 샘플과 2,246개의 검증용 샘플\n",
    "print(len(train_data))\n",
    "print(len(test_data))"
   ]
  },
  {
   "cell_type": "code",
   "execution_count": 4,
   "metadata": {},
   "outputs": [
    {
     "data": {
      "text/plain": [
       "[1, 2, 2, 8, 43, 10, 447, 5, 25, 207]"
      ]
     },
     "execution_count": 4,
     "metadata": {},
     "output_type": "execute_result"
    }
   ],
   "source": [
    "# 각 샘플은 정수 리스트\n",
    "train_data[0][:10]"
   ]
  },
  {
   "cell_type": "code",
   "execution_count": 5,
   "metadata": {},
   "outputs": [
    {
     "name": "stdout",
     "output_type": "stream",
     "text": [
      "[('mdbl', 10996), ('fawc', 16260), ('degussa', 12089), ('woods', 8803), ('hanging', 13796), ('localized', 20672), ('sation', 20673), ('chanthaburi', 20675), ('refunding', 10997), ('hermann', 8804)]\n",
      "[(10996, 'mdbl'), (16260, 'fawc'), (12089, 'degussa'), (8803, 'woods'), (13796, 'hanging'), (20672, 'localized'), (20673, 'sation'), (20675, 'chanthaburi'), (10997, 'refunding'), (8804, 'hermann')]\n"
     ]
    }
   ],
   "source": [
    "# 단어 디코딩 예\n",
    "# 단어 인덱스 다운로드\n",
    "word_index=reuters.get_word_index()\n",
    "print(list(word_index.items())[0:10])\n",
    "\n",
    "# 정수 인덱스와 단어의 순서를 바꾼 리스트\n",
    "reverse_word_index=dict([(value,key) for (key, value) in word_index.items()])\n",
    "print(list(reverse_word_index.items())[0:10])"
   ]
  },
  {
   "cell_type": "code",
   "execution_count": 6,
   "metadata": {},
   "outputs": [
    {
     "data": {
      "text/plain": [
       "3"
      ]
     },
     "execution_count": 6,
     "metadata": {},
     "output_type": "execute_result"
    }
   ],
   "source": [
    "# 레이블은 토픽의 인덱스로 0과 45 사이의 정수\n",
    "train_labels[10]"
   ]
  },
  {
   "cell_type": "code",
   "execution_count": 7,
   "metadata": {},
   "outputs": [],
   "source": [
    "# 데이터 준비\n",
    "# 데이터를 벡터로 변환\n",
    "import numpy as np\n",
    "\n",
    "np.random.seed(5) # 랜덤시드 고정\n",
    "def vectorize_sequences(sequences, dimension=10000):\n",
    "    # 크기가 (len(sequences), dimension)이고 모든 원소가 0인 행렬을 생성, 제로 패딩\n",
    "    results=np.zeros((len(sequences), dimension))\n",
    "    for i, sequence in enumerate(sequences):\n",
    "        results[i, sequence]=1. # result[i]에서 특정 인덱스의 위치를 1로 나머지는 0으로 채움(원핫인코딩)\n",
    "    return results\n",
    "x_train=vectorize_sequences(train_data) # 학습용 데이터를 2차원 벡터(행렬)로 변환\n",
    "x_test=vectorize_sequences(test_data) # 검증용 데이터를 2차원 벡터(행렬)로 변환"
   ]
  },
  {
   "cell_type": "code",
   "execution_count": 8,
   "metadata": {},
   "outputs": [],
   "source": [
    "# one hot encoding : 범주형 데이터에 널리 사용되는 방법\n",
    "#                    각 레이블의 인덱스 자리는 1이고 나머지는 모두 0인 벡터\n",
    "def to_one_hot(labels, dimension=46):\n",
    "    results=np.zeros((len(labels), dimension))\n",
    "    for i, label in enumerate(labels):\n",
    "        results[i, label]=1.\n",
    "    return results\n",
    "one_hot_train_labels=to_one_hot(train_labels) # 훈련 레이블을 벡터로 변환\n",
    "one_hot_test_labels=to_one_hot(test_labels) # 검증 레이블을 벡터로 변환"
   ]
  },
  {
   "cell_type": "code",
   "execution_count": 9,
   "metadata": {},
   "outputs": [],
   "source": [
    "from keras.utils.np_utils import to_categorical\n",
    "\n",
    "one_hot_train_labels=to_categorical(train_labels)\n",
    "one_hot_test_labels=to_categorical(test_labels)"
   ]
  },
  {
   "cell_type": "code",
   "execution_count": 10,
   "metadata": {},
   "outputs": [],
   "source": [
    "# 신경망 모델 만들기\n",
    "from tensorflow.keras import models\n",
    "from tensorflow.keras import layers\n",
    "\n",
    "model=models.Sequential()\n",
    "model.add(layers.Dense(64, activation='relu', input_shape=(10000,))) # 입력층(64개의 노드)\n",
    "model.add(layers.Dense(64, activation='relu')) # 은닉층(64개의 노드)\n",
    "model.add(layers.Dense(46, activation='softmax')) # 출력층(46개의 노드)\n",
    "# softmax : 각 출력 클래스에 대한 확률분포 출력, 46개의 값을 모두 더하면 1이 된다."
   ]
  },
  {
   "cell_type": "code",
   "execution_count": 11,
   "metadata": {},
   "outputs": [],
   "source": [
    "# softmax 활성화함수 : 각 입력 샘플마다 46개의 출력 클래스에 대한 확률분포 출력(두 확률분포 사이의 거리를 측정)\n",
    "# 신경망이 출력한 확률분포와 실제 레이블의 분포 사이의 거리\n",
    "# 두 분포 사이의 거리를 최소화하면 실제 레이블에 가까운 출력을 내도록 모델을 훈련하게 됨\n",
    "# 46차원의 출력 벡터를 만들며 output[i]는 어떤 샘플이 클래스 i에 속할 확률\n",
    "model.compile(optimizer='rmsprop', loss='categorical_crossentropy', metrics=['accuracy'])"
   ]
  },
  {
   "cell_type": "code",
   "execution_count": 15,
   "metadata": {},
   "outputs": [],
   "source": [
    "# Train, Validation 구분\n",
    "x_val=x_train[:1000]\n",
    "partial_x_train=x_train[1000:]\n",
    "y_val=one_hot_train_labels[:1000]\n",
    "partial_y_train=one_hot_train_labels[1000:]"
   ]
  },
  {
   "cell_type": "code",
   "execution_count": 16,
   "metadata": {},
   "outputs": [
    {
     "name": "stdout",
     "output_type": "stream",
     "text": [
      "Epoch 1/50\n",
      "16/16 [==============================] - 6s 40ms/step - loss: 2.6531 - accuracy: 0.4801 - val_loss: 1.7610 - val_accuracy: 0.6460\n",
      "Epoch 2/50\n",
      "16/16 [==============================] - 0s 22ms/step - loss: 1.4177 - accuracy: 0.7139 - val_loss: 1.2951 - val_accuracy: 0.7190\n",
      "Epoch 3/50\n",
      "16/16 [==============================] - 0s 24ms/step - loss: 1.0396 - accuracy: 0.7772 - val_loss: 1.1460 - val_accuracy: 0.7500\n",
      "Epoch 4/50\n",
      "16/16 [==============================] - 0s 22ms/step - loss: 0.8219 - accuracy: 0.8259 - val_loss: 1.0417 - val_accuracy: 0.7870\n",
      "Epoch 5/50\n",
      "16/16 [==============================] - 0s 21ms/step - loss: 0.6551 - accuracy: 0.8666 - val_loss: 0.9762 - val_accuracy: 0.7960\n",
      "Epoch 6/50\n",
      "16/16 [==============================] - 0s 22ms/step - loss: 0.5275 - accuracy: 0.8951 - val_loss: 0.9762 - val_accuracy: 0.7930\n",
      "Epoch 7/50\n",
      "16/16 [==============================] - 0s 22ms/step - loss: 0.4249 - accuracy: 0.9149 - val_loss: 0.9078 - val_accuracy: 0.8160\n",
      "Epoch 8/50\n",
      "16/16 [==============================] - 0s 22ms/step - loss: 0.3473 - accuracy: 0.9296 - val_loss: 0.9226 - val_accuracy: 0.8050\n",
      "Epoch 9/50\n",
      "16/16 [==============================] - 0s 22ms/step - loss: 0.2879 - accuracy: 0.9366 - val_loss: 0.9388 - val_accuracy: 0.7990\n",
      "Epoch 10/50\n",
      "16/16 [==============================] - 0s 23ms/step - loss: 0.2442 - accuracy: 0.9440 - val_loss: 0.9647 - val_accuracy: 0.8090\n",
      "Epoch 11/50\n",
      "16/16 [==============================] - 0s 22ms/step - loss: 0.2114 - accuracy: 0.9486 - val_loss: 1.0005 - val_accuracy: 0.8000\n",
      "Epoch 12/50\n",
      "16/16 [==============================] - 0s 22ms/step - loss: 0.1880 - accuracy: 0.9493 - val_loss: 0.9309 - val_accuracy: 0.8160\n",
      "Epoch 13/50\n",
      "16/16 [==============================] - 0s 22ms/step - loss: 0.1647 - accuracy: 0.9543 - val_loss: 1.0435 - val_accuracy: 0.7940\n",
      "Epoch 14/50\n",
      "16/16 [==============================] - 0s 22ms/step - loss: 0.1559 - accuracy: 0.9550 - val_loss: 0.9784 - val_accuracy: 0.8110\n",
      "Epoch 15/50\n",
      "16/16 [==============================] - 0s 22ms/step - loss: 0.1439 - accuracy: 0.9551 - val_loss: 1.0275 - val_accuracy: 0.8050\n",
      "Epoch 16/50\n",
      "16/16 [==============================] - 0s 21ms/step - loss: 0.1350 - accuracy: 0.9544 - val_loss: 1.0435 - val_accuracy: 0.8010\n",
      "Epoch 17/50\n",
      "16/16 [==============================] - 0s 22ms/step - loss: 0.1296 - accuracy: 0.9570 - val_loss: 1.0290 - val_accuracy: 0.8160\n",
      "Epoch 18/50\n",
      "16/16 [==============================] - 0s 22ms/step - loss: 0.1239 - accuracy: 0.9575 - val_loss: 1.0801 - val_accuracy: 0.8110\n",
      "Epoch 19/50\n",
      "16/16 [==============================] - 0s 24ms/step - loss: 0.1178 - accuracy: 0.9585 - val_loss: 1.1132 - val_accuracy: 0.7970\n",
      "Epoch 20/50\n",
      "16/16 [==============================] - 0s 21ms/step - loss: 0.1154 - accuracy: 0.9565 - val_loss: 1.1499 - val_accuracy: 0.7940\n",
      "Epoch 21/50\n",
      "16/16 [==============================] - 0s 22ms/step - loss: 0.1104 - accuracy: 0.9558 - val_loss: 1.0830 - val_accuracy: 0.8100\n",
      "Epoch 22/50\n",
      "16/16 [==============================] - 0s 22ms/step - loss: 0.1092 - accuracy: 0.9589 - val_loss: 1.1050 - val_accuracy: 0.8070\n",
      "Epoch 23/50\n",
      "16/16 [==============================] - 0s 21ms/step - loss: 0.1078 - accuracy: 0.9563 - val_loss: 1.1583 - val_accuracy: 0.7980\n",
      "Epoch 24/50\n",
      "16/16 [==============================] - 0s 22ms/step - loss: 0.1045 - accuracy: 0.9557 - val_loss: 1.1539 - val_accuracy: 0.8060\n",
      "Epoch 25/50\n",
      "16/16 [==============================] - 0s 22ms/step - loss: 0.1000 - accuracy: 0.9595 - val_loss: 1.1941 - val_accuracy: 0.8040\n",
      "Epoch 26/50\n",
      "16/16 [==============================] - 0s 22ms/step - loss: 0.1029 - accuracy: 0.9579 - val_loss: 1.1377 - val_accuracy: 0.8100\n",
      "Epoch 27/50\n",
      "16/16 [==============================] - 0s 22ms/step - loss: 0.1008 - accuracy: 0.9575 - val_loss: 1.3480 - val_accuracy: 0.7740\n",
      "Epoch 28/50\n",
      "16/16 [==============================] - 0s 22ms/step - loss: 0.0972 - accuracy: 0.9585 - val_loss: 1.1725 - val_accuracy: 0.8080\n",
      "Epoch 29/50\n",
      "16/16 [==============================] - 0s 24ms/step - loss: 0.0980 - accuracy: 0.9598 - val_loss: 1.2792 - val_accuracy: 0.7990\n",
      "Epoch 30/50\n",
      "16/16 [==============================] - 0s 22ms/step - loss: 0.0970 - accuracy: 0.9589 - val_loss: 1.2947 - val_accuracy: 0.7830\n",
      "Epoch 31/50\n",
      "16/16 [==============================] - 0s 22ms/step - loss: 0.0963 - accuracy: 0.9597 - val_loss: 1.2718 - val_accuracy: 0.7960\n",
      "Epoch 32/50\n",
      "16/16 [==============================] - 0s 22ms/step - loss: 0.0916 - accuracy: 0.9610 - val_loss: 1.3059 - val_accuracy: 0.7900\n",
      "Epoch 33/50\n",
      "16/16 [==============================] - 0s 21ms/step - loss: 0.0929 - accuracy: 0.9619 - val_loss: 1.3073 - val_accuracy: 0.8010\n",
      "Epoch 34/50\n",
      "16/16 [==============================] - 0s 22ms/step - loss: 0.0937 - accuracy: 0.9575 - val_loss: 1.2674 - val_accuracy: 0.7990\n",
      "Epoch 35/50\n",
      "16/16 [==============================] - 0s 22ms/step - loss: 0.0925 - accuracy: 0.9600 - val_loss: 1.2976 - val_accuracy: 0.7950\n",
      "Epoch 36/50\n",
      "16/16 [==============================] - 0s 22ms/step - loss: 0.0951 - accuracy: 0.9579 - val_loss: 1.2834 - val_accuracy: 0.7970\n",
      "Epoch 37/50\n",
      "16/16 [==============================] - 0s 22ms/step - loss: 0.0909 - accuracy: 0.9580 - val_loss: 1.2949 - val_accuracy: 0.7980\n",
      "Epoch 38/50\n",
      "16/16 [==============================] - 0s 22ms/step - loss: 0.0913 - accuracy: 0.9584 - val_loss: 1.2909 - val_accuracy: 0.7870\n",
      "Epoch 39/50\n",
      "16/16 [==============================] - 0s 22ms/step - loss: 0.0896 - accuracy: 0.9600 - val_loss: 1.2981 - val_accuracy: 0.7960\n",
      "Epoch 40/50\n",
      "16/16 [==============================] - 0s 22ms/step - loss: 0.0900 - accuracy: 0.9590 - val_loss: 1.3878 - val_accuracy: 0.7830\n",
      "Epoch 41/50\n",
      "16/16 [==============================] - 0s 21ms/step - loss: 0.0875 - accuracy: 0.9595 - val_loss: 1.3012 - val_accuracy: 0.7890\n",
      "Epoch 42/50\n",
      "16/16 [==============================] - 0s 22ms/step - loss: 0.0905 - accuracy: 0.9588 - val_loss: 1.4336 - val_accuracy: 0.7710\n",
      "Epoch 43/50\n",
      "16/16 [==============================] - 0s 23ms/step - loss: 0.0850 - accuracy: 0.9584 - val_loss: 1.3619 - val_accuracy: 0.7970\n",
      "Epoch 44/50\n",
      "16/16 [==============================] - 0s 21ms/step - loss: 0.0896 - accuracy: 0.9588 - val_loss: 1.3562 - val_accuracy: 0.7890\n",
      "Epoch 45/50\n",
      "16/16 [==============================] - 0s 22ms/step - loss: 0.0892 - accuracy: 0.9569 - val_loss: 1.3585 - val_accuracy: 0.7860\n",
      "Epoch 46/50\n",
      "16/16 [==============================] - 0s 21ms/step - loss: 0.0863 - accuracy: 0.9583 - val_loss: 1.3278 - val_accuracy: 0.7980\n",
      "Epoch 47/50\n",
      "16/16 [==============================] - 0s 22ms/step - loss: 0.0849 - accuracy: 0.9575 - val_loss: 1.3734 - val_accuracy: 0.7920\n",
      "Epoch 48/50\n",
      "16/16 [==============================] - 0s 21ms/step - loss: 0.0872 - accuracy: 0.9597 - val_loss: 1.4431 - val_accuracy: 0.7850\n",
      "Epoch 49/50\n",
      "16/16 [==============================] - 0s 22ms/step - loss: 0.0840 - accuracy: 0.9598 - val_loss: 1.4385 - val_accuracy: 0.7770\n",
      "Epoch 50/50\n",
      "16/16 [==============================] - 0s 21ms/step - loss: 0.0868 - accuracy: 0.9568 - val_loss: 1.4689 - val_accuracy: 0.7800\n",
      "71/71 [==============================] - 0s 3ms/step - loss: 1.7036 - accuracy: 0.7729\n"
     ]
    }
   ],
   "source": [
    "history=model.fit(partial_x_train, partial_y_train, epochs=50, batch_size=512, validation_data=(x_val,y_val))\n",
    "results=model.evaluate(x_test, one_hot_test_labels)"
   ]
  },
  {
   "cell_type": "code",
   "execution_count": 17,
   "metadata": {},
   "outputs": [
    {
     "data": {
      "image/png": "[encoded data removed]",
      "text/plain": [
       "<Figure size 432x288 with 1 Axes>"
      ]
     },
     "metadata": {
      "needs_background": "light"
     },
     "output_type": "display_data"
    }
   ],
   "source": [
    "# 학습용과 검증용 데이터에 대한 손실과 정확도 출력\n",
    "import matplotlib.pyplot as plt\n",
    "\n",
    "loss=history.history['loss']\n",
    "val_loss=history.history['val_loss']\n",
    "epochs=range(1,len(loss)+1)\n",
    "plt.plot(epochs, loss, 'bo', label='Training loss') # bo : 파란색 점선\n",
    "plt.plot(epochs, val_loss, 'b', label='Validation loss') # b : 파란색 실선\n",
    "plt.title('Training and Validation loss')\n",
    "plt.xlabel('Epochs')\n",
    "plt.ylabel('Loss')\n",
    "plt.legend()\n",
    "plt.show()"
   ]
  },
  {
   "cell_type": "code",
   "execution_count": 19,
   "metadata": {},
   "outputs": [
    {
     "data": {
      "image/png": "[encoded data removed]",
      "text/plain": [
       "<Figure size 432x288 with 1 Axes>"
      ]
     },
     "metadata": {
      "needs_background": "light"
     },
     "output_type": "display_data"
    }
   ],
   "source": [
    "plt.clf()\n",
    "acc=history.history['accuracy']\n",
    "val_acc=history.history['val_accuracy']\n",
    "plt.plot(epochs, acc, 'bo', label='Training accuracy') # bo : 파란색 점선\n",
    "plt.plot(epochs, val_acc, 'b', label='Validation accuracy') # b : 파란색 실선\n",
    "plt.title('Training and Validation accuracy')\n",
    "plt.xlabel('Epochs')\n",
    "plt.ylabel('Accuracy')\n",
    "plt.legend()\n",
    "plt.show()"
   ]
  },
  {
   "cell_type": "code",
   "execution_count": 20,
   "metadata": {},
   "outputs": [
    {
     "data": {
      "text/plain": [
       "[1.7036176919937134, 0.7729296684265137]"
      ]
     },
     "execution_count": 20,
     "metadata": {},
     "output_type": "execute_result"
    }
   ],
   "source": [
    "# 손실율과 정확도\n",
    "results"
   ]
  },
  {
   "cell_type": "code",
   "execution_count": 21,
   "metadata": {},
   "outputs": [],
   "source": [
    "predictions=model.predict(x_test)"
   ]
  },
  {
   "cell_type": "code",
   "execution_count": 22,
   "metadata": {},
   "outputs": [
    {
     "data": {
      "text/plain": [
       "(46,)"
      ]
     },
     "execution_count": 22,
     "metadata": {},
     "output_type": "execute_result"
    }
   ],
   "source": [
    "# 길이가 46인 벡터\n",
    "predictions[0].shape"
   ]
  },
  {
   "cell_type": "code",
   "execution_count": 23,
   "metadata": {},
   "outputs": [
    {
     "data": {
      "text/plain": [
       "1.0000002"
      ]
     },
     "execution_count": 23,
     "metadata": {},
     "output_type": "execute_result"
    }
   ],
   "source": [
    "# 이 벡터의 원소 합은 1\n",
    "np.sum(predictions[0])"
   ]
  },
  {
   "cell_type": "code",
   "execution_count": 24,
   "metadata": {},
   "outputs": [
    {
     "data": {
      "text/plain": [
       "3"
      ]
     },
     "execution_count": 24,
     "metadata": {},
     "output_type": "execute_result"
    }
   ],
   "source": [
    "# 가장 확률이 높은 클래스\n",
    "np.argmax(predictions[0])"
   ]
  }
 ],
 "metadata": {
  "interpreter": {
   "hash": "7b4b4feff2f24a0f0a34464dbe537a36fda679851528fb8735cb41fa49dffb2d"
  },
  "kernelspec": {
   "display_name": "Python 3.8.8 64-bit ('base': conda)",
   "language": "python",
   "name": "python3"
  },
  "language_info": {
   "codemirror_mode": {
    "name": "ipython",
    "version": 3
   },
   "file_extension": ".py",
   "mimetype": "text/x-python",
   "name": "python",
   "nbconvert_exporter": "python",
   "pygments_lexer": "ipython3",
   "version": "3.8.8"
  },
  "orig_nbformat": 4
 },
 "nbformat": 4,
 "nbformat_minor": 2
}
