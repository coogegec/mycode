{
 "cells": [
  {
   "cell_type": "code",
   "execution_count": 1,
   "metadata": {},
   "outputs": [
    {
     "data": {
      "text/plain": [
       "'2.6.0'"
      ]
     },
     "execution_count": 1,
     "metadata": {},
     "output_type": "execute_result"
    }
   ],
   "source": [
    "from tensorflow.python import keras\n",
    "keras.__version__ # 케라스 버전 확인"
   ]
  },
  {
   "cell_type": "code",
   "execution_count": 2,
   "metadata": {},
   "outputs": [
    {
     "name": "stdout",
     "output_type": "stream",
     "text": [
      "Downloading data from https://storage.googleapis.com/tensorflow/tf-keras-datasets/boston_housing.npz\n",
      "57344/57026 [==============================] - 0s 0us/step\n",
      "65536/57026 [==================================] - 0s 0us/step\n"
     ]
    }
   ],
   "source": [
    "# 주택 가격 예측 : 회귀 분석\n",
    "# 회귀분석 - 연속적인 값을 예측     ex) 과거 기상 데이터를 입력하여 내일의 기온을 예측\n",
    "# 보스턴 주택 가격 데이터셋 : 1970년 중반 보스턴 외곽 지역의 범죄율, 지방세율 등의 데이터로 주택 가격 예측\n",
    "# 샘플 개수 : 506개(학습용 404개, 검증용 102개)\n",
    "from tensorflow.keras.datasets import boston_housing\n",
    "\n",
    "(X_train, y_train), (X_test, y_test) =\\\n",
    "    boston_housing.load_data() # c:/사용자/계정/.keras/datasets 디렉토리에 다운로드됨"
   ]
  },
  {
   "cell_type": "code",
   "execution_count": 15,
   "metadata": {},
   "outputs": [
    {
     "name": "stdout",
     "output_type": "stream",
     "text": [
      "(404, 13)\n",
      "(102, 13)\n",
      "13\n"
     ]
    }
   ],
   "source": [
    "print(X_train.shape) # 학습용 404개\n",
    "print(X_test.shape) # 검증용 102개\n",
    "print(X_train.shape[1]) # 13개의 변수"
   ]
  },
  {
   "cell_type": "code",
   "execution_count": 4,
   "metadata": {},
   "outputs": [
    {
     "data": {
      "text/plain": [
       "array([15.2, 42.3, 50. , 21.1, 17.7, 18.5, 11.3, 15.6, 15.6, 14.4])"
      ]
     },
     "execution_count": 4,
     "metadata": {},
     "output_type": "execute_result"
    }
   ],
   "source": [
    "# 독립변수 목록\n",
    "# 1. Per capita crime rate\n",
    "# 2. Proportion of residential land zoned for lots over 25,000 square feet\n",
    "# 3. Proportion of non-retail business acres per town\n",
    "# 4. Charles River dummy variable(= 1 if tract bounds river; 0 otherwise) \n",
    "# 5. Nitric oxides concentration (part per 10 million)\n",
    "# 6. Average number of rooms per dwelling\n",
    "# 7. Proportion of owner-occupied units built prior to 1940\n",
    "# 8. Weighted distances to five Boston employment centres\n",
    "# 9. Index of accessibility to radial highways\n",
    "# 10. Full-value property-tax rate per $10,000\n",
    "# 11. pupil-teacher ratio by town\n",
    "# 12. 1000*(Bk - 0.63)**2 where Bk is the proportion of Black people by town\n",
    "# 13. % lower status of the population\n",
    "# 종속변수 : 주택의 가격(단위 : 1000$)\n",
    "y_train[0:10] # 주택가격(10,000 ~ 50,000$)"
   ]
  },
  {
   "cell_type": "code",
   "execution_count": 7,
   "metadata": {},
   "outputs": [
    {
     "data": {
      "text/plain": [
       "<AxesSubplot:>"
      ]
     },
     "execution_count": 7,
     "metadata": {},
     "output_type": "execute_result"
    },
    {
     "data": {
      "image/png": "[encoded data removed]",
      "text/plain": [
       "<Figure size 432x288 with 1 Axes>"
      ]
     },
     "metadata": {
      "needs_background": "light"
     },
     "output_type": "display_data"
    }
   ],
   "source": [
    "import pandas as pd\n",
    "\n",
    "pd.DataFrame(X_train).boxplot()"
   ]
  },
  {
   "cell_type": "code",
   "execution_count": 8,
   "metadata": {},
   "outputs": [
    {
     "data": {
      "text/plain": [
       "<AxesSubplot:>"
      ]
     },
     "execution_count": 8,
     "metadata": {},
     "output_type": "execute_result"
    },
    {
     "data": {
      "image/png": "[encoded data removed]",
      "text/plain": [
       "<Figure size 432x288 with 1 Axes>"
      ]
     },
     "metadata": {
      "needs_background": "light"
     },
     "output_type": "display_data"
    }
   ],
   "source": [
    "from sklearn.preprocessing import StandardScaler\n",
    "\n",
    "scaler=StandardScaler() # 평균 0, 표준편차 1로 만드는 스케일러\n",
    "scaler.fit(X_train)\n",
    "X_train_scaled=scaler.transform(X_train)\n",
    "X_test_scaled=scaler.transform(X_test)\n",
    "pd.DataFrame(X_train_scaled).boxplot()"
   ]
  },
  {
   "cell_type": "code",
   "execution_count": 9,
   "metadata": {},
   "outputs": [],
   "source": [
    "# 활성화 함수 : 입력 데이터를 적절하게 처리하여 출력 데이터를 만들어내는 함수\n",
    "# input data → {activation function} → output data\n",
    "# 활성화 함수의 종류 : 탄젠트(tanh) 함수, 시그모이드(sigmoid) 함수, ReLU 함수\n",
    "# ReLU(Rectified Linear Unit) 함수 : 탄젠트 함수나 시그모이드 함수보다 학습시간이 빨라서 최근 선호되고 있다\n",
    "from tensorflow.keras import models\n",
    "from tensorflow.keras import layers\n",
    "\n",
    "def build_model(): # 64개의 노드를 가진 은닉층 2개의 신경망\n",
    "    model=models.Sequential()\n",
    "    model.add(layers.Dense(64, activation='relu', input_shape=(X_train.shape[1],)))\n",
    "    model.add(layers.Dense(64, activation='relu'))\n",
    "    model.add(layers.Dense(1)) # 출력층(1개의 노드)\n",
    "    # 하나의 값을 예측하는 회귀분석의 경우 활성화 함수가 없는 선형층을 사용함\n",
    "    model.compile(optimizer='rmsprop', loss='mse', metrics=['mae']) # mse 손실 함수를 사용하여 컴파일\n",
    "    # mse(mean squared error) : 평균 제곱 오차, 예측값과 실제값의 거리의 제곱 \n",
    "    # mae(mean absolute error) : 평균 절대 오차, 예측값과 실제값의 거리의 절댓값 \n",
    "    return model"
   ]
  },
  {
   "cell_type": "code",
   "execution_count": 10,
   "metadata": {},
   "outputs": [
    {
     "name": "stdout",
     "output_type": "stream",
     "text": [
      "Epoch 1/10\n",
      "404/404 [==============================] - 5s 6ms/step - loss: 296.9383 - mae: 11.8767\n",
      "Epoch 2/10\n",
      "404/404 [==============================] - 1s 4ms/step - loss: 152.0235 - mae: 9.0756\n",
      "Epoch 3/10\n",
      "404/404 [==============================] - 1s 3ms/step - loss: 110.2320 - mae: 7.9035\n",
      "Epoch 4/10\n",
      "404/404 [==============================] - 1s 3ms/step - loss: 102.9845 - mae: 7.3367\n",
      "Epoch 5/10\n",
      "404/404 [==============================] - 1s 4ms/step - loss: 97.4950 - mae: 7.2777\n",
      "Epoch 6/10\n",
      "404/404 [==============================] - 1s 4ms/step - loss: 76.5859 - mae: 6.3744\n",
      "Epoch 7/10\n",
      "404/404 [==============================] - 1s 4ms/step - loss: 75.0031 - mae: 6.3678\n",
      "Epoch 8/10\n",
      "404/404 [==============================] - 2s 4ms/step - loss: 68.5331 - mae: 6.0759\n",
      "Epoch 9/10\n",
      "404/404 [==============================] - 2s 4ms/step - loss: 59.8037 - mae: 5.6010\n",
      "Epoch 10/10\n",
      "404/404 [==============================] - 2s 4ms/step - loss: 56.5574 - mae: 5.6297\n"
     ]
    }
   ],
   "source": [
    "model=build_model()\n",
    "hist=model.fit(X_train, y_train, epochs=10, batch_size=1, verbose=1) # 모델 학습"
   ]
  },
  {
   "cell_type": "code",
   "execution_count": 11,
   "metadata": {},
   "outputs": [
    {
     "name": "stdout",
     "output_type": "stream",
     "text": [
      "4/4 [==============================] - 0s 3ms/step - loss: 42.5406 - mae: 4.5671\n",
      "42.54059600830078\n",
      "4.567092418670654\n"
     ]
    }
   ],
   "source": [
    "# 검증용 데이터로 모델 평가\n",
    "mse, mae=model.evaluate(X_test,y_test, verbose=1)\n",
    "print(mse)\n",
    "print(mae) # 4567달러 정도 차이가 남"
   ]
  },
  {
   "cell_type": "code",
   "execution_count": 12,
   "metadata": {},
   "outputs": [
    {
     "data": {
      "image/png": "[encoded data removed]",
      "text/plain": [
       "<Figure size 432x288 with 1 Axes>"
      ]
     },
     "metadata": {
      "needs_background": "light"
     },
     "output_type": "display_data"
    }
   ],
   "source": [
    "import matplotlib.pyplot as plt\n",
    "\n",
    "plt.plot(hist.history['mae'])\n",
    "plt.xlabel('epoch')\n",
    "plt.ylabel('mae')\n",
    "plt.show()"
   ]
  },
  {
   "cell_type": "code",
   "execution_count": 13,
   "metadata": {},
   "outputs": [
    {
     "name": "stdout",
     "output_type": "stream",
     "text": [
      "Model: \"sequential\"\n",
      "_________________________________________________________________\n",
      " Layer (type)                Output Shape              Param #   \n",
      "=================================================================\n",
      " dense (Dense)               (None, 64)                896       \n",
      "                                                                 \n",
      " dense_1 (Dense)             (None, 64)                4160      \n",
      "                                                                 \n",
      " dense_2 (Dense)             (None, 1)                 65        \n",
      "                                                                 \n",
      "=================================================================\n",
      "Total params: 5,121\n",
      "Trainable params: 5,121\n",
      "Non-trainable params: 0\n",
      "_________________________________________________________________\n"
     ]
    }
   ],
   "source": [
    "model.summary()"
   ]
  }
 ],
 "metadata": {
  "interpreter": {
   "hash": "7b4b4feff2f24a0f0a34464dbe537a36fda679851528fb8735cb41fa49dffb2d"
  },
  "kernelspec": {
   "display_name": "Python 3.8.8 64-bit ('base': conda)",
   "language": "python",
   "name": "python3"
  },
  "language_info": {
   "codemirror_mode": {
    "name": "ipython",
    "version": 3
   },
   "file_extension": ".py",
   "mimetype": "text/x-python",
   "name": "python",
   "nbconvert_exporter": "python",
   "pygments_lexer": "ipython3",
   "version": "3.8.8"
  },
  "orig_nbformat": 4
 },
 "nbformat": 4,
 "nbformat_minor": 2
}
