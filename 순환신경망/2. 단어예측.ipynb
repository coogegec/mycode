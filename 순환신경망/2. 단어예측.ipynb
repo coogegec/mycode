{
 "cells": [
  {
   "cell_type": "code",
   "execution_count": 1,
   "metadata": {},
   "outputs": [],
   "source": [
    "text=\"\"\"\n",
    "경마장에 있는 말이 뛰고 있다\\n\n",
    "그의 말이 법이다\\n\n",
    "가는 말이 고와야 오는 말이 곱다\\n\n",
    "그런 식으로 하면 말이 안된다\\n\n",
    "새로 태어난 말이 배가 고프다\\n\n",
    "\"\"\""
   ]
  },
  {
   "cell_type": "code",
   "execution_count": 2,
   "metadata": {},
   "outputs": [
    {
     "name": "stdout",
     "output_type": "stream",
     "text": [
      "단어 집합의 크기 : 20\n"
     ]
    }
   ],
   "source": [
    "from tensorflow.keras.preprocessing.text import Tokenizer\n",
    "\n",
    "# 단어 집합을 만들고 단어에 고유한 숫자 인덱스를 부여(1부터 시작)\n",
    "t=Tokenizer()\n",
    "t.fit_on_texts([text])\n",
    "vocab_size=len(t.word_index)+1 # 원핫인코딩에서는 0부터 시작하므로 미리 1을 더함\n",
    "print('단어 집합의 크기 : %d' % vocab_size)"
   ]
  },
  {
   "cell_type": "code",
   "execution_count": 3,
   "metadata": {},
   "outputs": [
    {
     "name": "stdout",
     "output_type": "stream",
     "text": [
      "{'말이': 1, '경마장에': 2, '있는': 3, '뛰고': 4, '있다': 5, '그의': 6, '법이다': 7, '가는': 8, '고와야': 9, '오는': 10, '곱다': 11, '그런': 12, '식으로': 13, '하면': 14, '안된다': 15, '새로': 16, '태어난': 17, '배가': 18, '고프다': 19}\n"
     ]
    }
   ],
   "source": [
    "print(t.word_index)"
   ]
  },
  {
   "cell_type": "code",
   "execution_count": 4,
   "metadata": {},
   "outputs": [
    {
     "name": "stdout",
     "output_type": "stream",
     "text": [
      "학습에 사용할 샘플의 개수 : 19\n"
     ]
    }
   ],
   "source": [
    "sequences=list()\n",
    "for line in text.split('\\n'): # 문장별로 나누기\n",
    "    # 단어의 인덱스로만 구성된 새로운 리스트\n",
    "    encoded=t.texts_to_sequences([line])[0]\n",
    "    for i in range(1, len(encoded)):\n",
    "        sequence=encoded[:i+1]\n",
    "        sequences.append(sequence)\n",
    "\n",
    "print('학습에 사용할 샘플의 개수 : %d' % len(sequences))"
   ]
  },
  {
   "cell_type": "code",
   "execution_count": 5,
   "metadata": {},
   "outputs": [
    {
     "name": "stdout",
     "output_type": "stream",
     "text": [
      "[[2, 3], [2, 3, 1], [2, 3, 1, 4], [2, 3, 1, 4, 5], [6, 1], [6, 1, 7], [8, 1], [8, 1, 9], [8, 1, 9, 10], [8, 1, 9, 10, 1], [8, 1, 9, 10, 1, 11], [12, 13], [12, 13, 14], [12, 13, 14, 1], [12, 13, 14, 1, 15], [16, 17], [16, 17, 1], [16, 17, 1, 18], [16, 17, 1, 18, 19]]\n"
     ]
    }
   ],
   "source": [
    "print(sequences)"
   ]
  },
  {
   "cell_type": "code",
   "execution_count": 6,
   "metadata": {},
   "outputs": [
    {
     "name": "stdout",
     "output_type": "stream",
     "text": [
      "샘플의 최대 길이 : 6\n"
     ]
    }
   ],
   "source": [
    "max_len=max(len(l) for l in sequences) # 모든 샘플에서 길이가 가장 긴 샘플의 길이 출력\n",
    "print(f'샘플의 최대 길이 : {max_len}')"
   ]
  },
  {
   "cell_type": "code",
   "execution_count": 7,
   "metadata": {},
   "outputs": [
    {
     "name": "stdout",
     "output_type": "stream",
     "text": [
      "[[1, 2, 3], [4, 5], [6, 7, 8, 9]]\n",
      "[[0 1 2 3]\n",
      " [0 0 4 5]\n",
      " [6 7 8 9]]\n",
      "[[1 2 3 0]\n",
      " [4 5 0 0]\n",
      " [6 7 8 9]]\n",
      "[[1 2 3 1]\n",
      " [4 5 1 1]\n",
      " [6 7 8 9]]\n",
      "[[1 2 3]\n",
      " [4 5 0]\n",
      " [7 8 9]]\n",
      "[[1 2 3]\n",
      " [4 5 0]\n",
      " [7 8 9]]\n"
     ]
    }
   ],
   "source": [
    "from tensorflow.keras.preprocessing.sequence import pad_sequences\n",
    "\n",
    "a=[[1,2,3],[4,5],[6,7,8,9]]\n",
    "print(a)\n",
    "b=pad_sequences(a) # 같은 길이로 맞추고 길이가 부족한 경우 왼쪽에 공백을 채움\n",
    "print(b)\n",
    "c=pad_sequences(a, padding='post') # 오른쪽에 공백을 채움\n",
    "print(c)\n",
    "d=pad_sequences(a, padding='post', value=1) # 오른쪽에 1을 채움\n",
    "print(d)\n",
    "e=pad_sequences(a, padding='post', maxlen=3) # 최대 길이를 3으로 설정(왼쪽이 잘림, truncating='pre')\n",
    "print(e)\n",
    "e=pad_sequences(a, padding='post', maxlen=3, truncating='pre') # 최대 길이를 3으로 설정(오른쪽이 잘림)\n",
    "print(e)"
   ]
  },
  {
   "cell_type": "code",
   "execution_count": 9,
   "metadata": {},
   "outputs": [
    {
     "name": "stdout",
     "output_type": "stream",
     "text": [
      "[[ 0  0  0  0  2  3]\n",
      " [ 0  0  0  2  3  1]\n",
      " [ 0  0  2  3  1  4]\n",
      " [ 0  2  3  1  4  5]\n",
      " [ 0  0  0  0  6  1]\n",
      " [ 0  0  0  6  1  7]\n",
      " [ 0  0  0  0  8  1]\n",
      " [ 0  0  0  8  1  9]\n",
      " [ 0  0  8  1  9 10]\n",
      " [ 0  8  1  9 10  1]\n",
      " [ 8  1  9 10  1 11]\n",
      " [ 0  0  0  0 12 13]\n",
      " [ 0  0  0 12 13 14]\n",
      " [ 0  0 12 13 14  1]\n",
      " [ 0 12 13 14  1 15]\n",
      " [ 0  0  0  0 16 17]\n",
      " [ 0  0  0 16 17  1]\n",
      " [ 0  0 16 17  1 18]\n",
      " [ 0 16 17  1 18 19]]\n"
     ]
    }
   ],
   "source": [
    "# 최대 사이즈에 맞추어 빈칸에 0으로 채움\n",
    "sequences=pad_sequences(sequences, maxlen=max_len, padding='pre')\n",
    "print(sequences)"
   ]
  },
  {
   "cell_type": "code",
   "execution_count": 10,
   "metadata": {},
   "outputs": [],
   "source": [
    "import numpy as np\n",
    "\n",
    "sequences=np.array(sequences)\n",
    "X=sequences[:,:-1] # 리스트의 마지막 값을 제외하고 저장\n",
    "y=sequences[:,-1] # 리스트의 마지막 값만 저장"
   ]
  },
  {
   "cell_type": "code",
   "execution_count": 11,
   "metadata": {},
   "outputs": [
    {
     "name": "stdout",
     "output_type": "stream",
     "text": [
      "[[ 0  0  0  0  2]\n",
      " [ 0  0  0  2  3]\n",
      " [ 0  0  2  3  1]\n",
      " [ 0  2  3  1  4]\n",
      " [ 0  0  0  0  6]\n",
      " [ 0  0  0  6  1]\n",
      " [ 0  0  0  0  8]\n",
      " [ 0  0  0  8  1]\n",
      " [ 0  0  8  1  9]\n",
      " [ 0  8  1  9 10]\n",
      " [ 8  1  9 10  1]\n",
      " [ 0  0  0  0 12]\n",
      " [ 0  0  0 12 13]\n",
      " [ 0  0 12 13 14]\n",
      " [ 0 12 13 14  1]\n",
      " [ 0  0  0  0 16]\n",
      " [ 0  0  0 16 17]\n",
      " [ 0  0 16 17  1]\n",
      " [ 0 16 17  1 18]]\n"
     ]
    }
   ],
   "source": [
    "print(X)"
   ]
  },
  {
   "cell_type": "code",
   "execution_count": 12,
   "metadata": {},
   "outputs": [
    {
     "name": "stdout",
     "output_type": "stream",
     "text": [
      "[ 3  1  4  5  1  7  1  9 10  1 11 13 14  1 15 17  1 18 19]\n"
     ]
    }
   ],
   "source": [
    "print(y) # 모든 샘플에 대한 레이블 출력"
   ]
  },
  {
   "cell_type": "code",
   "execution_count": 13,
   "metadata": {},
   "outputs": [],
   "source": [
    "from keras.utils import np_utils\n",
    "\n",
    "y=np_utils.to_categorical(y, num_classes=vocab_size) # 원핫인코딩"
   ]
  },
  {
   "cell_type": "code",
   "execution_count": 14,
   "metadata": {},
   "outputs": [
    {
     "name": "stdout",
     "output_type": "stream",
     "text": [
      "[[0. 0. 0. 1. 0. 0. 0. 0. 0. 0. 0. 0. 0. 0. 0. 0. 0. 0. 0. 0.]\n",
      " [0. 1. 0. 0. 0. 0. 0. 0. 0. 0. 0. 0. 0. 0. 0. 0. 0. 0. 0. 0.]\n",
      " [0. 0. 0. 0. 1. 0. 0. 0. 0. 0. 0. 0. 0. 0. 0. 0. 0. 0. 0. 0.]\n",
      " [0. 0. 0. 0. 0. 1. 0. 0. 0. 0. 0. 0. 0. 0. 0. 0. 0. 0. 0. 0.]\n",
      " [0. 1. 0. 0. 0. 0. 0. 0. 0. 0. 0. 0. 0. 0. 0. 0. 0. 0. 0. 0.]\n",
      " [0. 0. 0. 0. 0. 0. 0. 1. 0. 0. 0. 0. 0. 0. 0. 0. 0. 0. 0. 0.]\n",
      " [0. 1. 0. 0. 0. 0. 0. 0. 0. 0. 0. 0. 0. 0. 0. 0. 0. 0. 0. 0.]\n",
      " [0. 0. 0. 0. 0. 0. 0. 0. 0. 1. 0. 0. 0. 0. 0. 0. 0. 0. 0. 0.]\n",
      " [0. 0. 0. 0. 0. 0. 0. 0. 0. 0. 1. 0. 0. 0. 0. 0. 0. 0. 0. 0.]\n",
      " [0. 1. 0. 0. 0. 0. 0. 0. 0. 0. 0. 0. 0. 0. 0. 0. 0. 0. 0. 0.]\n",
      " [0. 0. 0. 0. 0. 0. 0. 0. 0. 0. 0. 1. 0. 0. 0. 0. 0. 0. 0. 0.]\n",
      " [0. 0. 0. 0. 0. 0. 0. 0. 0. 0. 0. 0. 0. 1. 0. 0. 0. 0. 0. 0.]\n",
      " [0. 0. 0. 0. 0. 0. 0. 0. 0. 0. 0. 0. 0. 0. 1. 0. 0. 0. 0. 0.]\n",
      " [0. 1. 0. 0. 0. 0. 0. 0. 0. 0. 0. 0. 0. 0. 0. 0. 0. 0. 0. 0.]\n",
      " [0. 0. 0. 0. 0. 0. 0. 0. 0. 0. 0. 0. 0. 0. 0. 1. 0. 0. 0. 0.]\n",
      " [0. 0. 0. 0. 0. 0. 0. 0. 0. 0. 0. 0. 0. 0. 0. 0. 0. 1. 0. 0.]\n",
      " [0. 1. 0. 0. 0. 0. 0. 0. 0. 0. 0. 0. 0. 0. 0. 0. 0. 0. 0. 0.]\n",
      " [0. 0. 0. 0. 0. 0. 0. 0. 0. 0. 0. 0. 0. 0. 0. 0. 0. 0. 1. 0.]\n",
      " [0. 0. 0. 0. 0. 0. 0. 0. 0. 0. 0. 0. 0. 0. 0. 0. 0. 0. 0. 1.]]\n"
     ]
    }
   ],
   "source": [
    "print(y)"
   ]
  },
  {
   "cell_type": "code",
   "execution_count": 16,
   "metadata": {},
   "outputs": [
    {
     "data": {
      "text/plain": [
       "6"
      ]
     },
     "execution_count": 16,
     "metadata": {},
     "output_type": "execute_result"
    }
   ],
   "source": [
    "max_len"
   ]
  },
  {
   "cell_type": "code",
   "execution_count": 17,
   "metadata": {},
   "outputs": [],
   "source": [
    "from tensorflow.keras.models import Sequential\n",
    "from keras.layers import Dense, Embedding, SimpleRNN\n",
    "\n",
    "model=Sequential()\n",
    "model.add(Embedding(vocab_size, 10, input_length=max_len-1)) # y를 분리하였으므로 X의 길이는 5\n",
    "model.add(SimpleRNN(32)) # 출력노드 32개\n",
    "model.add(Dense(vocab_size, activation='softmax'))\n",
    "model.compile(loss='categorical_crossentropy', optimizer='adam', metrics=['accuracy'])"
   ]
  },
  {
   "cell_type": "code",
   "execution_count": 18,
   "metadata": {},
   "outputs": [
    {
     "name": "stdout",
     "output_type": "stream",
     "text": [
      "Epoch 1/200\n",
      "1/1 - 2s - loss: 3.0011 - accuracy: 0.0526 - 2s/epoch - 2s/step\n",
      "Epoch 2/200\n",
      "1/1 - 0s - loss: 2.9900 - accuracy: 0.0526 - 15ms/epoch - 15ms/step\n",
      "Epoch 3/200\n",
      "1/1 - 0s - loss: 2.9789 - accuracy: 0.0000e+00 - 13ms/epoch - 13ms/step\n",
      "Epoch 4/200\n",
      "1/1 - 0s - loss: 2.9677 - accuracy: 0.0526 - 13ms/epoch - 13ms/step\n",
      "Epoch 5/200\n",
      "1/1 - 0s - loss: 2.9562 - accuracy: 0.1053 - 26ms/epoch - 26ms/step\n",
      "Epoch 6/200\n",
      "1/1 - 0s - loss: 2.9444 - accuracy: 0.2105 - 18ms/epoch - 18ms/step\n",
      "Epoch 7/200\n",
      "1/1 - 0s - loss: 2.9322 - accuracy: 0.2105 - 16ms/epoch - 16ms/step\n",
      "Epoch 8/200\n",
      "1/1 - 0s - loss: 2.9196 - accuracy: 0.2105 - 16ms/epoch - 16ms/step\n",
      "Epoch 9/200\n",
      "1/1 - 0s - loss: 2.9065 - accuracy: 0.3158 - 15ms/epoch - 15ms/step\n",
      "Epoch 10/200\n",
      "1/1 - 0s - loss: 2.8927 - accuracy: 0.3684 - 14ms/epoch - 14ms/step\n",
      "Epoch 11/200\n",
      "1/1 - 0s - loss: 2.8783 - accuracy: 0.3684 - 17ms/epoch - 17ms/step\n",
      "Epoch 12/200\n",
      "1/1 - 0s - loss: 2.8632 - accuracy: 0.3684 - 15ms/epoch - 15ms/step\n",
      "Epoch 13/200\n",
      "1/1 - 0s - loss: 2.8474 - accuracy: 0.3684 - 17ms/epoch - 17ms/step\n",
      "Epoch 14/200\n",
      "1/1 - 0s - loss: 2.8307 - accuracy: 0.3684 - 15ms/epoch - 15ms/step\n",
      "Epoch 15/200\n",
      "1/1 - 0s - loss: 2.8132 - accuracy: 0.3684 - 15ms/epoch - 15ms/step\n",
      "Epoch 16/200\n",
      "1/1 - 0s - loss: 2.7949 - accuracy: 0.3684 - 17ms/epoch - 17ms/step\n",
      "Epoch 17/200\n",
      "1/1 - 0s - loss: 2.7757 - accuracy: 0.3684 - 17ms/epoch - 17ms/step\n",
      "Epoch 18/200\n",
      "1/1 - 0s - loss: 2.7557 - accuracy: 0.3684 - 14ms/epoch - 14ms/step\n",
      "Epoch 19/200\n",
      "1/1 - 0s - loss: 2.7349 - accuracy: 0.3158 - 16ms/epoch - 16ms/step\n",
      "Epoch 20/200\n",
      "1/1 - 0s - loss: 2.7132 - accuracy: 0.3158 - 15ms/epoch - 15ms/step\n",
      "Epoch 21/200\n",
      "1/1 - 0s - loss: 2.6909 - accuracy: 0.3158 - 19ms/epoch - 19ms/step\n",
      "Epoch 22/200\n",
      "1/1 - 0s - loss: 2.6679 - accuracy: 0.3158 - 18ms/epoch - 18ms/step\n",
      "Epoch 23/200\n",
      "1/1 - 0s - loss: 2.6443 - accuracy: 0.3158 - 19ms/epoch - 19ms/step\n",
      "Epoch 24/200\n",
      "1/1 - 0s - loss: 2.6204 - accuracy: 0.3158 - 16ms/epoch - 16ms/step\n",
      "Epoch 25/200\n",
      "1/1 - 0s - loss: 2.5961 - accuracy: 0.3158 - 17ms/epoch - 17ms/step\n",
      "Epoch 26/200\n",
      "1/1 - 0s - loss: 2.5716 - accuracy: 0.3158 - 16ms/epoch - 16ms/step\n",
      "Epoch 27/200\n",
      "1/1 - 0s - loss: 2.5471 - accuracy: 0.3158 - 16ms/epoch - 16ms/step\n",
      "Epoch 28/200\n",
      "1/1 - 0s - loss: 2.5228 - accuracy: 0.3158 - 17ms/epoch - 17ms/step\n",
      "Epoch 29/200\n",
      "1/1 - 0s - loss: 2.4986 - accuracy: 0.3158 - 15ms/epoch - 15ms/step\n",
      "Epoch 30/200\n",
      "1/1 - 0s - loss: 2.4749 - accuracy: 0.3158 - 15ms/epoch - 15ms/step\n",
      "Epoch 31/200\n",
      "1/1 - 0s - loss: 2.4516 - accuracy: 0.3158 - 17ms/epoch - 17ms/step\n",
      "Epoch 32/200\n",
      "1/1 - 0s - loss: 2.4289 - accuracy: 0.3158 - 16ms/epoch - 16ms/step\n",
      "Epoch 33/200\n",
      "1/1 - 0s - loss: 2.4067 - accuracy: 0.3158 - 16ms/epoch - 16ms/step\n",
      "Epoch 34/200\n",
      "1/1 - 0s - loss: 2.3853 - accuracy: 0.3158 - 14ms/epoch - 14ms/step\n",
      "Epoch 35/200\n",
      "1/1 - 0s - loss: 2.3645 - accuracy: 0.3158 - 14ms/epoch - 14ms/step\n",
      "Epoch 36/200\n",
      "1/1 - 0s - loss: 2.3445 - accuracy: 0.3158 - 15ms/epoch - 15ms/step\n",
      "Epoch 37/200\n",
      "1/1 - 0s - loss: 2.3251 - accuracy: 0.3158 - 15ms/epoch - 15ms/step\n",
      "Epoch 38/200\n",
      "1/1 - 0s - loss: 2.3065 - accuracy: 0.3158 - 15ms/epoch - 15ms/step\n",
      "Epoch 39/200\n",
      "1/1 - 0s - loss: 2.2884 - accuracy: 0.3158 - 14ms/epoch - 14ms/step\n",
      "Epoch 40/200\n",
      "1/1 - 0s - loss: 2.2708 - accuracy: 0.3158 - 13ms/epoch - 13ms/step\n",
      "Epoch 41/200\n",
      "1/1 - 0s - loss: 2.2537 - accuracy: 0.3158 - 16ms/epoch - 16ms/step\n",
      "Epoch 42/200\n",
      "1/1 - 0s - loss: 2.2368 - accuracy: 0.3684 - 17ms/epoch - 17ms/step\n",
      "Epoch 43/200\n",
      "1/1 - 0s - loss: 2.2202 - accuracy: 0.3684 - 19ms/epoch - 19ms/step\n",
      "Epoch 44/200\n",
      "1/1 - 0s - loss: 2.2037 - accuracy: 0.3684 - 13ms/epoch - 13ms/step\n",
      "Epoch 45/200\n",
      "1/1 - 0s - loss: 2.1873 - accuracy: 0.3684 - 18ms/epoch - 18ms/step\n",
      "Epoch 46/200\n",
      "1/1 - 0s - loss: 2.1708 - accuracy: 0.3684 - 14ms/epoch - 14ms/step\n",
      "Epoch 47/200\n",
      "1/1 - 0s - loss: 2.1543 - accuracy: 0.3684 - 16ms/epoch - 16ms/step\n",
      "Epoch 48/200\n",
      "1/1 - 0s - loss: 2.1376 - accuracy: 0.3684 - 14ms/epoch - 14ms/step\n",
      "Epoch 49/200\n",
      "1/1 - 0s - loss: 2.1207 - accuracy: 0.3684 - 17ms/epoch - 17ms/step\n",
      "Epoch 50/200\n",
      "1/1 - 0s - loss: 2.1037 - accuracy: 0.3684 - 14ms/epoch - 14ms/step\n",
      "Epoch 51/200\n",
      "1/1 - 0s - loss: 2.0864 - accuracy: 0.3684 - 15ms/epoch - 15ms/step\n",
      "Epoch 52/200\n",
      "1/1 - 0s - loss: 2.0689 - accuracy: 0.3684 - 17ms/epoch - 17ms/step\n",
      "Epoch 53/200\n",
      "1/1 - 0s - loss: 2.0511 - accuracy: 0.3684 - 14ms/epoch - 14ms/step\n",
      "Epoch 54/200\n",
      "1/1 - 0s - loss: 2.0330 - accuracy: 0.3684 - 14ms/epoch - 14ms/step\n",
      "Epoch 55/200\n",
      "1/1 - 0s - loss: 2.0147 - accuracy: 0.3684 - 15ms/epoch - 15ms/step\n",
      "Epoch 56/200\n",
      "1/1 - 0s - loss: 1.9961 - accuracy: 0.3684 - 15ms/epoch - 15ms/step\n",
      "Epoch 57/200\n",
      "1/1 - 0s - loss: 1.9773 - accuracy: 0.3684 - 18ms/epoch - 18ms/step\n",
      "Epoch 58/200\n",
      "1/1 - 0s - loss: 1.9583 - accuracy: 0.3684 - 18ms/epoch - 18ms/step\n",
      "Epoch 59/200\n",
      "1/1 - 0s - loss: 1.9391 - accuracy: 0.3684 - 18ms/epoch - 18ms/step\n",
      "Epoch 60/200\n",
      "1/1 - 0s - loss: 1.9197 - accuracy: 0.3684 - 16ms/epoch - 16ms/step\n",
      "Epoch 61/200\n",
      "1/1 - 0s - loss: 1.9002 - accuracy: 0.4211 - 18ms/epoch - 18ms/step\n",
      "Epoch 62/200\n",
      "1/1 - 0s - loss: 1.8806 - accuracy: 0.4211 - 17ms/epoch - 17ms/step\n",
      "Epoch 63/200\n",
      "1/1 - 0s - loss: 1.8609 - accuracy: 0.4211 - 17ms/epoch - 17ms/step\n",
      "Epoch 64/200\n",
      "1/1 - 0s - loss: 1.8411 - accuracy: 0.4737 - 18ms/epoch - 18ms/step\n",
      "Epoch 65/200\n",
      "1/1 - 0s - loss: 1.8213 - accuracy: 0.4737 - 15ms/epoch - 15ms/step\n",
      "Epoch 66/200\n",
      "1/1 - 0s - loss: 1.8014 - accuracy: 0.4737 - 14ms/epoch - 14ms/step\n",
      "Epoch 67/200\n",
      "1/1 - 0s - loss: 1.7814 - accuracy: 0.5263 - 16ms/epoch - 16ms/step\n",
      "Epoch 68/200\n",
      "1/1 - 0s - loss: 1.7615 - accuracy: 0.5263 - 14ms/epoch - 14ms/step\n",
      "Epoch 69/200\n",
      "1/1 - 0s - loss: 1.7414 - accuracy: 0.5263 - 16ms/epoch - 16ms/step\n",
      "Epoch 70/200\n",
      "1/1 - 0s - loss: 1.7214 - accuracy: 0.5263 - 15ms/epoch - 15ms/step\n",
      "Epoch 71/200\n",
      "1/1 - 0s - loss: 1.7013 - accuracy: 0.5263 - 14ms/epoch - 14ms/step\n",
      "Epoch 72/200\n",
      "1/1 - 0s - loss: 1.6812 - accuracy: 0.5263 - 15ms/epoch - 15ms/step\n",
      "Epoch 73/200\n",
      "1/1 - 0s - loss: 1.6612 - accuracy: 0.5263 - 16ms/epoch - 16ms/step\n",
      "Epoch 74/200\n",
      "1/1 - 0s - loss: 1.6411 - accuracy: 0.5263 - 15ms/epoch - 15ms/step\n",
      "Epoch 75/200\n",
      "1/1 - 0s - loss: 1.6211 - accuracy: 0.5789 - 15ms/epoch - 15ms/step\n",
      "Epoch 76/200\n",
      "1/1 - 0s - loss: 1.6011 - accuracy: 0.5789 - 20ms/epoch - 20ms/step\n",
      "Epoch 77/200\n",
      "1/1 - 0s - loss: 1.5811 - accuracy: 0.5789 - 17ms/epoch - 17ms/step\n",
      "Epoch 78/200\n",
      "1/1 - 0s - loss: 1.5612 - accuracy: 0.5789 - 15ms/epoch - 15ms/step\n",
      "Epoch 79/200\n",
      "1/1 - 0s - loss: 1.5414 - accuracy: 0.5789 - 15ms/epoch - 15ms/step\n",
      "Epoch 80/200\n",
      "1/1 - 0s - loss: 1.5217 - accuracy: 0.6316 - 18ms/epoch - 18ms/step\n",
      "Epoch 81/200\n",
      "1/1 - 0s - loss: 1.5020 - accuracy: 0.6316 - 15ms/epoch - 15ms/step\n",
      "Epoch 82/200\n",
      "1/1 - 0s - loss: 1.4825 - accuracy: 0.6316 - 15ms/epoch - 15ms/step\n",
      "Epoch 83/200\n",
      "1/1 - 0s - loss: 1.4631 - accuracy: 0.6316 - 17ms/epoch - 17ms/step\n",
      "Epoch 84/200\n",
      "1/1 - 0s - loss: 1.4438 - accuracy: 0.6316 - 15ms/epoch - 15ms/step\n",
      "Epoch 85/200\n",
      "1/1 - 0s - loss: 1.4247 - accuracy: 0.6316 - 15ms/epoch - 15ms/step\n",
      "Epoch 86/200\n",
      "1/1 - 0s - loss: 1.4057 - accuracy: 0.6316 - 15ms/epoch - 15ms/step\n",
      "Epoch 87/200\n",
      "1/1 - 0s - loss: 1.3869 - accuracy: 0.6316 - 15ms/epoch - 15ms/step\n",
      "Epoch 88/200\n",
      "1/1 - 0s - loss: 1.3683 - accuracy: 0.6316 - 14ms/epoch - 14ms/step\n",
      "Epoch 89/200\n",
      "1/1 - 0s - loss: 1.3498 - accuracy: 0.6316 - 15ms/epoch - 15ms/step\n",
      "Epoch 90/200\n",
      "1/1 - 0s - loss: 1.3315 - accuracy: 0.6316 - 18ms/epoch - 18ms/step\n",
      "Epoch 91/200\n",
      "1/1 - 0s - loss: 1.3134 - accuracy: 0.6842 - 15ms/epoch - 15ms/step\n",
      "Epoch 92/200\n",
      "1/1 - 0s - loss: 1.2955 - accuracy: 0.6842 - 19ms/epoch - 19ms/step\n",
      "Epoch 93/200\n",
      "1/1 - 0s - loss: 1.2777 - accuracy: 0.6842 - 15ms/epoch - 15ms/step\n",
      "Epoch 94/200\n",
      "1/1 - 0s - loss: 1.2602 - accuracy: 0.6842 - 18ms/epoch - 18ms/step\n",
      "Epoch 95/200\n",
      "1/1 - 0s - loss: 1.2429 - accuracy: 0.6842 - 15ms/epoch - 15ms/step\n",
      "Epoch 96/200\n",
      "1/1 - 0s - loss: 1.2258 - accuracy: 0.6842 - 16ms/epoch - 16ms/step\n",
      "Epoch 97/200\n",
      "1/1 - 0s - loss: 1.2089 - accuracy: 0.6842 - 18ms/epoch - 18ms/step\n",
      "Epoch 98/200\n",
      "1/1 - 0s - loss: 1.1922 - accuracy: 0.6842 - 16ms/epoch - 16ms/step\n",
      "Epoch 99/200\n",
      "1/1 - 0s - loss: 1.1758 - accuracy: 0.6842 - 17ms/epoch - 17ms/step\n",
      "Epoch 100/200\n",
      "1/1 - 0s - loss: 1.1595 - accuracy: 0.6842 - 16ms/epoch - 16ms/step\n",
      "Epoch 101/200\n",
      "1/1 - 0s - loss: 1.1435 - accuracy: 0.6842 - 16ms/epoch - 16ms/step\n",
      "Epoch 102/200\n",
      "1/1 - 0s - loss: 1.1277 - accuracy: 0.6842 - 18ms/epoch - 18ms/step\n",
      "Epoch 103/200\n",
      "1/1 - 0s - loss: 1.1122 - accuracy: 0.6842 - 13ms/epoch - 13ms/step\n",
      "Epoch 104/200\n",
      "1/1 - 0s - loss: 1.0969 - accuracy: 0.6842 - 13ms/epoch - 13ms/step\n",
      "Epoch 105/200\n",
      "1/1 - 0s - loss: 1.0818 - accuracy: 0.6842 - 14ms/epoch - 14ms/step\n",
      "Epoch 106/200\n",
      "1/1 - 0s - loss: 1.0669 - accuracy: 0.6842 - 18ms/epoch - 18ms/step\n",
      "Epoch 107/200\n",
      "1/1 - 0s - loss: 1.0523 - accuracy: 0.6842 - 16ms/epoch - 16ms/step\n",
      "Epoch 108/200\n",
      "1/1 - 0s - loss: 1.0379 - accuracy: 0.6842 - 17ms/epoch - 17ms/step\n",
      "Epoch 109/200\n",
      "1/1 - 0s - loss: 1.0237 - accuracy: 0.6842 - 51ms/epoch - 51ms/step\n",
      "Epoch 110/200\n",
      "1/1 - 0s - loss: 1.0098 - accuracy: 0.6842 - 14ms/epoch - 14ms/step\n",
      "Epoch 111/200\n",
      "1/1 - 0s - loss: 0.9960 - accuracy: 0.7368 - 24ms/epoch - 24ms/step\n",
      "Epoch 112/200\n",
      "1/1 - 0s - loss: 0.9825 - accuracy: 0.7368 - 17ms/epoch - 17ms/step\n",
      "Epoch 113/200\n",
      "1/1 - 0s - loss: 0.9692 - accuracy: 0.7895 - 14ms/epoch - 14ms/step\n",
      "Epoch 114/200\n",
      "1/1 - 0s - loss: 0.9562 - accuracy: 0.7895 - 16ms/epoch - 16ms/step\n",
      "Epoch 115/200\n",
      "1/1 - 0s - loss: 0.9433 - accuracy: 0.7895 - 16ms/epoch - 16ms/step\n",
      "Epoch 116/200\n",
      "1/1 - 0s - loss: 0.9306 - accuracy: 0.7895 - 18ms/epoch - 18ms/step\n",
      "Epoch 117/200\n",
      "1/1 - 0s - loss: 0.9181 - accuracy: 0.7895 - 16ms/epoch - 16ms/step\n",
      "Epoch 118/200\n",
      "1/1 - 0s - loss: 0.9059 - accuracy: 0.7895 - 14ms/epoch - 14ms/step\n",
      "Epoch 119/200\n",
      "1/1 - 0s - loss: 0.8938 - accuracy: 0.7895 - 16ms/epoch - 16ms/step\n",
      "Epoch 120/200\n",
      "1/1 - 0s - loss: 0.8819 - accuracy: 0.7895 - 14ms/epoch - 14ms/step\n",
      "Epoch 121/200\n",
      "1/1 - 0s - loss: 0.8702 - accuracy: 0.7895 - 15ms/epoch - 15ms/step\n",
      "Epoch 122/200\n",
      "1/1 - 0s - loss: 0.8586 - accuracy: 0.7895 - 16ms/epoch - 16ms/step\n",
      "Epoch 123/200\n",
      "1/1 - 0s - loss: 0.8473 - accuracy: 0.7895 - 15ms/epoch - 15ms/step\n",
      "Epoch 124/200\n",
      "1/1 - 0s - loss: 0.8361 - accuracy: 0.7895 - 16ms/epoch - 16ms/step\n",
      "Epoch 125/200\n",
      "1/1 - 0s - loss: 0.8251 - accuracy: 0.7895 - 17ms/epoch - 17ms/step\n",
      "Epoch 126/200\n",
      "1/1 - 0s - loss: 0.8142 - accuracy: 0.7895 - 15ms/epoch - 15ms/step\n",
      "Epoch 127/200\n",
      "1/1 - 0s - loss: 0.8036 - accuracy: 0.7895 - 15ms/epoch - 15ms/step\n",
      "Epoch 128/200\n",
      "1/1 - 0s - loss: 0.7930 - accuracy: 0.7895 - 15ms/epoch - 15ms/step\n",
      "Epoch 129/200\n",
      "1/1 - 0s - loss: 0.7826 - accuracy: 0.7895 - 15ms/epoch - 15ms/step\n",
      "Epoch 130/200\n",
      "1/1 - 0s - loss: 0.7724 - accuracy: 0.8421 - 14ms/epoch - 14ms/step\n",
      "Epoch 131/200\n",
      "1/1 - 0s - loss: 0.7623 - accuracy: 0.8421 - 17ms/epoch - 17ms/step\n",
      "Epoch 132/200\n",
      "1/1 - 0s - loss: 0.7524 - accuracy: 0.8421 - 15ms/epoch - 15ms/step\n",
      "Epoch 133/200\n",
      "1/1 - 0s - loss: 0.7426 - accuracy: 0.8421 - 15ms/epoch - 15ms/step\n",
      "Epoch 134/200\n",
      "1/1 - 0s - loss: 0.7329 - accuracy: 0.8421 - 14ms/epoch - 14ms/step\n",
      "Epoch 135/200\n",
      "1/1 - 0s - loss: 0.7234 - accuracy: 0.8421 - 15ms/epoch - 15ms/step\n",
      "Epoch 136/200\n",
      "1/1 - 0s - loss: 0.7140 - accuracy: 0.8421 - 16ms/epoch - 16ms/step\n",
      "Epoch 137/200\n",
      "1/1 - 0s - loss: 0.7047 - accuracy: 0.8421 - 15ms/epoch - 15ms/step\n",
      "Epoch 138/200\n",
      "1/1 - 0s - loss: 0.6956 - accuracy: 0.8421 - 14ms/epoch - 14ms/step\n",
      "Epoch 139/200\n",
      "1/1 - 0s - loss: 0.6866 - accuracy: 0.8421 - 16ms/epoch - 16ms/step\n",
      "Epoch 140/200\n",
      "1/1 - 0s - loss: 0.6777 - accuracy: 0.8421 - 17ms/epoch - 17ms/step\n",
      "Epoch 141/200\n",
      "1/1 - 0s - loss: 0.6689 - accuracy: 0.8421 - 15ms/epoch - 15ms/step\n",
      "Epoch 142/200\n",
      "1/1 - 0s - loss: 0.6603 - accuracy: 0.8421 - 13ms/epoch - 13ms/step\n",
      "Epoch 143/200\n",
      "1/1 - 0s - loss: 0.6518 - accuracy: 0.8421 - 14ms/epoch - 14ms/step\n",
      "Epoch 144/200\n",
      "1/1 - 0s - loss: 0.6433 - accuracy: 0.8421 - 15ms/epoch - 15ms/step\n",
      "Epoch 145/200\n",
      "1/1 - 0s - loss: 0.6350 - accuracy: 0.8421 - 14ms/epoch - 14ms/step\n",
      "Epoch 146/200\n",
      "1/1 - 0s - loss: 0.6268 - accuracy: 0.8421 - 15ms/epoch - 15ms/step\n",
      "Epoch 147/200\n",
      "1/1 - 0s - loss: 0.6188 - accuracy: 0.8421 - 14ms/epoch - 14ms/step\n",
      "Epoch 148/200\n",
      "1/1 - 0s - loss: 0.6108 - accuracy: 0.8421 - 14ms/epoch - 14ms/step\n",
      "Epoch 149/200\n",
      "1/1 - 0s - loss: 0.6029 - accuracy: 0.8421 - 16ms/epoch - 16ms/step\n",
      "Epoch 150/200\n",
      "1/1 - 0s - loss: 0.5952 - accuracy: 0.8947 - 14ms/epoch - 14ms/step\n",
      "Epoch 151/200\n",
      "1/1 - 0s - loss: 0.5875 - accuracy: 0.8947 - 15ms/epoch - 15ms/step\n",
      "Epoch 152/200\n",
      "1/1 - 0s - loss: 0.5800 - accuracy: 0.8947 - 16ms/epoch - 16ms/step\n",
      "Epoch 153/200\n",
      "1/1 - 0s - loss: 0.5725 - accuracy: 0.8947 - 15ms/epoch - 15ms/step\n",
      "Epoch 154/200\n",
      "1/1 - 0s - loss: 0.5652 - accuracy: 0.8947 - 14ms/epoch - 14ms/step\n",
      "Epoch 155/200\n",
      "1/1 - 0s - loss: 0.5580 - accuracy: 0.9474 - 15ms/epoch - 15ms/step\n",
      "Epoch 156/200\n",
      "1/1 - 0s - loss: 0.5508 - accuracy: 0.9474 - 15ms/epoch - 15ms/step\n",
      "Epoch 157/200\n",
      "1/1 - 0s - loss: 0.5438 - accuracy: 0.9474 - 14ms/epoch - 14ms/step\n",
      "Epoch 158/200\n",
      "1/1 - 0s - loss: 0.5368 - accuracy: 0.9474 - 14ms/epoch - 14ms/step\n",
      "Epoch 159/200\n",
      "1/1 - 0s - loss: 0.5300 - accuracy: 0.9474 - 14ms/epoch - 14ms/step\n",
      "Epoch 160/200\n",
      "1/1 - 0s - loss: 0.5232 - accuracy: 0.9474 - 14ms/epoch - 14ms/step\n",
      "Epoch 161/200\n",
      "1/1 - 0s - loss: 0.5165 - accuracy: 0.9474 - 14ms/epoch - 14ms/step\n",
      "Epoch 162/200\n",
      "1/1 - 0s - loss: 0.5099 - accuracy: 0.9474 - 15ms/epoch - 15ms/step\n",
      "Epoch 163/200\n",
      "1/1 - 0s - loss: 0.5034 - accuracy: 0.9474 - 16ms/epoch - 16ms/step\n",
      "Epoch 164/200\n",
      "1/1 - 0s - loss: 0.4970 - accuracy: 0.9474 - 14ms/epoch - 14ms/step\n",
      "Epoch 165/200\n",
      "1/1 - 0s - loss: 0.4907 - accuracy: 1.0000 - 14ms/epoch - 14ms/step\n",
      "Epoch 166/200\n",
      "1/1 - 0s - loss: 0.4845 - accuracy: 1.0000 - 18ms/epoch - 18ms/step\n",
      "Epoch 167/200\n",
      "1/1 - 0s - loss: 0.4783 - accuracy: 1.0000 - 17ms/epoch - 17ms/step\n",
      "Epoch 168/200\n",
      "1/1 - 0s - loss: 0.4723 - accuracy: 1.0000 - 16ms/epoch - 16ms/step\n",
      "Epoch 169/200\n",
      "1/1 - 0s - loss: 0.4663 - accuracy: 1.0000 - 16ms/epoch - 16ms/step\n",
      "Epoch 170/200\n",
      "1/1 - 0s - loss: 0.4604 - accuracy: 1.0000 - 19ms/epoch - 19ms/step\n",
      "Epoch 171/200\n",
      "1/1 - 0s - loss: 0.4545 - accuracy: 1.0000 - 17ms/epoch - 17ms/step\n",
      "Epoch 172/200\n",
      "1/1 - 0s - loss: 0.4488 - accuracy: 1.0000 - 16ms/epoch - 16ms/step\n",
      "Epoch 173/200\n",
      "1/1 - 0s - loss: 0.4431 - accuracy: 1.0000 - 15ms/epoch - 15ms/step\n",
      "Epoch 174/200\n",
      "1/1 - 0s - loss: 0.4375 - accuracy: 1.0000 - 17ms/epoch - 17ms/step\n",
      "Epoch 175/200\n",
      "1/1 - 0s - loss: 0.4320 - accuracy: 1.0000 - 14ms/epoch - 14ms/step\n",
      "Epoch 176/200\n",
      "1/1 - 0s - loss: 0.4265 - accuracy: 1.0000 - 16ms/epoch - 16ms/step\n",
      "Epoch 177/200\n",
      "1/1 - 0s - loss: 0.4212 - accuracy: 1.0000 - 17ms/epoch - 17ms/step\n",
      "Epoch 178/200\n",
      "1/1 - 0s - loss: 0.4158 - accuracy: 1.0000 - 16ms/epoch - 16ms/step\n",
      "Epoch 179/200\n",
      "1/1 - 0s - loss: 0.4106 - accuracy: 1.0000 - 17ms/epoch - 17ms/step\n",
      "Epoch 180/200\n",
      "1/1 - 0s - loss: 0.4054 - accuracy: 1.0000 - 16ms/epoch - 16ms/step\n",
      "Epoch 181/200\n",
      "1/1 - 0s - loss: 0.4003 - accuracy: 1.0000 - 17ms/epoch - 17ms/step\n",
      "Epoch 182/200\n",
      "1/1 - 0s - loss: 0.3953 - accuracy: 1.0000 - 16ms/epoch - 16ms/step\n",
      "Epoch 183/200\n",
      "1/1 - 0s - loss: 0.3903 - accuracy: 1.0000 - 18ms/epoch - 18ms/step\n",
      "Epoch 184/200\n",
      "1/1 - 0s - loss: 0.3854 - accuracy: 1.0000 - 19ms/epoch - 19ms/step\n",
      "Epoch 185/200\n",
      "1/1 - 0s - loss: 0.3806 - accuracy: 1.0000 - 18ms/epoch - 18ms/step\n",
      "Epoch 186/200\n",
      "1/1 - 0s - loss: 0.3758 - accuracy: 1.0000 - 17ms/epoch - 17ms/step\n",
      "Epoch 187/200\n",
      "1/1 - 0s - loss: 0.3711 - accuracy: 1.0000 - 15ms/epoch - 15ms/step\n",
      "Epoch 188/200\n",
      "1/1 - 0s - loss: 0.3664 - accuracy: 1.0000 - 17ms/epoch - 17ms/step\n",
      "Epoch 189/200\n",
      "1/1 - 0s - loss: 0.3618 - accuracy: 1.0000 - 17ms/epoch - 17ms/step\n",
      "Epoch 190/200\n",
      "1/1 - 0s - loss: 0.3573 - accuracy: 1.0000 - 14ms/epoch - 14ms/step\n",
      "Epoch 191/200\n",
      "1/1 - 0s - loss: 0.3528 - accuracy: 1.0000 - 14ms/epoch - 14ms/step\n",
      "Epoch 192/200\n",
      "1/1 - 0s - loss: 0.3484 - accuracy: 1.0000 - 16ms/epoch - 16ms/step\n",
      "Epoch 193/200\n",
      "1/1 - 0s - loss: 0.3440 - accuracy: 1.0000 - 16ms/epoch - 16ms/step\n",
      "Epoch 194/200\n",
      "1/1 - 0s - loss: 0.3397 - accuracy: 1.0000 - 18ms/epoch - 18ms/step\n",
      "Epoch 195/200\n",
      "1/1 - 0s - loss: 0.3354 - accuracy: 1.0000 - 15ms/epoch - 15ms/step\n",
      "Epoch 196/200\n",
      "1/1 - 0s - loss: 0.3312 - accuracy: 1.0000 - 14ms/epoch - 14ms/step\n",
      "Epoch 197/200\n",
      "1/1 - 0s - loss: 0.3270 - accuracy: 1.0000 - 14ms/epoch - 14ms/step\n",
      "Epoch 198/200\n",
      "1/1 - 0s - loss: 0.3229 - accuracy: 1.0000 - 20ms/epoch - 20ms/step\n",
      "Epoch 199/200\n",
      "1/1 - 0s - loss: 0.3189 - accuracy: 1.0000 - 18ms/epoch - 18ms/step\n",
      "Epoch 200/200\n",
      "1/1 - 0s - loss: 0.3148 - accuracy: 1.0000 - 16ms/epoch - 16ms/step\n"
     ]
    },
    {
     "data": {
      "text/plain": [
       "<keras.callbacks.History at 0x193b4c5e700>"
      ]
     },
     "execution_count": 18,
     "metadata": {},
     "output_type": "execute_result"
    }
   ],
   "source": [
    "model.fit(X, y, epochs=200, verbose=2)"
   ]
  },
  {
   "cell_type": "code",
   "execution_count": 19,
   "metadata": {},
   "outputs": [],
   "source": [
    "# 모델, 토크나이저, 현재 단어, 반복할 횟수\n",
    "def sentence_generation(model, t, current_word, n):\n",
    "    init_word=current_word # 처음 들어온 단어도 마지막에 같이 출력하기 위해 저장\n",
    "    sentence=''\n",
    "    for _ in range(n): # n번 반복\n",
    "        # 현재 단어에 대한 정수 인코딩\n",
    "        encoded=t.texts_to_sequences([current_word])[0]\n",
    "        encoded=pad_sequences([encoded], maxlen=max_len-1, padding='pre') # 데이터에 대한 패딩\n",
    "        # 입력한 X(현재 단어)에 대해서 y를 예측하고 y(예측한 단어)를 result에 저장\n",
    "        pred=model.predict(encoded)\n",
    "        result=np.argmax(pred,axis=1)\n",
    "        for word, index in t.word_index.items():\n",
    "            # 만약 예측한 단어와 인덱스와 동일한 단어가 있다면\n",
    "            if index==result:\n",
    "                break # 해당 단어가 예측단어이므로 break\n",
    "        # 현재 단어 + ' ' + 예측 단어를 현재 단어로 변경\n",
    "        current_word=current_word+' '+word\n",
    "        sentence=sentence+' '+word # 예측 단어를 문장에 저장\n",
    "    \n",
    "    sentence=init_word+sentence\n",
    "    return sentence"
   ]
  },
  {
   "cell_type": "code",
   "execution_count": 20,
   "metadata": {},
   "outputs": [
    {
     "name": "stdout",
     "output_type": "stream",
     "text": [
      "경마장에 있는 말이 뛰고 있다\n"
     ]
    }
   ],
   "source": [
    "print(sentence_generation(model, t, '경마장에', 4))\n",
    "# '경마장에' 라는 단어 뒤에는 총 4개의 단어가 있으므로 4번 예측"
   ]
  },
  {
   "cell_type": "code",
   "execution_count": 21,
   "metadata": {},
   "outputs": [
    {
     "name": "stdout",
     "output_type": "stream",
     "text": [
      "그의 말이 법이다\n",
      "가는 말이 고와야 오는 말이 곱다\n",
      "그런 식으로 하면 말이 안된다\n",
      "새로 태어난 말이 배가 고프다\n"
     ]
    }
   ],
   "source": [
    "print(sentence_generation(model, t, '그의', 2)) # 2번 예측\n",
    "print(sentence_generation(model, t, '가는', 5)) # 5번 예측\n",
    "print(sentence_generation(model, t, '그런', 4)) # 4번 예측\n",
    "print(sentence_generation(model, t, '새로', 4)) # 4번 예측"
   ]
  }
 ],
 "metadata": {
  "interpreter": {
   "hash": "7b4b4feff2f24a0f0a34464dbe537a36fda679851528fb8735cb41fa49dffb2d"
  },
  "kernelspec": {
   "display_name": "Python 3.8.8 64-bit ('base': conda)",
   "language": "python",
   "name": "python3"
  },
  "language_info": {
   "codemirror_mode": {
    "name": "ipython",
    "version": 3
   },
   "file_extension": ".py",
   "mimetype": "text/x-python",
   "name": "python",
   "nbconvert_exporter": "python",
   "pygments_lexer": "ipython3",
   "version": "3.8.8"
  },
  "orig_nbformat": 4
 },
 "nbformat": 4,
 "nbformat_minor": 2
}
