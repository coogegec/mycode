{
 "cells": [
  {
   "cell_type": "code",
   "execution_count": 1,
   "metadata": {},
   "outputs": [
    {
     "name": "stdout",
     "output_type": "stream",
     "text": [
      "(25000,)\n",
      "(25000,)\n",
      "[1, 14, 22, 16, 43, 530, 973, 1622, 1385, 65, 458, 4468, 66, 3941, 4, 173, 36, 256, 5, 25, 100, 43, 838, 112, 50, 670, 2, 9, 35, 480, 284, 5, 150, 4, 172, 112, 167, 2, 336, 385, 39, 4, 172, 4536, 1111, 17, 546, 38, 13, 447, 4, 192, 50, 16, 6, 147, 2025, 19, 14, 22, 4, 1920, 4613, 469, 4, 22, 71, 87, 12, 16, 43, 530, 38, 76, 15, 13, 1247, 4, 22, 17, 515, 17, 12, 16, 626, 18, 2, 5, 62, 386, 12, 8, 316, 8, 106, 5, 4, 2223, 2, 16, 480, 66, 3785, 33, 4, 130, 12, 16, 38, 619, 5, 25, 124, 51, 36, 135, 48, 25, 1415, 33, 6, 22, 12, 215, 28, 77, 52, 5, 14, 407, 16, 82, 2, 8, 4, 107, 117, 2, 15, 256, 4, 2, 7, 3766, 5, 723, 36, 71, 43, 530, 476, 26, 400, 317, 46, 7, 4, 2, 1029, 13, 104, 88, 4, 381, 15, 297, 98, 32, 2071, 56, 26, 141, 6, 194, 2, 18, 4, 226, 22, 21, 134, 476, 26, 480, 5, 144, 30, 2, 18, 51, 36, 28, 224, 92, 25, 104, 4, 226, 65, 16, 38, 1334, 88, 12, 16, 283, 5, 16, 4472, 113, 103, 32, 15, 16, 2, 19, 178, 32]\n",
      "(25000, 500)\n",
      "(25000, 500)\n",
      "[   0    0    0    0    0    0    0    0    0    0    0    0    0    0\n",
      "    0    0    0    0    0    0    0    0    0    0    0    0    0    0\n",
      "    0    0    0    0    0    0    0    0    0    0    0    0    0    0\n",
      "    0    0    0    0    0    0    0    0    0    0    0    0    0    0\n",
      "    0    0    0    0    0    0    0    0    0    0    0    0    0    0\n",
      "    0    0    0    0    0    0    0    0    0    0    0    0    0    0\n",
      "    0    0    0    0    0    0    0    0    0    0    0    0    0    0\n",
      "    0    0    0    0    0    0    0    0    0    0    0    0    0    0\n",
      "    0    0    0    0    0    0    0    0    0    0    0    0    0    0\n",
      "    0    0    0    0    0    0    0    0    0    0    0    0    0    0\n",
      "    0    0    0    0    0    0    0    0    0    0    0    0    0    0\n",
      "    0    0    0    0    0    0    0    0    0    0    0    0    0    0\n",
      "    0    0    0    0    0    0    0    0    0    0    0    0    0    0\n",
      "    0    0    0    0    0    0    0    0    0    0    0    0    0    0\n",
      "    0    0    0    0    0    0    0    0    0    0    0    0    0    0\n",
      "    0    0    0    0    0    0    0    0    0    0    0    0    0    0\n",
      "    0    0    0    0    0    0    0    0    0    0    0    0    0    0\n",
      "    0    0    0    0    0    0    0    0    0    0    0    0    0    0\n",
      "    0    0    0    0    0    0    0    0    0    0    0    0    0    0\n",
      "    0    0    0    0    0    0    0    0    0    0    0    0    0    0\n",
      "    0    0    1   14   22   16   43  530  973 1622 1385   65  458 4468\n",
      "   66 3941    4  173   36  256    5   25  100   43  838  112   50  670\n",
      "    2    9   35  480  284    5  150    4  172  112  167    2  336  385\n",
      "   39    4  172 4536 1111   17  546   38   13  447    4  192   50   16\n",
      "    6  147 2025   19   14   22    4 1920 4613  469    4   22   71   87\n",
      "   12   16   43  530   38   76   15   13 1247    4   22   17  515   17\n",
      "   12   16  626   18    2    5   62  386   12    8  316    8  106    5\n",
      "    4 2223    2   16  480   66 3785   33    4  130   12   16   38  619\n",
      "    5   25  124   51   36  135   48   25 1415   33    6   22   12  215\n",
      "   28   77   52    5   14  407   16   82    2    8    4  107  117    2\n",
      "   15  256    4    2    7 3766    5  723   36   71   43  530  476   26\n",
      "  400  317   46    7    4    2 1029   13  104   88    4  381   15  297\n",
      "   98   32 2071   56   26  141    6  194    2   18    4  226   22   21\n",
      "  134  476   26  480    5  144   30    2   18   51   36   28  224   92\n",
      "   25  104    4  226   65   16   38 1334   88   12   16  283    5   16\n",
      " 4472  113  103   32   15   16    2   19  178   32]\n"
     ]
    }
   ],
   "source": [
    "# IMDB 데이터셋(케라스 내장 데이터셋, 숫자로 전처리 되어 있음, 17MB 정도의 데이터셋)\n",
    "# 영화 리뷰 50,000개의 데이터셋(학습용 25,000, 검증용 25,000, 각각 50%는 부정 50%는 긍정 리뷰르 구성)\n",
    "import numpy as np\n",
    "from tensorflow.keras.datasets import imdb\n",
    "from tensorflow.keras.preprocessing import sequence\n",
    "\n",
    "np.random.seed(7)\n",
    "\n",
    "top_words=5000 # 상위 단어 5000개\n",
    "(X_train, y_train), (X_test, y_test)=imdb.load_data(num_words=top_words) # 학습용, 검증용 5:5\n",
    "print(X_train.shape)\n",
    "print(X_test.shape)\n",
    "print(X_train[0])\n",
    "max_review_length=500 # 리뷰의 최대 길이를 500으로 설정\n",
    "# 길이가 짧으면 공백으로 채움\n",
    "X_train=sequence.pad_sequences(X_train, maxlen=max_review_length)\n",
    "X_test=sequence.pad_sequences(X_test, maxlen=max_review_length)\n",
    "print(X_train.shape)\n",
    "print(X_test.shape)\n",
    "print(X_train[0])"
   ]
  },
  {
   "cell_type": "code",
   "execution_count": 2,
   "metadata": {},
   "outputs": [
    {
     "name": "stdout",
     "output_type": "stream",
     "text": [
      "{'I': array([0.01530621], dtype=float32), 'am': array([0.01436014], dtype=float32), 'a': array([-0.0310688], dtype=float32), 'boy': array([-0.01288029], dtype=float32)}\n",
      "[-0.01288029]\n"
     ]
    }
   ],
   "source": [
    "# Embedding\n",
    "from tensorflow.keras.models import Sequential\n",
    "from keras.layers.embeddings import Embedding\n",
    "\n",
    "model=Sequential()\n",
    "words={'I':0, 'am':1, 'a':2, 'boy':3}\n",
    "# keras 신경망에 벡터를 입력하는 방법\n",
    "model.add(Embedding(5,1,input_length=1)) # Embedding(단어 개수, 벡터 크기, 입력 사이즈(최대 단어 개수))\n",
    "\n",
    "# 가중치 값\n",
    "embeddings=model.layers[0].get_weights()[0]\n",
    "words_embeddings={w:embeddings[idx] for w, idx in words.items()}\n",
    "print(words_embeddings)\n",
    "print(words_embeddings['boy'])"
   ]
  },
  {
   "cell_type": "code",
   "execution_count": 3,
   "metadata": {},
   "outputs": [],
   "source": [
    "from tensorflow.keras.models import Sequential\n",
    "from keras.layers.embeddings import Embedding\n",
    "from keras.layers import LSTM\n",
    "from keras.layers import Dense\n",
    "\n",
    "# create the model\n",
    "embedding_vector_length=32 # 벡터 사이즈\n",
    "model=Sequential()\n",
    "# 임베딩 레이어 Embedding(단어 개수, 벡터 크기, 입력 사이즈(최대 단어 개수))\n",
    "model.add(Embedding(top_words, embedding_vector_length, input_length=max_review_length))\n",
    "# 문장을 단어들의 시퀀스로 간주하고 순환 레이어의 입력으로\n",
    "model.add(LSTM(100)) # Long Short-Term Memory\n",
    "model.add(Dense(1, activation='sigmoid'))\n",
    "model.compile(loss='binary_crossentropy', optimizer='adam', metrics=['accuracy'])"
   ]
  },
  {
   "cell_type": "code",
   "execution_count": 8,
   "metadata": {},
   "outputs": [
    {
     "name": "stdout",
     "output_type": "stream",
     "text": [
      "Epoch 1/20\n",
      "16/16 [==============================] - 1s 60ms/step - loss: 2.3231e-04 - accuracy: 1.0000\n",
      "Epoch 2/20\n",
      "16/16 [==============================] - 1s 56ms/step - loss: 0.5412 - accuracy: 0.7580\n",
      "Epoch 3/20\n",
      "16/16 [==============================] - 1s 56ms/step - loss: 0.5304 - accuracy: 0.6920\n",
      "Epoch 4/20\n",
      "16/16 [==============================] - 1s 59ms/step - loss: 0.4214 - accuracy: 0.7590\n",
      "Epoch 5/20\n",
      "16/16 [==============================] - 1s 59ms/step - loss: 0.3059 - accuracy: 0.8920\n",
      "Epoch 6/20\n",
      "16/16 [==============================] - 1s 58ms/step - loss: 0.1977 - accuracy: 0.9520\n",
      "Epoch 7/20\n",
      "16/16 [==============================] - 1s 60ms/step - loss: 0.1309 - accuracy: 0.9770\n",
      "Epoch 8/20\n",
      "16/16 [==============================] - 1s 58ms/step - loss: 0.0586 - accuracy: 0.9970\n",
      "Epoch 9/20\n",
      "16/16 [==============================] - 1s 55ms/step - loss: 0.0310 - accuracy: 0.9950\n",
      "Epoch 10/20\n",
      "16/16 [==============================] - 1s 56ms/step - loss: 0.0182 - accuracy: 0.9990\n",
      "Epoch 11/20\n",
      "16/16 [==============================] - 1s 58ms/step - loss: 0.0102 - accuracy: 1.0000\n",
      "Epoch 12/20\n",
      "16/16 [==============================] - 1s 57ms/step - loss: 0.0070 - accuracy: 1.0000\n",
      "Epoch 13/20\n",
      "16/16 [==============================] - 1s 57ms/step - loss: 0.0052 - accuracy: 1.0000\n",
      "Epoch 14/20\n",
      "16/16 [==============================] - 1s 56ms/step - loss: 0.0040 - accuracy: 1.0000\n",
      "Epoch 15/20\n",
      "16/16 [==============================] - 1s 57ms/step - loss: 0.0033 - accuracy: 1.0000\n",
      "Epoch 16/20\n",
      "16/16 [==============================] - 1s 59ms/step - loss: 0.0026 - accuracy: 1.0000\n",
      "Epoch 17/20\n",
      "16/16 [==============================] - 1s 54ms/step - loss: 0.0022 - accuracy: 1.0000\n",
      "Epoch 18/20\n",
      "16/16 [==============================] - 1s 55ms/step - loss: 0.0019 - accuracy: 1.0000\n",
      "Epoch 19/20\n",
      "16/16 [==============================] - 1s 54ms/step - loss: 0.0017 - accuracy: 1.0000\n",
      "Epoch 20/20\n",
      "16/16 [==============================] - 1s 57ms/step - loss: 0.0015 - accuracy: 1.0000\n"
     ]
    }
   ],
   "source": [
    "hist=model.fit(X_train[:1000], y_train[:1000], epochs=20, batch_size=64)"
   ]
  },
  {
   "cell_type": "code",
   "execution_count": 9,
   "metadata": {},
   "outputs": [
    {
     "name": "stdout",
     "output_type": "stream",
     "text": [
      "32/32 [==============================] - 0s 13ms/step - loss: 0.0014 - accuracy: 1.0000\n",
      "Accuracy : 100.00\n",
      "32/32 [==============================] - 0s 14ms/step - loss: 0.9159 - accuracy: 0.7700\n",
      "Accuracy : 77.00\n"
     ]
    }
   ],
   "source": [
    "# Final evaluation of the model\n",
    "scores=model.evaluate(X_train[:1000], y_train[:1000], verbose=1)\n",
    "print(f'Accuracy : {scores[1]*100:.2f}')\n",
    "scores=model.evaluate(X_test[:1000], y_test[:1000], verbose=1)\n",
    "print(f'Accuracy : {scores[1]*100:.2f}')"
   ]
  },
  {
   "cell_type": "code",
   "execution_count": 10,
   "metadata": {},
   "outputs": [
    {
     "data": {
      "image/png": "[encoded data removed]",
      "text/plain": [
       "<Figure size 864x576 with 1 Axes>"
      ]
     },
     "metadata": {
      "needs_background": "light"
     },
     "output_type": "display_data"
    }
   ],
   "source": [
    "# 모델 학습 과정 표시\n",
    "import matplotlib.pyplot as plt\n",
    "\n",
    "plt.figure(figsize=(12,8))\n",
    "plt.plot(hist.history['loss']) # 손실\n",
    "plt.plot(hist.history['accuracy']) # 정확도\n",
    "plt.legend(['loss','accuracy'])\n",
    "plt.grid()\n",
    "plt.show()"
   ]
  }
 ],
 "metadata": {
  "interpreter": {
   "hash": "7b4b4feff2f24a0f0a34464dbe537a36fda679851528fb8735cb41fa49dffb2d"
  },
  "kernelspec": {
   "display_name": "Python 3.8.8 64-bit ('base': conda)",
   "language": "python",
   "name": "python3"
  },
  "language_info": {
   "codemirror_mode": {
    "name": "ipython",
    "version": 3
   },
   "file_extension": ".py",
   "mimetype": "text/x-python",
   "name": "python",
   "nbconvert_exporter": "python",
   "pygments_lexer": "ipython3",
   "version": "3.8.8"
  },
  "orig_nbformat": 4
 },
 "nbformat": 4,
 "nbformat_minor": 2
}
