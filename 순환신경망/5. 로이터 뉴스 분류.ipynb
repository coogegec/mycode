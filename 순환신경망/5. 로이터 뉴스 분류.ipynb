{
 "cells": [
  {
   "cell_type": "code",
   "execution_count": 1,
   "metadata": {},
   "outputs": [],
   "source": [
    "# 로이터 뉴스 데이터 로딩\n",
    "from tensorflow.keras.datasets import reuters\n",
    "(X_train, y_train), (X_test, y_test)=reuters.load_data(num_words=1000, test_split=0.2) # num_words : 사용할 상위 단어수"
   ]
  },
  {
   "cell_type": "code",
   "execution_count": 2,
   "metadata": {},
   "outputs": [],
   "source": [
    "from tensorflow.keras.preprocessing import sequence\n",
    "# 가장 긴 길이를 기준으로 사이즈를 맞추고 남는 부분을 0으로 채움\n",
    "X_train=sequence.pad_sequences(X_train, maxlen=100)\n",
    "X_test=sequence.pad_sequences(X_test, maxlen=100)"
   ]
  },
  {
   "cell_type": "code",
   "execution_count": 3,
   "metadata": {},
   "outputs": [],
   "source": [
    "from keras.utils import np_utils\n",
    "# 원핫인코딩\n",
    "y_train=np_utils.to_categorical(y_train)\n",
    "y_test=np_utils.to_categorical(y_test)"
   ]
  },
  {
   "cell_type": "code",
   "execution_count": 4,
   "metadata": {},
   "outputs": [],
   "source": [
    "from tensorflow.keras.models import Sequential\n",
    "from keras.layers import Dense, LSTM, Embedding\n",
    "\n",
    "model=Sequential()\n",
    "# 임베딩 레이어 Embedding(단어의 개수, 벡터 크기, 입력 사이즈)\n",
    "model.add(Embedding(1000,100)) # 1000개의 단어가 입력되어 100차원으로 출력\n",
    "# 문장을 단어들의 시퀀스로 간주하고 순환 레이어의 입력으로, 출력 노드수 100\n",
    "model.add(LSTM(100)) # Long Stort-Term Memory\n",
    "model.add(Dense(46, activation='softmax')) # 46개의 뉴스 카테고리\n",
    "\n",
    "model.compile(loss='categorical_crossentropy', optimizer='adam', metrics=['accuracy'])"
   ]
  },
  {
   "cell_type": "code",
   "execution_count": 5,
   "metadata": {},
   "outputs": [
    {
     "name": "stdout",
     "output_type": "stream",
     "text": [
      "Epoch 1/30\n",
      "72/72 [==============================] - 5s 34ms/step - loss: 2.6044 - accuracy: 0.3627 - val_loss: 2.1366 - val_accuracy: 0.4719\n",
      "Epoch 2/30\n",
      "72/72 [==============================] - 2s 27ms/step - loss: 2.0896 - accuracy: 0.4828 - val_loss: 2.0393 - val_accuracy: 0.4903\n",
      "Epoch 3/30\n",
      "72/72 [==============================] - 2s 26ms/step - loss: 2.0113 - accuracy: 0.4983 - val_loss: 1.9780 - val_accuracy: 0.4981\n",
      "Epoch 4/30\n",
      "72/72 [==============================] - 2s 29ms/step - loss: 1.9062 - accuracy: 0.5127 - val_loss: 1.7950 - val_accuracy: 0.5270\n",
      "Epoch 5/30\n",
      "72/72 [==============================] - 2s 29ms/step - loss: 1.7589 - accuracy: 0.5445 - val_loss: 1.7315 - val_accuracy: 0.5437\n",
      "Epoch 6/30\n",
      "72/72 [==============================] - 2s 28ms/step - loss: 2.0402 - accuracy: 0.5193 - val_loss: 1.9986 - val_accuracy: 0.5147\n",
      "Epoch 7/30\n",
      "72/72 [==============================] - 2s 27ms/step - loss: 2.0330 - accuracy: 0.4912 - val_loss: 1.9458 - val_accuracy: 0.5014\n",
      "Epoch 8/30\n",
      "72/72 [==============================] - 2s 27ms/step - loss: 1.9447 - accuracy: 0.5115 - val_loss: 1.8289 - val_accuracy: 0.5181\n",
      "Epoch 9/30\n",
      "72/72 [==============================] - 2s 28ms/step - loss: 1.7352 - accuracy: 0.5642 - val_loss: 1.6735 - val_accuracy: 0.5748\n",
      "Epoch 10/30\n",
      "72/72 [==============================] - 2s 25ms/step - loss: 1.6398 - accuracy: 0.5800 - val_loss: 1.6455 - val_accuracy: 0.5715\n",
      "Epoch 11/30\n",
      "72/72 [==============================] - 2s 27ms/step - loss: 1.5911 - accuracy: 0.5935 - val_loss: 1.5966 - val_accuracy: 0.5888\n",
      "Epoch 12/30\n",
      "72/72 [==============================] - 2s 26ms/step - loss: 1.5361 - accuracy: 0.6067 - val_loss: 1.5774 - val_accuracy: 0.5971\n",
      "Epoch 13/30\n",
      "72/72 [==============================] - 2s 26ms/step - loss: 1.4863 - accuracy: 0.6164 - val_loss: 1.5516 - val_accuracy: 0.6032\n",
      "Epoch 14/30\n",
      "72/72 [==============================] - 2s 25ms/step - loss: 1.4191 - accuracy: 0.6351 - val_loss: 1.5074 - val_accuracy: 0.6294\n",
      "Epoch 15/30\n",
      "72/72 [==============================] - 2s 26ms/step - loss: 1.3508 - accuracy: 0.6508 - val_loss: 1.4488 - val_accuracy: 0.6450\n",
      "Epoch 16/30\n",
      "72/72 [==============================] - 2s 27ms/step - loss: 1.2658 - accuracy: 0.6784 - val_loss: 1.3907 - val_accuracy: 0.6683\n",
      "Epoch 17/30\n",
      "72/72 [==============================] - 2s 27ms/step - loss: 1.1953 - accuracy: 0.6985 - val_loss: 1.3418 - val_accuracy: 0.6683\n",
      "Epoch 18/30\n",
      "72/72 [==============================] - 2s 26ms/step - loss: 1.1426 - accuracy: 0.7118 - val_loss: 1.3185 - val_accuracy: 0.6761\n",
      "Epoch 19/30\n",
      "72/72 [==============================] - 2s 26ms/step - loss: 1.1191 - accuracy: 0.7191 - val_loss: 1.3615 - val_accuracy: 0.6739\n",
      "Epoch 20/30\n",
      "72/72 [==============================] - 2s 27ms/step - loss: 1.0698 - accuracy: 0.7262 - val_loss: 1.2737 - val_accuracy: 0.6984\n",
      "Epoch 21/30\n",
      "72/72 [==============================] - 2s 28ms/step - loss: 1.0157 - accuracy: 0.7447 - val_loss: 1.2879 - val_accuracy: 0.6978\n",
      "Epoch 22/30\n",
      "72/72 [==============================] - 2s 28ms/step - loss: 0.9756 - accuracy: 0.7557 - val_loss: 1.2894 - val_accuracy: 0.6912\n",
      "Epoch 23/30\n",
      "72/72 [==============================] - 2s 27ms/step - loss: 0.9329 - accuracy: 0.7669 - val_loss: 1.2841 - val_accuracy: 0.7001\n",
      "Epoch 24/30\n",
      "72/72 [==============================] - 2s 26ms/step - loss: 0.9083 - accuracy: 0.7702 - val_loss: 1.2478 - val_accuracy: 0.7117\n",
      "Epoch 25/30\n",
      "72/72 [==============================] - 2s 26ms/step - loss: 0.8770 - accuracy: 0.7797 - val_loss: 1.3172 - val_accuracy: 0.6978\n",
      "Epoch 26/30\n",
      "72/72 [==============================] - 2s 25ms/step - loss: 0.8403 - accuracy: 0.7903 - val_loss: 1.2324 - val_accuracy: 0.7123\n",
      "Epoch 27/30\n",
      "72/72 [==============================] - 2s 27ms/step - loss: 0.8095 - accuracy: 0.7953 - val_loss: 1.2922 - val_accuracy: 0.6989\n",
      "Epoch 28/30\n",
      "72/72 [==============================] - 2s 27ms/step - loss: 0.7842 - accuracy: 0.8063 - val_loss: 1.2555 - val_accuracy: 0.7045\n",
      "Epoch 29/30\n",
      "72/72 [==============================] - 2s 27ms/step - loss: 0.7436 - accuracy: 0.8096 - val_loss: 1.2815 - val_accuracy: 0.7145\n",
      "Epoch 30/30\n",
      "72/72 [==============================] - 2s 27ms/step - loss: 0.7200 - accuracy: 0.8203 - val_loss: 1.2659 - val_accuracy: 0.7179\n"
     ]
    }
   ],
   "source": [
    "hist=model.fit(X_train, y_train, batch_size=100, epochs=30, validation_split=0.2)"
   ]
  },
  {
   "cell_type": "code",
   "execution_count": 6,
   "metadata": {},
   "outputs": [
    {
     "name": "stdout",
     "output_type": "stream",
     "text": [
      "71/71 [==============================] - 0s 6ms/step - loss: 1.2976 - accuracy: 0.7035\n",
      "\n",
      " 정확도 : 0.7035\n"
     ]
    }
   ],
   "source": [
    "print('\\n 정확도 : %.4f' % (model.evaluate(X_test,y_test)[1]))"
   ]
  },
  {
   "cell_type": "code",
   "execution_count": 7,
   "metadata": {},
   "outputs": [
    {
     "data": {
      "image/png": "[encoded data removed]",
      "text/plain": [
       "<Figure size 432x288 with 1 Axes>"
      ]
     },
     "metadata": {
      "needs_background": "light"
     },
     "output_type": "display_data"
    }
   ],
   "source": [
    "import matplotlib.pyplot as plt\n",
    "\n",
    "plt.plot(hist.history['loss'])\n",
    "plt.plot(hist.history['val_loss'])\n",
    "plt.plot(hist.history['accuracy'])\n",
    "plt.plot(hist.history['val_accuracy'])\n",
    "plt.legend(['loss','val_loss','accuracy','val_accuracy'])\n",
    "plt.grid()\n",
    "plt.show()"
   ]
  },
  {
   "cell_type": "code",
   "execution_count": 8,
   "metadata": {},
   "outputs": [
    {
     "data": {
      "text/plain": [
       "9"
      ]
     },
     "execution_count": 8,
     "metadata": {},
     "output_type": "execute_result"
    }
   ],
   "source": [
    "import numpy as np\n",
    "pred=model.predict(X_test[12].reshape(-1,50))\n",
    "np.argmax(pred[0])"
   ]
  },
  {
   "cell_type": "code",
   "execution_count": 9,
   "metadata": {},
   "outputs": [
    {
     "data": {
      "text/plain": [
       "1"
      ]
     },
     "execution_count": 9,
     "metadata": {},
     "output_type": "execute_result"
    }
   ],
   "source": [
    "np.argmax(y_test[12])"
   ]
  }
 ],
 "metadata": {
  "interpreter": {
   "hash": "7b4b4feff2f24a0f0a34464dbe537a36fda679851528fb8735cb41fa49dffb2d"
  },
  "kernelspec": {
   "display_name": "Python 3.8.8 64-bit ('base': conda)",
   "language": "python",
   "name": "python3"
  },
  "language_info": {
   "codemirror_mode": {
    "name": "ipython",
    "version": 3
   },
   "file_extension": ".py",
   "mimetype": "text/x-python",
   "name": "python",
   "nbconvert_exporter": "python",
   "pygments_lexer": "ipython3",
   "version": "3.8.8"
  },
  "orig_nbformat": 4
 },
 "nbformat": 4,
 "nbformat_minor": 2
}
