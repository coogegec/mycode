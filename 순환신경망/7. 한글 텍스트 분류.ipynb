{
 "cells": [
  {
   "cell_type": "code",
   "execution_count": 1,
   "metadata": {},
   "outputs": [
    {
     "data": {
      "text/html": [
       "<div>\n",
       "<style scoped>\n",
       "    .dataframe tbody tr th:only-of-type {\n",
       "        vertical-align: middle;\n",
       "    }\n",
       "\n",
       "    .dataframe tbody tr th {\n",
       "        vertical-align: top;\n",
       "    }\n",
       "\n",
       "    .dataframe thead th {\n",
       "        text-align: right;\n",
       "    }\n",
       "</style>\n",
       "<table border=\"1\" class=\"dataframe\">\n",
       "  <thead>\n",
       "    <tr style=\"text-align: right;\">\n",
       "      <th></th>\n",
       "      <th>document</th>\n",
       "      <th>label</th>\n",
       "    </tr>\n",
       "  </thead>\n",
       "  <tbody>\n",
       "    <tr>\n",
       "      <th>0</th>\n",
       "      <td>아 더빙.. 진짜 짜증나네요 목소리</td>\n",
       "      <td>0</td>\n",
       "    </tr>\n",
       "    <tr>\n",
       "      <th>1</th>\n",
       "      <td>흠...포스터보고 초딩영화줄....오버연기조차 가볍지 않구나</td>\n",
       "      <td>1</td>\n",
       "    </tr>\n",
       "    <tr>\n",
       "      <th>2</th>\n",
       "      <td>너무재밓었다그래서보는것을추천한다</td>\n",
       "      <td>0</td>\n",
       "    </tr>\n",
       "    <tr>\n",
       "      <th>3</th>\n",
       "      <td>교도소 이야기구먼 ..솔직히 재미는 없다..평점 조정</td>\n",
       "      <td>0</td>\n",
       "    </tr>\n",
       "    <tr>\n",
       "      <th>4</th>\n",
       "      <td>사이몬페그의 익살스런 연기가 돋보였던 영화!스파이더맨에서 늙어보이기만 했던 커스틴 ...</td>\n",
       "      <td>1</td>\n",
       "    </tr>\n",
       "  </tbody>\n",
       "</table>\n",
       "</div>"
      ],
      "text/plain": [
       "                                            document  label\n",
       "0                                아 더빙.. 진짜 짜증나네요 목소리      0\n",
       "1                  흠...포스터보고 초딩영화줄....오버연기조차 가볍지 않구나      1\n",
       "2                                  너무재밓었다그래서보는것을추천한다      0\n",
       "3                      교도소 이야기구먼 ..솔직히 재미는 없다..평점 조정      0\n",
       "4  사이몬페그의 익살스런 연기가 돋보였던 영화!스파이더맨에서 늙어보이기만 했던 커스틴 ...      1"
      ]
     },
     "execution_count": 1,
     "metadata": {},
     "output_type": "execute_result"
    }
   ],
   "source": [
    "import pandas as pd\n",
    "\n",
    "df=pd.read_csv('d:/data/text/ratings_all.csv', encoding='ms949')\n",
    "df.head()"
   ]
  },
  {
   "cell_type": "code",
   "execution_count": 2,
   "metadata": {},
   "outputs": [
    {
     "name": "stdout",
     "output_type": "stream",
     "text": [
      "0    100000\n",
      "1    100000\n",
      "Name: label, dtype: int64\n"
     ]
    },
    {
     "data": {
      "text/plain": [
       "<AxesSubplot:>"
      ]
     },
     "execution_count": 2,
     "metadata": {},
     "output_type": "execute_result"
    },
    {
     "data": {
      "image/png": "[encoded data removed]",
      "text/plain": [
       "<Figure size 432x288 with 1 Axes>"
      ]
     },
     "metadata": {
      "needs_background": "light"
     },
     "output_type": "display_data"
    }
   ],
   "source": [
    "print(df['label'].value_counts()) # 긍정, 부정 비율 1:1\n",
    "df['label'].value_counts().plot(kind='bar')"
   ]
  },
  {
   "cell_type": "code",
   "execution_count": 4,
   "metadata": {},
   "outputs": [
    {
     "data": {
      "text/plain": [
       "'I am a boy  '"
      ]
     },
     "execution_count": 4,
     "metadata": {},
     "output_type": "execute_result"
    }
   ],
   "source": [
    "# 정규표현식\n",
    "import re\n",
    "\n",
    "text='I am a boy.#,:;!$!나는 1234 소년이다.'\n",
    "re.sub('[^a-zA-Z ]', '', text) # 알파벳과 공백을 제외하고 모두 제거"
   ]
  },
  {
   "cell_type": "code",
   "execution_count": 5,
   "metadata": {},
   "outputs": [
    {
     "name": "stderr",
     "output_type": "stream",
     "text": [
      "<ipython-input-5-8d4b8e86ae63>:2: FutureWarning: The default value of regex will change from True to False in a future version.\n",
      "  df['document']=df['document'].str.replace('[^ㄱ-ㅎㅏ-ㅣ가-힣 ]','')\n"
     ]
    },
    {
     "data": {
      "text/html": [
       "<div>\n",
       "<style scoped>\n",
       "    .dataframe tbody tr th:only-of-type {\n",
       "        vertical-align: middle;\n",
       "    }\n",
       "\n",
       "    .dataframe tbody tr th {\n",
       "        vertical-align: top;\n",
       "    }\n",
       "\n",
       "    .dataframe thead th {\n",
       "        text-align: right;\n",
       "    }\n",
       "</style>\n",
       "<table border=\"1\" class=\"dataframe\">\n",
       "  <thead>\n",
       "    <tr style=\"text-align: right;\">\n",
       "      <th></th>\n",
       "      <th>document</th>\n",
       "      <th>label</th>\n",
       "    </tr>\n",
       "  </thead>\n",
       "  <tbody>\n",
       "    <tr>\n",
       "      <th>0</th>\n",
       "      <td>아 더빙 진짜 짜증나네요 목소리</td>\n",
       "      <td>0</td>\n",
       "    </tr>\n",
       "    <tr>\n",
       "      <th>1</th>\n",
       "      <td>흠포스터보고 초딩영화줄오버연기조차 가볍지 않구나</td>\n",
       "      <td>1</td>\n",
       "    </tr>\n",
       "    <tr>\n",
       "      <th>2</th>\n",
       "      <td>너무재밓었다그래서보는것을추천한다</td>\n",
       "      <td>0</td>\n",
       "    </tr>\n",
       "    <tr>\n",
       "      <th>3</th>\n",
       "      <td>교도소 이야기구먼 솔직히 재미는 없다평점 조정</td>\n",
       "      <td>0</td>\n",
       "    </tr>\n",
       "    <tr>\n",
       "      <th>4</th>\n",
       "      <td>사이몬페그의 익살스런 연기가 돋보였던 영화스파이더맨에서 늙어보이기만 했던 커스틴 던...</td>\n",
       "      <td>1</td>\n",
       "    </tr>\n",
       "  </tbody>\n",
       "</table>\n",
       "</div>"
      ],
      "text/plain": [
       "                                            document  label\n",
       "0                                  아 더빙 진짜 짜증나네요 목소리      0\n",
       "1                         흠포스터보고 초딩영화줄오버연기조차 가볍지 않구나      1\n",
       "2                                  너무재밓었다그래서보는것을추천한다      0\n",
       "3                          교도소 이야기구먼 솔직히 재미는 없다평점 조정      0\n",
       "4  사이몬페그의 익살스런 연기가 돋보였던 영화스파이더맨에서 늙어보이기만 했던 커스틴 던...      1"
      ]
     },
     "execution_count": 5,
     "metadata": {},
     "output_type": "execute_result"
    }
   ],
   "source": [
    "# 한글과 공백을 제외하고 모두 제거\n",
    "df['document']=df['document'].str.replace('[^ㄱ-ㅎㅏ-ㅣ가-힣 ]','')\n",
    "df[:5]"
   ]
  },
  {
   "cell_type": "code",
   "execution_count": 6,
   "metadata": {},
   "outputs": [
    {
     "name": "stdout",
     "output_type": "stream",
     "text": [
      "document    1116\n",
      "label          0\n",
      "dtype: int64\n"
     ]
    }
   ],
   "source": [
    "import numpy as np\n",
    "# 빈 문자열을 np.nan으로 바꾸고 inplace=True 기존 데이터프레임의 내용을 대체함\n",
    "df['document'].replace('', np.nan, inplace=True)\n",
    "print(df.isnull().sum()) # 결측값의 개수 확인(1116건)"
   ]
  },
  {
   "cell_type": "code",
   "execution_count": 7,
   "metadata": {},
   "outputs": [
    {
     "data": {
      "text/html": [
       "<div>\n",
       "<style scoped>\n",
       "    .dataframe tbody tr th:only-of-type {\n",
       "        vertical-align: middle;\n",
       "    }\n",
       "\n",
       "    .dataframe tbody tr th {\n",
       "        vertical-align: top;\n",
       "    }\n",
       "\n",
       "    .dataframe thead th {\n",
       "        text-align: right;\n",
       "    }\n",
       "</style>\n",
       "<table border=\"1\" class=\"dataframe\">\n",
       "  <thead>\n",
       "    <tr style=\"text-align: right;\">\n",
       "      <th></th>\n",
       "      <th>document</th>\n",
       "      <th>label</th>\n",
       "    </tr>\n",
       "  </thead>\n",
       "  <tbody>\n",
       "    <tr>\n",
       "      <th>584</th>\n",
       "      <td>NaN</td>\n",
       "      <td>0</td>\n",
       "    </tr>\n",
       "    <tr>\n",
       "      <th>593</th>\n",
       "      <td>NaN</td>\n",
       "      <td>0</td>\n",
       "    </tr>\n",
       "    <tr>\n",
       "      <th>638</th>\n",
       "      <td>NaN</td>\n",
       "      <td>0</td>\n",
       "    </tr>\n",
       "    <tr>\n",
       "      <th>668</th>\n",
       "      <td>NaN</td>\n",
       "      <td>0</td>\n",
       "    </tr>\n",
       "    <tr>\n",
       "      <th>1058</th>\n",
       "      <td>NaN</td>\n",
       "      <td>0</td>\n",
       "    </tr>\n",
       "  </tbody>\n",
       "</table>\n",
       "</div>"
      ],
      "text/plain": [
       "     document  label\n",
       "584       NaN      0\n",
       "593       NaN      0\n",
       "638       NaN      0\n",
       "668       NaN      0\n",
       "1058      NaN      0"
      ]
     },
     "execution_count": 7,
     "metadata": {},
     "output_type": "execute_result"
    }
   ],
   "source": [
    "df.loc[df.document.isnull()][:5] # 결측값 5개 확인"
   ]
  },
  {
   "cell_type": "code",
   "execution_count": 8,
   "metadata": {},
   "outputs": [
    {
     "name": "stdout",
     "output_type": "stream",
     "text": [
      "200000\n",
      "198884\n"
     ]
    }
   ],
   "source": [
    "print(len(df))\n",
    "df=df.dropna(how='any') # 결측값이 있는 행 제거\n",
    "print(len(df))"
   ]
  },
  {
   "cell_type": "code",
   "execution_count": 9,
   "metadata": {},
   "outputs": [
    {
     "name": "stdout",
     "output_type": "stream",
     "text": [
      "                     document\n",
      "0           아 더빙 진짜 짜증나네요 목소리\n",
      "1  흠포스터보고 초딩영화줄오버연기조차 가볍지 않구나\n",
      "2           너무재밓었다그래서보는것을추천한다\n",
      "0    0\n",
      "1    1\n",
      "2    0\n",
      "Name: label, dtype: int64\n"
     ]
    }
   ],
   "source": [
    "X=df[['document']]\n",
    "y=df['label']\n",
    "print(X[:3])\n",
    "print(y[:3])"
   ]
  },
  {
   "cell_type": "code",
   "execution_count": 10,
   "metadata": {},
   "outputs": [],
   "source": [
    "from imblearn.under_sampling import RandomUnderSampler\n",
    "\n",
    "X_sample, y_sample=RandomUnderSampler(random_state=0).fit_resample(X,y)\n",
    "\n",
    "X_samp=pd.DataFrame(data=X_sample, columns=['document'])\n",
    "y_samp=pd.DataFrame(data=y_sample, columns=['label'])\n",
    "df_samp=pd.concat([X_samp,y_samp], axis=1)"
   ]
  },
  {
   "cell_type": "code",
   "execution_count": 11,
   "metadata": {},
   "outputs": [
    {
     "data": {
      "text/plain": [
       "0    99374\n",
       "1    99374\n",
       "Name: label, dtype: int64"
      ]
     },
     "execution_count": 11,
     "metadata": {},
     "output_type": "execute_result"
    }
   ],
   "source": [
    "df_samp['label'].value_counts()"
   ]
  },
  {
   "cell_type": "code",
   "execution_count": 12,
   "metadata": {},
   "outputs": [],
   "source": [
    "stopwords=['의','가','이','은','들','는','좀','잘','걍','과','도','를','으로','자','에','와','한','한다'] # 불용어"
   ]
  },
  {
   "cell_type": "code",
   "execution_count": 13,
   "metadata": {},
   "outputs": [
    {
     "data": {
      "text/plain": [
       "['아버지', '가', '방', '에', '들어가다']"
      ]
     },
     "execution_count": 13,
     "metadata": {},
     "output_type": "execute_result"
    }
   ],
   "source": [
    "from konlpy.tag import Okt\n",
    "\n",
    "okt=Okt()\n",
    "# 토큰화, stem 어근화\n",
    "okt.morphs('아버지가 방에 들어가신다', stem=True)"
   ]
  },
  {
   "cell_type": "code",
   "execution_count": 14,
   "metadata": {},
   "outputs": [],
   "source": [
    "X=[]\n",
    "y=[]\n",
    "for idx, sentence in enumerate(df['document'][:30000]):\n",
    "    temp=[]\n",
    "    temp=okt.morphs(sentence, stem=True)\n",
    "    temp=[word for word in temp if not word in stopwords] # 불용어가 아닌 단어들의 목록\n",
    "    X.append(temp)\n",
    "    y.append(df.iloc[idx,1]) # 0, 1 값을 리스트에 추가"
   ]
  },
  {
   "cell_type": "code",
   "execution_count": 15,
   "metadata": {},
   "outputs": [
    {
     "name": "stdout",
     "output_type": "stream",
     "text": [
      "[['아', '더빙', '진짜', '짜증나다', '목소리'], ['흠', '포스터', '보고', '초딩', '영화', '줄', '오버', '연기', '조차', '가볍다', '않다'], ['너', '무재', '밓었', '다그', '래서', '보다', '추천', '다']]\n",
      "[0, 1, 0]\n"
     ]
    }
   ],
   "source": [
    "print(X[:3])\n",
    "print(y[:3])"
   ]
  },
  {
   "cell_type": "code",
   "execution_count": 16,
   "metadata": {},
   "outputs": [],
   "source": [
    "# 단어 집합을 만들고 단어에 고유한 숫자 인덱스를 부여\n",
    "from keras.preprocessing.text import Tokenizer\n",
    "\n",
    "tokenizer=Tokenizer()\n",
    "tokenizer.fit_on_texts(X)"
   ]
  },
  {
   "cell_type": "code",
   "execution_count": 18,
   "metadata": {},
   "outputs": [
    {
     "name": "stdout",
     "output_type": "stream",
     "text": [
      "영화  →  1\n",
      "보다  →  2\n",
      "하다  →  3\n",
      "을  →  4\n",
      "없다  →  5\n",
      "이다  →  6\n"
     ]
    }
   ],
   "source": [
    "i=0\n",
    "for word in list(tokenizer.word_index.keys()):\n",
    "    print(word,' → ',tokenizer.word_index[word])\n",
    "    i+=1\n",
    "    if i>5:\n",
    "        break"
   ]
  },
  {
   "cell_type": "code",
   "execution_count": 22,
   "metadata": {},
   "outputs": [
    {
     "name": "stdout",
     "output_type": "stream",
     "text": [
      "단어 집합(vocabulary)의 크기 : 21085\n",
      "출현 빈도가 2번 이하인 희귀 단어의 수 : 12823\n",
      "단어 집합에서 희귀 단어의 비율 : 60.82%\n"
     ]
    }
   ],
   "source": [
    "threshold=3\n",
    "total_cnt=len(tokenizer.word_index) # 단어의 수\n",
    "rare_cnt=0 # 출현 빈도수가 threshold보다 작은 단어의 개수\n",
    "total_freq=0 # X 데이터의 전체 단어 빈도수 총합\n",
    "rare_freq=0 # 출현 빈도수가 threshold보다 작은 단어의 출현 빈도의 총합\n",
    "\n",
    "# 단어와 빈도수의 pair\n",
    "for key, value in tokenizer.word_counts.items():\n",
    "    total_freq+=value\n",
    "    if value < threshold: # 단어의 출현빈도수가 threshold보다 작으면\n",
    "        rare_cnt+=1\n",
    "        rare_freq+=value\n",
    "\n",
    "print('단어 집합(vocabulary)의 크기 :', total_cnt)\n",
    "print('출현 빈도가 %s번 이하인 희귀 단어의 수 : %s' % (threshold-1, rare_cnt))\n",
    "print(f'단어 집합에서 희귀 단어의 비율 : {(rare_cnt/total_cnt)*100:.2f}%')"
   ]
  },
  {
   "cell_type": "code",
   "execution_count": 23,
   "metadata": {},
   "outputs": [
    {
     "name": "stdout",
     "output_type": "stream",
     "text": [
      "단어 집합의 크기 : 8263\n"
     ]
    }
   ],
   "source": [
    "vocab_size=total_cnt-rare_cnt+1 # 전체 단어 개수 중 빈도수 2이하인 희귀 단어 제거\n",
    "print(f'단어 집합의 크기 : {vocab_size}')"
   ]
  },
  {
   "cell_type": "code",
   "execution_count": 24,
   "metadata": {},
   "outputs": [
    {
     "name": "stdout",
     "output_type": "stream",
     "text": [
      "영화  →  1\n",
      "보다  →  2\n",
      "하다  →  3\n",
      "을  →  4\n",
      "없다  →  5\n",
      "이다  →  6\n"
     ]
    }
   ],
   "source": [
    "tokenizer=Tokenizer(vocab_size) # 상위 단어 개수 지정\n",
    "tokenizer.fit_on_texts(X)\n",
    "\n",
    "i=0\n",
    "for word in list(tokenizer.word_index.keys()):\n",
    "    print(word, ' → ', tokenizer.word_index[word])\n",
    "    i+=1\n",
    "    if i>5:\n",
    "        break"
   ]
  },
  {
   "cell_type": "code",
   "execution_count": 25,
   "metadata": {},
   "outputs": [
    {
     "name": "stdout",
     "output_type": "stream",
     "text": [
      "[['아', '더빙', '진짜', '짜증나다', '목소리'], ['흠', '포스터', '보고', '초딩', '영화', '줄', '오버', '연기', '조차', '가볍다', '않다'], ['너', '무재', '밓었', '다그', '래서', '보다', '추천', '다']]\n",
      "[[52, 477, 17, 251, 668], [934, 419, 42, 640, 1, 180, 1576, 25, 1000, 714, 19], [360, 2049, 2720, 3614, 2, 220, 10]]\n"
     ]
    }
   ],
   "source": [
    "# 텍스트를 시퀀스로 변환\n",
    "X2=tokenizer.texts_to_sequences(X) # 단어의 인덱스로만 구성된 새로운 리스트\n",
    "print(X[:3])\n",
    "print(X2[:3])"
   ]
  },
  {
   "cell_type": "code",
   "execution_count": 26,
   "metadata": {},
   "outputs": [
    {
     "name": "stdout",
     "output_type": "stream",
     "text": [
      "0 [52, 477, 17, 251, 668]\n",
      "1 [934, 419, 42, 640, 1, 180, 1576, 25, 1000, 714, 19]\n",
      "2 [360, 2049, 2720, 3614, 2, 220, 10]\n",
      "3 [6593, 114, 223, 50, 5, 24, 3615]\n",
      "4 [1001, 33, 6594, 25, 753, 1, 1771, 22, 1267, 266, 3, 1133, 224, 266]\n",
      "5 [766, 4875, 979, 1349, 464, 133, 1772, 1843, 5545, 247, 1, 89, 122, 947, 45, 260]\n",
      "6 [225, 312, 4, 330, 593, 3]\n",
      "7 [122, 947, 45, 313, 27, 306, 112, 1968, 349, 116, 227, 11, 651, 18, 630, 585, 415, 504, 3616, 13, 1247, 1247, 37, 302, 5, 25, 36, 3, 40, 13, 728, 1077, 68]\n",
      "8 [90, 5, 50, 7, 349, 102, 1]\n",
      "9 [1422, 24, 197, 564, 81, 13, 367, 1295, 375, 600, 9, 6595, 7]\n"
     ]
    }
   ],
   "source": [
    "for index, sentence in enumerate(X2[:10]):\n",
    "    print(index,sentence)"
   ]
  },
  {
   "cell_type": "code",
   "execution_count": 27,
   "metadata": {},
   "outputs": [
    {
     "data": {
      "text/plain": [
       "[28, 169, 404, 412, 416, 470, 549, 1153, 1307, 1353]"
      ]
     },
     "execution_count": 27,
     "metadata": {},
     "output_type": "execute_result"
    }
   ],
   "source": [
    "# 단어가 하나도 없는 문장들을 제거하기 위한 리스트\n",
    "drop_X=[index for index, sentence in enumerate(X2) if len(sentence)<1]\n",
    "drop_X[:10]"
   ]
  },
  {
   "cell_type": "code",
   "execution_count": 28,
   "metadata": {},
   "outputs": [
    {
     "name": "stdout",
     "output_type": "stream",
     "text": [
      "(29837,)\n",
      "(29837,)\n"
     ]
    },
    {
     "name": "stderr",
     "output_type": "stream",
     "text": [
      "D:\\anaconda3\\lib\\site-packages\\numpy\\core\\_asarray.py:102: VisibleDeprecationWarning: Creating an ndarray from ragged nested sequences (which is a list-or-tuple of lists-or-tuples-or ndarrays with different lengths or shapes) is deprecated. If you meant to do this, you must specify 'dtype=object' when creating the ndarray.\n",
      "  return array(a, dtype, copy=False, order=order)\n"
     ]
    }
   ],
   "source": [
    "# 단어가 하나도 없는 문장들을 제거\n",
    "X_text=np.delete(X, drop_X, axis=0)\n",
    "X=np.delete(X2, drop_X, axis=0)\n",
    "y=np.delete(y, drop_X, axis=0)\n",
    "print(X.shape)\n",
    "print(y.shape)"
   ]
  },
  {
   "cell_type": "code",
   "execution_count": 29,
   "metadata": {},
   "outputs": [
    {
     "name": "stdout",
     "output_type": "stream",
     "text": [
      "리뷰의 최대 길이 : 63\n",
      "리뷰의 평균 길이 : 10.65552837081476\n"
     ]
    },
    {
     "data": {
      "image/png": "[encoded data removed]",
      "text/plain": [
       "<Figure size 432x288 with 1 Axes>"
      ]
     },
     "metadata": {
      "needs_background": "light"
     },
     "output_type": "display_data"
    }
   ],
   "source": [
    "import matplotlib.pyplot as plt\n",
    "max_len=max(len(l) for l in X)\n",
    "print('리뷰의 최대 길이 :',max_len)\n",
    "print('리뷰의 평균 길이 :',sum(map(len,X))/len(X))\n",
    "plt.hist([len(s) for s in X], bins=50)\n",
    "plt.xlabel('length of samples')\n",
    "plt.ylabel('number of samples')\n",
    "plt.show()"
   ]
  },
  {
   "cell_type": "code",
   "execution_count": 30,
   "metadata": {},
   "outputs": [
    {
     "data": {
      "text/plain": [
       "array([  0,   0,   0,   0,   0,   0,   0,   0,   0,   0,   0,   0,   0,\n",
       "         0,   0,   0,   0,   0,   0,   0,   0,   0,   0,   0,   0,   0,\n",
       "         0,   0,   0,   0,   0,   0,   0,   0,   0,   0,   0,   0,   0,\n",
       "         0,   0,   0,   0,   0,   0,   0,   0,   0,   0,   0,   0,   0,\n",
       "         0,   0,   0,   0,   0,   0,  52, 477,  17, 251, 668])"
      ]
     },
     "execution_count": 30,
     "metadata": {},
     "output_type": "execute_result"
    }
   ],
   "source": [
    "from keras.preprocessing.sequence import pad_sequences\n",
    "# 최대 사이즈에 맞춰 빈칸에 0으로 채움\n",
    "X=pad_sequences(X, maxlen=max_len)\n",
    "X[0]"
   ]
  },
  {
   "cell_type": "code",
   "execution_count": 31,
   "metadata": {},
   "outputs": [
    {
     "name": "stdout",
     "output_type": "stream",
     "text": [
      "(29837, 63)\n",
      "(29837,)\n"
     ]
    }
   ],
   "source": [
    "print(X.shape)\n",
    "print(y.shape)"
   ]
  },
  {
   "cell_type": "code",
   "execution_count": 32,
   "metadata": {},
   "outputs": [],
   "source": [
    "# 학습용, 검증요 8:2로 구분\n",
    "from sklearn.model_selection import train_test_split\n",
    "\n",
    "X_train, X_test, y_train, y_test=train_test_split(X, y, test_size=0.2, stratify=y, random_state=10)"
   ]
  },
  {
   "cell_type": "code",
   "execution_count": 33,
   "metadata": {},
   "outputs": [
    {
     "name": "stdout",
     "output_type": "stream",
     "text": [
      "(23869, 63)\n",
      "(5968, 63)\n",
      "(23869,)\n",
      "(5968,)\n"
     ]
    }
   ],
   "source": [
    "print(X_train.shape)\n",
    "print(X_test.shape)\n",
    "print(y_train.shape)\n",
    "print(y_test.shape)"
   ]
  },
  {
   "cell_type": "code",
   "execution_count": 34,
   "metadata": {},
   "outputs": [],
   "source": [
    "from keras.layers import Embedding, Dense, LSTM\n",
    "from keras.models import Sequential\n",
    "\n",
    "model=Sequential()\n",
    "model.add(Embedding(vocab_size, 100)) # Embedding(입력 사이즈, 출력 사이즈)\n",
    "# 문장을 단어들의 시퀀스로 간주하고 순환 레이어의 입력으로, 출력 노드수 128로 설정\n",
    "model.add(LSTM(128)) # Long Short-Term Memory\n",
    "model.add(Dense(1, activation='sigmoid', name='output'))  # 출력층\n",
    "model.compile(optimizer='rmsprop', loss='binary_crossentropy', metrics=['accuracy'])"
   ]
  },
  {
   "cell_type": "code",
   "execution_count": 35,
   "metadata": {},
   "outputs": [
    {
     "name": "stdout",
     "output_type": "stream",
     "text": [
      "Epoch 1/15\n",
      "319/319 [==============================] - 16s 19ms/step - loss: 0.4789 - accuracy: 0.7761 - val_loss: 0.3998 - val_accuracy: 0.8121\n",
      "Epoch 2/15\n",
      "319/319 [==============================] - 5s 17ms/step - loss: 0.3558 - accuracy: 0.8459 - val_loss: 0.3818 - val_accuracy: 0.8188\n",
      "Epoch 3/15\n",
      "319/319 [==============================] - 5s 17ms/step - loss: 0.3130 - accuracy: 0.8690 - val_loss: 0.3783 - val_accuracy: 0.8243\n",
      "Epoch 4/15\n",
      "319/319 [==============================] - 5s 17ms/step - loss: 0.2949 - accuracy: 0.8787 - val_loss: 0.3911 - val_accuracy: 0.8217\n",
      "Epoch 5/15\n",
      "319/319 [==============================] - 5s 17ms/step - loss: 0.2769 - accuracy: 0.8865 - val_loss: 0.3850 - val_accuracy: 0.8255\n",
      "Epoch 6/15\n",
      "319/319 [==============================] - 5s 17ms/step - loss: 0.2616 - accuracy: 0.8939 - val_loss: 0.3792 - val_accuracy: 0.8280\n",
      "Epoch 7/15\n",
      "319/319 [==============================] - 5s 17ms/step - loss: 0.2446 - accuracy: 0.9001 - val_loss: 0.4322 - val_accuracy: 0.8203\n",
      "Epoch 8/15\n",
      "319/319 [==============================] - 5s 16ms/step - loss: 0.2267 - accuracy: 0.9086 - val_loss: 0.4088 - val_accuracy: 0.8276\n",
      "Epoch 9/15\n",
      "319/319 [==============================] - 5s 16ms/step - loss: 0.2081 - accuracy: 0.9156 - val_loss: 0.4253 - val_accuracy: 0.8226\n",
      "Epoch 10/15\n",
      "319/319 [==============================] - 5s 16ms/step - loss: 0.1881 - accuracy: 0.9252 - val_loss: 0.4823 - val_accuracy: 0.8194\n",
      "Epoch 11/15\n",
      "319/319 [==============================] - 5s 16ms/step - loss: 0.1695 - accuracy: 0.9340 - val_loss: 0.5185 - val_accuracy: 0.8182\n",
      "Epoch 12/15\n",
      "319/319 [==============================] - 5s 16ms/step - loss: 0.1522 - accuracy: 0.9418 - val_loss: 0.5185 - val_accuracy: 0.8098\n",
      "Epoch 13/15\n",
      "319/319 [==============================] - 5s 16ms/step - loss: 0.1364 - accuracy: 0.9493 - val_loss: 0.5659 - val_accuracy: 0.7983\n",
      "Epoch 14/15\n",
      "319/319 [==============================] - 5s 16ms/step - loss: 0.1233 - accuracy: 0.9543 - val_loss: 0.5605 - val_accuracy: 0.8058\n",
      "Epoch 15/15\n",
      "319/319 [==============================] - 5s 16ms/step - loss: 0.1111 - accuracy: 0.9585 - val_loss: 0.6215 - val_accuracy: 0.7962\n"
     ]
    }
   ],
   "source": [
    "hist=model.fit(X_train, y_train, epochs=15, batch_size=60, validation_split=0.2)"
   ]
  },
  {
   "cell_type": "code",
   "execution_count": 36,
   "metadata": {},
   "outputs": [
    {
     "name": "stdout",
     "output_type": "stream",
     "text": [
      "[0.5977094173431396, 0.8068029284477234]\n"
     ]
    }
   ],
   "source": [
    "scores=model.evaluate(X_test, y_test[:X_test.shape[0]], verbose=0)\n",
    "print(scores)"
   ]
  },
  {
   "cell_type": "code",
   "execution_count": 37,
   "metadata": {},
   "outputs": [
    {
     "data": {
      "image/png": "[encoded data removed]",
      "text/plain": [
       "<Figure size 864x576 with 1 Axes>"
      ]
     },
     "metadata": {
      "needs_background": "light"
     },
     "output_type": "display_data"
    }
   ],
   "source": [
    "# 모델 학습 과정 표시\n",
    "plt.figure(figsize=(12,8))\n",
    "plt.plot(hist.history['loss']) # 손실\n",
    "plt.plot(hist.history['accuracy']) # 정확도\n",
    "plt.legend(['loss','accuracy'])\n",
    "plt.grid()\n",
    "plt.show()"
   ]
  }
 ],
 "metadata": {
  "interpreter": {
   "hash": "7b4b4feff2f24a0f0a34464dbe537a36fda679851528fb8735cb41fa49dffb2d"
  },
  "kernelspec": {
   "display_name": "Python 3.8.8 64-bit ('base': conda)",
   "language": "python",
   "name": "python3"
  },
  "language_info": {
   "codemirror_mode": {
    "name": "ipython",
    "version": 3
   },
   "file_extension": ".py",
   "mimetype": "text/x-python",
   "name": "python",
   "nbconvert_exporter": "python",
   "pygments_lexer": "ipython3",
   "version": "3.8.8"
  },
  "orig_nbformat": 4
 },
 "nbformat": 4,
 "nbformat_minor": 2
}
