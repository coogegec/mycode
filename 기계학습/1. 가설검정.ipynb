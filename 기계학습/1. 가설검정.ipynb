{
 "cells": [
  {
   "cell_type": "code",
   "execution_count": 5,
   "metadata": {},
   "outputs": [
    {
     "name": "stdout",
     "output_type": "stream",
     "text": [
      "4.333333333333333\n",
      "4.0\n",
      "2\n"
     ]
    }
   ],
   "source": [
    "import numpy as np\n",
    "from scipy import stats\n",
    "\n",
    "data=np.array([4,5,1,2,7,2,6,9,3])\n",
    "\n",
    "a=np.mean(data) # 평균\n",
    "print(a)\n",
    "\n",
    "b=np.median(data) # 중앙값\n",
    "print(b)\n",
    "\n",
    "c=stats.mode(data)\n",
    "print(c[0][0]) # 최빈값"
   ]
  },
  {
   "cell_type": "code",
   "execution_count": 8,
   "metadata": {},
   "outputs": [
    {
     "name": "stdout",
     "output_type": "stream",
     "text": [
      "374\n",
      "19.339079605813716\n",
      "80\n"
     ]
    }
   ],
   "source": [
    "from statistics import variance,stdev\n",
    "\n",
    "points=np.array([20,80,90,95,87,89,95,99,97,100,60,70,77,88,89,89,90])\n",
    "\n",
    "v=variance(points) # 분산\n",
    "print(v)\n",
    "\n",
    "s=stdev(points) # 표준편차\n",
    "print(s)\n",
    "\n",
    "d=np.max(points)-np.min(points) # 범위 = 최댓값 - 최솟값\n",
    "print(d)"
   ]
  },
  {
   "cell_type": "code",
   "execution_count": 14,
   "metadata": {},
   "outputs": [
    {
     "name": "stdout",
     "output_type": "stream",
     "text": [
      "[ 20  60  70  77  80  87  88  89  89  89  90  90  95  95  97  99 100]\n",
      "20% 77.6\n",
      "80% 95.0\n",
      "100% 100.0\n"
     ]
    }
   ],
   "source": [
    "for val in [20,80,100]:\n",
    "    d=np.percentile(points, val) # 백분위수\n",
    "    print(str(val)+'%', d)"
   ]
  },
  {
   "cell_type": "code",
   "execution_count": 13,
   "metadata": {},
   "outputs": [
    {
     "name": "stdout",
     "output_type": "stream",
     "text": [
      "80.0\n",
      "89.0\n",
      "95.0\n",
      "15.0\n"
     ]
    }
   ],
   "source": [
    "a,b,c=np.percentile(points,[25,50,75])\n",
    "print(a) # 1사분위수\n",
    "print(b) # 2사분위수\n",
    "print(c) # 3사분위수\n",
    "print(c-a) # IQR(InterQuertile Range) - 상자수염그림의 박스 세로 길이"
   ]
  },
  {
   "cell_type": "code",
   "execution_count": 16,
   "metadata": {},
   "outputs": [
    {
     "data": {
      "image/png": "[encoded data removed]",
      "text/plain": [
       "<Figure size 432x288 with 1 Axes>"
      ]
     },
     "metadata": {
      "needs_background": "light"
     },
     "output_type": "display_data"
    }
   ],
   "source": [
    "import matplotlib.pyplot as plt\n",
    "plt.boxplot(points) # 상자수염그림\n",
    "plt.show()"
   ]
  },
  {
   "cell_type": "code",
   "execution_count": 17,
   "metadata": {},
   "outputs": [
    {
     "data": {
      "text/plain": [
       "Power_divergenceResult(statistic=14.200000000000001, pvalue=0.014387678176921308)"
      ]
     },
     "execution_count": 17,
     "metadata": {},
     "output_type": "execute_result"
    }
   ],
   "source": [
    "# 카이제곱 검정\n",
    "import pandas as pd\n",
    "from scipy import stats\n",
    "\n",
    "data1=[4,6,17,16,8,9]\n",
    "data2=[10,10,10,10,10,10]\n",
    "chis=stats.chisquare(data1, data2)\n",
    "chis"
   ]
  },
  {
   "cell_type": "code",
   "execution_count": 19,
   "metadata": {},
   "outputs": [
    {
     "name": "stdout",
     "output_type": "stream",
     "text": [
      "Exer   Freq  None  Some\n",
      "Smoke                  \n",
      "Heavy     7     1     3\n",
      "Never    87    18    84\n",
      "Occas    12     3     4\n",
      "Regul     9     1     7\n",
      "검정통계량 : 5.488545890584232\n",
      "p-value : 0.48284216946545633\n"
     ]
    }
   ],
   "source": [
    "import pandas as pd\n",
    "from scipy import stats\n",
    "\n",
    "survey=pd.read_csv('d:/data/smoke/survey.csv')\n",
    "data=pd.crosstab(survey.Smoke, survey.Exer)\n",
    "print(data)\n",
    "result=stats.chi2_contingency(observed=data) # 카이제곱 검정 수행\n",
    "print('검정통계량 :',result[0])\n",
    "print('p-value :',result[1])\n",
    "# p-value가 0.48로 0.05보다 크므로 흡연습관과 운동횟수에는 상관관계가 없다."
   ]
  },
  {
   "cell_type": "code",
   "execution_count": 20,
   "metadata": {},
   "outputs": [
    {
     "name": "stdout",
     "output_type": "stream",
     "text": [
      "검정통계량 : 3.435, p-value : 0.003\n"
     ]
    }
   ],
   "source": [
    "# 단일표본 t검정\n",
    "import pandas as pd\n",
    "from scipy import stats\n",
    "np.random.seed(1)\n",
    "heights=[180+np.random.normal(0,5) for a in range(20)]\n",
    "result=stats.ttest_1samp(heights, 175)\n",
    "print('검정통계량 : %.3f, p-value : %.3f' % result)"
   ]
  },
  {
   "cell_type": "code",
   "execution_count": 22,
   "metadata": {},
   "outputs": [
    {
     "name": "stdout",
     "output_type": "stream",
     "text": [
      "[166.22801029501673, 176.26434077616645, 172.56464910209004, 168.50953582448642, 172.44259073268748, 169.62214143489473, 175.65814693725713, 177.599084082111, 180.9278770326658, 163.0175183225593, 162.77943097285205, 167.47767068526775, 170.80018534723916, 174.38084460558113, 171.578174736208, 159.88899392087998, 168.46897993685815, 174.13987321303622, 171.15047367682192, 173.81005590156013]\n",
      "[172.7767185738964, 172.99241931070003, 176.86561390988285, 179.10051647208257, 176.9829972012677, 176.19008645807457, 168.2933771371097, 178.7756378632092, 176.21821270991438, 186.29483907911919, 186.98917879901506, 176.85156417483944, 171.24715049909886, 168.61269592545779, 179.23494354064113, 175.7734006834856, 171.56146324428926, 175.43596856834247, 168.79999156051872, 181.9803203407222]\n",
      "group1의 평균 : 170.86542887681196\n",
      "group2의 평균 : 176.04885480258335\n",
      "검정통계량 : -3.118, p-value : 0.003\n",
      "검정통계량 : -3.118, p-value : 0.003\n"
     ]
    }
   ],
   "source": [
    "# 독립표본 t검정\n",
    "import pandas as pd\n",
    "from scipy import stats\n",
    "\n",
    "group1=[170+np.random.normal(0,5) for a in range(20)]\n",
    "group2=[175+np.random.normal(0,10) for a in range(20)]\n",
    "\n",
    "print(group1)\n",
    "print(group2)\n",
    "print(\"group1의 평균 :\",np.mean(group1))\n",
    "print(\"group2의 평균 :\",np.mean(group2))\n",
    "\n",
    "result1=stats.ttest_ind(group1, group2)\n",
    "print(\"검정통계량 : %.3f, p-value : %.3f\" % result1)\n",
    "result2=stats.ttest_ind(group1, group2, equal_var=False)\n",
    "print(\"검정통계량 : %.3f, p-value : %.3f\" % result2)"
   ]
  },
  {
   "cell_type": "code",
   "execution_count": 23,
   "metadata": {},
   "outputs": [
    {
     "name": "stdout",
     "output_type": "stream",
     "text": [
      "[68.1217268183162, 56.94121793174962, 57.359141238682724, 54.63515688921915, 64.3270381466234, 48.492306515598585, 68.7240588210824, 56.19396549552449, 61.59519548028549, 58.75314812261295, 67.31053968522487, 49.69929645251173, 58.38791397993246, 58.07972822665792, 65.66884721167719, 54.500543663429845, 59.13785896224782, 55.61070791039314, 60.21106873357797, 62.914076068579114]\n",
      "[65.94098797171107, 57.67544499710449, 57.819839215935254, 54.63788246116392, 64.84275566541605, 47.34427263203588, 67.86790793112998, 54.58033393455883, 60.64923115285458, 58.78881770728494, 65.70631311881824, 48.80793606499072, 57.001583230054315, 56.517144665313666, 64.13055954741337, 53.94173367626836, 57.224973536332286, 55.315321289307555, 61.60772730564428, 63.218635763189475]\n",
      "검정통계량 : 2.915, p-value : 0.009\n"
     ]
    }
   ],
   "source": [
    "# 대응표본 t검정\n",
    "import pandas as pd\n",
    "from scipy import stats\n",
    "\n",
    "np.random.seed(1)\n",
    "before=[60+np.random.normal(0,5) for _ in range(20)]\n",
    "print(before)\n",
    "after=[w*np.random.normal(0.99,0.02) for w in before]\n",
    "print(after)\n",
    "\n",
    "result=stats.ttest_rel(before, after)\n",
    "print(\"검정통계량 : %.3f, p-value : %.3f\" % result)"
   ]
  },
  {
   "cell_type": "code",
   "execution_count": 24,
   "metadata": {},
   "outputs": [
    {
     "name": "stdout",
     "output_type": "stream",
     "text": [
      "a 평균 : 79.0\n",
      "b 평균 : 65.375\n",
      "c 평균 : 64.375\n",
      "d 평균 : 69.5\n"
     ]
    }
   ],
   "source": [
    "# 아노바 분석 (일원배치분산분석)\n",
    "import scipy.stats as stats\n",
    "import matplotlib.pyplot as plt\n",
    "\n",
    "a=[66,74,82,75,73,97,87,78]\n",
    "b=[72,51,59,62,74,64,78,63]\n",
    "c=[61,60,57,60,81,55,70,71]\n",
    "d=[63,61,76,84,58,65,69,80]\n",
    "\n",
    "print('a 평균 :',np.mean(a))\n",
    "print('b 평균 :',np.mean(b))\n",
    "print('c 평균 :',np.mean(c))\n",
    "print('d 평균 :',np.mean(d))"
   ]
  },
  {
   "cell_type": "code",
   "execution_count": 25,
   "metadata": {},
   "outputs": [
    {
     "data": {
      "image/png": "[encoded data removed]",
      "text/plain": [
       "<Figure size 432x288 with 1 Axes>"
      ]
     },
     "metadata": {
      "needs_background": "light"
     },
     "output_type": "display_data"
    },
    {
     "name": "stdout",
     "output_type": "stream",
     "text": [
      "4.2210931159803815 0.013933707427484199\n"
     ]
    }
   ],
   "source": [
    "plot_data=[a,b,c,d]\n",
    "ax=plt.boxplot(plot_data)\n",
    "plt.show()\n",
    "f,p=stats.f_oneway(a,b,c,d)\n",
    "print(f,p)"
   ]
  },
  {
   "cell_type": "code",
   "execution_count": 30,
   "metadata": {},
   "outputs": [
    {
     "name": "stdout",
     "output_type": "stream",
     "text": [
      "   fertilizer1  fertilizer2  fertilizer3\n",
      "0           72           54           48\n",
      "1           62           56           62\n",
      "2           90           58           92\n",
      "3           42           36           96\n",
      "4           84           72           92\n",
      "5           64           34           80\n",
      "F_onewayResult(statistic=3.7551268418654105, pvalue=0.04762461989261837)\n",
      "통계량 : 3.7551268418654105\n",
      "p-value : 0.04762461989261837\n"
     ]
    }
   ],
   "source": [
    "import pandas as pd\n",
    "from scipy import stats\n",
    "\n",
    "data=pd.read_csv('d:/data/anova/fertilizers.csv')\n",
    "print(data)\n",
    "result=stats.f_oneway(data['fertilizer1'],data['fertilizer2'],data['fertilizer3'])\n",
    "print(result)\n",
    "print(\"통계량 :\",result[0])\n",
    "print(\"p-value :\",result[1])\n"
   ]
  },
  {
   "cell_type": "code",
   "execution_count": null,
   "metadata": {},
   "outputs": [],
   "source": []
  }
 ],
 "metadata": {
  "interpreter": {
   "hash": "7b4b4feff2f24a0f0a34464dbe537a36fda679851528fb8735cb41fa49dffb2d"
  },
  "kernelspec": {
   "display_name": "Python 3.8.8 64-bit ('base': conda)",
   "language": "python",
   "name": "python3"
  },
  "language_info": {
   "codemirror_mode": {
    "name": "ipython",
    "version": 3
   },
   "file_extension": ".py",
   "mimetype": "text/x-python",
   "name": "python",
   "nbconvert_exporter": "python",
   "pygments_lexer": "ipython3",
   "version": "3.8.8"
  },
  "orig_nbformat": 4
 },
 "nbformat": 4,
 "nbformat_minor": 2
}
