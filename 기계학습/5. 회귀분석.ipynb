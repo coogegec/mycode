{
 "cells": [
  {
   "cell_type": "code",
   "execution_count": 2,
   "metadata": {},
   "outputs": [],
   "source": [
    "from scipy import stats\n",
    "import matplotlib.pyplot as plt\n",
    "from matplotlib import font_manager,rc\n",
    "font_name=font_manager.FontProperties(fname='c:/windows/fonts/malgun.ttf').get_name()\n",
    "rc('font',family=font_name)"
   ]
  },
  {
   "cell_type": "code",
   "execution_count": 3,
   "metadata": {},
   "outputs": [
    {
     "data": {
      "text/plain": [
       "LinregressResult(slope=0.4956032360182905, intercept=0.9195814280689418, rvalue=0.8929235125385305, pvalue=9.238421943157891e-05, stderr=0.07901935226531728, intercept_stderr=0.3110591892275586)"
      ]
     },
     "execution_count": 3,
     "metadata": {},
     "output_type": "execute_result"
    }
   ],
   "source": [
    "x=[3.52,2.58,3.31,4.07,4.62,3.98,4.29,4.83,3.71,4.61,3.90,3.20] # 독립변수(전기생산량)\n",
    "y=[2.48,2.27,2.47,2.77,2.98,3.05,3.18,3.46,3.03,3.25,2.67,2.53] # 종속변수(전기소비량)\n",
    "# 독립변수가 1개이므로 단순 회귀 분석(선형 회귀 분석) 사용\n",
    "# 귀무가설 : 전기생산량과 전기소비량 간에 상관관계가 없다.\n",
    "# 대립가설 : 전기생산량과 전기소비량 간에 상관관계가 있다.\n",
    "result=stats.linregress(x,y) # linregress(독립변수, 종속변수) : 선형회귀분석\n",
    "result"
   ]
  },
  {
   "cell_type": "code",
   "execution_count": 5,
   "metadata": {},
   "outputs": [
    {
     "data": {
      "text/plain": [
       "Text(0, 0.5, '전기사용량')"
      ]
     },
     "execution_count": 5,
     "metadata": {},
     "output_type": "execute_result"
    },
    {
     "data": {
      "image/png": "[encoded data removed]",
      "text/plain": [
       "<Figure size 432x288 with 1 Axes>"
      ]
     },
     "metadata": {
      "needs_background": "light"
     },
     "output_type": "display_data"
    }
   ],
   "source": [
    "import numpy as np\n",
    "\n",
    "slope,intercept,r_value,p_value,stderr=stats.linregress(x,y)\n",
    "x1=np.array(x)\n",
    "plt.scatter(x,y)\n",
    "plt.plot(x1, slope*x1+intercept, c='red')\n",
    "plt.xlabel(\"전기생산량\")\n",
    "plt.ylabel(\"전기사용량\")"
   ]
  },
  {
   "cell_type": "code",
   "execution_count": 6,
   "metadata": {},
   "outputs": [
    {
     "data": {
      "text/plain": [
       "2.901994372142104"
      ]
     },
     "execution_count": 6,
     "metadata": {},
     "output_type": "execute_result"
    }
   ],
   "source": [
    "# 생산량이 4일때 전기사용량 예측\n",
    "4*slope+intercept "
   ]
  },
  {
   "cell_type": "code",
   "execution_count": 8,
   "metadata": {},
   "outputs": [
    {
     "name": "stdout",
     "output_type": "stream",
     "text": [
      "t = 4.752, p-value = 0.000096\n",
      "p-value < 0.05, 귀무가설 기각, 대립가설 채택\n"
     ]
    }
   ],
   "source": [
    "from math import sqrt\n",
    "from numpy import mean\n",
    "from scipy.stats import sem\n",
    "from scipy.stats import t\n",
    "\n",
    "def independent_ttest(data1, data2, alpha): # 독립표본 t검정 : 표본으로부터 측정된 분산, 표준편차를 이용하여\n",
    "    # 두 모집단의 평균의 차이를 검정하는 방법\n",
    "    mean1, mean2=mean(data1), mean(data2) # 평균값\n",
    "    se1, se2=sem(data1), sem(data2) # sem : 표본평균의 표준편차 \n",
    "    sed=sqrt(se1**2+se2**2)\n",
    "    t_stat=(mean1-mean2)/sed\n",
    "    df=len(data1)+len(data2)-2 # 자유도(degrees of freedom) : (샘플 개수) - 1\n",
    "    # 표본수가 n개인 표본이 있다면 표본값 중 자유롭게 변할 수 있는 값은 n-1개의 표본\n",
    "    # 시험 3회 응시, 평균 80점이라고 할 때 2개의 시험에서 70점, 90점을 받았다면 나머지 1개는 80점이 되어야 함.\n",
    "    # 표본수가 3이고 자유롭게 변할 수 있는 값은 2\n",
    "    p=(1.0-t.cdf(abs(t_stat),df))*2.0\n",
    "    return t_stat, p\n",
    "\n",
    "x=[3.52,2.58,3.31,4.07,4.62,3.98,4.29,4.83,3.71,4.61,3.90,3.20]\n",
    "y=[2.48,2.27,2.47,2.77,2.98,3.05,3.18,3.46,3.03,3.25,2.67,2.53]\n",
    "\n",
    "alpha=0.05 # 95% 신뢰 수준\n",
    "t_stat, p=independent_ttest(x,y,alpha)\n",
    "print(f't = {t_stat:.3f}, p-value = {p:f}')\n",
    "\n",
    "if p>alpha:\n",
    "    print('p-value > 0.05, 귀무가설 채택, 대립가설 기각')\n",
    "else:\n",
    "    print('p-value < 0.05, 귀무가설 기각, 대립가설 채택')"
   ]
  },
  {
   "cell_type": "code",
   "execution_count": 12,
   "metadata": {},
   "outputs": [
    {
     "name": "stdout",
     "output_type": "stream",
     "text": [
      "[-8.         -7.83838384 -7.67676768 -7.51515152 -7.35353535]\n",
      "[3.39767312e-06 4.95353201e-06 7.17671574e-06 1.03327820e-05\n",
      " 1.47840373e-05]\n"
     ]
    },
    {
     "name": "stderr",
     "output_type": "stream",
     "text": [
      "D:\\anaconda3\\lib\\site-packages\\matplotlib\\backends\\backend_agg.py:238: RuntimeWarning: Glyph 8722 missing from current font.\n",
      "  font.set_text(s, 0.0, flags=flags)\n",
      "D:\\anaconda3\\lib\\site-packages\\matplotlib\\backends\\backend_agg.py:201: RuntimeWarning: Glyph 8722 missing from current font.\n",
      "  font.set_text(s, 0, flags=flags)\n"
     ]
    },
    {
     "data": {
      "image/png": "[encoded data removed]",
      "text/plain": [
       "<Figure size 432x288 with 1 Axes>"
      ]
     },
     "metadata": {
      "needs_background": "light"
     },
     "output_type": "display_data"
    }
   ],
   "source": [
    "import matplotlib.pyplot as plt\n",
    "import numpy as np\n",
    "import scipy as sp\n",
    "\n",
    "xx=np.linspace(-8,8,100)\n",
    "rv=sp.stats.norm(loc=1, scale=2) # 정규분포 생성 loc : 기댓값, scale : 표준편차 \n",
    "cdf=rv.cdf(xx) # 누적분포함수(cumulative distribution function)\n",
    "pdf=rv.pdf(xx) # 확률밀도함수(누적분포함수를 미분한 함수)\n",
    "\n",
    "print(xx[:5])\n",
    "print(cdf[:5])\n",
    "plt.plot(xx, pdf)\n",
    "plt.plot(xx, cdf)\n",
    "plt.show()"
   ]
  },
  {
   "cell_type": "code",
   "execution_count": 13,
   "metadata": {},
   "outputs": [
    {
     "name": "stdout",
     "output_type": "stream",
     "text": [
      "[-0.85409574  1.49407907 -0.34791215  0.44386323 -0.18718385]\n",
      "[ 69.16576208 129.94932345  80.01389923 100.30585701 107.20314663]\n",
      "15.896958364551972\n"
     ]
    }
   ],
   "source": [
    "from sklearn.datasets import make_regression\n",
    "# 가상의 회귀분석 데이터 생성 함수\n",
    "X, y, w=make_regression(n_samples=50, n_features=1, bias=100, noise=10, random_state=0, coef=True)\n",
    "# n_features : 독립변수의 개수, bias : y절편, noise : y의 표준편차, coef : 회귀계수(기울기) 사용 여부\n",
    "print(X[:5].flatten())\n",
    "print(y[:5])\n",
    "print(w)"
   ]
  },
  {
   "cell_type": "code",
   "execution_count": 14,
   "metadata": {},
   "outputs": [],
   "source": [
    "import numpy as np\n",
    "xx=np.linspace(-3,3,100)\n",
    "y0=w*xx+100"
   ]
  },
  {
   "cell_type": "code",
   "execution_count": 15,
   "metadata": {},
   "outputs": [
    {
     "data": {
      "text/plain": [
       "Text(0.5, 1.0, 'regression')"
      ]
     },
     "execution_count": 15,
     "metadata": {},
     "output_type": "execute_result"
    },
    {
     "name": "stderr",
     "output_type": "stream",
     "text": [
      "D:\\anaconda3\\lib\\site-packages\\matplotlib\\backends\\backend_agg.py:238: RuntimeWarning: Glyph 8722 missing from current font.\n",
      "  font.set_text(s, 0.0, flags=flags)\n",
      "D:\\anaconda3\\lib\\site-packages\\matplotlib\\backends\\backend_agg.py:201: RuntimeWarning: Glyph 8722 missing from current font.\n",
      "  font.set_text(s, 0, flags=flags)\n"
     ]
    },
    {
     "data": {
      "image/png": "[encoded data removed]",
      "text/plain": [
       "<Figure size 432x288 with 1 Axes>"
      ]
     },
     "metadata": {
      "needs_background": "light"
     },
     "output_type": "display_data"
    }
   ],
   "source": [
    "import matplotlib.pyplot as plt\n",
    "plt.plot(xx, y0, 'r-') # red, 실선\n",
    "plt.scatter(X,y,s=100)\n",
    "plt.xlabel('x')\n",
    "plt.ylabel('y')\n",
    "plt.title('regression')"
   ]
  }
 ],
 "metadata": {
  "interpreter": {
   "hash": "7b4b4feff2f24a0f0a34464dbe537a36fda679851528fb8735cb41fa49dffb2d"
  },
  "kernelspec": {
   "display_name": "Python 3.8.8 64-bit ('base': conda)",
   "language": "python",
   "name": "python3"
  },
  "language_info": {
   "codemirror_mode": {
    "name": "ipython",
    "version": 3
   },
   "file_extension": ".py",
   "mimetype": "text/x-python",
   "name": "python",
   "nbconvert_exporter": "python",
   "pygments_lexer": "ipython3",
   "version": "3.8.8"
  },
  "orig_nbformat": 4
 },
 "nbformat": 4,
 "nbformat_minor": 2
}
