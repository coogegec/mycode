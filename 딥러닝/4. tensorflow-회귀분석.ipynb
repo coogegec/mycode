{
 "cells": [
  {
   "cell_type": "code",
   "execution_count": 1,
   "metadata": {},
   "outputs": [
    {
     "name": "stdout",
     "output_type": "stream",
     "text": [
      "WARNING:tensorflow:From D:\\anaconda3\\lib\\site-packages\\tensorflow\\python\\compat\\v2_compat.py:111: disable_resource_variables (from tensorflow.python.ops.variable_scope) is deprecated and will be removed in a future version.\n",
      "Instructions for updating:\n",
      "non-resource variables are not supported in the long term\n"
     ]
    }
   ],
   "source": [
    "import tensorflow.compat.v1 as tf # 하위 버전과의 호환성을 위해 텐서플로 1.0버전으로 작성\n",
    "tf.disable_v2_behavior()\n",
    "\n",
    "# 파라미터 설정(실험을 통해 구해야 하는 값)\n",
    "learning_rate=0.01 # 학습률\n",
    "epochs=1000 # 학습 횟수\n",
    "step_display=50 # 진행 상태를 출력할 단계"
   ]
  },
  {
   "cell_type": "code",
   "execution_count": 10,
   "metadata": {},
   "outputs": [],
   "source": [
    "# 회귀분석 : 전기 생산량과 소비량\n",
    "x=[3.52,2.58,3.31,4.07,4.62,3.98,4.29,4.83,3.71,4.61,3.90,3.20] # 월별 전기 생산 금액(억원)\n",
    "y=[2.48,2.27,2.47,2.77,2.98,3.05,3.18,3.46,3.03,3.25,2.67,2.53] # 월별 전기 사용량(백만kWh)"
   ]
  },
  {
   "cell_type": "code",
   "execution_count": 11,
   "metadata": {},
   "outputs": [],
   "source": [
    "# 가중치(weight)와 절편(bias)\n",
    "weight=tf.Variable(tf.random_uniform([1],-1.0,1.0), name=\"weight\")\n",
    "bias=tf.Variable(tf.random_uniform([1],-1.0,1.0), name=\"bias\")\n",
    "# tf.random_uniform([1] 변수의 형태, -1.0 최솟값, 1.0 최댓값) 무작위 수 초기화\n",
    "# -1.0 ~ 1.0 사이의 값 생성\n",
    "# name : 값의 변화를 추적하거나 살펴보기 쉽게 하기 위해 이름을 붙임"
   ]
  },
  {
   "cell_type": "code",
   "execution_count": 12,
   "metadata": {},
   "outputs": [],
   "source": [
    "# placeholder : 학습용 데이터를 담는 그릇. 그래프에서 x(입력값)를 저장하는 저장소\n",
    "X=tf.placeholder(dtype=tf.float32, name=\"X\")\n",
    "Y=tf.placeholder(dtype=tf.float32, name=\"Y\")\n",
    "# dtype : 자료형, shape : 행렬의 차원, name : placeholder의 이름\n",
    "# 그래프에 구축할 때는 메모리에 저장하지 않고 그래프를 실행할 때 피드하면서 메모리에 저장됨"
   ]
  },
  {
   "cell_type": "code",
   "execution_count": 13,
   "metadata": {},
   "outputs": [],
   "source": [
    "y_pred=tf.add(tf.multiply(weight, X), bias) # y = W*x + b , W와 X가 행렬이 아니므로 matmul이 아닌 multiply\n",
    "cost=tf.reduce_mean(tf.square(y_pred - Y)) # 손실함수(비용함수) : 예측값과 실제값의 거리를 계산하는 함수\n",
    "optimizer=tf.train.AdamOptimizer(learning_rate).minimize(cost) # 비용을 최소화시킴"
   ]
  },
  {
   "cell_type": "code",
   "execution_count": 14,
   "metadata": {},
   "outputs": [],
   "source": [
    "init=tf.global_variables_initializer() # 변수 초기화\n",
    "# 세션 생성 및 시작\n",
    "sess=tf.Session()\n",
    "sess.run(init)"
   ]
  },
  {
   "cell_type": "code",
   "execution_count": 15,
   "metadata": {},
   "outputs": [
    {
     "name": "stdout",
     "output_type": "stream",
     "text": [
      "Epoch : 50, cost : 11.873051643371582, weight : [-0.0511193], bias : [-0.33968538]\n",
      "Epoch : 100, cost : 3.0437068939208984, weight : [0.292151], bias : [0.00420042]\n",
      "Epoch : 150, cost : 0.5565505027770996, weight : [0.4946773], bias : [0.20813583]\n",
      "Epoch : 200, cost : 0.0929059386253357, weight : [0.5898791], bias : [0.30555356]\n",
      "Epoch : 250, cost : 0.037676818668842316, weight : [0.62473464], bias : [0.34326047]\n",
      "Epoch : 300, cost : 0.03351732715964317, weight : [0.63428646], bias : [0.35612413]\n",
      "Epoch : 350, cost : 0.03325197473168373, weight : [0.63580275], bias : [0.36131132]\n",
      "Epoch : 400, cost : 0.0331556461751461, weight : [0.6353667], bias : [0.3648588]\n",
      "Epoch : 450, cost : 0.03305748477578163, weight : [0.6345459], bias : [0.36831215]\n",
      "Epoch : 500, cost : 0.032953664660453796, weight : [0.633632], bias : [0.37194905]\n",
      "Epoch : 550, cost : 0.03284452483057976, weight : [0.63266224], bias : [0.3757962]\n",
      "Epoch : 600, cost : 0.032730381935834885, weight : [0.63164085], bias : [0.37984836]\n",
      "Epoch : 650, cost : 0.03261156007647514, weight : [0.63056946], bias : [0.384099]\n",
      "Epoch : 700, cost : 0.03248833119869232, weight : [0.6294497], bias : [0.38854206]\n",
      "Epoch : 750, cost : 0.03236104175448418, weight : [0.6282827], bias : [0.3931719]\n",
      "Epoch : 800, cost : 0.03222991153597832, weight : [0.62707], bias : [0.3979835]\n",
      "Epoch : 850, cost : 0.03209521621465683, weight : [0.6258127], bias : [0.4029719]\n",
      "Epoch : 900, cost : 0.03195725008845329, weight : [0.6245121], bias : [0.4081323]\n",
      "Epoch : 950, cost : 0.03181625157594681, weight : [0.6231692], bias : [0.41346028]\n",
      "Epoch : 1000, cost : 0.03167245537042618, weight : [0.6217851], bias : [0.41895136]\n"
     ]
    }
   ],
   "source": [
    "for epoch in range(epochs):\n",
    "    _, cost_val=sess.run([optimizer, cost], feed_dict={X:x, Y:y})\n",
    "    if (epoch+1)%step_display == 0:\n",
    "        print(f\"Epoch : {epoch+1}, cost : {cost_val}, weight : {sess.run(weight)}, bias : {sess.run(bias)}\")"
   ]
  },
  {
   "cell_type": "code",
   "execution_count": 16,
   "metadata": {},
   "outputs": [
    {
     "name": "stdout",
     "output_type": "stream",
     "text": [
      "최종 cost : 0.031672455\n",
      "정확도 : 99.96832754462957\n",
      "최종 가중치 : [0.6217851]\n",
      "최종 절편 : [0.41895136]\n"
     ]
    }
   ],
   "source": [
    "training_cost=sess.run(cost, feed_dict={X:x, Y:y})\n",
    "print(\"최종 cost :\", cost_val)\n",
    "print(\"정확도 :\", 100-cost_val)\n",
    "print(\"최종 가중치 :\", sess.run(weight))\n",
    "print(\"최종 절편 :\", sess.run(bias))"
   ]
  },
  {
   "cell_type": "code",
   "execution_count": 9,
   "metadata": {},
   "outputs": [
    {
     "name": "stdout",
     "output_type": "stream",
     "text": [
      "X : 5, Y : [3.1952467]\n",
      "X : 2.5, Y : [2.443882]\n"
     ]
    }
   ],
   "source": [
    "print(\"X : 5, Y :\", sess.run(y_pred, feed_dict={X: 5}))\n",
    "print(\"X : 2.5, Y :\", sess.run(y_pred, feed_dict={X: 2.5}))"
   ]
  },
  {
   "cell_type": "code",
   "execution_count": 17,
   "metadata": {},
   "outputs": [
    {
     "data": {
      "image/png": "[encoded data removed]",
      "text/plain": [
       "<Figure size 432x288 with 1 Axes>"
      ]
     },
     "metadata": {
      "needs_background": "light"
     },
     "output_type": "display_data"
    }
   ],
   "source": [
    "import matplotlib.pyplot as plt\n",
    "from matplotlib import font_manager,rc\n",
    "\n",
    "font_name=font_manager.FontProperties(fname=\"c:/windows/fonts/malgun.ttf\").get_name()\n",
    "rc('font', family=font_name)\n",
    "\n",
    "plt.plot(x,y,'ro') # red, o\n",
    "plt.plot(x, sess.run(weight)*x+sess.run(bias))\n",
    "plt.xlabel('전기생산량')\n",
    "plt.xlabel('전기사용량')\n",
    "plt.show()"
   ]
  },
  {
   "cell_type": "code",
   "execution_count": 18,
   "metadata": {},
   "outputs": [],
   "source": [
    "sess.close() # 세션 종료"
   ]
  }
 ],
 "metadata": {
  "interpreter": {
   "hash": "7b4b4feff2f24a0f0a34464dbe537a36fda679851528fb8735cb41fa49dffb2d"
  },
  "kernelspec": {
   "display_name": "Python 3.8.8 64-bit ('base': conda)",
   "language": "python",
   "name": "python3"
  },
  "language_info": {
   "codemirror_mode": {
    "name": "ipython",
    "version": 3
   },
   "file_extension": ".py",
   "mimetype": "text/x-python",
   "name": "python",
   "nbconvert_exporter": "python",
   "pygments_lexer": "ipython3",
   "version": "3.8.8"
  },
  "orig_nbformat": 4
 },
 "nbformat": 4,
 "nbformat_minor": 2
}
