{
 "cells": [
  {
   "cell_type": "code",
   "execution_count": 1,
   "metadata": {},
   "outputs": [
    {
     "data": {
      "text/plain": [
       "'2.7.0'"
      ]
     },
     "execution_count": 1,
     "metadata": {},
     "output_type": "execute_result"
    }
   ],
   "source": [
    "import tensorflow as tf\n",
    "tf.__version__"
   ]
  },
  {
   "cell_type": "code",
   "execution_count": 2,
   "metadata": {},
   "outputs": [
    {
     "data": {
      "text/plain": [
       "[PhysicalDevice(name='/physical_device:GPU:0', device_type='GPU')]"
      ]
     },
     "execution_count": 2,
     "metadata": {},
     "output_type": "execute_result"
    }
   ],
   "source": [
    "tf.config.list_physical_devices('GPU')"
   ]
  },
  {
   "cell_type": "code",
   "execution_count": 3,
   "metadata": {},
   "outputs": [
    {
     "data": {
      "text/plain": [
       "[name: \"/device:CPU:0\"\n",
       " device_type: \"CPU\"\n",
       " memory_limit: 268435456\n",
       " locality {\n",
       " }\n",
       " incarnation: 3735716130214030674\n",
       " xla_global_id: -1,\n",
       " name: \"/device:GPU:0\"\n",
       " device_type: \"GPU\"\n",
       " memory_limit: 1398373991\n",
       " locality {\n",
       "   bus_id: 1\n",
       "   links {\n",
       "   }\n",
       " }\n",
       " incarnation: 2874555411126317602\n",
       " physical_device_desc: \"device: 0, name: NVIDIA GeForce GT 1030, pci bus id: 0000:01:00.0, compute capability: 6.1\"\n",
       " xla_global_id: 416903419]"
      ]
     },
     "execution_count": 3,
     "metadata": {},
     "output_type": "execute_result"
    }
   ],
   "source": [
    "from tensorflow.python.client import device_lib\n",
    "\n",
    "device_lib.list_local_devices() # 실행 가능한 cpu, gpu 목록"
   ]
  },
  {
   "cell_type": "code",
   "execution_count": 4,
   "metadata": {},
   "outputs": [
    {
     "name": "stdout",
     "output_type": "stream",
     "text": [
      "[PhysicalDevice(name='/physical_device:GPU:0', device_type='GPU')]\n"
     ]
    }
   ],
   "source": [
    "gpus=tf.config.experimental.list_physical_devices('GPU') # 실행 가능한 gpu 목록\n",
    "print(gpus)"
   ]
  },
  {
   "cell_type": "code",
   "execution_count": 5,
   "metadata": {},
   "outputs": [
    {
     "name": "stdout",
     "output_type": "stream",
     "text": [
      "Executing op _EagerConst in device /job:localhost/replica:0/task:0/device:GPU:0\n",
      "Executing op _EagerConst in device /job:localhost/replica:0/task:0/device:GPU:0\n",
      "Executing op MatMul in device /job:localhost/replica:0/task:0/device:CPU:0\n",
      "tf.Tensor(\n",
      "[[22 28]\n",
      " [49 64]], shape=(2, 2), dtype=int32)\n"
     ]
    }
   ],
   "source": [
    "# 기본적으로 gpu로 실행됨\n",
    "tf.debugging.set_log_device_placement(True)\n",
    "\n",
    "a=tf.constant([[1,2,3],[4,5,6]])\n",
    "b=tf.constant([[1,2],[3,4],[5,6]])\n",
    "c=tf.matmul(a,b)\n",
    "print(c)"
   ]
  },
  {
   "cell_type": "code",
   "execution_count": 3,
   "metadata": {},
   "outputs": [
    {
     "name": "stdout",
     "output_type": "stream",
     "text": [
      "Executing op MatMul in device /job:localhost/replica:0/task:0/device:CPU:0\n",
      "tf.Tensor(\n",
      "[[22 28]\n",
      " [49 64]], shape=(2, 2), dtype=int32)\n"
     ]
    }
   ],
   "source": [
    "tf.debugging.set_log_device_placement(True)\n",
    "# cpu에서 실행시키는 방법\n",
    "with tf.device('/CPU:0'):\n",
    "    a=tf.constant([[1,2,3],[4,5,6]])\n",
    "    b=tf.constant([[1,2],[3,4],[5,6]])\n",
    "    c=tf.matmul(a,b)\n",
    "    print(c)"
   ]
  },
  {
   "cell_type": "code",
   "execution_count": 2,
   "metadata": {},
   "outputs": [
    {
     "name": "stdout",
     "output_type": "stream",
     "text": [
      "Executing op _EagerConst in device /job:localhost/replica:0/task:0/device:CPU:0\n",
      "Executing op _EagerConst in device /job:localhost/replica:0/task:0/device:CPU:0\n",
      "Executing op MatMul in device /job:localhost/replica:0/task:0/device:CPU:0\n",
      "tf.Tensor(\n",
      "[[22 28]\n",
      " [49 64]], shape=(2, 2), dtype=int32)\n"
     ]
    }
   ],
   "source": [
    "tf.debugging.set_log_device_placement(True)\n",
    "# gpu에서 실행시키는 방법\n",
    "with tf.device('/GPU:0'):\n",
    "    a=tf.constant([[1,2,3],[4,5,6]])\n",
    "    b=tf.constant([[1,2],[3,4],[5,6]])\n",
    "    c=tf.matmul(a,b)\n",
    "    print(c)"
   ]
  },
  {
   "cell_type": "code",
   "execution_count": 4,
   "metadata": {},
   "outputs": [],
   "source": [
    "# gpu memory는 기본적으로 full size로 설정되므로 gpu 메모리를 탄력적으로 사용하는 방법\n",
    "\n",
    "# 텐서플로 v1에서 gpu의 메모리를 설정하는 방법\n",
    "import tensorflow.compat.v1 as tf\n",
    "tf.disable_v2_behavior()\n",
    "\n",
    "config=tf.ConfigProto()\n",
    "config.gpu_options.allow_growth=True # gpu 메모리를 점진적으로 증가시키는 방법\n",
    "config.gpu_options.per_process_gpu_memory_fraction=0.4 # gpu 메모리의 40%만 할당하는 방법\n",
    "session=tf.Session(config=config)\n"
   ]
  },
  {
   "cell_type": "code",
   "execution_count": 1,
   "metadata": {},
   "outputs": [
    {
     "name": "stdout",
     "output_type": "stream",
     "text": [
      "[PhysicalDevice(name='/physical_device:GPU:0', device_type='GPU')]\n"
     ]
    }
   ],
   "source": [
    "# 텐서플로 v2에서 gpu의 메모리를 설정하는 방법\n",
    "import tensorflow as tf\n",
    "\n",
    "gpus=tf.config.experimental.list_physical_devices('GPU')\n",
    "print(gpus)\n",
    "# 메모리 사용량을 직접 지정하는 방법\n",
    "tf.config.experimental.set_virtual_device_configuration(gpus[0],[tf.config.experimental.VirtualDeviceConfiguration(memory_limit=512)])"
   ]
  },
  {
   "cell_type": "code",
   "execution_count": 2,
   "metadata": {},
   "outputs": [
    {
     "name": "stdout",
     "output_type": "stream",
     "text": [
      "3.8.8 (default, Apr 13 2021, 15:08:03) [MSC v.1916 64 bit (AMD64)]\n",
      "2.7.0\n"
     ]
    }
   ],
   "source": [
    "import tensorflow as tf\n",
    "import sys\n",
    "print(sys.version)\n",
    "print(tf.__version__)"
   ]
  },
  {
   "cell_type": "code",
   "execution_count": 3,
   "metadata": {},
   "outputs": [
    {
     "name": "stdout",
     "output_type": "stream",
     "text": [
      "tf.Tensor(b'Hello World', shape=(), dtype=string)\n",
      "b'Hello World'\n",
      "Hello World\n",
      "42\n",
      "[10, 32, 42]\n"
     ]
    }
   ],
   "source": [
    "# 상수 선언\n",
    "hello=tf.constant(\"Hello World\")\n",
    "print(hello)\n",
    "print(hello.numpy())\n",
    "print(hello.numpy().decode('utf-8')) # str 클래스로 변환, b가 사라짐 \n",
    "\n",
    "a=tf.constant(10)\n",
    "b=tf.constant(32)\n",
    "c=tf.add(a, b) # c = a + b\n",
    "print(c.numpy())\n",
    "print([a.numpy(),b.numpy(),c.numpy()])"
   ]
  },
  {
   "cell_type": "code",
   "execution_count": 3,
   "metadata": {},
   "outputs": [
    {
     "name": "stdout",
     "output_type": "stream",
     "text": [
      "7.0\n"
     ]
    }
   ],
   "source": [
    "node1=tf.constant(3.0)\n",
    "node2=tf.constant(4.0)\n",
    "node3=tf.add(node1,node2)\n",
    "print(node3.numpy())"
   ]
  },
  {
   "cell_type": "code",
   "execution_count": 4,
   "metadata": {},
   "outputs": [
    {
     "name": "stdout",
     "output_type": "stream",
     "text": [
      "15.0\n",
      "0.0\n",
      "[12.    7.75 22.94]\n"
     ]
    }
   ],
   "source": [
    "def output(a,b):\n",
    "    return tf.multiply(a,b)\n",
    "\n",
    "print(output(3.0,5.0).numpy())\n",
    "print(output(0.0,6.0).numpy())\n",
    "print(output([2.0,3.1,7.4],[6.0,2.5,3.1]).numpy())"
   ]
  },
  {
   "cell_type": "code",
   "execution_count": 5,
   "metadata": {},
   "outputs": [
    {
     "data": {
      "text/plain": [
       "array([0.21000001, 0.51000005, 0.81000006, 1.11      ], dtype=float32)"
      ]
     },
     "execution_count": 5,
     "metadata": {},
     "output_type": "execute_result"
    }
   ],
   "source": [
    "# 텐서플로의 변수 선언\n",
    "W=tf.Variable([0.3], dtype=tf.float32)\n",
    "b=tf.Variable([-0.3], dtype=tf.float32)\n",
    "\n",
    "def linear_model(x):\n",
    "    return tf.multiply(W, tf.add(x,b))\n",
    "\n",
    "x=[1.,2.,3.,4.]\n",
    "linear_model(x).numpy() # x의 값에 따라 linear_model 계산"
   ]
  },
  {
   "cell_type": "code",
   "execution_count": 6,
   "metadata": {},
   "outputs": [
    {
     "name": "stdout",
     "output_type": "stream",
     "text": [
      "X\n",
      " [[1 2 3]\n",
      " [4 5 6]]\n",
      "W\n",
      " [[7 3]\n",
      " [1 2]\n",
      " [4 7]]\n",
      "b\n",
      " [[5]\n",
      " [7]]\n",
      "Result\n",
      " [[26 33]\n",
      " [64 71]]\n"
     ]
    }
   ],
   "source": [
    "import numpy as np\n",
    "\n",
    "X=np.array([[1,2,3],[4,5,6]])\n",
    "print('X\\n',X)\n",
    "# 3행 2열의 랜덤\n",
    "W=np.array([[np.random.randint(10) for col in range(2)] for row in range(3)])\n",
    "print('W\\n',W)\n",
    "b=np.array([[np.random.randint(10) for col in range(1)] for row in range(2)])\n",
    "print('b\\n',b)\n",
    "\n",
    "def expr(X):\n",
    "    return tf.matmul(X,W) + b # 행렬 곱셈\n",
    "\n",
    "print('Result\\n', expr(X).numpy())"
   ]
  },
  {
   "cell_type": "code",
   "execution_count": 7,
   "metadata": {},
   "outputs": [
    {
     "name": "stdout",
     "output_type": "stream",
     "text": [
      "WARNING:tensorflow:From D:\\anaconda3\\lib\\site-packages\\tensorflow\\python\\compat\\v2_compat.py:111: disable_resource_variables (from tensorflow.python.ops.variable_scope) is deprecated and will be removed in a future version.\n",
      "Instructions for updating:\n",
      "non-resource variables are not supported in the long term\n",
      "7 × 1 = 7\n",
      "7 × 2 = 14\n",
      "7 × 3 = 21\n",
      "7 × 4 = 28\n",
      "7 × 5 = 35\n",
      "7 × 6 = 42\n",
      "7 × 7 = 49\n",
      "7 × 8 = 56\n",
      "7 × 9 = 63\n"
     ]
    }
   ],
   "source": [
    "import tensorflow.compat.v1 as tf # v1 활성화\n",
    "tf.disable_v2_behavior() # v2 비활성화\n",
    "\n",
    "def gugu(dan):\n",
    "    # 플레이스홀더 선언 (그래프에 입력할 변수)\n",
    "    left=tf.placeholder(tf.int32)\n",
    "    right=tf.placeholder(tf.int32)\n",
    "    calc=tf.multiply(left, right) # 그래프의 수식\n",
    "\n",
    "    with tf.Session() as sess: # 세션이 생성됨\n",
    "        for i in range(1,10):\n",
    "            result=sess.run(calc, feed_dict={left: dan, right: i})\n",
    "            # 세션.run(실행할 함수, feed_dict={변수: 입력할 값})\n",
    "            print(f'{dan} × {i} = {result}')\n",
    "\n",
    "gugu(7)"
   ]
  },
  {
   "cell_type": "code",
   "execution_count": 1,
   "metadata": {},
   "outputs": [
    {
     "name": "stdout",
     "output_type": "stream",
     "text": [
      "7 × 1 = 7\n",
      "7 × 2 = 14\n",
      "7 × 3 = 21\n",
      "7 × 4 = 28\n",
      "7 × 5 = 35\n",
      "7 × 6 = 42\n",
      "7 × 7 = 49\n",
      "7 × 8 = 56\n",
      "7 × 9 = 63\n"
     ]
    }
   ],
   "source": [
    "import tensorflow as tf\n",
    "\n",
    "def calc(left, right):\n",
    "    return tf.multiply(left, right)\n",
    "\n",
    "def gugu(dan):\n",
    "    for i in range(1,10):\n",
    "        result=calc(dan,i)\n",
    "        print(f'{dan} × {i} = {result}')\n",
    "\n",
    "gugu(7)"
   ]
  }
 ],
 "metadata": {
  "interpreter": {
   "hash": "7b4b4feff2f24a0f0a34464dbe537a36fda679851528fb8735cb41fa49dffb2d"
  },
  "kernelspec": {
   "display_name": "Python 3.8.8 64-bit ('base': conda)",
   "language": "python",
   "name": "python3"
  },
  "language_info": {
   "codemirror_mode": {
    "name": "ipython",
    "version": 3
   },
   "file_extension": ".py",
   "mimetype": "text/x-python",
   "name": "python",
   "nbconvert_exporter": "python",
   "pygments_lexer": "ipython3",
   "version": "3.8.8"
  },
  "orig_nbformat": 4
 },
 "nbformat": 4,
 "nbformat_minor": 2
}
