{
 "cells": [
  {
   "cell_type": "code",
   "execution_count": 1,
   "metadata": {},
   "outputs": [
    {
     "name": "stderr",
     "output_type": "stream",
     "text": [
      "<__array_function__ internals>:5: VisibleDeprecationWarning: Creating an ndarray from ragged nested sequences (which is a list-or-tuple of lists-or-tuples-or ndarrays with different lengths or shapes) is deprecated. If you meant to do this, you must specify 'dtype=object' when creating the ndarray\n",
      "D:\\anaconda3\\lib\\site-packages\\tensorflow\\python\\keras\\datasets\\imdb.py:159: VisibleDeprecationWarning: Creating an ndarray from ragged nested sequences (which is a list-or-tuple of lists-or-tuples-or ndarrays with different lengths or shapes) is deprecated. If you meant to do this, you must specify 'dtype=object' when creating the ndarray\n",
      "  x_train, y_train = np.array(xs[:idx]), np.array(labels[:idx])\n",
      "D:\\anaconda3\\lib\\site-packages\\tensorflow\\python\\keras\\datasets\\imdb.py:160: VisibleDeprecationWarning: Creating an ndarray from ragged nested sequences (which is a list-or-tuple of lists-or-tuples-or ndarrays with different lengths or shapes) is deprecated. If you meant to do this, you must specify 'dtype=object' when creating the ndarray\n",
      "  x_test, y_test = np.array(xs[idx:]), np.array(labels[idx:])\n"
     ]
    }
   ],
   "source": [
    "from tensorflow.keras.datasets import imdb\n",
    "from tensorflow.keras.preprocessing import sequence\n",
    "\n",
    "(X_train, y_train), (X_test, y_test)=imdb.load_data(num_words=5000)\n",
    "X_train=sequence.pad_sequences(X_train, maxlen=500)\n",
    "X_test=sequence.pad_sequences(X_test, maxlen=500)"
   ]
  },
  {
   "cell_type": "code",
   "execution_count": 4,
   "metadata": {},
   "outputs": [],
   "source": [
    "from tensorflow.keras.models import Sequential\n",
    "from tensorflow.keras.layers import Embedding\n",
    "from tensorflow.keras.layers import LSTM\n",
    "from tensorflow.keras.layers import Dense\n",
    "\n",
    "embedding_vector_length=32\n",
    "model=Sequential()\n",
    "model.add(Embedding(5000, embedding_vector_length, input_length=500))\n",
    "model.add(LSTM(100))\n",
    "model.add(Dense(1, activation='sigmoid'))\n",
    "model.compile(loss='binary_crossentropy', optimizer='adam', metrics=['accuracy'])"
   ]
  },
  {
   "cell_type": "code",
   "execution_count": 5,
   "metadata": {},
   "outputs": [
    {
     "name": "stdout",
     "output_type": "stream",
     "text": [
      "Epoch 1/10\n",
      "274/274 [==============================] - 138s 496ms/step - loss: 0.6039 - accuracy: 0.6476 - val_loss: 0.3439 - val_accuracy: 0.8531\n",
      "Epoch 2/10\n",
      "274/274 [==============================] - 137s 500ms/step - loss: 0.3085 - accuracy: 0.8735 - val_loss: 0.3454 - val_accuracy: 0.8499\n",
      "Epoch 3/10\n",
      "274/274 [==============================] - 139s 507ms/step - loss: 0.2536 - accuracy: 0.8998 - val_loss: 0.3207 - val_accuracy: 0.8688\n",
      "Epoch 4/10\n",
      "274/274 [==============================] - 139s 509ms/step - loss: 0.2567 - accuracy: 0.8997 - val_loss: 0.3577 - val_accuracy: 0.8455\n",
      "Epoch 5/10\n",
      "274/274 [==============================] - 139s 508ms/step - loss: 0.2042 - accuracy: 0.9229 - val_loss: 0.3513 - val_accuracy: 0.8729\n",
      "Epoch 6/10\n",
      "274/274 [==============================] - 135s 493ms/step - loss: 0.1538 - accuracy: 0.9444 - val_loss: 0.3791 - val_accuracy: 0.8561\n",
      "Epoch 7/10\n",
      "274/274 [==============================] - 135s 494ms/step - loss: 0.1444 - accuracy: 0.9492 - val_loss: 0.3739 - val_accuracy: 0.8649\n",
      "Epoch 8/10\n",
      "274/274 [==============================] - 136s 497ms/step - loss: 0.1439 - accuracy: 0.9476 - val_loss: 0.3957 - val_accuracy: 0.8637\n",
      "Epoch 9/10\n",
      "274/274 [==============================] - 136s 496ms/step - loss: 0.1331 - accuracy: 0.9531 - val_loss: 0.4027 - val_accuracy: 0.8505\n",
      "Epoch 10/10\n",
      "274/274 [==============================] - 138s 504ms/step - loss: 0.1137 - accuracy: 0.9602 - val_loss: 0.4341 - val_accuracy: 0.8620\n"
     ]
    }
   ],
   "source": [
    "from tensorflow.keras.callbacks import EarlyStopping\n",
    "\n",
    "early_stopping=EarlyStopping(patience=2)\n",
    "hist=model.fit(X_train, y_train, epochs=10, validation_split=0.3, batch_size=64)"
   ]
  },
  {
   "cell_type": "code",
   "execution_count": 6,
   "metadata": {},
   "outputs": [
    {
     "name": "stdout",
     "output_type": "stream",
     "text": [
      "782/782 [==============================] - 37s 47ms/step - loss: 0.1844 - accuracy: 0.94263s - loss: 0.155 - ETA: 2s - loss: 0.1616 - \n",
      "Accuracy : 94.26\n",
      "782/782 [==============================] - 38s 49ms/step - loss: 0.4518 - accuracy: 0.8564\n",
      "Accuracy : 85.64\n"
     ]
    }
   ],
   "source": [
    "scores=model.evaluate(X_train, y_train, verbose=1)\n",
    "print(f'Accuracy : {scores[1]*100:.2f}')\n",
    "scores=model.evaluate(X_test, y_test, verbose=1)\n",
    "print(f'Accuracy : {scores[1]*100:.2f}')"
   ]
  },
  {
   "cell_type": "code",
   "execution_count": 8,
   "metadata": {},
   "outputs": [
    {
     "name": "stdout",
     "output_type": "stream",
     "text": [
      "Using matplotlib backend: Qt5Agg\n"
     ]
    }
   ],
   "source": [
    "%matplotlib\n",
    "import matplotlib.pyplot as plt\n",
    "\n",
    "plt.figure(figsize=(12,8))\n",
    "plt.plot(hist.history['loss'])\n",
    "plt.plot(hist.history['accuracy'])\n",
    "plt.legend(['loss','accuracy'])\n",
    "plt.grid()\n",
    "plt.show()"
   ]
  },
  {
   "cell_type": "code",
   "execution_count": 9,
   "metadata": {},
   "outputs": [
    {
     "data": {
      "text/html": [
       "<div>\n",
       "<style scoped>\n",
       "    .dataframe tbody tr th:only-of-type {\n",
       "        vertical-align: middle;\n",
       "    }\n",
       "\n",
       "    .dataframe tbody tr th {\n",
       "        vertical-align: top;\n",
       "    }\n",
       "\n",
       "    .dataframe thead th {\n",
       "        text-align: right;\n",
       "    }\n",
       "</style>\n",
       "<table border=\"1\" class=\"dataframe\">\n",
       "  <thead>\n",
       "    <tr style=\"text-align: right;\">\n",
       "      <th></th>\n",
       "      <th>Int'l Plan</th>\n",
       "      <th>VMail Plan</th>\n",
       "      <th>VMail Message</th>\n",
       "      <th>Day Mins</th>\n",
       "      <th>Day Calls</th>\n",
       "      <th>Day Charge</th>\n",
       "      <th>Eve Mins</th>\n",
       "      <th>Eve Calls</th>\n",
       "      <th>Eve Charge</th>\n",
       "      <th>Night Mins</th>\n",
       "      <th>Night Calls</th>\n",
       "      <th>Night Charge</th>\n",
       "      <th>Intl Mins</th>\n",
       "      <th>Intl Calls</th>\n",
       "      <th>Intl Charge</th>\n",
       "      <th>CustServ Calls</th>\n",
       "      <th>Churn</th>\n",
       "    </tr>\n",
       "  </thead>\n",
       "  <tbody>\n",
       "    <tr>\n",
       "      <th>0</th>\n",
       "      <td>0</td>\n",
       "      <td>1</td>\n",
       "      <td>25</td>\n",
       "      <td>265.1</td>\n",
       "      <td>110</td>\n",
       "      <td>45.07</td>\n",
       "      <td>197.4</td>\n",
       "      <td>99</td>\n",
       "      <td>16.78</td>\n",
       "      <td>244.7</td>\n",
       "      <td>91</td>\n",
       "      <td>11.01</td>\n",
       "      <td>10.0</td>\n",
       "      <td>3</td>\n",
       "      <td>2.70</td>\n",
       "      <td>1</td>\n",
       "      <td>0</td>\n",
       "    </tr>\n",
       "    <tr>\n",
       "      <th>1</th>\n",
       "      <td>0</td>\n",
       "      <td>1</td>\n",
       "      <td>26</td>\n",
       "      <td>161.6</td>\n",
       "      <td>123</td>\n",
       "      <td>27.47</td>\n",
       "      <td>195.5</td>\n",
       "      <td>103</td>\n",
       "      <td>16.62</td>\n",
       "      <td>254.4</td>\n",
       "      <td>103</td>\n",
       "      <td>11.45</td>\n",
       "      <td>13.7</td>\n",
       "      <td>3</td>\n",
       "      <td>3.70</td>\n",
       "      <td>1</td>\n",
       "      <td>0</td>\n",
       "    </tr>\n",
       "    <tr>\n",
       "      <th>2</th>\n",
       "      <td>0</td>\n",
       "      <td>0</td>\n",
       "      <td>0</td>\n",
       "      <td>243.4</td>\n",
       "      <td>114</td>\n",
       "      <td>41.38</td>\n",
       "      <td>121.2</td>\n",
       "      <td>110</td>\n",
       "      <td>10.30</td>\n",
       "      <td>162.6</td>\n",
       "      <td>104</td>\n",
       "      <td>7.32</td>\n",
       "      <td>12.2</td>\n",
       "      <td>5</td>\n",
       "      <td>3.29</td>\n",
       "      <td>0</td>\n",
       "      <td>0</td>\n",
       "    </tr>\n",
       "    <tr>\n",
       "      <th>3</th>\n",
       "      <td>1</td>\n",
       "      <td>0</td>\n",
       "      <td>0</td>\n",
       "      <td>299.4</td>\n",
       "      <td>71</td>\n",
       "      <td>50.90</td>\n",
       "      <td>61.9</td>\n",
       "      <td>88</td>\n",
       "      <td>5.26</td>\n",
       "      <td>196.9</td>\n",
       "      <td>89</td>\n",
       "      <td>8.86</td>\n",
       "      <td>6.6</td>\n",
       "      <td>7</td>\n",
       "      <td>1.78</td>\n",
       "      <td>2</td>\n",
       "      <td>0</td>\n",
       "    </tr>\n",
       "    <tr>\n",
       "      <th>4</th>\n",
       "      <td>1</td>\n",
       "      <td>0</td>\n",
       "      <td>0</td>\n",
       "      <td>166.7</td>\n",
       "      <td>113</td>\n",
       "      <td>28.34</td>\n",
       "      <td>148.3</td>\n",
       "      <td>122</td>\n",
       "      <td>12.61</td>\n",
       "      <td>186.9</td>\n",
       "      <td>121</td>\n",
       "      <td>8.41</td>\n",
       "      <td>10.1</td>\n",
       "      <td>3</td>\n",
       "      <td>2.73</td>\n",
       "      <td>3</td>\n",
       "      <td>0</td>\n",
       "    </tr>\n",
       "  </tbody>\n",
       "</table>\n",
       "</div>"
      ],
      "text/plain": [
       "   Int'l Plan  VMail Plan  VMail Message  Day Mins  Day Calls  Day Charge  \\\n",
       "0           0           1             25     265.1        110       45.07   \n",
       "1           0           1             26     161.6        123       27.47   \n",
       "2           0           0              0     243.4        114       41.38   \n",
       "3           1           0              0     299.4         71       50.90   \n",
       "4           1           0              0     166.7        113       28.34   \n",
       "\n",
       "   Eve Mins  Eve Calls  Eve Charge  Night Mins  Night Calls  Night Charge  \\\n",
       "0     197.4         99       16.78       244.7           91         11.01   \n",
       "1     195.5        103       16.62       254.4          103         11.45   \n",
       "2     121.2        110       10.30       162.6          104          7.32   \n",
       "3      61.9         88        5.26       196.9           89          8.86   \n",
       "4     148.3        122       12.61       186.9          121          8.41   \n",
       "\n",
       "   Intl Mins  Intl Calls  Intl Charge  CustServ Calls  Churn  \n",
       "0       10.0           3         2.70               1      0  \n",
       "1       13.7           3         3.70               1      0  \n",
       "2       12.2           5         3.29               0      0  \n",
       "3        6.6           7         1.78               2      0  \n",
       "4       10.1           3         2.73               3      0  "
      ]
     },
     "execution_count": 9,
     "metadata": {},
     "output_type": "execute_result"
    }
   ],
   "source": [
    "import pandas as pd\n",
    "\n",
    "df=pd.read_csv(\"d:/data/customer/customer.csv\")\n",
    "df.head()"
   ]
  },
  {
   "cell_type": "code",
   "execution_count": 12,
   "metadata": {},
   "outputs": [],
   "source": [
    "train_cols=df.columns[:-1]\n",
    "X=df[train_cols]\n",
    "y=df[\"Churn\"]"
   ]
  },
  {
   "cell_type": "code",
   "execution_count": 13,
   "metadata": {},
   "outputs": [],
   "source": [
    "from imblearn.under_sampling import RandomUnderSampler\n",
    "\n",
    "X_sample, y_sample=RandomUnderSampler(random_state=0).fit_resample(X,y)\n",
    "\n",
    "X_samp=pd.DataFrame(data=X_sample, columns=train_cols)\n",
    "y_samp=pd.DataFrame(data=y_sample, columns=['Churn'])\n",
    "df2=pd.concat([X_samp,y_samp], axis=1)"
   ]
  },
  {
   "cell_type": "code",
   "execution_count": 16,
   "metadata": {},
   "outputs": [
    {
     "name": "stdout",
     "output_type": "stream",
     "text": [
      "0    483\n",
      "1    483\n",
      "Name: Churn, dtype: int64\n"
     ]
    }
   ],
   "source": [
    "print(df2['Churn'].value_counts())\n",
    "\n",
    "X=X_samp[train_cols]\n",
    "y=y_samp[\"Churn\"]"
   ]
  },
  {
   "cell_type": "code",
   "execution_count": 17,
   "metadata": {},
   "outputs": [],
   "source": [
    "from sklearn.model_selection import train_test_split\n",
    "\n",
    "X_train, X_test, y_train, y_test=train_test_split(X, y, test_size=0.3, random_state=10)"
   ]
  },
  {
   "cell_type": "code",
   "execution_count": 19,
   "metadata": {},
   "outputs": [
    {
     "name": "stdout",
     "output_type": "stream",
     "text": [
      "         Int'l Plan    VMail Plan  VMail Message      Day Mins     Day Calls  \\\n",
      "count  6.760000e+02  6.760000e+02   6.760000e+02  6.760000e+02  6.760000e+02   \n",
      "mean   1.607853e-16 -1.527378e-16   1.668619e-16 -7.994920e-16  2.461049e-16   \n",
      "std    1.000000e+00  1.000000e+00   1.000000e+00  1.000000e+00  1.000000e+00   \n",
      "min   -4.571572e-01 -5.518769e-01  -5.335870e-01 -3.121540e+00 -4.836641e+00   \n",
      "25%   -4.571572e-01 -5.518769e-01  -5.335870e-01 -6.292776e-01 -6.314072e-01   \n",
      "50%   -4.571572e-01 -5.518769e-01  -5.335870e-01 -5.332612e-02  3.760733e-02   \n",
      "75%   -4.571572e-01 -5.518769e-01  -5.335870e-01  7.249207e-01  7.066219e-01   \n",
      "max    2.184196e+00  1.809318e+00   3.037748e+00  2.589945e+00  3.048173e+00   \n",
      "\n",
      "         Day Charge      Eve Mins     Eve Calls    Eve Charge    Night Mins  \\\n",
      "count  6.760000e+02  6.760000e+02  6.760000e+02  6.760000e+02  6.760000e+02   \n",
      "mean  -1.533988e-15 -1.216072e-15  1.018252e-16  3.295769e-15 -7.035792e-16   \n",
      "std    1.000000e+00  1.000000e+00  1.000000e+00  1.000000e+00  1.000000e+00   \n",
      "min   -3.121566e+00 -2.745009e+00 -4.453764e+00 -2.745016e+00 -3.178279e+00   \n",
      "25%   -6.291058e-01 -6.896147e-01 -6.596645e-01 -6.900165e-01 -6.585308e-01   \n",
      "50%   -5.351744e-02 -1.202269e-02 -2.020527e-03 -1.092968e-02  5.660946e-02   \n",
      "75%    7.246282e-01  6.726374e-01  7.062114e-01  6.720376e-01  6.846130e-01   \n",
      "max    2.590262e+00  2.813319e+00  2.982671e+00  2.814071e+00  2.575842e+00   \n",
      "\n",
      "        Night Calls  Night Charge     Intl Mins    Intl Calls   Intl Charge  \\\n",
      "count  6.760000e+02  6.760000e+02  6.760000e+02  6.760000e+02  6.760000e+02   \n",
      "mean  -9.262807e-17 -2.746981e-15  5.914894e-16  2.980850e-17  7.220556e-16   \n",
      "std    1.000000e+00  1.000000e+00  1.000000e+00  1.000000e+00  1.000000e+00   \n",
      "min   -2.838761e+00 -3.179457e+00 -3.707284e+00 -1.682996e+00 -3.707239e+00   \n",
      "25%   -7.356897e-01 -6.589192e-01 -6.446512e-01 -5.449112e-01 -6.476822e-01   \n",
      "50%   -9.629447e-03  5.599688e-02 -3.634954e-03 -1.655497e-01 -1.482646e-03   \n",
      "75%    7.164308e-01  6.838398e-01  6.462843e-01  5.931732e-01  6.414200e-01   \n",
      "max    2.869575e+00  2.576534e+00  2.809714e+00  5.904234e+00  2.807507e+00   \n",
      "\n",
      "       CustServ Calls  \n",
      "count    6.760000e+02  \n",
      "mean    -5.395093e-17  \n",
      "std      1.000000e+00  \n",
      "min     -1.159947e+00  \n",
      "25%     -5.454297e-01  \n",
      "50%     -5.454297e-01  \n",
      "75%      6.836053e-01  \n",
      "max      4.370710e+00  \n",
      "       Int'l Plan  VMail Plan  VMail Message    Day Mins   Day Calls  \\\n",
      "count  290.000000  290.000000     290.000000  290.000000  290.000000   \n",
      "mean     0.007357   -0.087780      -0.085374   -0.018888   -0.060108   \n",
      "std      1.007309    0.939938       0.937753    1.034014    0.992331   \n",
      "min     -0.457157   -0.551877      -0.533587   -2.455634   -2.734024   \n",
      "25%     -0.457157   -0.551877      -0.533587   -0.798603   -0.631407   \n",
      "50%     -0.457157   -0.551877      -0.533587   -0.045185   -0.010179   \n",
      "75%     -0.457157   -0.551877      -0.533587    0.744051    0.611048   \n",
      "max      2.184196    1.809318       3.037748    2.524820    2.235798   \n",
      "\n",
      "       Day Charge    Eve Mins   Eve Calls  Eve Charge  Night Mins  \\\n",
      "count  290.000000  290.000000  290.000000  290.000000  290.000000   \n",
      "mean    -0.018871    0.089108    0.085375    0.089053    0.084758   \n",
      "std      1.033986    0.949694    1.004679    0.949645    1.042792   \n",
      "min     -2.455952   -2.893909   -2.632596   -2.893584   -3.677382   \n",
      "25%     -0.798382   -0.583123   -0.609076   -0.583580   -0.619345   \n",
      "50%     -0.044898    0.121799    0.099155    0.122116    0.115388   \n",
      "75%      0.744022    0.688658    0.756799    0.689223    0.789796   \n",
      "max      2.525137    3.054576    3.437963    3.053553    3.163628   \n",
      "\n",
      "       Night Calls  Night Charge   Intl Mins  Intl Calls  Intl Charge  \\\n",
      "count   290.000000    290.000000  290.000000  290.000000   290.000000   \n",
      "mean     -0.106322      0.084789   -0.024879   -0.020346    -0.024584   \n",
      "std       0.940042      1.042762    1.059666    0.887163     1.059149   \n",
      "min      -3.239346     -3.678981   -3.707284   -1.682996    -3.707239   \n",
      "25%      -0.735690     -0.621111   -0.778196   -0.544911    -0.782857   \n",
      "50%      -0.134812      0.115573    0.014171   -0.165550     0.018299   \n",
      "75%       0.566211      0.791536    0.735314    0.593173     0.740328   \n",
      "max       2.519063      3.163132    3.415118    3.248703     3.414144   \n",
      "\n",
      "       CustServ Calls  \n",
      "count      290.000000  \n",
      "mean        -0.113148  \n",
      "std          0.887284  \n",
      "min         -1.159947  \n",
      "25%         -0.545430  \n",
      "50%         -0.545430  \n",
      "75%          0.683605  \n",
      "max          3.141675  \n"
     ]
    }
   ],
   "source": [
    "# 스케일링\n",
    "mean_on_train=X_train.mean(axis=0)\n",
    "std_on_train=X_train.std(axis=0)\n",
    "\n",
    "X_train_scaled=(X_train-mean_on_train)/std_on_train\n",
    "X_test_scaled=(X_test-mean_on_train)/std_on_train\n",
    "\n",
    "print(X_train_scaled.describe())\n",
    "print(X_test_scaled.describe())"
   ]
  },
  {
   "cell_type": "code",
   "execution_count": 29,
   "metadata": {},
   "outputs": [
    {
     "data": {
      "text/plain": [
       "MLPClassifier(hidden_layer_sizes=[100, 100], max_iter=2000, random_state=42)"
      ]
     },
     "execution_count": 29,
     "metadata": {},
     "output_type": "execute_result"
    }
   ],
   "source": [
    "from sklearn.neural_network import MLPClassifier\n",
    "\n",
    "model=MLPClassifier(random_state=42, max_iter=2000, hidden_layer_sizes=[100,100])\n",
    "model.fit(X_train_scaled, y_train)"
   ]
  },
  {
   "cell_type": "code",
   "execution_count": 30,
   "metadata": {},
   "outputs": [
    {
     "name": "stdout",
     "output_type": "stream",
     "text": [
      "학습용 : 1.0\n",
      "검증용 : 0.8344827586206897\n"
     ]
    }
   ],
   "source": [
    "print(\"학습용 :\", model.score(X_train_scaled, y_train))\n",
    "print(\"검증용 :\", model.score(X_test_scaled, y_test))"
   ]
  },
  {
   "cell_type": "code",
   "execution_count": 31,
   "metadata": {},
   "outputs": [
    {
     "data": {
      "text/plain": [
       "array([[127,  24],\n",
       "       [ 24, 115]], dtype=int64)"
      ]
     },
     "execution_count": 31,
     "metadata": {},
     "output_type": "execute_result"
    }
   ],
   "source": [
    "# 혼동 행렬\n",
    "from sklearn.metrics import confusion_matrix\n",
    "\n",
    "pred=model.predict(X_test_scaled)\n",
    "cm=confusion_matrix(y_test, pred)\n",
    "cm"
   ]
  },
  {
   "cell_type": "code",
   "execution_count": 33,
   "metadata": {},
   "outputs": [
    {
     "data": {
      "text/plain": [
       "<AxesSubplot:title={'center':'Confusion Matrix'}>"
      ]
     },
     "execution_count": 33,
     "metadata": {},
     "output_type": "execute_result"
    }
   ],
   "source": [
    "import seaborn as sns\n",
    "\n",
    "sns.set(font_scale=1.4)\n",
    "plt.figure(figsize=(9,6))\n",
    "plt.title(\"Confusion Matrix\")\n",
    "sns.heatmap(cm, annot=True, fmt=\"d\")"
   ]
  }
 ],
 "metadata": {
  "interpreter": {
   "hash": "7b4b4feff2f24a0f0a34464dbe537a36fda679851528fb8735cb41fa49dffb2d"
  },
  "kernelspec": {
   "display_name": "Python 3.8.8 64-bit ('base': conda)",
   "language": "python",
   "name": "python3"
  },
  "language_info": {
   "codemirror_mode": {
    "name": "ipython",
    "version": 3
   },
   "file_extension": ".py",
   "mimetype": "text/x-python",
   "name": "python",
   "nbconvert_exporter": "python",
   "pygments_lexer": "ipython3",
   "version": "3.8.8"
  },
  "orig_nbformat": 4
 },
 "nbformat": 4,
 "nbformat_minor": 2
}
