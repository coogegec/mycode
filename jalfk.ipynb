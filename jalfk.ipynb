{
 "cells": [
  {
   "cell_type": "code",
   "execution_count": 2,
   "metadata": {},
   "outputs": [
    {
     "name": "stdout",
     "output_type": "stream",
     "text": [
      "10진수\n",
      "2진수\n",
      "10100\n"
     ]
    }
   ],
   "source": [
    "print(\"10진수\")\n",
    "x = int(input())\n",
    "y=\"\"\n",
    "print(\"2진수\")\n",
    "while x>0:\n",
    "    y=str(x%2)+y\n",
    "    x//=2\n",
    "print(y)"
   ]
  },
  {
   "cell_type": "code",
   "execution_count": 60,
   "metadata": {},
   "outputs": [
    {
     "name": "stdout",
     "output_type": "stream",
     "text": [
      "9\n",
      "0\n"
     ]
    }
   ],
   "source": [
    "def solution(N):\n",
    "    num=int(N)\n",
    "    binary=\"\"\n",
    "    idx_one=[]\n",
    "    gap=[]\n",
    "    binary_gap=[]\n",
    "    while num>0:\n",
    "        binary=str(num%2)+binary\n",
    "        num//=2\n",
    "    for i in range(0,len(binary)-1):\n",
    "        a=binary.find('1',i,len(binary))\n",
    "        if a>=0:\n",
    "            idx_one.append(a)\n",
    "    for i in idx_one:\n",
    "        if i not in gap:\n",
    "            gap.append(i)\n",
    "    if len(gap)<=1:\n",
    "        return 0\n",
    "    else:\n",
    "        for g in range(0,len(gap)-1):\n",
    "            binary_gap.append(gap[g+1]-gap[g]-1)\n",
    "        return max(binary_gap)\n",
    "\n",
    "print(solution(66561))\n",
    "print(solution(32))"
   ]
  },
  {
   "cell_type": "code",
   "execution_count": 30,
   "metadata": {},
   "outputs": [
    {
     "data": {
      "text/plain": [
       "[0,\n",
       " 1,\n",
       " 1,\n",
       " 2,\n",
       " 3,\n",
       " 5,\n",
       " 8,\n",
       " 13,\n",
       " 21,\n",
       " 34,\n",
       " 55,\n",
       " 89,\n",
       " 144,\n",
       " 233,\n",
       " 377,\n",
       " 610,\n",
       " 987,\n",
       " 1597,\n",
       " 2584,\n",
       " 4181,\n",
       " 6765,\n",
       " 10946,\n",
       " 17711,\n",
       " 28657,\n",
       " 46368,\n",
       " 75025]"
      ]
     },
     "execution_count": 30,
     "metadata": {},
     "output_type": "execute_result"
    }
   ],
   "source": [
    "import math\n",
    "a=(1+math.sqrt(5))/2\n",
    "b=(1-math.sqrt(5))/2\n",
    "\n",
    "Fib=[]\n",
    "for i in range(0,26):\n",
    "    Fib.append(int((a**i-b**i)/math.sqrt(5)))\n",
    "Fib"
   ]
  },
  {
   "cell_type": "code",
   "execution_count": 32,
   "metadata": {},
   "outputs": [
    {
     "data": {
      "text/plain": [
       "[0, 3, 4, 6, 11]"
      ]
     },
     "execution_count": 32,
     "metadata": {},
     "output_type": "execute_result"
    }
   ],
   "source": [
    "A=[1,0,0,1,1,0,1,0,0,0,0]\n",
    "idx=[]\n",
    "for i in range(len(A)):\n",
    "    if A[i]==1:\n",
    "        idx.append(i)\n",
    "idx.append(len(A))\n",
    "idx"
   ]
  },
  {
   "cell_type": "code",
   "execution_count": 34,
   "metadata": {},
   "outputs": [
    {
     "name": "stdout",
     "output_type": "stream",
     "text": [
      "[1, 0, 3, 4, 6, 11, 4, 3, 0, 1, 3, 8, 5, 4, 1, 0, 2, 7, 7, 6, 3, 2, 0, 5, 12, 11, 8, 7, 5, 0]\n"
     ]
    },
    {
     "data": {
      "text/plain": [
       "[1, 2, 3, 5, 8]"
      ]
     },
     "execution_count": 34,
     "metadata": {},
     "output_type": "execute_result"
    }
   ],
   "source": [
    "jump=[]\n",
    "\n",
    "for i in idx:\n",
    "    jump.append(i+1)\n",
    "    for k in idx:\n",
    "        jump.append(abs(i-k))\n",
    "print(jump)\n",
    "\n",
    "jumpable=list(set(Fib)&set(jump))\n",
    "jumpable.remove(0)\n",
    "jumpable"
   ]
  },
  {
   "cell_type": "code",
   "execution_count": 35,
   "metadata": {},
   "outputs": [
    {
     "name": "stdout",
     "output_type": "stream",
     "text": [
      "[-1]\n",
      "True\n",
      "False\n",
      "False\n",
      "True\n",
      "False\n",
      "[0, 4]\n",
      "False\n",
      "False\n",
      "True\n",
      "False\n",
      "False\n",
      "False\n",
      "True\n",
      "False\n",
      "False\n",
      "False\n",
      "[3, 6]\n",
      "True\n",
      "False\n",
      "True\n",
      "False\n",
      "True\n",
      "False\n",
      "False\n",
      "False\n",
      "True\n",
      "False\n"
     ]
    },
    {
     "data": {
      "text/plain": [
       "[4, 6, 11, 11]"
      ]
     },
     "execution_count": 35,
     "metadata": {},
     "output_type": "execute_result"
    }
   ],
   "source": [
    "start=[-1]\n",
    "end=len(A)+1\n",
    "\n",
    "def jumping(X):\n",
    "    cnt=0\n",
    "    Y=[]\n",
    "    Y+=X\n",
    "    print(Y)\n",
    "    X.clear()\n",
    "    for y in Y:\n",
    "        for i in jumpable:\n",
    "            if y+i in idx:\n",
    "                print(True)\n",
    "                X.append(y+i)\n",
    "            else:\n",
    "                print(False)\n",
    "    return X\n",
    "    \n",
    "        \n",
    "\n",
    "jumping(jumping(jumping(start)))\n",
    "    "
   ]
  },
  {
   "cell_type": "code",
   "execution_count": 5,
   "metadata": {},
   "outputs": [
    {
     "data": {
      "text/plain": [
       "-1"
      ]
     },
     "execution_count": 5,
     "metadata": {},
     "output_type": "execute_result"
    }
   ],
   "source": [
    "import math\n",
    "\n",
    "def jumping(X,jumpable,idx):\n",
    "    Y=[]\n",
    "    Y+=X\n",
    "    #print(Y)\n",
    "    X.clear()\n",
    "    for y in Y:\n",
    "        for i in jumpable:\n",
    "            if y+i in idx:\n",
    "                #print(True)\n",
    "                X.append(y+i)\n",
    "            #else:\n",
    "                #print(False)\n",
    "    return X\n",
    "\n",
    "def solution(A):\n",
    "    a=(1+math.sqrt(5))/2\n",
    "    b=(1-math.sqrt(5))/2\n",
    "    Fib=[]\n",
    "    for i in range(0,26):\n",
    "        Fib.append(int((a**i-b**i)/math.sqrt(5)))\n",
    "\n",
    "    idx=[]\n",
    "    for i in range(len(A)):\n",
    "        if A[i]==1:\n",
    "            idx.append(i)\n",
    "    idx.append(len(A))\n",
    "\n",
    "    jump=[]\n",
    "\n",
    "    for i in idx:\n",
    "        jump.append(i+1)\n",
    "        for k in idx:\n",
    "            jump.append(abs(i-k))\n",
    "    #print(jump)\n",
    "\n",
    "    jumpable=list(set(Fib)&set(jump))\n",
    "    jumpable.remove(0)\n",
    "    if jumpable==[]: return -1\n",
    "   # print(jumpable)\n",
    "\n",
    "    start=[-1]\n",
    "    cnt=1\n",
    "    P=jumping(start,jumpable,idx)\n",
    "    while len(A) not in P:\n",
    "        if min(P)>len(A): return -1\n",
    "        P=jumping(P,jumpable,idx)\n",
    "        #print(P)\n",
    "        cnt+=1\n",
    "    return cnt\n",
    "    \n",
    "K=[0,0,0,0,0,0,0,0,1,0,0,0,0,0,0,0,0]\n",
    "solution(K)\n"
   ]
  },
  {
   "cell_type": "code",
   "execution_count": 7,
   "metadata": {},
   "outputs": [
    {
     "name": "stdout",
     "output_type": "stream",
     "text": [
      "False\n"
     ]
    }
   ],
   "source": [
    "A=[1,2,3,4,0]\n",
    "if all(A) > 0:\n",
    "    print(True)\n",
    "else:\n",
    "    print(False)"
   ]
  },
  {
   "cell_type": "code",
   "execution_count": 72,
   "metadata": {},
   "outputs": [
    {
     "data": {
      "text/plain": [
       "'mislav'"
      ]
     },
     "execution_count": 72,
     "metadata": {},
     "output_type": "execute_result"
    }
   ],
   "source": [
    "a=[\"mislav\", \"stanko\", \"mislav\", \"ana\"]\n",
    "#a_dict={name:i for i,name in enumerate(a)}\n",
    "b=[\"stanko\", \"ana\", \"mislav\"]\n",
    "import collections\n",
    "\n",
    "\n",
    "def solution(participant, completion):\n",
    "    answer = collections.Counter(participant) - collections.Counter(completion)\n",
    "    return list(answer.keys())[0]\n",
    "\n",
    "solution(a,b)\n"
   ]
  },
  {
   "cell_type": "code",
   "execution_count": 77,
   "metadata": {},
   "outputs": [
    {
     "data": {
      "text/plain": [
       "dict_keys(['mislav'])"
      ]
     },
     "execution_count": 77,
     "metadata": {},
     "output_type": "execute_result"
    }
   ],
   "source": [
    "c=collections.Counter(a)-collections.Counter(b)\n",
    "c.keys()"
   ]
  },
  {
   "cell_type": "code",
   "execution_count": 7,
   "metadata": {},
   "outputs": [
    {
     "data": {
      "text/plain": [
       "'Y,o,u, ,n,e,e,d, ,P,y,t,h,o,n'"
      ]
     },
     "execution_count": 7,
     "metadata": {},
     "output_type": "execute_result"
    }
   ],
   "source": [
    "a=\"You need Python\"\n",
    "','.join(a)"
   ]
  }
 ],
 "metadata": {
  "interpreter": {
   "hash": "7b4b4feff2f24a0f0a34464dbe537a36fda679851528fb8735cb41fa49dffb2d"
  },
  "kernelspec": {
   "display_name": "Python 3.8.8 64-bit ('base': conda)",
   "language": "python",
   "name": "python3"
  },
  "language_info": {
   "codemirror_mode": {
    "name": "ipython",
    "version": 3
   },
   "file_extension": ".py",
   "mimetype": "text/x-python",
   "name": "python",
   "nbconvert_exporter": "python",
   "pygments_lexer": "ipython3",
   "version": "3.8.8"
  },
  "orig_nbformat": 4
 },
 "nbformat": 4,
 "nbformat_minor": 2
}
