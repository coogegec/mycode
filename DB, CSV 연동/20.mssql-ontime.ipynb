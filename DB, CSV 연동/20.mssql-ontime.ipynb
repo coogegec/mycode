{
 "cells": [
  {
   "cell_type": "code",
   "execution_count": 1,
   "metadata": {},
   "outputs": [
    {
     "name": "stdout",
     "output_type": "stream",
     "text": [
      "('2008', '1', '3', '4', '2003', '1955', '2211', '2225', 'WN', '335', 'N712SW', '128', '150', '116', '-14', '8', 'IAD', 'TPA', '810', '4', '8', '0', '', '0', 'NA', 'NA', 'NA', 'NA', 'NA')\n",
      "('2008', '1', '3', '4', '754', '735', '1002', '1000', 'WN', '3231', 'N772SW', '128', '145', '113', '2', '19', 'IAD', 'TPA', '810', '5', '10', '0', '', '0', 'NA', 'NA', 'NA', 'NA', 'NA')\n",
      "('2008', '1', '3', '4', '628', '620', '804', '750', 'WN', '448', 'N428WN', '96', '90', '76', '14', '8', 'IND', 'BWI', '515', '3', '17', '0', '', '0', 'NA', 'NA', 'NA', 'NA', 'NA')\n",
      "('2008', '1', '3', '4', '926', '930', '1054', '1100', 'WN', '1746', 'N612SW', '88', '90', '78', '-6', '-4', 'IND', 'BWI', '515', '3', '7', '0', '', '0', 'NA', 'NA', 'NA', 'NA', 'NA')\n",
      "('2008', '1', '3', '4', '1829', '1755', '1959', '1925', 'WN', '3920', 'N464WN', '90', '90', '77', '34', '34', 'IND', 'BWI', '515', '3', '10', '0', '', '0', '2', '0', '0', '0', '32')\n"
     ]
    }
   ],
   "source": [
    "import pymssql\n",
    "conn=pymssql.connect(host=r'(local)', database='web',user='sa',password='1234',charset='utf8')\n",
    "\n",
    "cursor=conn.cursor()\n",
    "cursor.execute('select top 5 * from ontime')\n",
    "rows=cursor.fetchall()\n",
    "for row in rows:\n",
    "    print(row)\n",
    "\n",
    "cursor.close()\n",
    "conn.close()"
   ]
  },
  {
   "cell_type": "code",
   "execution_count": 2,
   "metadata": {},
   "outputs": [
    {
     "name": "stdout",
     "output_type": "stream",
     "text": [
      "B6\t12\n",
      "AA\t12\n",
      "UA\t13\n",
      "CO\t13\n",
      "HA\t0\n",
      "XE\t11\n",
      "YV\t11\n",
      "MQ\t10\n",
      "OH\t11\n",
      "9E\t6\n",
      "OO\t7\n",
      "DL\t7\n",
      "US\t5\n",
      "F9\t5\n",
      "AS\t6\n",
      "FL\t9\n",
      "NW\t6\n",
      "WN\t10\n",
      "EV\t11\n",
      "AQ\t-1\n"
     ]
    }
   ],
   "source": [
    "# 항공사별 출발 평균 지연 시간\n",
    "import pymssql\n",
    "conn=pymssql.connect(host=r'(local)', database='web',user='sa',password='1234',charset='utf8')\n",
    "\n",
    "cursor=conn.cursor()\n",
    "cursor.execute('select uniquecarrier, avg(cast(depdelay as int)) from ontime group by uniquecarrier')\n",
    "rows=cursor.fetchall()\n",
    "for row in rows:\n",
    "    print(f'{row[0]}\\t{row[1]}')\n",
    "\n",
    "cursor.close()\n",
    "conn.close()"
   ]
  },
  {
   "cell_type": "code",
   "execution_count": 3,
   "metadata": {},
   "outputs": [
    {
     "name": "stdout",
     "output_type": "stream",
     "text": [
      "B6\t10\n",
      "AA\t12\n",
      "UA\t11\n",
      "CO\t10\n",
      "HA\t1\n",
      "XE\t10\n",
      "YV\t11\n",
      "MQ\t9\n",
      "OH\t11\n",
      "9E\t3\n",
      "OO\t6\n",
      "DL\t7\n",
      "US\t2\n",
      "F9\t6\n",
      "AS\t4\n",
      "FL\t8\n",
      "NW\t7\n",
      "WN\t5\n",
      "EV\t10\n",
      "AQ\t-2\n"
     ]
    }
   ],
   "source": [
    "# 항공사별 도착 평균 지연 시간\n",
    "import pymssql\n",
    "conn=pymssql.connect(host=r'(local)', database='web',user='sa',password='1234',charset='utf8')\n",
    "\n",
    "cursor=conn.cursor()\n",
    "cursor.execute('select uniquecarrier, avg(cast(arrdelay as int)) from ontime group by uniquecarrier')\n",
    "rows=cursor.fetchall()\n",
    "for row in rows:\n",
    "    print(f'{row[0]}\\t{row[1]}')\n",
    "\n",
    "cursor.close()\n",
    "conn.close()"
   ]
  },
  {
   "cell_type": "code",
   "execution_count": 4,
   "metadata": {},
   "outputs": [
    {
     "name": "stdout",
     "output_type": "stream",
     "text": [
      "1\t279427\n",
      "2\t278902\n",
      "3\t294556\n",
      "4\t256142\n",
      "5\t254673\n",
      "6\t295897\n",
      "7\t264630\n",
      "8\t239737\n",
      "9\t169959\n",
      "10\t183582\n",
      "11\t181506\n",
      "12\t280493\n"
     ]
    }
   ],
   "source": [
    "# 2008년 도착 지연 횟수 월별 집계\n",
    "import pymssql\n",
    "conn=pymssql.connect(host=r'(local)', database='web',user='sa',password='1234',charset='utf8')\n",
    "\n",
    "cursor=conn.cursor()\n",
    "cursor.execute('select month,count(*) from ontime where arrdelay>0 group by month order by cast(month as int)')\n",
    "rows=cursor.fetchall()\n",
    "for row in rows:\n",
    "    print(f'{row[0]}\\t{row[1]}')\n",
    "\n",
    "cursor.close()\n",
    "conn.close()"
   ]
  },
  {
   "cell_type": "code",
   "execution_count": 5,
   "metadata": {},
   "outputs": [
    {
     "name": "stdout",
     "output_type": "stream",
     "text": [
      "[1, 2, 3, 4, 5, 6, 7, 8, 9, 10, 11, 12]\n",
      "[279427, 278902, 294556, 256142, 254673, 295897, 264630, 239737, 169959, 183582, 181506, 280493]\n"
     ]
    }
   ],
   "source": [
    "x=list(range(1,13))\n",
    "y=[]\n",
    "for row in rows:\n",
    "    y.append(row[1])\n",
    "print(x)\n",
    "print(y)"
   ]
  },
  {
   "cell_type": "code",
   "execution_count": 8,
   "metadata": {},
   "outputs": [
    {
     "data": {
      "image/png": "[encoded data removed]",
      "text/plain": [
       "<Figure size 432x288 with 1 Axes>"
      ]
     },
     "metadata": {
      "needs_background": "light"
     },
     "output_type": "display_data"
    }
   ],
   "source": [
    "import pandas as pd\n",
    "%matplotlib inline\n",
    "import matplotlib.pyplot as plt\n",
    "\n",
    "plt.plot(x,y)\n",
    "plt.bar(x,y)\n",
    "plt.show()"
   ]
  },
  {
   "cell_type": "code",
   "execution_count": 9,
   "metadata": {},
   "outputs": [
    {
     "name": "stdout",
     "output_type": "stream",
     "text": [
      "1\t8320958\n",
      "2\t7526035\n",
      "3\t6632859\n",
      "4\t8512286\n",
      "5\t11050619\n",
      "6\t4872948\n",
      "7\t9079273\n"
     ]
    }
   ],
   "source": [
    "# 요일별 지연 시간 합계\n",
    "import pymssql\n",
    "conn=pymssql.connect(host=r'(local)', database='web',user='sa',password='1234',charset='utf8')\n",
    "\n",
    "cursor=conn.cursor()\n",
    "cursor.execute('select dayofweek,sum(cast(arrdelay as int)) from ontime group by dayofweek order by dayofweek')\n",
    "rows=cursor.fetchall()\n",
    "for row in rows:\n",
    "    print(f'{row[0]}\\t{row[1]}')\n",
    "\n",
    "cursor.close()\n",
    "conn.close()"
   ]
  },
  {
   "cell_type": "code",
   "execution_count": 10,
   "metadata": {},
   "outputs": [
    {
     "name": "stdout",
     "output_type": "stream",
     "text": [
      "['월', '화', '수', '목', '금', '토', '일']\n",
      "[8320958, 7526035, 6632859, 8512286, 11050619, 4872948, 9079273]\n"
     ]
    }
   ],
   "source": [
    "x=['월','화','수','목','금','토','일']\n",
    "y=[]\n",
    "for row in rows:\n",
    "    y.append(row[1])\n",
    "print(x)\n",
    "print(y)"
   ]
  },
  {
   "cell_type": "code",
   "execution_count": 11,
   "metadata": {},
   "outputs": [
    {
     "data": {
      "image/png": "[encoded data removed]",
      "text/plain": [
       "<Figure size 432x288 with 1 Axes>"
      ]
     },
     "metadata": {
      "needs_background": "light"
     },
     "output_type": "display_data"
    }
   ],
   "source": [
    "import pandas as pd\n",
    "%matplotlib inline\n",
    "import matplotlib.pyplot as plt\n",
    "\n",
    "from matplotlib import rc,font_manager\n",
    "font_name=font_manager.FontProperties(fname='c:/windows/fonts/malgun.ttf').get_name()\n",
    "rc('font',family=font_name)\n",
    "\n",
    "plt.plot(x,y)\n",
    "plt.bar(x,y)\n",
    "plt.show()"
   ]
  },
  {
   "cell_type": "code",
   "execution_count": 13,
   "metadata": {},
   "outputs": [
    {
     "name": "stdout",
     "output_type": "stream",
     "text": [
      "2202\t-28\n",
      "2216\t-22\n",
      "1807\t-20\n",
      "2154\t-17\n",
      "1948\t-16\n"
     ]
    }
   ],
   "source": [
    "# 시간대별 (10월, 월요일에 출발할 때 가장 좋은 시간대는?)\n",
    "import pymssql\n",
    "conn=pymssql.connect(host=r'(local)', database='web',user='sa',password='1234',charset='utf8')\n",
    "\n",
    "cursor=conn.cursor()\n",
    "cursor.execute('''select top 5 CRSDepTime,avg(cast(arrdelay as int)) arrdelay\n",
    "from ontime where month=10 and dayofweek=1\n",
    "group by CRSDepTime order by arrdelay''')\n",
    "rows=cursor.fetchall()\n",
    "for row in rows:\n",
    "    print(f'{row[0]}\\t{row[1]}')\n",
    "\n",
    "cursor.close()\n",
    "conn.close()"
   ]
  }
 ],
 "metadata": {
  "interpreter": {
   "hash": "7b4b4feff2f24a0f0a34464dbe537a36fda679851528fb8735cb41fa49dffb2d"
  },
  "kernelspec": {
   "display_name": "Python 3.8.8 64-bit ('base': conda)",
   "language": "python",
   "name": "python3"
  },
  "language_info": {
   "codemirror_mode": {
    "name": "ipython",
    "version": 3
   },
   "file_extension": ".py",
   "mimetype": "text/x-python",
   "name": "python",
   "nbconvert_exporter": "python",
   "pygments_lexer": "ipython3",
   "version": "3.8.8"
  },
  "orig_nbformat": 4
 },
 "nbformat": 4,
 "nbformat_minor": 2
}
