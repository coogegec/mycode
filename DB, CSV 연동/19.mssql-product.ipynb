{
 "cells": [
  {
   "cell_type": "code",
   "execution_count": 1,
   "metadata": {},
   "outputs": [
    {
     "name": "stdout",
     "output_type": "stream",
     "text": [
      "(1, '레몬', 1500, '레몬에 포함된 구연산은 피로회복에 좋습니다. 비타민 C도 풍부합니다.', 'lemon.jpg')\n",
      "(2, '오렌지', 2000, '비타민 C가 풍부합니다. 생과일 주스로 마시면 좋습니다.', 'orange.jpg')\n",
      "(3, '키위', 3000, '비타민 C가 매우 풍부합니다. 다이어트나 미용에 좋습니다.', 'kiwi.jpg')\n",
      "(4, '포도', 5000, '폴리페놀을 다량 함유하고 있어 항산화 작용을 합니다.', 'grape.jpg')\n",
      "(5, '딸기', 8000, '비타민 C나 플라보노이드를 다량 함유하고 있습니다.', 'strawberry.jpg')\n",
      "(6, '귤', 7000, '시네피린을 함유하고 있어 감기 예방에 좋다고 합니다.', 'tangerine.jpg')\n"
     ]
    }
   ],
   "source": [
    "import pymssql\n",
    "conn=pymssql.connect(host=r'(local)',database='web',user='sa',password='1234',charset='utf8')\n",
    "cursor=conn.cursor()\n",
    "cursor.execute('select * from product')\n",
    "rows=cursor.fetchall()\n",
    "for row in rows:\n",
    "    print(row)\n",
    "\n",
    "conn.close()"
   ]
  },
  {
   "cell_type": "code",
   "execution_count": 5,
   "metadata": {},
   "outputs": [
    {
     "name": "stdout",
     "output_type": "stream",
     "text": [
      "(1, '레몬', 1500, '레몬에 포함된 구연산은 피로회복에 좋습니다. 비타민 C도 풍부합니다.', 'lemon.jpg')\n",
      "(2, '오렌지', 2000, '비타민 C가 풍부합니다. 생과일 주스로 마시면 좋습니다.', 'orange.jpg')\n",
      "(3, '키위', 3000, '비타민 C가 매우 풍부합니다. 다이어트나 미용에 좋습니다.', 'kiwi.jpg')\n",
      "(4, '포도', 5000, '폴리페놀을 다량 함유하고 있어 항산화 작용을 합니다.', 'grape.jpg')\n",
      "(5, '딸기', 8000, '비타민 C나 플라보노이드를 다량 함유하고 있습니다.', 'strawberry.jpg')\n",
      "(6, '귤', 7000, '시네피린을 함유하고 있어 감기 예방에 좋다고 합니다.', 'tangerine.jpg')\n"
     ]
    }
   ],
   "source": [
    "import pymssql\n",
    "conn=pymssql.connect(host=r'(local)',database='web',user='sa',password='1234',charset='utf8')\n",
    "cursor=conn.cursor()\n",
    "\n",
    "cursor.execute('delete from product') # 전체 레코드 삭제\n",
    "conn.commit()\n",
    "\n",
    "# 레코드 추가\n",
    "items=[(1,'레몬',1500,'레몬에 포함된 구연산은 피로회복에 좋습니다. 비타민 C도 풍부합니다.','lemon.jpg'),\n",
    "(2,'오렌지',2000,'비타민 C가 풍부합니다. 생과일 주스로 마시면 좋습니다.','orange.jpg'),\n",
    "(3,'키위',3000,'비타민 C가 매우 풍부합니다. 다이어트나 미용에 좋습니다.','kiwi.jpg'),\n",
    "(4,'포도',5000,'폴리페놀을 다량 함유하고 있어 항산화 작용을 합니다.','grape.jpg'),\n",
    "(5,'딸기',8000,'비타민 C나 플라보노이드를 다량 함유하고 있습니다.','strawberry.jpg'),\n",
    "(6,'귤',7000,'시네피린을 함유하고 있어 감기 예방에 좋다고 합니다.','tangerine.jpg')]\n",
    "\n",
    "for row in items:\n",
    "    print(row)\n",
    "    sql='insert into product values (%s,%s,%s,%s,%s)'\n",
    "    cursor.execute(sql,row)\n",
    "\n",
    "conn.commit()"
   ]
  },
  {
   "cell_type": "code",
   "execution_count": 12,
   "metadata": {},
   "outputs": [
    {
     "name": "stdout",
     "output_type": "stream",
     "text": [
      "상품개수 :  0\n"
     ]
    }
   ],
   "source": [
    "# 레코드 개수\n",
    "cursor.execute('select count(*) from product')\n",
    "count=cursor.fetchone()\n",
    "print(\"상품개수 : \",count[0])\n",
    "\n",
    "# 전체 레코드 조회\n",
    "cursor.execute('select * from product')\n",
    "for row in cursor:\n",
    "    print(row)\n",
    "\n",
    "# 특정 레코드 삭제\n",
    "cursor.execute('delete from product where product_id=6')\n",
    "conn.commit()\n",
    "\n",
    "cursor.execute('delete from product') # 전체 레코드 삭제\n",
    "conn.commit()"
   ]
  },
  {
   "cell_type": "code",
   "execution_count": 13,
   "metadata": {},
   "outputs": [],
   "source": [
    "# 모든 레코드를 한꺼번에 insert\n",
    "sql='insert into product values (%s,%s,%s,%s,%s)'\n",
    "cursor.executemany(sql,items)\n",
    "conn.commit()"
   ]
  },
  {
   "cell_type": "code",
   "execution_count": 16,
   "metadata": {},
   "outputs": [
    {
     "name": "stdout",
     "output_type": "stream",
     "text": [
      "\n",
      "레코드셋 : [(1, '레몬', 1500, '레몬에 포함된 구연산은 피로회복에 좋습니다. 비타민 C도 풍부합니다.', 'lemon.jpg'), (2, '오렌지', 2000, '비타민 C가 풍부합니다. 생과일 주스로 마시면 좋습니다.', 'orange.jpg'), (3, '키위', 3000, '비타민 C가 매우 풍부합니다. 다이어트나 미용에 좋습니다.', 'kiwi.jpg'), (4, '포도', 5000, '폴리페놀을 다량 함유하고 있어 항산화 작용을 합니다.', 'grape.jpg'), (5, '딸기', 8000, '비타민 C나 플라보노이드를 다량 함유하고 있습니다.', 'strawberry.jpg'), (6, '귤', 7000, '시네피린을 함유하고 있어 감기 예방에 좋다고 합니다.', 'tangerine.jpg')]\n",
      "(1, '레몬', 1500, '레몬에 포함된 구연산은 피로회복에 좋습니다. 비타민 C도 풍부합니다.', 'lemon.jpg')\n",
      "(2, '오렌지', 2000, '비타민 C가 풍부합니다. 생과일 주스로 마시면 좋습니다.', 'orange.jpg')\n",
      "(3, '키위', 3000, '비타민 C가 매우 풍부합니다. 다이어트나 미용에 좋습니다.', 'kiwi.jpg')\n",
      "(4, '포도', 5000, '폴리페놀을 다량 함유하고 있어 항산화 작용을 합니다.', 'grape.jpg')\n",
      "(5, '딸기', 8000, '비타민 C나 플라보노이드를 다량 함유하고 있습니다.', 'strawberry.jpg')\n",
      "(6, '귤', 7000, '시네피린을 함유하고 있어 감기 예방에 좋다고 합니다.', 'tangerine.jpg')\n"
     ]
    }
   ],
   "source": [
    "import pymssql\n",
    "conn=pymssql.connect(host=r'(local)',database='web',user='sa',password='1234',charset='utf8')\n",
    "cursor=conn.cursor()\n",
    "# 모든 레코드를 한꺼번에 조회하여 리스트로 저장\n",
    "cursor.execute('select * from product')\n",
    "rs=cursor.fetchall()\n",
    "print('\\n레코드셋 :',rs)\n",
    "for row in rs:\n",
    "    print(row)\n",
    "\n",
    "cursor.close()\n",
    "conn.close()"
   ]
  }
 ],
 "metadata": {
  "interpreter": {
   "hash": "7b4b4feff2f24a0f0a34464dbe537a36fda679851528fb8735cb41fa49dffb2d"
  },
  "kernelspec": {
   "display_name": "Python 3.8.8 64-bit ('base': conda)",
   "language": "python",
   "name": "python3"
  },
  "language_info": {
   "codemirror_mode": {
    "name": "ipython",
    "version": 3
   },
   "file_extension": ".py",
   "mimetype": "text/x-python",
   "name": "python",
   "nbconvert_exporter": "python",
   "pygments_lexer": "ipython3",
   "version": "3.8.8"
  },
  "orig_nbformat": 4
 },
 "nbformat": 4,
 "nbformat_minor": 2
}
