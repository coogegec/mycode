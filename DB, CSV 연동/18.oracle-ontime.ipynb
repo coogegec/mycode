{
 "cells": [
  {
   "cell_type": "code",
   "execution_count": 1,
   "metadata": {},
   "outputs": [
    {
     "name": "stdout",
     "output_type": "stream",
     "text": [
      "(2008, 1, 3, 4, '1556', 1455, '1704', 1600, 'WN', '354', 'N496WN', '68', '65', '41', '64', '61', 'LAS', 'LAX', '236', '9', '18', '0', None, '0', '61', '0', '3', '0', '0')\n",
      "(2008, 1, 3, 4, '1254', 1250, '1404', 1355, 'WN', '784', 'N401WN', '70', '65', '43', '9', '4', 'LAS', 'LAX', '236', '7', '20', '0', None, '0', 'NA', 'NA', 'NA', 'NA', 'NA')\n",
      "(2008, 1, 3, 4, '840', 840, '946', 945, 'WN', '790', 'N351SW', '66', '65', '43', '1', '0', 'LAS', 'LAX', '236', '11', '12', '0', None, '0', 'NA', 'NA', 'NA', 'NA', 'NA')\n",
      "(2008, 1, 3, 4, '1540', 1525, '1648', 1630, 'WN', '1061', 'N422WN', '68', '65', '47', '18', '15', 'LAS', 'LAX', '236', '5', '16', '0', None, '0', '10', '0', '3', '0', '5')\n"
     ]
    }
   ],
   "source": [
    "import cx_Oracle\n",
    "conn=cx_Oracle.connect(\"hr/hr@localhost:1521/xe\")\n",
    "cursor=conn.cursor()\n",
    "cursor.execute('select * from ontime where rownum < 5')\n",
    "rows=cursor.fetchall()\n",
    "for row in rows:\n",
    "    print(row)\n",
    "\n",
    "cursor.close()\n",
    "conn.close()"
   ]
  },
  {
   "cell_type": "code",
   "execution_count": 2,
   "metadata": {},
   "outputs": [
    {
     "name": "stdout",
     "output_type": "stream",
     "text": [
      "WN\t10.276262862449386\n",
      "OO\t7.2952999070807305\n",
      "DL\t7.887967410954327\n",
      "B6\t12.447679903718171\n",
      "CO\t13.023581444438861\n",
      "HA\t0.4510561899524472\n",
      "OH\t11.16054087152783\n",
      "AQ\t-1.3902564102564103\n",
      "9E\t6.5856228642909445\n",
      "NW\t6.409786223004613\n",
      "AA\t12.899916513056201\n",
      "AS\t6.752723325965242\n",
      "UA\t13.784372045426737\n",
      "FL\t9.183920300820837\n",
      "MQ\t10.29978622071234\n",
      "EV\t11.711389111645728\n",
      "YV\t11.572015847487545\n",
      "XE\t11.093709113241301\n",
      "US\t5.635456327203702\n",
      "F9\t5.901056786616821\n"
     ]
    }
   ],
   "source": [
    "# 항공사별 출발 지연 시간 평균\n",
    "import cx_Oracle\n",
    "conn=cx_Oracle.connect(\"hr/hr@localhost:1521/xe\")\n",
    "cursor=conn.cursor()\n",
    "cursor.execute('select uniquecarrier,avg(depdelay) from ontime group by uniquecarrier')\n",
    "rows=cursor.fetchall()\n",
    "for row in rows:\n",
    "    print(f'{row[0]}\\t{row[1]}')\n",
    "\n",
    "cursor.close()\n",
    "conn.close()"
   ]
  },
  {
   "cell_type": "code",
   "execution_count": 3,
   "metadata": {},
   "outputs": [
    {
     "name": "stdout",
     "output_type": "stream",
     "text": [
      "WN\t5.115703380225903\n",
      "OO\t6.43893863978179\n",
      "DL\t7.716164635751918\n",
      "B6\t10.859381613638567\n",
      "CO\t10.809820575966226\n",
      "HA\t1.2518519716624075\n",
      "OH\t11.404110178283158\n",
      "AQ\t-2.8708974358974357\n",
      "9E\t3.987490846961191\n",
      "NW\t7.293465879672776\n",
      "AA\t12.202853434950445\n",
      "AS\t4.721360405553864\n",
      "UA\t11.001550560048052\n",
      "FL\t8.988157472371256\n",
      "MQ\t9.496970610952266\n",
      "EV\t10.00033146217589\n",
      "YV\t11.322566979170753\n",
      "XE\t10.320298523403915\n",
      "US\t2.800998260539828\n",
      "F9\t6.084135669681085\n"
     ]
    }
   ],
   "source": [
    "# 항공사별 도착 지연 시간 평균\n",
    "import cx_Oracle\n",
    "conn=cx_Oracle.connect(\"hr/hr@localhost:1521/xe\")\n",
    "cursor=conn.cursor()\n",
    "cursor.execute('select uniquecarrier,avg(arrdelay) from ontime group by uniquecarrier')\n",
    "rows=cursor.fetchall()\n",
    "for row in rows:\n",
    "    print(f'{row[0]}\\t{row[1]}')\n",
    "\n",
    "cursor.close()\n",
    "conn.close()"
   ]
  },
  {
   "cell_type": "code",
   "execution_count": 7,
   "metadata": {},
   "outputs": [
    {
     "name": "stdout",
     "output_type": "stream",
     "text": [
      "(1, 279427)\n",
      "(2, 278902)\n",
      "(3, 294556)\n",
      "(4, 256142)\n",
      "(5, 254673)\n",
      "(6, 295897)\n",
      "(7, 264630)\n",
      "(8, 239737)\n",
      "(9, 169959)\n",
      "(10, 183582)\n",
      "(11, 181506)\n",
      "(12, 280493)\n"
     ]
    }
   ],
   "source": [
    "# 2008년 도착 지연 횟수 월별 집계\n",
    "import cx_Oracle\n",
    "conn=cx_Oracle.connect(\"hr/hr@localhost:1521/xe\")\n",
    "cursor=conn.cursor()\n",
    "cursor.execute('select month, count(*) from ontime where arrdelay>0 group by month order by month')\n",
    "rows=cursor.fetchall()\n",
    "for row in rows:\n",
    "    print(row)\n",
    "\n",
    "cursor.close()\n",
    "conn.close()"
   ]
  },
  {
   "cell_type": "code",
   "execution_count": 8,
   "metadata": {},
   "outputs": [
    {
     "name": "stdout",
     "output_type": "stream",
     "text": [
      "[1, 2, 3, 4, 5, 6, 7, 8, 9, 10, 11, 12]\n",
      "[279427, 278902, 294556, 256142, 254673, 295897, 264630, 239737, 169959, 183582, 181506, 280493]\n"
     ]
    }
   ],
   "source": [
    "x=list(range(1,13))\n",
    "y=[]\n",
    "for row in rows:\n",
    "    y.append(row[1])\n",
    "\n",
    "print(x)\n",
    "print(y)"
   ]
  },
  {
   "cell_type": "code",
   "execution_count": 9,
   "metadata": {},
   "outputs": [
    {
     "data": {
      "text/plain": [
       "<BarContainer object of 12 artists>"
      ]
     },
     "execution_count": 9,
     "metadata": {},
     "output_type": "execute_result"
    },
    {
     "data": {
      "image/png": "[encoded data removed]",
      "text/plain": [
       "<Figure size 432x288 with 1 Axes>"
      ]
     },
     "metadata": {
      "needs_background": "light"
     },
     "output_type": "display_data"
    }
   ],
   "source": [
    "import pandas as pd\n",
    "%matplotlib inline\n",
    "import matplotlib.pyplot as plt\n",
    "\n",
    "plt.plot(x,y)\n",
    "plt.bar(x,y)"
   ]
  },
  {
   "cell_type": "code",
   "execution_count": 10,
   "metadata": {},
   "outputs": [
    {
     "name": "stdout",
     "output_type": "stream",
     "text": [
      "(1, 8.030254747872275)\n",
      "(2, 7.29232332960935)\n",
      "(3, 6.379804071503802)\n",
      "(4, 8.246549198623555)\n",
      "(5, 10.675214410055972)\n",
      "(6, 5.682499626837823)\n",
      "(7, 9.294087238339747)\n"
     ]
    }
   ],
   "source": [
    "# 요일별 평균 지연 시간\n",
    "import cx_Oracle\n",
    "conn=cx_Oracle.connect(\"hr/hr@localhost:1521/xe\")\n",
    "cursor=conn.cursor()\n",
    "cursor.execute('select dayofweek,avg(arrdelay) from ontime group by dayofweek order by dayofweek')\n",
    "rows=cursor.fetchall()\n",
    "for row in rows:\n",
    "    print(row)\n",
    "\n",
    "cursor.close()\n",
    "conn.close()"
   ]
  },
  {
   "cell_type": "code",
   "execution_count": 11,
   "metadata": {},
   "outputs": [
    {
     "name": "stdout",
     "output_type": "stream",
     "text": [
      "['월', '화', '수', '목', '금', '토', '일']\n",
      "[8.030254747872275, 7.29232332960935, 6.379804071503802, 8.246549198623555, 10.675214410055972, 5.682499626837823, 9.294087238339747]\n"
     ]
    }
   ],
   "source": [
    "x=['월','화','수','목','금','토','일']\n",
    "y=[]\n",
    "for row in rows:\n",
    "    y.append(row[1])\n",
    "print(x)\n",
    "print(y)"
   ]
  },
  {
   "cell_type": "code",
   "execution_count": 12,
   "metadata": {},
   "outputs": [
    {
     "data": {
      "text/plain": [
       "<BarContainer object of 7 artists>"
      ]
     },
     "execution_count": 12,
     "metadata": {},
     "output_type": "execute_result"
    },
    {
     "data": {
      "image/png": "[encoded data removed]",
      "text/plain": [
       "<Figure size 432x288 with 1 Axes>"
      ]
     },
     "metadata": {
      "needs_background": "light"
     },
     "output_type": "display_data"
    }
   ],
   "source": [
    "import pandas as pd\n",
    "%matplotlib inline\n",
    "import matplotlib.pyplot as plt\n",
    "\n",
    "from matplotlib import rc,font_manager\n",
    "font_name=font_manager.FontProperties(fname='c:/windows/fonts/malgun.ttf').get_name()\n",
    "rc('font',family=font_name)\n",
    "\n",
    "plt.plot(x,y)\n",
    "plt.bar(x,y)"
   ]
  },
  {
   "cell_type": "code",
   "execution_count": 14,
   "metadata": {},
   "outputs": [
    {
     "name": "stdout",
     "output_type": "stream",
     "text": [
      "(1, 2202, -28)\n",
      "(2, 2216, -22.25)\n",
      "(3, 1807, -20)\n",
      "(4, 2154, -17.666666666666668)\n",
      "(5, 1948, -16)\n"
     ]
    }
   ],
   "source": [
    "# 시간대별 (10월, 월요일에 출발할 때 가장 좋은 시간대)\n",
    "import cx_Oracle\n",
    "conn=cx_Oracle.connect(\"hr/hr@localhost:1521/xe\")\n",
    "cursor=conn.cursor()\n",
    "cursor.execute(''' select *\n",
    "from (\n",
    "    select rownum as rn, A.*\n",
    "    from (\n",
    "    select CRSDepTime,avg(arrdelay) arrdelay\n",
    "    from ontime\n",
    "    where month=10 and dayofweek=1\n",
    "    group by CRSDepTime\n",
    "    order by arrdelay\n",
    "    ) A\n",
    "    ) where rn between 1 and 5\n",
    "    ''')\n",
    "rows=cursor.fetchall()\n",
    "for row in rows:\n",
    "    print(row)\n",
    "\n",
    "cursor.close()\n",
    "conn.close()"
   ]
  }
 ],
 "metadata": {
  "interpreter": {
   "hash": "7b4b4feff2f24a0f0a34464dbe537a36fda679851528fb8735cb41fa49dffb2d"
  },
  "kernelspec": {
   "display_name": "Python 3.8.8 64-bit ('base': conda)",
   "language": "python",
   "name": "python3"
  },
  "language_info": {
   "codemirror_mode": {
    "name": "ipython",
    "version": 3
   },
   "file_extension": ".py",
   "mimetype": "text/x-python",
   "name": "python",
   "nbconvert_exporter": "python",
   "pygments_lexer": "ipython3",
   "version": "3.8.8"
  },
  "orig_nbformat": 4
 },
 "nbformat": 4,
 "nbformat_minor": 2
}
