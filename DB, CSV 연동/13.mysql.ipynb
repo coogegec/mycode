{
 "cells": [
  {
   "cell_type": "code",
   "execution_count": 1,
   "metadata": {},
   "outputs": [
    {
     "name": "stdout",
     "output_type": "stream",
     "text": [
      "['A', '001-1001', '2341', '500000', '2014-01-20']\n",
      "['A', '001-1001', '2341', '500000', '2014-01-20']\n",
      "['A', '001-1001', '5467', '750000', '2014-01-20']\n",
      "['A', '001-1001', '5467', '750000', '2014-01-20']\n",
      "['B', '50-9501', '7009', '250000', '2018-01-30']\n",
      "['B', '50-9501', '7009', '250000', '2018-01-30']\n",
      "['B', '50-9505', '6650', '125000', '2017-02-03']\n",
      "['B', '50-9505', '6650', '125000', '2017-02-03']\n",
      "['C', '920-4803', '3321', '615000', '2017-02-03']\n",
      "['C', '920-4804', '3321', '615000', '2017-02-10']\n",
      "['C', '920-4805', '3321', '615000', '2017-02-17']\n",
      "['C', '920-4806', '3321', '615000', '2017-02-24']\n",
      "['A', '001-1001', '2341', '500000.0', '2014-01-20']\n",
      "['A', '001-1001', '2341', '500000.0', '2014-01-20']\n",
      "['A', '001-1001', '5467', '750000.0', '2014-01-20']\n",
      "['A', '001-1001', '5467', '750000.0', '2014-01-20']\n",
      "['B', '50-9501', '7009', '250000.0', '2018-01-30']\n",
      "['B', '50-9501', '7009', '250000.0', '2018-01-30']\n",
      "['B', '50-9505', '6650', '125000.0', '2017-02-03']\n",
      "['B', '50-9505', '6650', '125000.0', '2017-02-03']\n",
      "['C', '920-4803', '3321', '615000.0', '2017-02-03']\n",
      "['C', '920-4804', '3321', '615000.0', '2017-02-10']\n",
      "['C', '920-4805', '3321', '615000.0', '2017-02-17']\n",
      "['C', '920-4806', '3321', '615000.0', '2017-02-24']\n"
     ]
    }
   ],
   "source": [
    "# csv 파일을 읽어서 mysql 테이블에 insert\n",
    "import csv\n",
    "import MySQLdb\n",
    "\n",
    "input_file='c:/data/db/input.csv'\n",
    "conn=MySQLdb.connect(host='localhost',port=3306,db='my_suppliers',user='web',passwd='1234',charset='utf8')\n",
    "cursor=conn.cursor()\n",
    "sql=\"delete from suppliers\"\n",
    "cursor.execute(sql)\n",
    "conn.commit()\n",
    "\n",
    "file_reader=csv.reader(open(input_file,'r'),delimiter=',') # csv 파일을 로딩(필드 구분자는 쉼표)\n",
    "header=next(file_reader) # 제목행을 읽음\n",
    "for row in file_reader:\n",
    "    data=[]\n",
    "    for idx in range(len(header)):\n",
    "        data.append(row[idx])\n",
    "    print(data)\n",
    "    cursor.execute('insert into suppliers values (%s,%s,%s,%s,%s)',data)\n",
    "conn.commit()\n",
    "cursor.execute('select * from suppliers')\n",
    "rows=cursor.fetchall()\n",
    "for row in rows:\n",
    "    output=[]\n",
    "    for idx in range(len(row)):\n",
    "        output.append(str(row[idx]))\n",
    "    print(output)"
   ]
  },
  {
   "cell_type": "code",
   "execution_count": 5,
   "metadata": {},
   "outputs": [],
   "source": [
    "# 테이블 검색, 결과물을 csv 파일로 출력\n",
    "output_file='c:/data/db/mysql_output.csv' # 실행 결과를 저장할 csv 파일 경로\n",
    "cursor=conn.cursor()\n",
    "filewriter=csv.writer(open(output_file,'w'),delimiter=',') # file writer 생성\n",
    "header=['Supplier Name','Invoice Number','Part Number','Cost','Perchase Date']\n",
    "filewriter.writerow(header) # 제목행 출력\n",
    "cursor.execute('select * from suppliers where cost>500000')\n",
    "rows=cursor.fetchall()\n",
    "for row in rows:\n",
    "    filewriter.writerow(row)"
   ]
  },
  {
   "cell_type": "code",
   "execution_count": 6,
   "metadata": {},
   "outputs": [
    {
     "name": "stdout",
     "output_type": "stream",
     "text": [
      "['A', '001-1001', '2341', '777.0', '2014-01-20']\n",
      "['A', '001-1001', '2341', '777.0', '2014-01-20']\n",
      "['A', '001-1001', '5467', '777.0', '2014-01-20']\n",
      "['A', '001-1001', '5467', '777.0', '2014-01-20']\n",
      "['B', '50-9501', '7009', '250000.0', '2018-01-30']\n",
      "['B', '50-9501', '7009', '250000.0', '2018-01-30']\n",
      "['B', '50-9505', '6650', '125000.0', '2017-02-03']\n",
      "['B', '50-9505', '6650', '125000.0', '2017-02-03']\n",
      "['C', '920-4803', '3321', '615000.0', '2017-02-03']\n",
      "['C', '920-4804', '3321', '615000.0', '2017-02-10']\n",
      "['C', '920-4805', '3321', '615000.0', '2017-02-17']\n",
      "['C', '920-4806', '3321', '615000.0', '2017-02-24']\n"
     ]
    }
   ],
   "source": [
    "# 제조사 이름이 A인 레코드의 정보 수정\n",
    "sql='update suppliers set cost=%s, purchase_date=%s where supplier_name=%s'\n",
    "cursor.execute(sql,(777,'2014-01-20','A'))\n",
    "conn.commit()\n",
    "\n",
    "cursor.execute('select * from suppliers')\n",
    "rows=cursor.fetchall()\n",
    "for row in rows:\n",
    "    output=[]\n",
    "    for idx in range(len(row)):\n",
    "        output.append(str(row[idx]))\n",
    "    print(output)"
   ]
  },
  {
   "cell_type": "code",
   "execution_count": 7,
   "metadata": {},
   "outputs": [],
   "source": [
    "conn.close() # mysql 접속 종료"
   ]
  }
 ],
 "metadata": {
  "interpreter": {
   "hash": "7b4b4feff2f24a0f0a34464dbe537a36fda679851528fb8735cb41fa49dffb2d"
  },
  "kernelspec": {
   "display_name": "Python 3.8.8 64-bit ('base': conda)",
   "language": "python",
   "name": "python3"
  },
  "language_info": {
   "codemirror_mode": {
    "name": "ipython",
    "version": 3
   },
   "file_extension": ".py",
   "mimetype": "text/x-python",
   "name": "python",
   "nbconvert_exporter": "python",
   "pygments_lexer": "ipython3",
   "version": "3.8.8"
  },
  "orig_nbformat": 4
 },
 "nbformat": 4,
 "nbformat_minor": 2
}
