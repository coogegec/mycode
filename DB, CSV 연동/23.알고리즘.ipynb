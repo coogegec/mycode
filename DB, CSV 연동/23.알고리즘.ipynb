{
 "cells": [
  {
   "cell_type": "code",
   "execution_count": 4,
   "metadata": {},
   "outputs": [
    {
     "name": "stdout",
     "output_type": "stream",
     "text": [
      "5\n",
      "3\n",
      "\n",
      "5.0\n",
      "3.0\n",
      "\n",
      "5\n",
      "3\n"
     ]
    }
   ],
   "source": [
    "import math\n",
    "def abs_sign(a): # sol1 : │a│\n",
    "    if a>=0:\n",
    "        return a\n",
    "    else:\n",
    "        return -a\n",
    "\n",
    "def abs_square(a): # sol2 : √(a²)\n",
    "    b=a**2\n",
    "    return math.sqrt(b)\n",
    "\n",
    "print(abs_sign(5))\n",
    "print(abs_sign(-3))\n",
    "print()\n",
    "print(abs_square(5))\n",
    "print(abs_square(-3))\n",
    "print()\n",
    "print(abs(5)) # sol3 : 내장함수 - 그냥 내장함수를 쓰는게...\n",
    "print(abs(-3))"
   ]
  },
  {
   "cell_type": "code",
   "execution_count": 7,
   "metadata": {},
   "outputs": [
    {
     "name": "stdout",
     "output_type": "stream",
     "text": [
      "55\n",
      "5050\n",
      "\n",
      "55\n",
      "5050\n"
     ]
    }
   ],
   "source": [
    "# ∑k = 1 + 2 + 3 + 4 + … + n\n",
    "def sum_sq(n):\n",
    "    s=0\n",
    "    for i in range(1,n+1):\n",
    "        s=s+i\n",
    "    return s\n",
    "\n",
    "def sum_n(n):\n",
    "    return n*(n+1)//2 # // 정수몫 → 값이 정수로 나오게끔\n",
    "\n",
    "print(sum_sq(10))\n",
    "print(sum_sq(100))\n",
    "print()\n",
    "print(sum_n(10))\n",
    "print(sum_n(100))"
   ]
  },
  {
   "cell_type": "code",
   "execution_count": 9,
   "metadata": {},
   "outputs": [
    {
     "name": "stdout",
     "output_type": "stream",
     "text": [
      "385\n",
      "338350\n",
      "\n",
      "385\n",
      "338350\n"
     ]
    }
   ],
   "source": [
    "# ∑k² = 1² + 2² + 3² + 4² + … + n²\n",
    "def sum_sq1(n):\n",
    "    s=0\n",
    "    for i in range(1,n+1):\n",
    "        s+=i**2\n",
    "    return s\n",
    "\n",
    "def sum_sq2(n):\n",
    "    return n*(n+1)*(2*n+1)//6\n",
    "\n",
    "print(sum_sq1(10))\n",
    "print(sum_sq1(100))\n",
    "print()\n",
    "print(sum_sq2(10))\n",
    "print(sum_sq2(100))"
   ]
  },
  {
   "cell_type": "code",
   "execution_count": 12,
   "metadata": {},
   "outputs": [
    {
     "name": "stdout",
     "output_type": "stream",
     "text": [
      "92\n",
      "1\n",
      "\n",
      "92\n",
      "1\n"
     ]
    }
   ],
   "source": [
    "# 리스트에서 최댓값과 최댓값의 인덱스 구하기\n",
    "import numpy as np\n",
    "v=[17,92,18,33,58,7,33,42]\n",
    "print(np.max(v)) # numpy에서 제공하는 최댓값 구하는 함수\n",
    "print(np.argmax(v)) # 최댓값의 인덱스\n",
    "\n",
    "def find_max(a):\n",
    "    n=len(a)\n",
    "    max_v=a[0]\n",
    "    for i in range(1,n):\n",
    "        if a[i]>max_v:\n",
    "            max_v=a[i]\n",
    "    return max_v\n",
    "def find_max_idx(a):\n",
    "    n=len(a)\n",
    "    max_idx=0\n",
    "    for i in range(1,n):\n",
    "        if a[i]>a[max_idx]:\n",
    "            max_idx=i\n",
    "    return max_idx\n",
    "\n",
    "print()\n",
    "print(find_max(v))\n",
    "print(find_max_idx(v))"
   ]
  },
  {
   "cell_type": "code",
   "execution_count": 15,
   "metadata": {},
   "outputs": [
    {
     "name": "stdout",
     "output_type": "stream",
     "text": [
      "7\n",
      "5\n",
      "\n",
      "7\n",
      "5\n"
     ]
    }
   ],
   "source": [
    "# 리스트에서 최솟값과 최솟값의 인덱스 구하기\n",
    "\n",
    "print(np.min(v)) # numpy에서 제공하는 최솟값 구하는 함수\n",
    "print(np.argmin(v)) # 최솟값의 인덱스\n",
    "\n",
    "def find_min(a):\n",
    "    n=len(a)\n",
    "    min_v=a[0]\n",
    "    for i in range(1,n):\n",
    "        if a[i]<min_v:\n",
    "            min_v=a[i]\n",
    "    return min_v\n",
    "def find_min_idx(a):\n",
    "    n=len(a)\n",
    "    min_idx=0\n",
    "    for i in range(1,n):\n",
    "        if a[i]<a[min_idx]:\n",
    "            min_idx=i\n",
    "    return min_idx\n",
    "\n",
    "print()\n",
    "print(find_min(v))\n",
    "print(find_min_idx(v))"
   ]
  },
  {
   "cell_type": "code",
   "execution_count": 17,
   "metadata": {},
   "outputs": [
    {
     "name": "stdout",
     "output_type": "stream",
     "text": [
      "{1, 2, 3}\n",
      "3\n",
      "True\n"
     ]
    }
   ],
   "source": [
    "# 집합\n",
    "s=set()\n",
    "s.add(1)\n",
    "s.add(2)\n",
    "s.add(2)\n",
    "s.add(3)\n",
    "print(s)\n",
    "print(len(s))\n",
    "print( {1,2}=={2,1} )"
   ]
  },
  {
   "cell_type": "code",
   "execution_count": 18,
   "metadata": {},
   "outputs": [
    {
     "name": "stdout",
     "output_type": "stream",
     "text": [
      "{'김철수'}\n",
      "{'김미영'}\n"
     ]
    }
   ],
   "source": [
    "# 두 번 이상 나온 이름 찾기\n",
    "\n",
    "def find_same_name(a):\n",
    "    n=len(a)\n",
    "    result=set()\n",
    "    for i in range(0,n-1):\n",
    "        for j in range(i+1,n): \n",
    "            if a[i]==a[j]:\n",
    "                result.add(a[i])\n",
    "    return result\n",
    "\n",
    "name=['김철수','박철수','홍수민','김철수','김철수']\n",
    "print(find_same_name(name))\n",
    "name2=['김미영','박수진','이민주','김미영','최숙희']\n",
    "print(find_same_name(name2))"
   ]
  },
  {
   "cell_type": "code",
   "execution_count": 20,
   "metadata": {},
   "outputs": [
    {
     "name": "stdout",
     "output_type": "stream",
     "text": [
      "김철수 - 박철수\n",
      "김철수 - 홍수민\n",
      "박철수 - 홍수민\n",
      "박철수 - 김철수\n",
      "박철수 - 김철수\n",
      "홍수민 - 김철수\n",
      "홍수민 - 김철수\n",
      "\n",
      "김미영 - 박수진\n",
      "김미영 - 이민주\n",
      "김미영 - 최숙희\n",
      "박수진 - 이민주\n",
      "박수진 - 김미영\n",
      "박수진 - 최숙희\n",
      "이민주 - 김미영\n",
      "이민주 - 최숙희\n",
      "김미영 - 최숙희\n"
     ]
    }
   ],
   "source": [
    "\n",
    "def print_pairs(a):\n",
    "    n=len(a)\n",
    "    for i in range(0,n-1):\n",
    "        for j in range(i+1,n):\n",
    "            if a[i]!=a[j]:\n",
    "                print(a[i],\"-\",a[j])\n",
    "\n",
    "\n",
    "print_pairs(name)\n",
    "print()\n",
    "print_pairs(name2)"
   ]
  },
  {
   "cell_type": "code",
   "execution_count": 21,
   "metadata": {},
   "outputs": [
    {
     "name": "stdout",
     "output_type": "stream",
     "text": [
      "1\n",
      "120\n",
      "3628800\n"
     ]
    }
   ],
   "source": [
    "# 팩토리얼\n",
    "def fact(n):\n",
    "    f=1\n",
    "    for i in range(1,n+1):\n",
    "        f=f*i\n",
    "    return f\n",
    "print(fact(1))\n",
    "print(fact(5))\n",
    "print(fact(10))\n",
    "\n",
    "# 재귀함수(recursive function) 코드"
   ]
  },
  {
   "cell_type": "code",
   "execution_count": null,
   "metadata": {},
   "outputs": [],
   "source": []
  },
  {
   "cell_type": "code",
   "execution_count": null,
   "metadata": {},
   "outputs": [],
   "source": []
  },
  {
   "cell_type": "code",
   "execution_count": null,
   "metadata": {},
   "outputs": [],
   "source": []
  },
  {
   "cell_type": "code",
   "execution_count": 24,
   "metadata": {},
   "outputs": [
    {
     "name": "stdout",
     "output_type": "stream",
     "text": [
      "2\n",
      "3\n",
      "-1\n",
      "\n",
      "[1]\n",
      "[3, 6]\n",
      "[]\n"
     ]
    }
   ],
   "source": [
    "# 리스트에서 특정 숫자 위치 찾기\n",
    "def search_list(a,x):\n",
    "    n=len(a)\n",
    "    for i in range(0,n):\n",
    "        if x==a[i]:\n",
    "            return i\n",
    "    return -1\n",
    "\n",
    "v=[17,92,18,33,58,7,33,42]\n",
    "print(search_list(v,18)) # 인덱스 2번\n",
    "print(search_list(v,33)) # 33은 리스트에 두 번 나오지만 처음 나온 위치만 출력\n",
    "print(search_list(v,900))\n",
    "print()\n",
    "\n",
    "# 리스트에서 특정 숫자 위치 전부 찾기 - 리스트에 담는 식으로 33 문제를 해결\n",
    "def search_list2(a,x):\n",
    "    n=len(a)\n",
    "    result=[]\n",
    "    for i in range(0,n):\n",
    "        if x==a[i]:\n",
    "            result.append(i)\n",
    "    return result\n",
    "print(search_list2(v,92))\n",
    "print(search_list2(v,33))\n",
    "print(search_list2(v,900))"
   ]
  },
  {
   "cell_type": "code",
   "execution_count": 26,
   "metadata": {},
   "outputs": [
    {
     "name": "stdout",
     "output_type": "stream",
     "text": [
      "이미영\n",
      "?\n"
     ]
    }
   ],
   "source": [
    "# 학생 번호와 이름이 있을 때 학생 번호를 입력하면 해당하는 이름을 출력\n",
    "def get_name(s_no,s_name,find_no):\n",
    "    n=len(s_no)\n",
    "    for i in range(0,n):\n",
    "        if find_no==s_no[i]:\n",
    "            return s_name[i]\n",
    "    return '?'\n",
    "\n",
    "nums=[39,14,67,105]\n",
    "names=['김철수','최상호','이미영','한선영']\n",
    "print(get_name(nums,names,67))\n",
    "print(get_name(nums,names,70))"
   ]
  },
  {
   "cell_type": "code",
   "execution_count": 28,
   "metadata": {},
   "outputs": [
    {
     "name": "stdout",
     "output_type": "stream",
     "text": [
      "[2, 3, 5, 7, 9, 1]\n",
      "[1, 2, 3, 5, 7, 9]\n",
      "\n",
      "[1, 2, 3, 5, 7, 9]\n",
      "None\n"
     ]
    }
   ],
   "source": [
    "a=[2,3,5,7,9,1]\n",
    "b=sorted(a) # a는 정렬되지 않고 정렬된 값을 b에 저장\n",
    "print(a) \n",
    "print(b)\n",
    "\n",
    "print()\n",
    "\n",
    "c=a.sort() # a 자체가 정렬됨. c의 리턴값은 없음\n",
    "print(a)\n",
    "print(c)"
   ]
  },
  {
   "cell_type": "code",
   "execution_count": 29,
   "metadata": {},
   "outputs": [
    {
     "name": "stdout",
     "output_type": "stream",
     "text": [
      "[2, 4, 5, 1, 3]\n",
      "[2, 4, 5, 1, 3]\n",
      "[1, 4, 5, 2, 3]\n",
      "[1, 4, 5, 2, 3]\n",
      "[1, 4, 5, 2, 3]\n",
      "[1, 2, 5, 4, 3]\n",
      "[1, 2, 5, 4, 3]\n",
      "[1, 2, 4, 5, 3]\n",
      "[1, 2, 3, 5, 4]\n",
      "[1, 2, 3, 4, 5]\n",
      "[1, 2, 3, 4, 5]\n"
     ]
    }
   ],
   "source": [
    "# 거품 정렬\n",
    "def bubble_sort(a):\n",
    "    for i in range(0,len(a)):\n",
    "        for j in range(i+1,len(a)):\n",
    "            if a[i]>a[j]:\n",
    "                a[i],a[j]=a[j],a[i]\n",
    "            print(a)\n",
    "    return(a)\n",
    "\n",
    "d=[2,4,5,1,3]\n",
    "print(bubble_sort(d))"
   ]
  },
  {
   "cell_type": "code",
   "execution_count": 38,
   "metadata": {},
   "outputs": [
    {
     "name": "stdout",
     "output_type": "stream",
     "text": [
      "[1, 2, 3, 4, 5]\n",
      "\n",
      "0 1 [2, 4, 5, 1, 3]\n",
      "0 2 [2, 4, 5, 1, 3]\n",
      "0 3 [2, 4, 5, 1, 3]\n",
      "0 4 [2, 4, 5, 1, 3]\n",
      "0 4 [1, 4, 5, 2, 3]\n",
      "1 2 [1, 4, 5, 2, 3]\n",
      "1 3 [1, 4, 5, 2, 3]\n",
      "1 4 [1, 4, 5, 2, 3]\n",
      "1 4 [1, 2, 5, 4, 3]\n",
      "2 3 [1, 2, 5, 4, 3]\n",
      "2 4 [1, 2, 5, 4, 3]\n",
      "2 4 [1, 2, 3, 4, 5]\n",
      "3 4 [1, 2, 3, 4, 5]\n",
      "3 4 [1, 2, 3, 4, 5]\n",
      "\n",
      "[1, 2, 3, 4, 5]\n"
     ]
    }
   ],
   "source": [
    "# 선택 정렬\n",
    "d=[2,4,5,1,3]\n",
    "\n",
    "def find_min_idx(a):\n",
    "    n=len(a)\n",
    "    min_idx=0\n",
    "    for i in range(1,n):\n",
    "        if a[i]<a[min_idx]:\n",
    "            min_idx=i\n",
    "    return min_idx\n",
    "\n",
    "def sel_sort(a):\n",
    "    result=[]\n",
    "    while a: # a에 값이 남아있는 동안 계속\n",
    "        min_idx=find_min_idx(a)\n",
    "        value=a.pop(min_idx)\n",
    "        result.append(value)\n",
    "    return result\n",
    "\n",
    "print(sel_sort(d))\n",
    "print()\n",
    "\n",
    "d=[2,4,5,1,3]\n",
    "def sel_sort2(a):\n",
    "    n=len(a)\n",
    "    for i in range(0,n-1):\n",
    "        min_idx=i\n",
    "        for j in range(i+1,n):\n",
    "            if a[j]<a[min_idx]:\n",
    "                min_idx=j\n",
    "            print(i,j,a)\n",
    "        a[i],a[min_idx]=a[min_idx],a[i]\n",
    "        print(i,j,a)\n",
    "\n",
    "sel_sort2(d)\n",
    "print()\n",
    "print(d)"
   ]
  },
  {
   "cell_type": "code",
   "execution_count": 40,
   "metadata": {},
   "outputs": [
    {
     "name": "stdout",
     "output_type": "stream",
     "text": [
      "0 1 [2, 4, 5, 1, 3]\n",
      "0 2 [2, 4, 5, 1, 3]\n",
      "0 3 [2, 4, 5, 1, 3]\n",
      "0 4 [2, 4, 5, 1, 3]\n",
      "0 4 [5, 4, 2, 1, 3]\n",
      "1 2 [5, 4, 2, 1, 3]\n",
      "1 3 [5, 4, 2, 1, 3]\n",
      "1 4 [5, 4, 2, 1, 3]\n",
      "1 4 [5, 4, 2, 1, 3]\n",
      "2 3 [5, 4, 2, 1, 3]\n",
      "2 4 [5, 4, 2, 1, 3]\n",
      "2 4 [5, 4, 3, 1, 2]\n",
      "3 4 [5, 4, 3, 1, 2]\n",
      "3 4 [5, 4, 3, 2, 1]\n",
      "\n",
      "[5, 4, 3, 2, 1]\n"
     ]
    }
   ],
   "source": [
    "# 내림차순 선택정렬\n",
    "d=[2,4,5,1,3]\n",
    "def sel_sort(a):\n",
    "    n=len(a)\n",
    "    for i in range(0,n-1):\n",
    "        max_idx=i\n",
    "        for j in range(i+1,n):\n",
    "            if a[j]>a[max_idx]:\n",
    "                max_idx=j\n",
    "            print(i,j,a)\n",
    "        a[i],a[max_idx]=a[max_idx],a[i]\n",
    "        print(i,j,a)\n",
    "\n",
    "sel_sort(d)\n",
    "print()\n",
    "print(d)"
   ]
  },
  {
   "cell_type": "code",
   "execution_count": 41,
   "metadata": {},
   "outputs": [
    {
     "name": "stdout",
     "output_type": "stream",
     "text": [
      "[1, 2, 3, 4, 5]\n"
     ]
    }
   ],
   "source": [
    "# 삽입 정렬\n",
    "def find_ins_idx(r,v): # 리스트 r에서 v가 들어가야 할 위치를 돌려주는 함수\n",
    "    for i in range(0,len(r)):\n",
    "        if v<r[i]:\n",
    "            return i\n",
    "    return len(r)\n",
    "\n",
    "def ins_sort(a):\n",
    "    result=[]\n",
    "    while a:\n",
    "        value=a.pop(0) # a에서 첫번째 자료를 꺼냄\n",
    "        ins_idx=find_ins_idx(result,value)\n",
    "        result.insert(ins_idx,value)\n",
    "    return result\n",
    "d=[2,4,5,1,3]\n",
    "print(ins_sort(d))"
   ]
  },
  {
   "cell_type": "code",
   "execution_count": 42,
   "metadata": {},
   "outputs": [
    {
     "data": {
      "text/plain": [
       "[-15, -10, 0, 1, 2, 3, 9, 11, 16]"
      ]
     },
     "execution_count": 42,
     "metadata": {},
     "output_type": "execute_result"
    }
   ],
   "source": [
    "# 퀵정렬\n",
    "def quicksort(array):\n",
    "    if len(array)<2:\n",
    "        return array\n",
    "    else:\n",
    "        pivot=array[0]\n",
    "        less=[i for i in array[1:] if i <= pivot]\n",
    "        greater=[i for i in array[1:] if i > pivot]\n",
    "        return quicksort(less)+[pivot]+quicksort(greater)\n",
    "\n",
    "p=[-10,-15,2,3,0,9,11,16,1]\n",
    "quicksort(p)        "
   ]
  },
  {
   "cell_type": "code",
   "execution_count": 43,
   "metadata": {},
   "outputs": [
    {
     "name": "stdout",
     "output_type": "stream",
     "text": [
      "(5, 36)\n",
      "-1\n"
     ]
    }
   ],
   "source": [
    "# 이진 탐색 : 리스트에서 특정 숫자 위치 찾기 - 미리 sort 되어있는 상황\n",
    "def binary_search(a,x):\n",
    "    start=0\n",
    "    end=len(a)-1\n",
    "    while start<=end:\n",
    "        mid=(start+end)//2\n",
    "        if x==a[mid]:\n",
    "            return mid, a[mid]\n",
    "        elif x>a[mid]:\n",
    "            start=mid+1\n",
    "        else:\n",
    "            end=mid-1\n",
    "    return -1\n",
    "\n",
    "d=[1,4,9,16,25,36,49,64,81]\n",
    "print(binary_search(d,36))\n",
    "print(binary_search(d,50))"
   ]
  },
  {
   "cell_type": "code",
   "execution_count": 44,
   "metadata": {},
   "outputs": [
    {
     "name": "stdout",
     "output_type": "stream",
     "text": [
      "['Tom']\n",
      "['김철수', '이혜진']\n"
     ]
    }
   ],
   "source": [
    "# 자료구조(딕셔너리) : 두 번 이상 나온 이름 찾기\n",
    "def find_same_name(a):\n",
    "    name_dict={}\n",
    "    for name in a:\n",
    "        if name in name_dict:\n",
    "            name_dict[name]+=1\n",
    "        else:\n",
    "            name_dict[name]=1\n",
    "    result=[]\n",
    "    for name in name_dict:\n",
    "        if name_dict[name]>=2:\n",
    "            result.append(name)\n",
    "    return result\n",
    "\n",
    "name=['Tom','Jerry','Mike','Tom']\n",
    "print(find_same_name(name))\n",
    "name2=['김철수','이혜진','송민호','이혜진','김철수']\n",
    "print(find_same_name(name2))"
   ]
  }
 ],
 "metadata": {
  "interpreter": {
   "hash": "7b4b4feff2f24a0f0a34464dbe537a36fda679851528fb8735cb41fa49dffb2d"
  },
  "kernelspec": {
   "display_name": "Python 3.8.8 64-bit ('base': conda)",
   "language": "python",
   "name": "python3"
  },
  "language_info": {
   "codemirror_mode": {
    "name": "ipython",
    "version": 3
   },
   "file_extension": ".py",
   "mimetype": "text/x-python",
   "name": "python",
   "nbconvert_exporter": "python",
   "pygments_lexer": "ipython3",
   "version": "3.8.8"
  },
  "orig_nbformat": 4
 },
 "nbformat": 4,
 "nbformat_minor": 2
}
