{
 "cells": [
  {
   "cell_type": "code",
   "execution_count": 8,
   "metadata": {},
   "outputs": [
    {
     "name": "stdout",
     "output_type": "stream",
     "text": [
      "상품 개수 :  6\n"
     ]
    }
   ],
   "source": [
    "import cx_Oracle\n",
    "conn=cx_Oracle.connect(\"hr/hr@localhost:1521/xe\")\n",
    "cursor=conn.cursor()\n",
    "sql='select count(*) from product' # 레코드 개수\n",
    "cursor.execute(sql)\n",
    "count=cursor.fetchone()\n",
    "print('상품 개수 : ',count[0])"
   ]
  },
  {
   "cell_type": "code",
   "execution_count": 24,
   "metadata": {},
   "outputs": [],
   "source": [
    "sql='delete from product' # 모든 레코드 삭제\n",
    "cursor.execute(sql)\n",
    "conn.commit()"
   ]
  },
  {
   "cell_type": "code",
   "execution_count": 14,
   "metadata": {},
   "outputs": [
    {
     "ename": "IntegrityError",
     "evalue": "ORA-00001: unique constraint (HR.SYS_C007739) violated",
     "output_type": "error",
     "traceback": [
      "\u001b[1;31m---------------------------------------------------------------------------\u001b[0m",
      "\u001b[1;31mIntegrityError\u001b[0m                            Traceback (most recent call last)",
      "\u001b[1;32m<ipython-input-14-6fb70fb39642>\u001b[0m in \u001b[0;36m<module>\u001b[1;34m\u001b[0m\n\u001b[0;32m      8\u001b[0m \u001b[1;32mfor\u001b[0m \u001b[0mrow\u001b[0m \u001b[1;32min\u001b[0m \u001b[0mitems\u001b[0m\u001b[1;33m:\u001b[0m\u001b[1;33m\u001b[0m\u001b[1;33m\u001b[0m\u001b[0m\n\u001b[0;32m      9\u001b[0m     \u001b[0msql\u001b[0m\u001b[1;33m=\u001b[0m\u001b[1;34m'insert into product values (:1,:2,:3,:4,:5)'\u001b[0m\u001b[1;33m\u001b[0m\u001b[1;33m\u001b[0m\u001b[0m\n\u001b[1;32m---> 10\u001b[1;33m     \u001b[0mcursor\u001b[0m\u001b[1;33m.\u001b[0m\u001b[0mexecute\u001b[0m\u001b[1;33m(\u001b[0m\u001b[0msql\u001b[0m\u001b[1;33m,\u001b[0m\u001b[0mrow\u001b[0m\u001b[1;33m)\u001b[0m\u001b[1;33m\u001b[0m\u001b[1;33m\u001b[0m\u001b[0m\n\u001b[0m\u001b[0;32m     11\u001b[0m \u001b[1;33m\u001b[0m\u001b[0m\n\u001b[0;32m     12\u001b[0m \u001b[0mconn\u001b[0m\u001b[1;33m.\u001b[0m\u001b[0mcommit\u001b[0m\u001b[1;33m(\u001b[0m\u001b[1;33m)\u001b[0m\u001b[1;33m\u001b[0m\u001b[1;33m\u001b[0m\u001b[0m\n",
      "\u001b[1;31mIntegrityError\u001b[0m: ORA-00001: unique constraint (HR.SYS_C007739) violated"
     ]
    }
   ],
   "source": [
    "items=[(1,'레몬',1500,'레몬에 포함된 구연산은 피로회복에 좋습니다. 비타민 C도 풍부합니다.','lemon.jpg'),\n",
    "(2,'오렌지',2000,'비타민 C가 풍부합니다. 생과일 주스로 마시면 좋습니다.','orange.jpg'),\n",
    "(3,'키위',3000,'비타민 C가 매우 풍부합니다. 다이어트나 미용에 좋습니다.','kiwi.jpg'),\n",
    "(4,'포도',5000,'폴리페놀을 다량 함유하고 있어 항산화 작용을 합니다.','grape.jpg'),\n",
    "(5,'딸기',8000,'비타민 C나 플라보노이드를 다량 함유하고 있습니다.','strawberry.jpg'),\n",
    "(6,'귤',7000,'시네피린을 함유하고 있어 감기 예방에 좋다고 합니다.','tangerine.jpg')]\n",
    "\n",
    "for row in items:\n",
    "    sql='insert into product values (:1,:2,:3,:4,:5)'\n",
    "    cursor.execute(sql,row)\n",
    "\n",
    "conn.commit()"
   ]
  },
  {
   "cell_type": "code",
   "execution_count": 26,
   "metadata": {},
   "outputs": [
    {
     "name": "stdout",
     "output_type": "stream",
     "text": [
      "(1, '레몬', 1500, <cx_Oracle.LOB object at 0x000002567D321750>, 'lemon.jpg')\n",
      "레몬에 포함된 구연산은 피로회복에 좋습니다. 비타민 C도 풍부합니다.\n",
      "(2, '오렌지', 2000, <cx_Oracle.LOB object at 0x000002567D21A720>, 'orange.jpg')\n",
      "비타민 C가 풍부합니다. 생과일 주스로 마시면 좋습니다.\n",
      "(3, '키위', 3000, <cx_Oracle.LOB object at 0x000002567D21A420>, 'kiwi.jpg')\n",
      "비타민 C가 매우 풍부합니다. 다이어트나 미용에 좋습니다.\n",
      "(4, '포도', 5000, <cx_Oracle.LOB object at 0x000002567D21A720>, 'grape.jpg')\n",
      "폴리페놀을 다량 함유하고 있어 항산화 작용을 합니다.\n",
      "(5, '딸기', 8000, <cx_Oracle.LOB object at 0x000002567D321750>, 'strawberry.jpg')\n",
      "비타민 C나 플라보노이드를 다량 함유하고 있습니다.\n",
      "(6, '귤', 7000, <cx_Oracle.LOB object at 0x000002567D21A420>, 'tangerine.jpg')\n",
      "시네피린을 함유하고 있어 감기 예방에 좋다고 합니다.\n"
     ]
    }
   ],
   "source": [
    "sql='select * from product' # 전체 레코드\n",
    "cursor.execute(sql)\n",
    "for row in cursor:\n",
    "    description=row[3].read()\n",
    "    print(row) # clob은 출력 불가 - 주소값이 나옴\n",
    "    print(description) # clob 별도 출력"
   ]
  },
  {
   "cell_type": "code",
   "execution_count": 17,
   "metadata": {},
   "outputs": [],
   "source": [
    "sql='delete from product where product_id=6' # 일부 레코드 삭제\n",
    "cursor.execute(sql)\n",
    "conn.commit()"
   ]
  },
  {
   "cell_type": "code",
   "execution_count": 25,
   "metadata": {},
   "outputs": [],
   "source": [
    "sql='insert into product values (:1,:2,:3,:4,:5)' # 모든 레코드를 한꺼번에 입력\n",
    "cursor.bindarraysize=len(items)\n",
    "cursor.executemany(sql,items)\n",
    "conn.commit()"
   ]
  },
  {
   "cell_type": "code",
   "execution_count": 27,
   "metadata": {},
   "outputs": [
    {
     "name": "stdout",
     "output_type": "stream",
     "text": [
      "\n",
      "레코드셋 :  [(1, '레몬', 1500, <cx_Oracle.LOB object at 0x000002567D321F30>, 'lemon.jpg'), (2, '오렌지', 2000, <cx_Oracle.LOB object at 0x000002567D35BE70>, 'orange.jpg'), (3, '키위', 3000, <cx_Oracle.LOB object at 0x000002567D35BF60>, 'kiwi.jpg'), (4, '포도', 5000, <cx_Oracle.LOB object at 0x000002567D3172A0>, 'grape.jpg'), (5, '딸기', 8000, <cx_Oracle.LOB object at 0x000002567D317060>, 'strawberry.jpg'), (6, '귤', 7000, <cx_Oracle.LOB object at 0x0000025602D43D50>, 'tangerine.jpg')]\n",
      "(1, '레몬', 1500, <cx_Oracle.LOB object at 0x000002567D321F30>, 'lemon.jpg')\n",
      "(2, '오렌지', 2000, <cx_Oracle.LOB object at 0x000002567D35BE70>, 'orange.jpg')\n",
      "(3, '키위', 3000, <cx_Oracle.LOB object at 0x000002567D35BF60>, 'kiwi.jpg')\n",
      "(4, '포도', 5000, <cx_Oracle.LOB object at 0x000002567D3172A0>, 'grape.jpg')\n",
      "(5, '딸기', 8000, <cx_Oracle.LOB object at 0x000002567D317060>, 'strawberry.jpg')\n",
      "(6, '귤', 7000, <cx_Oracle.LOB object at 0x0000025602D43D50>, 'tangerine.jpg')\n"
     ]
    }
   ],
   "source": [
    "# 모든 레코드를 한꺼번에 조회하여 리스트로 저장\n",
    "sql='select * from product'\n",
    "cursor.execute(sql)\n",
    "rs=cursor.fetchall()\n",
    "print('\\n레코드셋 : ',rs)\n",
    "for row in rs:\n",
    "    print(row)\n",
    "\n",
    "conn.commit()\n",
    "cursor.close()\n",
    "conn.close()"
   ]
  }
 ],
 "metadata": {
  "interpreter": {
   "hash": "7b4b4feff2f24a0f0a34464dbe537a36fda679851528fb8735cb41fa49dffb2d"
  },
  "kernelspec": {
   "display_name": "Python 3.8.8 64-bit ('base': conda)",
   "language": "python",
   "name": "python3"
  },
  "language_info": {
   "codemirror_mode": {
    "name": "ipython",
    "version": 3
   },
   "file_extension": ".py",
   "mimetype": "text/x-python",
   "name": "python",
   "nbconvert_exporter": "python",
   "pygments_lexer": "ipython3",
   "version": "3.8.8"
  },
  "orig_nbformat": 4
 },
 "nbformat": 4,
 "nbformat_minor": 2
}
