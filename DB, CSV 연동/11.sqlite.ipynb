{
 "cells": [
  {
   "cell_type": "code",
   "execution_count": 1,
   "metadata": {},
   "outputs": [
    {
     "name": "stdout",
     "output_type": "stream",
     "text": [
      "2.6.0\n",
      "3.35.4\n"
     ]
    }
   ],
   "source": [
    "import sqlite3\n",
    "\n",
    "print(sqlite3.version) # SQLite3 모듈의 버전\n",
    "print(sqlite3.sqlite_version) # SQLite의 버전"
   ]
  },
  {
   "cell_type": "code",
   "execution_count": 2,
   "metadata": {},
   "outputs": [],
   "source": [
    "import sqlite3\n",
    "def create(): # 테이블 생성\n",
    "    conn=sqlite3.connect('books.db') # 데이터베이스 커넥션 생성\n",
    "    cursor=conn.cursor() # 커서 생성, 커서 : 레코드를 탐색하는 객체\n",
    "    cursor.execute('''create table if not exists books(\n",
    "        title text,\n",
    "        publish_date text,\n",
    "        publisher text,\n",
    "        pages integer,\n",
    "        recommend integer\n",
    "        )''')\n",
    "    conn.close() # 커넥션 닫기\n",
    "\n",
    "create()    "
   ]
  },
  {
   "cell_type": "code",
   "execution_count": 3,
   "metadata": {},
   "outputs": [],
   "source": [
    "import sqlite3\n",
    "def insert(): # 레코드 입력\n",
    "    conn=sqlite3.connect('books.db')\n",
    "    cursor=conn.cursor()\n",
    "    cursor.execute(\"insert into books values ('Java','2018-02-28','길벗',500,10)\") # 값을 직접 입력\n",
    "    \n",
    "    # 튜플을 이용한 데이터 입력\n",
    "    sql='insert into books values (?,?,?,?,?)' \n",
    "    cursor.execute(sql, ('Python','2018-03-04','한빛',584,20)) # 튜플 1개\n",
    "    \n",
    "    items=[('빅데이터','2014-07-02','삼성',296,11), ('안드로이드','2010-02-10','영진',526,20), ('Spring','2013-12-12','에이콘',248,15)]\n",
    "    cursor.executemany(sql, items) # 튜플 여러 개\n",
    "    conn.commit()\n",
    "    conn.close()\n",
    "\n",
    "insert()"
   ]
  },
  {
   "cell_type": "code",
   "execution_count": 7,
   "metadata": {},
   "outputs": [
    {
     "name": "stdout",
     "output_type": "stream",
     "text": [
      "('Java', '2018-02-28', '길벗', 500, 10)\n",
      "('Python', '2018-03-04', '한빛', 584, 20)\n",
      "('빅데이터', '2014-07-02', '삼성', 296, 11)\n",
      "('안드로이드', '2010-02-10', '영진', 526, 20)\n",
      "('Spring', '2013-12-12', '에이콘', 248, 15)\n",
      "\n",
      "('Java', '2018-02-28', '길벗', 500, 100)\n",
      "('Python', '2018-03-04', '한빛', 584, 20)\n",
      "('빅데이터', '2014-07-02', '삼성', 296, 11)\n",
      "('안드로이드', '2010-02-10', '영진', 526, 20)\n",
      "('Spring', '2013-12-12', '에이콘', 248, 15)\n"
     ]
    }
   ],
   "source": [
    "import sqlite3\n",
    "def list():\n",
    "    conn=sqlite3.connect('books.db')\n",
    "    cursor=conn.cursor()\n",
    "    cursor.execute('select * from books')\n",
    "    books=cursor.fetchall() # fetchall : 모든 레코드를 읽어서 리스트로 저장\n",
    "    for book in books:\n",
    "        print(book)\n",
    "    conn.close()\n",
    "list()\n",
    "\n",
    "def update():\n",
    "    conn=sqlite3.connect('books.db')\n",
    "    cursor=conn.cursor()\n",
    "    sql='update books set recommend=? where title=?'\n",
    "    cursor.execute(sql, (100,'Java'))\n",
    "    conn.commit()\n",
    "    conn.close()\n",
    "\n",
    "update()\n",
    "print()\n",
    "list()"
   ]
  },
  {
   "cell_type": "code",
   "execution_count": 8,
   "metadata": {},
   "outputs": [
    {
     "name": "stdout",
     "output_type": "stream",
     "text": [
      "('Java', '2018-02-28', '길벗', 500, 100)\n",
      "('Python', '2018-03-04', '한빛', 584, 20)\n",
      "('빅데이터', '2014-07-02', '삼성', 296, 11)\n",
      "('안드로이드', '2010-02-10', '영진', 526, 20)\n",
      "('Spring', '2013-12-12', '에이콘', 248, 15)\n",
      "\n",
      "('Java', '2018-02-28', '길벗', 500, 100)\n",
      "('Python', '2018-03-04', '한빛', 584, 20)\n",
      "('안드로이드', '2010-02-10', '영진', 526, 20)\n",
      "('Spring', '2013-12-12', '에이콘', 248, 15)\n"
     ]
    }
   ],
   "source": [
    "def delete():\n",
    "    conn=sqlite3.connect('books.db')\n",
    "    cursor=conn.cursor()\n",
    "    sql=\"delete from books where publisher='삼성'\"\n",
    "    cursor.execute(sql)\n",
    "    conn.commit()\n",
    "    conn.close()\n",
    "\n",
    "list()\n",
    "delete()\n",
    "print()\n",
    "list()"
   ]
  },
  {
   "cell_type": "code",
   "execution_count": 9,
   "metadata": {},
   "outputs": [
    {
     "name": "stdout",
     "output_type": "stream",
     "text": [
      "('김철수', '배', 10000.0, '2018-01-02')\n",
      "('박민수', '사과', 20000.0, '2018-01-15')\n",
      "('최인규', '포도', 15000.0, '2018-02-03')\n",
      "('정인택', '자두', 30000.0, '2018-02-20')\n",
      "rows : 4\n"
     ]
    }
   ],
   "source": [
    "import sqlite3\n",
    "conn=sqlite3.connect('c:/data/db/sales.db')\n",
    "sql='''\n",
    "create table if not exists sales(\n",
    "    customer varchar(20),\n",
    "    product varchar(50),\n",
    "    price float,\n",
    "    date date\n",
    ")'''\n",
    "conn.execute(sql)\n",
    "data=[('김철수','배',10000,'2018-01-02'),\n",
    "('박민수','사과',20000,'2018-01-15'),\n",
    "('최인규','포도',15000,'2018-02-03'),\n",
    "('정인택','자두',30000,'2018-02-20'),\n",
    "]\n",
    "sql='insert into sales values(?,?,?,?)'\n",
    "conn.executemany(sql,data)\n",
    "conn.commit()\n",
    "cursor=conn.execute(\"select * from sales\")\n",
    "rows=cursor.fetchall()\n",
    "count=0\n",
    "for row in rows:\n",
    "    print(row)\n",
    "    count+=1\n",
    "print(f'rows : {count}')"
   ]
  },
  {
   "cell_type": "code",
   "execution_count": 10,
   "metadata": {},
   "outputs": [
    {
     "name": "stdout",
     "output_type": "stream",
     "text": [
      "['김철수', '배', '80000.0', '2017-12-31']\n",
      "['박민수', '사과', '20000.0', '2018-01-15']\n",
      "['최인규', '포도', '15000.0', '2018-02-03']\n",
      "['정인택', '자두', '30000.0', '2018-02-20']\n"
     ]
    }
   ],
   "source": [
    "import sqlite3\n",
    "conn=sqlite3.connect('c:/data/db/sales.db')\n",
    "conn.execute(\"update sales set price=?,date=? where customer=?\",(80000,'2017-12-31','김철수'))\n",
    "conn.commit()\n",
    "cursor=conn.execute('select * from sales')\n",
    "rows=cursor.fetchall()\n",
    "for row in rows:\n",
    "    output=[]\n",
    "    for idx in range(len(row)):\n",
    "        output.append(str(row[idx]))\n",
    "    print(output)"
   ]
  },
  {
   "cell_type": "code",
   "execution_count": 12,
   "metadata": {},
   "outputs": [
    {
     "name": "stdout",
     "output_type": "stream",
     "text": [
      "['A', '001-1001', '2341', 500000.0, '2014-01-20']\n",
      "['A', '001-1001', '2341', 500000.0, '2014-01-20']\n",
      "['A', '001-1001', '5467', 750000.0, '2014-01-20']\n",
      "['A', '001-1001', '5467', 750000.0, '2014-01-20']\n",
      "['B', '50-9501', '7009', 250000.0, '2018-01-30']\n",
      "['B', '50-9501', '7009', 250000.0, '2018-01-30']\n",
      "['B', '50-9505', '6650', 125000.0, '2017-02-03']\n",
      "['B', '50-9505', '6650', 125000.0, '2017-02-03']\n",
      "['C', '920-4803', '3321', 615000.0, '2017-02-03']\n",
      "['C', '920-4804', '3321', 615000.0, '2017-02-10']\n",
      "['C', '920-4805', '3321', 615000.0, '2017-02-17']\n",
      "['C', '920-4806', '3321', 615000.0, '2017-02-24']\n"
     ]
    }
   ],
   "source": [
    "# csv 파일로부터 읽은 데이터를 테이블에 insert\n",
    "import csv\n",
    "import sqlite3\n",
    "input_file=\"c:/data/db/input.csv\"\n",
    "conn=sqlite3.connect(\"c:/data/db/suppliers.db\") # db 생성\n",
    "cursor=conn.cursor()\n",
    "sql=\"\"\"\n",
    "create table if not exists suppliers(\n",
    "    supplier_name varchar(20),\n",
    "    invoice_number varchar(20),\n",
    "    part_number varchar(20),\n",
    "    cost float,\n",
    "    purchase_date date\n",
    ")\n",
    "\"\"\"\n",
    "cursor.execute(sql)\n",
    "sql=\"delete from suppliers\"\n",
    "cursor.execute(sql)\n",
    "\n",
    "file_reader=csv.reader(open(input_file,'r'), delimiter=',') # csv 파일에서 데이터를 읽어서 테이블에 insert\n",
    "header=next(file_reader,None) # 첫 라인을 읽음(제목행)\n",
    "for row in file_reader:\n",
    "    data=[]\n",
    "    for idx in range(len(header)):\n",
    "        data.append(row[idx])\n",
    "    cursor.execute(\"insert into suppliers values (?,?,?,?,?)\",data)\n",
    "conn.commit()\n",
    "rs=cursor.execute(\"select * from suppliers\")\n",
    "rows=rs.fetchall()\n",
    "for row in rows:\n",
    "    output=[]\n",
    "    for idx in range(len(row)):\n",
    "        output.append(row[idx])\n",
    "    print(output)\n",
    "conn.close()"
   ]
  },
  {
   "cell_type": "code",
   "execution_count": null,
   "metadata": {},
   "outputs": [],
   "source": []
  }
 ],
 "metadata": {
  "interpreter": {
   "hash": "7b4b4feff2f24a0f0a34464dbe537a36fda679851528fb8735cb41fa49dffb2d"
  },
  "kernelspec": {
   "display_name": "Python 3.8.8 64-bit ('base': conda)",
   "language": "python",
   "name": "python3"
  },
  "language_info": {
   "codemirror_mode": {
    "name": "ipython",
    "version": 3
   },
   "file_extension": ".py",
   "mimetype": "text/x-python",
   "name": "python",
   "nbconvert_exporter": "python",
   "pygments_lexer": "ipython3",
   "version": "3.8.8"
  },
  "orig_nbformat": 4
 },
 "nbformat": 4,
 "nbformat_minor": 2
}
