{
 "cells": [
  {
   "cell_type": "code",
   "execution_count": 1,
   "metadata": {},
   "outputs": [],
   "source": [
    "import pymongo\n",
    "from pymongo import MongoClient\n"
   ]
  },
  {
   "cell_type": "code",
   "execution_count": 2,
   "metadata": {},
   "outputs": [
    {
     "data": {
      "text/plain": [
       "MongoClient(host=['localhost:27017'], document_class=dict, tz_aware=False, connect=True)"
      ]
     },
     "execution_count": 2,
     "metadata": {},
     "output_type": "execute_result"
    }
   ],
   "source": [
    "# 비인증모드로 접속\n",
    "conn=MongoClient('localhost',27017)\n",
    "conn"
   ]
  },
  {
   "cell_type": "code",
   "execution_count": 3,
   "metadata": {},
   "outputs": [
    {
     "data": {
      "text/plain": [
       "MongoClient(host=['localhost:27017'], document_class=dict, tz_aware=False, connect=True)"
      ]
     },
     "execution_count": 3,
     "metadata": {},
     "output_type": "execute_result"
    }
   ],
   "source": [
    "# 인증모드로 접속\n",
    "id='web'\n",
    "pwd='1234'\n",
    "conn=MongoClient('mongodb://%s:%s@localhost/web' % (id,pwd))\n",
    "conn"
   ]
  },
  {
   "cell_type": "code",
   "execution_count": 4,
   "metadata": {},
   "outputs": [
    {
     "data": {
      "text/plain": [
       "Database(MongoClient(host=['localhost:27017'], document_class=dict, tz_aware=False, connect=True), 'web')"
      ]
     },
     "execution_count": 4,
     "metadata": {},
     "output_type": "execute_result"
    }
   ],
   "source": [
    "# db 생성\n",
    "db=conn.web\n",
    "db"
   ]
  },
  {
   "cell_type": "code",
   "execution_count": 5,
   "metadata": {},
   "outputs": [
    {
     "data": {
      "text/plain": [
       "Collection(Database(MongoClient(host=['localhost:27017'], document_class=dict, tz_aware=False, connect=True), 'web'), 'students')"
      ]
     },
     "execution_count": 5,
     "metadata": {},
     "output_type": "execute_result"
    }
   ],
   "source": [
    "# 컬렉션 생성\n",
    "students=db.students\n",
    "students"
   ]
  },
  {
   "cell_type": "code",
   "execution_count": 6,
   "metadata": {},
   "outputs": [],
   "source": [
    "# 컬렉션에 저장된 모든 문서들을 제거\n",
    "try:\n",
    "    students.drop()\n",
    "except:\n",
    "    print('자료가 없습니다.')"
   ]
  },
  {
   "cell_type": "code",
   "execution_count": 7,
   "metadata": {},
   "outputs": [
    {
     "name": "stdout",
     "output_type": "stream",
     "text": [
      "{'_id': ObjectId('61972643970d8649372170ec'), 'no': 1, 'name': '김철수', 'kor': 90, 'eng': 80, 'mat': 77}\n",
      "{'_id': ObjectId('61972644970d8649372170ed'), 'no': 2, 'name': '박은성', 'kor': 95, 'eng': 83, 'mat': 76}\n",
      "{'_id': ObjectId('61972644970d8649372170ee'), 'no': 3, 'name': '송영희', 'kor': 92, 'eng': 87, 'mat': 75}\n"
     ]
    }
   ],
   "source": [
    "# 도큐먼트 생성\n",
    "row1={'no':1, 'name':'김철수', 'kor':90, 'eng':80, 'mat':77}\n",
    "row2={'no':2, 'name':'박은성', 'kor':95, 'eng':83, 'mat':76}\n",
    "row3={'no':3, 'name':'송영희', 'kor':92, 'eng':87, 'mat':75}\n",
    "\n",
    "# 레코드 추가\n",
    "students.insert_one(row1)\n",
    "students.insert_one(row2)\n",
    "students.insert_one(row3)\n",
    "\n",
    "# 전체 도큐먼트 조회\n",
    "rows=students.find()\n",
    "for row in rows:\n",
    "    print(row)"
   ]
  },
  {
   "cell_type": "code",
   "execution_count": 8,
   "metadata": {},
   "outputs": [
    {
     "data": {
      "text/plain": [
       "<pymongo.results.DeleteResult at 0x27cbc256ac0>"
      ]
     },
     "execution_count": 8,
     "metadata": {},
     "output_type": "execute_result"
    }
   ],
   "source": [
    "# 문서 개별 삭제\n",
    "students.delete_one({'no':3})"
   ]
  },
  {
   "cell_type": "code",
   "execution_count": 9,
   "metadata": {},
   "outputs": [
    {
     "name": "stdout",
     "output_type": "stream",
     "text": [
      "{'_id': ObjectId('61972643970d8649372170ec'), 'no': 1, 'name': '김철수', 'kor': 90, 'eng': 80, 'mat': 77}\n",
      "{'_id': ObjectId('61972644970d8649372170ed'), 'no': 2, 'name': '박은성', 'kor': 95, 'eng': 83, 'mat': 76}\n"
     ]
    }
   ],
   "source": [
    "# 전체 도큐먼트 조회\n",
    "rows=students.find()\n",
    "for row in rows:\n",
    "    print(row)"
   ]
  },
  {
   "cell_type": "code",
   "execution_count": 10,
   "metadata": {},
   "outputs": [
    {
     "data": {
      "text/plain": [
       "<pymongo.results.UpdateResult at 0x27cbc8fa380>"
      ]
     },
     "execution_count": 10,
     "metadata": {},
     "output_type": "execute_result"
    }
   ],
   "source": [
    "# 도큐먼트 수정\n",
    "students.update_one({'no':1},{'$set':{'kor':100,'eng':100}})"
   ]
  },
  {
   "cell_type": "code",
   "execution_count": 14,
   "metadata": {},
   "outputs": [
    {
     "name": "stdout",
     "output_type": "stream",
     "text": [
      "{'_id': ObjectId('61972643970d8649372170ec'), 'no': 1, 'name': '김철수', 'kor': 100, 'eng': 100, 'mat': 77, 'avg': 92.33333333333333, 'grade': 'A', 'tot': 277}\n",
      "{'_id': ObjectId('61972644970d8649372170ed'), 'no': 2, 'name': '박은성', 'kor': 95, 'eng': 83, 'mat': 76, 'avg': 84.66666666666667, 'grade': 'B', 'tot': 254}\n"
     ]
    }
   ],
   "source": [
    "# 일괄 수정\n",
    "rows=students.find()\n",
    "for row in rows:\n",
    "    tot=row['kor']+row['eng']+row['mat']\n",
    "    avg=tot/3\n",
    "    if avg>=90:\n",
    "        grade='A'\n",
    "    elif 80<=avg<90:\n",
    "        grade='B'\n",
    "    elif 70<=avg<80:\n",
    "        grade='C'\n",
    "    elif 60<=avg<70:\n",
    "        grade='D'\n",
    "    else:\n",
    "        grade='F'\n",
    "    students.update_one({'no':row['no']}, {'$set':{'tot':tot,'avg':avg,'grade':grade}})\n",
    "\n",
    "rows=students.find()\n",
    "for row in rows:\n",
    "    print(row)"
   ]
  },
  {
   "cell_type": "code",
   "execution_count": 15,
   "metadata": {},
   "outputs": [
    {
     "name": "stdout",
     "output_type": "stream",
     "text": [
      "학번\t이름\t국어\t영어\t수학\t총점\t평균\t등급\n",
      "============================================================\n",
      "1\t김철수\t100\t100\t77\t277\t92.3\tA\n",
      "2\t박은성\t95\t83\t76\t254\t84.7\tB\n"
     ]
    }
   ],
   "source": [
    "rows=students.find()\n",
    "print('학번\\t이름\\t국어\\t영어\\t수학\\t총점\\t평균\\t등급')\n",
    "print('='*60)\n",
    "for row in rows:\n",
    "    print(f\"{row['no']}\\t{row['name']}\\t{row['kor']}\\t{row['eng']}\\t{row['mat']}\\t{row['tot']}\\t{row['avg']:.1f}\\t{row['grade']}\")  "
   ]
  }
 ],
 "metadata": {
  "interpreter": {
   "hash": "7b4b4feff2f24a0f0a34464dbe537a36fda679851528fb8735cb41fa49dffb2d"
  },
  "kernelspec": {
   "display_name": "Python 3.8.8 64-bit ('base': conda)",
   "language": "python",
   "name": "python3"
  },
  "language_info": {
   "codemirror_mode": {
    "name": "ipython",
    "version": 3
   },
   "file_extension": ".py",
   "mimetype": "text/x-python",
   "name": "python",
   "nbconvert_exporter": "python",
   "pygments_lexer": "ipython3",
   "version": "3.8.8"
  },
  "orig_nbformat": 4
 },
 "nbformat": 4,
 "nbformat_minor": 2
}
