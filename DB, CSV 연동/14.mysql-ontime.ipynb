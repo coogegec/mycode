{
 "cells": [
  {
   "cell_type": "code",
   "execution_count": 3,
   "metadata": {},
   "outputs": [
    {
     "name": "stdout",
     "output_type": "stream",
     "text": [
      "(2008, 1, 3, 4, 2003, 1955, 2211, 2225, 'WN', 335, 'N712SW', 128, 150, 116, -14, 8, 'IAD', 'TPA', 810, 4, 8, 0, '', '0', 0, 0, 0, 0, 0)\n",
      "(2008, 1, 3, 4, 754, 735, 1002, 1000, 'WN', 3231, 'N772SW', 128, 145, 113, 2, 19, 'IAD', 'TPA', 810, 5, 10, 0, '', '0', 0, 0, 0, 0, 0)\n",
      "(2008, 1, 3, 4, 628, 620, 804, 750, 'WN', 448, 'N428WN', 96, 90, 76, 14, 8, 'IND', 'BWI', 515, 3, 17, 0, '', '0', 0, 0, 0, 0, 0)\n",
      "(2008, 1, 3, 4, 926, 930, 1054, 1100, 'WN', 1746, 'N612SW', 88, 90, 78, -6, -4, 'IND', 'BWI', 515, 3, 7, 0, '', '0', 0, 0, 0, 0, 0)\n",
      "(2008, 1, 3, 4, 1829, 1755, 1959, 1925, 'WN', 3920, 'N464WN', 90, 90, 77, 34, 34, 'IND', 'BWI', 515, 3, 10, 0, '', '0', 2, 0, 0, 0, 32)\n"
     ]
    }
   ],
   "source": [
    "import MySQLdb\n",
    "conn=MySQLdb.connect(host='localhost',port=3306, db='ontime',user='web',passwd='1234')\n",
    "\n",
    "cursor=conn.cursor()\n",
    "cursor.execute('select * from ontime limit 5')\n",
    "rows=cursor.fetchall()\n",
    "for row in rows:\n",
    "    print(row)\n",
    "\n",
    "cursor.close()\n",
    "conn.close()"
   ]
  },
  {
   "cell_type": "code",
   "execution_count": 4,
   "metadata": {},
   "outputs": [
    {
     "name": "stdout",
     "output_type": "stream",
     "text": [
      "WN\t10.2763\n",
      "XE\t11.0937\n",
      "YV\t11.5720\n",
      "OH\t11.1605\n",
      "OO\t7.2953\n",
      "UA\t13.7844\n",
      "US\t5.6355\n",
      "DL\t7.8880\n",
      "EV\t11.7114\n",
      "F9\t5.9011\n",
      "FL\t9.1839\n",
      "HA\t0.4511\n",
      "MQ\t10.2998\n",
      "NW\t6.4098\n",
      "9E\t6.5856\n",
      "AA\t12.8999\n",
      "AQ\t-1.3903\n",
      "AS\t6.7527\n",
      "B6\t12.4477\n",
      "CO\t13.0236\n"
     ]
    }
   ],
   "source": [
    "# 항공사별 출발 지연 평균 시간\n",
    "import MySQLdb\n",
    "conn=MySQLdb.connect(host='localhost',port=3306, db='ontime',user='web',passwd='1234')\n",
    "\n",
    "cursor=conn.cursor()\n",
    "cursor.execute('select uniquecarrier, avg(depdelay) from ontime group by uniquecarrier')\n",
    "rows=cursor.fetchall()\n",
    "for row in rows:\n",
    "    print(f'{row[0]}\\t{row[1]}')\n",
    "\n",
    "cursor.close()\n",
    "conn.close()"
   ]
  },
  {
   "cell_type": "code",
   "execution_count": 5,
   "metadata": {},
   "outputs": [
    {
     "name": "stdout",
     "output_type": "stream",
     "text": [
      "('WN', Decimal('5.1157'))\n",
      "('XE', Decimal('10.3203'))\n",
      "('YV', Decimal('11.3226'))\n",
      "('OH', Decimal('11.4041'))\n",
      "('OO', Decimal('6.4389'))\n",
      "('UA', Decimal('11.0016'))\n",
      "('US', Decimal('2.8010'))\n",
      "('DL', Decimal('7.7162'))\n",
      "('EV', Decimal('10.0003'))\n",
      "('F9', Decimal('6.0841'))\n",
      "('FL', Decimal('8.9882'))\n",
      "('HA', Decimal('1.2519'))\n",
      "('MQ', Decimal('9.4970'))\n",
      "('NW', Decimal('7.2935'))\n",
      "('9E', Decimal('3.9875'))\n",
      "('AA', Decimal('12.2029'))\n",
      "('AQ', Decimal('-2.8709'))\n",
      "('AS', Decimal('4.7214'))\n",
      "('B6', Decimal('10.8594'))\n",
      "('CO', Decimal('10.8098'))\n"
     ]
    }
   ],
   "source": [
    "# 항공사별 도착 지연 평균 시간\n",
    "import MySQLdb\n",
    "conn=MySQLdb.connect(host='localhost',port=3306, db='ontime',user='web',passwd='1234')\n",
    "\n",
    "cursor=conn.cursor()\n",
    "cursor.execute('select uniquecarrier, avg(arrdelay) from ontime group by uniquecarrier')\n",
    "rows=cursor.fetchall()\n",
    "for row in rows:\n",
    "    print(row)\n",
    "\n",
    "cursor.close()\n",
    "conn.close()"
   ]
  },
  {
   "cell_type": "code",
   "execution_count": 6,
   "metadata": {},
   "outputs": [
    {
     "name": "stdout",
     "output_type": "stream",
     "text": [
      "(1, 279427)\n",
      "(2, 278902)\n",
      "(3, 294556)\n",
      "(4, 256142)\n",
      "(5, 254673)\n",
      "(6, 295897)\n",
      "(7, 264630)\n",
      "(8, 239737)\n",
      "(9, 169959)\n",
      "(10, 183582)\n",
      "(11, 181506)\n",
      "(12, 280493)\n"
     ]
    }
   ],
   "source": [
    "# 도착 지연 횟수 월별 집계\n",
    "import MySQLdb\n",
    "conn=MySQLdb.connect(host='localhost',port=3306, db='ontime',user='web',passwd='1234')\n",
    "\n",
    "cursor=conn.cursor()\n",
    "cursor.execute('select month,count(*) from ontime where arrdelay>0 group by month')\n",
    "rows=cursor.fetchall()\n",
    "for row in rows:\n",
    "    print(row)\n",
    "\n",
    "cursor.close()\n",
    "conn.close()"
   ]
  },
  {
   "cell_type": "code",
   "execution_count": 7,
   "metadata": {},
   "outputs": [
    {
     "name": "stdout",
     "output_type": "stream",
     "text": [
      "[1, 2, 3, 4, 5, 6, 7, 8, 9, 10, 11, 12]\n",
      "[279427, 278902, 294556, 256142, 254673, 295897, 264630, 239737, 169959, 183582, 181506, 280493]\n"
     ]
    }
   ],
   "source": [
    "x=list(range(1,13))\n",
    "y=[]\n",
    "for row in rows:\n",
    "    y.append(row[1])\n",
    "print(x)\n",
    "print(y)"
   ]
  },
  {
   "cell_type": "code",
   "execution_count": 9,
   "metadata": {},
   "outputs": [
    {
     "data": {
      "text/plain": [
       "<BarContainer object of 12 artists>"
      ]
     },
     "execution_count": 9,
     "metadata": {},
     "output_type": "execute_result"
    },
    {
     "data": {
      "image/png": "[encoded data removed]",
      "text/plain": [
       "<Figure size 432x288 with 1 Axes>"
      ]
     },
     "metadata": {
      "needs_background": "light"
     },
     "output_type": "display_data"
    }
   ],
   "source": [
    "import pandas as pd\n",
    "%matplotlib inline\n",
    "import matplotlib.pyplot as plt\n",
    "\n",
    "plt.plot(x,y)\n",
    "plt.bar(x,y)"
   ]
  },
  {
   "cell_type": "code",
   "execution_count": 20,
   "metadata": {},
   "outputs": [
    {
     "name": "stdout",
     "output_type": "stream",
     "text": [
      "(4, Decimal('8.2465'))\n",
      "(5, Decimal('10.6752'))\n",
      "(6, Decimal('5.6825'))\n",
      "(7, Decimal('9.2941'))\n",
      "(1, Decimal('8.0303'))\n",
      "(2, Decimal('7.2923'))\n",
      "(3, Decimal('6.3798'))\n"
     ]
    }
   ],
   "source": [
    "# 요일별 평균 지연 시간\n",
    "import MySQLdb\n",
    "conn=MySQLdb.connect(host='localhost',port=3306, db='ontime',user='web',passwd='1234')\n",
    "\n",
    "cursor=conn.cursor()\n",
    "cursor.execute('select dayofweek,avg(arrdelay) from ontime group by dayofweek')\n",
    "rows=cursor.fetchall()\n",
    "for row in rows:\n",
    "    print(row)\n",
    "\n",
    "cursor.close()\n",
    "conn.close()"
   ]
  },
  {
   "cell_type": "code",
   "execution_count": 21,
   "metadata": {},
   "outputs": [
    {
     "name": "stdout",
     "output_type": "stream",
     "text": [
      "['월', '화', '수', '목', '금', '토', '일']\n",
      "[Decimal('8.2465'), Decimal('10.6752'), Decimal('5.6825'), Decimal('9.2941'), Decimal('8.0303'), Decimal('7.2923'), Decimal('6.3798')]\n"
     ]
    }
   ],
   "source": [
    "x=['월','화','수','목','금','토','일']\n",
    "y=[]\n",
    "for row in rows:\n",
    "    y.append(row[1])\n",
    "print(x)\n",
    "print(y)"
   ]
  },
  {
   "cell_type": "code",
   "execution_count": 22,
   "metadata": {},
   "outputs": [
    {
     "data": {
      "text/plain": [
       "([0, 1, 2, 3, 4, 5, 6],\n",
       " [Text(0, 0, ''),\n",
       "  Text(0, 0, ''),\n",
       "  Text(0, 0, ''),\n",
       "  Text(0, 0, ''),\n",
       "  Text(0, 0, ''),\n",
       "  Text(0, 0, ''),\n",
       "  Text(0, 0, '')])"
      ]
     },
     "execution_count": 22,
     "metadata": {},
     "output_type": "execute_result"
    },
    {
     "data": {
      "image/png": "[encoded data removed]",
      "text/plain": [
       "<Figure size 432x288 with 1 Axes>"
      ]
     },
     "metadata": {
      "needs_background": "light"
     },
     "output_type": "display_data"
    }
   ],
   "source": [
    "import pandas as pd\n",
    "import matplotlib.pyplot as plt\n",
    "%matplotlib inline\n",
    "\n",
    "from matplotlib import rc,font_manager\n",
    "font_name=font_manager.FontProperties(fname='c:/Windows/Fonts/gulim.ttc').get_name()\n",
    "rc('font',family=font_name)\n",
    "\n",
    "plt.plot(x,y)\n",
    "plt.bar(x,y)\n",
    "plt.xticks(rotation=0)"
   ]
  },
  {
   "cell_type": "code",
   "execution_count": 15,
   "metadata": {},
   "outputs": [
    {
     "name": "stdout",
     "output_type": "stream",
     "text": [
      "(2202, Decimal('-28.0000'))\n",
      "(2216, Decimal('-22.2500'))\n",
      "(1807, Decimal('-20.0000'))\n",
      "(2154, Decimal('-17.6667'))\n",
      "(1948, Decimal('-16.0000'))\n"
     ]
    }
   ],
   "source": [
    "# 시간대별 (10월, 월요일에 출발할 때 가장 좋은 시간대는?)\n",
    "import MySQLdb\n",
    "conn=MySQLdb.connect(host='localhost',port=3306, db='ontime',user='web',passwd='1234')\n",
    "\n",
    "cursor=conn.cursor()\n",
    "cursor.execute('''select CRSDepTime, avg(arrdelay) arrdelay from ontime where month=10 and dayofweek=1\n",
    "group by CRSDepTime order by avg(arrdelay) limit 5''')\n",
    "rows=cursor.fetchall()\n",
    "for row in rows:\n",
    "    print(row)\n",
    "\n",
    "cursor.close()\n",
    "conn.close()"
   ]
  }
 ],
 "metadata": {
  "interpreter": {
   "hash": "7b4b4feff2f24a0f0a34464dbe537a36fda679851528fb8735cb41fa49dffb2d"
  },
  "kernelspec": {
   "display_name": "Python 3.8.8 64-bit ('base': conda)",
   "language": "python",
   "name": "python3"
  },
  "language_info": {
   "codemirror_mode": {
    "name": "ipython",
    "version": 3
   },
   "file_extension": ".py",
   "mimetype": "text/x-python",
   "name": "python",
   "nbconvert_exporter": "python",
   "pygments_lexer": "ipython3",
   "version": "3.8.8"
  },
  "orig_nbformat": 4
 },
 "nbformat": 4,
 "nbformat_minor": 2
}
