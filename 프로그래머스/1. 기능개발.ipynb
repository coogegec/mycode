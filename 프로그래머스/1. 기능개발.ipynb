{
 "cells": [
  {
   "cell_type": "code",
   "execution_count": 6,
   "metadata": {},
   "outputs": [
    {
     "name": "stdout",
     "output_type": "stream",
     "text": [
      "[7.0, 3.0, 9.0]\n",
      "[5.0, 10.0, 1.0, 1.0, 20.0, 1.0]\n"
     ]
    }
   ],
   "source": [
    "import numpy as np\n",
    "\n",
    "def solution(progresses, speeds):\n",
    "    # answer = []\n",
    "    calc=[]\n",
    "    count=np.zeros(len(progresses))\n",
    "    for i in range(len(progresses)): # 10000번...\n",
    "        while progresses[i] < 100:\n",
    "            progresses[i]+=speeds[i]\n",
    "            count[i]+=1\n",
    "        calc.append(count[i])\n",
    "\n",
    "\n",
    "    return print(calc)\n",
    "solution([93,30,55],[1,30,5])\n",
    "solution([95,90,99,99,80,99], [1,1,1,1,1,1])"
   ]
  },
  {
   "cell_type": "code",
   "execution_count": 29,
   "metadata": {},
   "outputs": [
    {
     "name": "stdout",
     "output_type": "stream",
     "text": [
      "[2, 1]\n",
      "[1, 3, 2]\n"
     ]
    }
   ],
   "source": [
    "import numpy as np\n",
    "from collections import deque\n",
    "\n",
    "def solution(progresses, speeds):\n",
    "    answer = []\n",
    "    calc=[]\n",
    "    count=np.zeros(len(progresses))\n",
    "    for i in range(len(progresses)): # 10000번...\n",
    "        while progresses[i] < 100:\n",
    "            progresses[i]+=speeds[i]\n",
    "            count[i]+=1\n",
    "        calc.append(count[i])\n",
    "\n",
    "    dq=deque(calc)\n",
    "    while dq:\n",
    "        sametime=[]\n",
    "        sametime.append(dq.popleft())\n",
    "        a=sametime[0]\n",
    "        if len(dq)!=0:\n",
    "            while dq:\n",
    "                if a>=dq[0]:\n",
    "                    sametime.append(dq.popleft())\n",
    "                else: break\n",
    "        answer.append(len(sametime))\n",
    "    return answer\n",
    "\n",
    "print(solution([93,30,55],[1,30,5]))\n",
    "print(solution([95,90,99,99,80,99], [1,1,1,1,1,1]))\n"
   ]
  }
 ],
 "metadata": {
  "interpreter": {
   "hash": "7b4b4feff2f24a0f0a34464dbe537a36fda679851528fb8735cb41fa49dffb2d"
  },
  "kernelspec": {
   "display_name": "Python 3.8.8 64-bit ('base': conda)",
   "language": "python",
   "name": "python3"
  },
  "language_info": {
   "codemirror_mode": {
    "name": "ipython",
    "version": 3
   },
   "file_extension": ".py",
   "mimetype": "text/x-python",
   "name": "python",
   "nbconvert_exporter": "python",
   "pygments_lexer": "ipython3",
   "version": "3.8.8"
  },
  "orig_nbformat": 4
 },
 "nbformat": 4,
 "nbformat_minor": 2
}
