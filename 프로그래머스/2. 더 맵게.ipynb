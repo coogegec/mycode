{
 "cells": [
  {
   "cell_type": "code",
   "execution_count": 1,
   "metadata": {},
   "outputs": [],
   "source": [
    "import heapq\n",
    "\n",
    "def solution(scoville, K):\n",
    "    answer = 0\n",
    "    heap=[]\n",
    "    for s in scoville:\n",
    "        heapq.heappush(heap, s)\n",
    "    while heap[0] < K:\n",
    "        if len(heap)>=2:\n",
    "            a=heapq.heappop(heap)\n",
    "            b=heapq.heappop(heap)\n",
    "            heapq.heappush(heap, a+2*b)\n",
    "            answer+=1\n",
    "\n",
    "        else:\n",
    "            answer=-1\n",
    "            break\n",
    "    return answer"
   ]
  },
  {
   "cell_type": "code",
   "execution_count": 10,
   "metadata": {},
   "outputs": [
    {
     "data": {
      "text/plain": [
       "3"
      ]
     },
     "execution_count": 10,
     "metadata": {},
     "output_type": "execute_result"
    }
   ],
   "source": [
    "import heapq\n",
    "\n",
    "def solution(scoville, K):\n",
    "    answer = 0\n",
    "    # heap=[]\n",
    "    # for s in scoville:\n",
    "    #     heapq.heappush(heap, s)\n",
    "    while min(scoville) < K:\n",
    "        if len(scoville)>=2:\n",
    "            a=heapq.heappop(scoville)\n",
    "            b=heapq.heappop(scoville)\n",
    "            heapq.heappush(scoville, a+2*b)\n",
    "            answer+=1\n",
    "\n",
    "        else:\n",
    "            answer=-1\n",
    "            break\n",
    "    return answer"
   ]
  },
  {
   "cell_type": "code",
   "execution_count": null,
   "metadata": {},
   "outputs": [],
   "source": [
    "def solution(scoville, K):\n",
    "    answer = 0\n",
    "    while min(scoville) < K:\n",
    "        if len(scoville)>=2:\n",
    "            a=heapq.heappop(scoville)\n",
    "            b=heapq.heappop(scoville)\n",
    "            heapq.heappush(scoville, a+2*b)\n",
    "            answer+=1\n",
    "\n",
    "        else:\n",
    "            answer=-1\n",
    "            break\n",
    "    return answer"
   ]
  },
  {
   "cell_type": "code",
   "execution_count": null,
   "metadata": {},
   "outputs": [],
   "source": []
  },
  {
   "cell_type": "code",
   "execution_count": null,
   "metadata": {},
   "outputs": [],
   "source": []
  }
 ],
 "metadata": {
  "interpreter": {
   "hash": "7b4b4feff2f24a0f0a34464dbe537a36fda679851528fb8735cb41fa49dffb2d"
  },
  "kernelspec": {
   "display_name": "Python 3.8.8 64-bit ('base': conda)",
   "language": "python",
   "name": "python3"
  },
  "language_info": {
   "codemirror_mode": {
    "name": "ipython",
    "version": 3
   },
   "file_extension": ".py",
   "mimetype": "text/x-python",
   "name": "python",
   "nbconvert_exporter": "python",
   "pygments_lexer": "ipython3",
   "version": "3.8.8"
  },
  "orig_nbformat": 4
 },
 "nbformat": 4,
 "nbformat_minor": 2
}
