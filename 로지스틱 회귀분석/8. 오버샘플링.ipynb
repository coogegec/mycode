{
 "cells": [
  {
   "cell_type": "code",
   "execution_count": 1,
   "metadata": {},
   "outputs": [],
   "source": [
    "from sklearn.datasets import make_classification\n",
    "\n",
    "X,y=make_classification(n_samples=10000, n_features=2, n_redundant=0, n_clusters_per_class=1,\n",
    "weights=[0.99], flip_y=0, random_state=1)"
   ]
  },
  {
   "cell_type": "code",
   "execution_count": 11,
   "metadata": {},
   "outputs": [
    {
     "data": {
      "text/plain": [
       "0    9900\n",
       "1    9900\n",
       "Name: y, dtype: int64"
      ]
     },
     "execution_count": 11,
     "metadata": {},
     "output_type": "execute_result"
    }
   ],
   "source": [
    "# 1. 무작위로 소수 클래스의 데이터를 복제하여 늘리는 방식\n",
    "#   정보가 손실되지 않으나 과적합이 될 수 있음\n",
    "from imblearn.over_sampling import RandomOverSampler\n",
    "import pandas as pd\n",
    "\n",
    "X_sample, y_sample=RandomOverSampler(random_state=0).fit_resample(X,y)\n",
    "\n",
    "X_samp=pd.DataFrame(data=X_sample,columns=['a','b'])\n",
    "y_samp=pd.DataFrame(data=y_sample,columns=['y'])\n",
    "y_samp.y.value_counts()"
   ]
  },
  {
   "cell_type": "code",
   "execution_count": 16,
   "metadata": {},
   "outputs": [
    {
     "data": {
      "text/plain": [
       "0    9900\n",
       "1    9899\n",
       "Name: y, dtype: int64"
      ]
     },
     "execution_count": 16,
     "metadata": {},
     "output_type": "execute_result"
    }
   ],
   "source": [
    "# ADASYN(Adaptive Synthetic Sampling)\n",
    "# 2. 소수 클래스 데이터와 그 데이터에서 가장 가까운 n개의 소수 클래스 데이터 중\n",
    "#   무작위로 선택된 데이터 사이의 직선 상에 가상의 소수 클래스 데이터를 만드는 방법\n",
    "from imblearn.over_sampling import ADASYN\n",
    "import pandas as pd\n",
    "\n",
    "X_sample, y_sample=ADASYN(random_state=0).fit_resample(X,y)\n",
    "\n",
    "X_samp=pd.DataFrame(data=X_sample,columns=['a','b'])\n",
    "y_samp=pd.DataFrame(data=y_sample,columns=['y'])\n",
    "y_samp.y.value_counts()"
   ]
  },
  {
   "cell_type": "code",
   "execution_count": 21,
   "metadata": {},
   "outputs": [
    {
     "data": {
      "text/plain": [
       "0    9900\n",
       "1    9900\n",
       "Name: y, dtype: int64"
      ]
     },
     "execution_count": 21,
     "metadata": {},
     "output_type": "execute_result"
    }
   ],
   "source": [
    "# 3. SMOTE(Synthetic Minority Over-sampling Technique) : 가장 많이 사용되는 방식\n",
    "# 소수 클래스의 샘플의 k 최근접 이웃을 찾는다.\n",
    "# 현재 샘플과 k개 이웃 간의 거리를 구하고 거리가 0~1 사이의 임의의 값을 곱하여\n",
    "# 소수 클래스의 샘플에 추가, 결과적으로 소수 클래스의 샘플을 주변의 이웃을 고려해 약간씩\n",
    "# 이동시킨 포인트들을 추가하는 방식\n",
    "from imblearn.over_sampling import SMOTE\n",
    "import pandas as pd\n",
    "\n",
    "X_sample, y_sample=SMOTE(random_state=0).fit_resample(X,y)\n",
    "\n",
    "X_samp=pd.DataFrame(data=X_sample,columns=['a','b'])\n",
    "y_samp=pd.DataFrame(data=y_sample,columns=['y'])\n",
    "y_samp.y.value_counts()"
   ]
  },
  {
   "cell_type": "code",
   "execution_count": 22,
   "metadata": {},
   "outputs": [
    {
     "name": "stderr",
     "output_type": "stream",
     "text": [
      "D:\\anaconda3\\lib\\site-packages\\sklearn\\utils\\validation.py:63: DataConversionWarning: A column-vector y was passed when a 1d array was expected. Please change the shape of y to (n_samples, ), for example using ravel().\n",
      "  return f(*args, **kwargs)\n"
     ]
    },
    {
     "data": {
      "text/plain": [
       "LogisticRegression(random_state=42)"
      ]
     },
     "execution_count": 22,
     "metadata": {},
     "output_type": "execute_result"
    }
   ],
   "source": [
    "from sklearn.linear_model import LogisticRegression\n",
    "from sklearn.model_selection import train_test_split\n",
    "\n",
    "X_train, X_test, y_train, y_test=train_test_split(X_samp, y_samp, test_size=0.2, stratify=y_samp, random_state=10)\n",
    "\n",
    "model1=LogisticRegression(random_state=42)\n",
    "model1.fit(X_train, y_train)"
   ]
  },
  {
   "cell_type": "code",
   "execution_count": 23,
   "metadata": {},
   "outputs": [
    {
     "name": "stdout",
     "output_type": "stream",
     "text": [
      "학습용 : 0.9096590909090909\n",
      "검증용 : 0.9085858585858586\n"
     ]
    }
   ],
   "source": [
    "print(\"학습용 :\",model1.score(X_train, y_train))\n",
    "print(\"검증용 :\",model1.score(X_test, y_test))"
   ]
  },
  {
   "cell_type": "code",
   "execution_count": 24,
   "metadata": {},
   "outputs": [
    {
     "data": {
      "text/plain": [
       "array([[1830,  150],\n",
       "       [ 212, 1768]], dtype=int64)"
      ]
     },
     "execution_count": 24,
     "metadata": {},
     "output_type": "execute_result"
    }
   ],
   "source": [
    "from sklearn.metrics import confusion_matrix\n",
    "\n",
    "pred1=model1.predict(X_test)\n",
    "cm=confusion_matrix(y_test, pred1)\n",
    "cm"
   ]
  },
  {
   "cell_type": "code",
   "execution_count": 25,
   "metadata": {},
   "outputs": [
    {
     "name": "stdout",
     "output_type": "stream",
     "text": [
      "              precision    recall  f1-score   support\n",
      "\n",
      "           0       0.90      0.92      0.91      1980\n",
      "           1       0.92      0.89      0.91      1980\n",
      "\n",
      "    accuracy                           0.91      3960\n",
      "   macro avg       0.91      0.91      0.91      3960\n",
      "weighted avg       0.91      0.91      0.91      3960\n",
      "\n"
     ]
    }
   ],
   "source": [
    "from sklearn.metrics import classification_report\n",
    "print(classification_report(y_test,pred1))"
   ]
  }
 ],
 "metadata": {
  "interpreter": {
   "hash": "7b4b4feff2f24a0f0a34464dbe537a36fda679851528fb8735cb41fa49dffb2d"
  },
  "kernelspec": {
   "display_name": "Python 3.8.8 64-bit ('base': conda)",
   "language": "python",
   "name": "python3"
  },
  "language_info": {
   "codemirror_mode": {
    "name": "ipython",
    "version": 3
   },
   "file_extension": ".py",
   "mimetype": "text/x-python",
   "name": "python",
   "nbconvert_exporter": "python",
   "pygments_lexer": "ipython3",
   "version": "3.8.8"
  },
  "orig_nbformat": 4
 },
 "nbformat": 4,
 "nbformat_minor": 2
}
