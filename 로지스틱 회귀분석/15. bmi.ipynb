{
 "cells": [
  {
   "cell_type": "code",
   "execution_count": 2,
   "metadata": {},
   "outputs": [
    {
     "name": "stdout",
     "output_type": "stream",
     "text": [
      "데이터가 생성되었습니다, {'1': 6515, '2': 5931, '3': 7554}\n"
     ]
    }
   ],
   "source": [
    "import random\n",
    "\n",
    "def calc_bmi(h,w): # BMI를 계산해서 레이블을 리턴하는 함수, (1: thin, 2: normal, 3: fat)\n",
    "    bmi=w/(h/100)**2\n",
    "    if bmi<18.5:\n",
    "        return \"1\"\n",
    "    if bmi<25:\n",
    "        return \"2\"\n",
    "    return \"3\"\n",
    "\n",
    "fp=open(\"d:/data/bmi/bmi.csv\",\"w\",encoding=\"utf-8\") # 출력 파일 준비\n",
    "fp.write(\"height,weight,label\\r\\n\")\n",
    "cnt={\"1\":0, \"2\":0, \"3\":0}\n",
    "for i in range(20000): # 무작위 키/몸무게 데이터 생성\n",
    "    h=random.randint(120,200)\n",
    "    w=random.randint(35,80)\n",
    "    label=calc_bmi(h,w)\n",
    "    cnt[label]+=1\n",
    "    fp.write(f'{h},{w},{label}\\r\\n')\n",
    "\n",
    "fp.close()\n",
    "print('데이터가 생성되었습니다,',cnt)"
   ]
  },
  {
   "cell_type": "code",
   "execution_count": 3,
   "metadata": {},
   "outputs": [
    {
     "data": {
      "text/html": [
       "<div>\n",
       "<style scoped>\n",
       "    .dataframe tbody tr th:only-of-type {\n",
       "        vertical-align: middle;\n",
       "    }\n",
       "\n",
       "    .dataframe tbody tr th {\n",
       "        vertical-align: top;\n",
       "    }\n",
       "\n",
       "    .dataframe thead th {\n",
       "        text-align: right;\n",
       "    }\n",
       "</style>\n",
       "<table border=\"1\" class=\"dataframe\">\n",
       "  <thead>\n",
       "    <tr style=\"text-align: right;\">\n",
       "      <th></th>\n",
       "      <th>height</th>\n",
       "      <th>weight</th>\n",
       "      <th>label</th>\n",
       "    </tr>\n",
       "  </thead>\n",
       "  <tbody>\n",
       "    <tr>\n",
       "      <th>0</th>\n",
       "      <td>198</td>\n",
       "      <td>73</td>\n",
       "      <td>2</td>\n",
       "    </tr>\n",
       "    <tr>\n",
       "      <th>1</th>\n",
       "      <td>195</td>\n",
       "      <td>67</td>\n",
       "      <td>1</td>\n",
       "    </tr>\n",
       "    <tr>\n",
       "      <th>2</th>\n",
       "      <td>141</td>\n",
       "      <td>77</td>\n",
       "      <td>3</td>\n",
       "    </tr>\n",
       "    <tr>\n",
       "      <th>3</th>\n",
       "      <td>186</td>\n",
       "      <td>38</td>\n",
       "      <td>1</td>\n",
       "    </tr>\n",
       "    <tr>\n",
       "      <th>4</th>\n",
       "      <td>182</td>\n",
       "      <td>64</td>\n",
       "      <td>2</td>\n",
       "    </tr>\n",
       "  </tbody>\n",
       "</table>\n",
       "</div>"
      ],
      "text/plain": [
       "   height  weight  label\n",
       "0     198      73      2\n",
       "1     195      67      1\n",
       "2     141      77      3\n",
       "3     186      38      1\n",
       "4     182      64      2"
      ]
     },
     "execution_count": 3,
     "metadata": {},
     "output_type": "execute_result"
    }
   ],
   "source": [
    "import pandas as pd\n",
    "\n",
    "df=pd.read_csv(\"d:/data/bmi/bmi.csv\") # 데이터 로딩\n",
    "df.head()"
   ]
  },
  {
   "cell_type": "code",
   "execution_count": 4,
   "metadata": {},
   "outputs": [
    {
     "name": "stdout",
     "output_type": "stream",
     "text": [
      "Index(['height', 'weight'], dtype='object')\n",
      "   height  weight\n",
      "0     198      73\n",
      "1     195      67\n",
      "2     141      77\n",
      "3     186      38\n",
      "4     182      64\n",
      "0    2\n",
      "1    1\n",
      "2    3\n",
      "3    1\n",
      "4    2\n",
      "Name: label, dtype: int64\n"
     ]
    }
   ],
   "source": [
    "train_cols=df.columns[0:2]\n",
    "print(train_cols)\n",
    "X=df[train_cols]\n",
    "y=df[\"label\"]\n",
    "print(df[train_cols].head())\n",
    "print(y.head())"
   ]
  },
  {
   "cell_type": "code",
   "execution_count": 5,
   "metadata": {},
   "outputs": [
    {
     "name": "stdout",
     "output_type": "stream",
     "text": [
      "Index(['height', 'weight', 'label'], dtype='object')\n",
      "\n",
      "(20000, 3)\n",
      "\n",
      "             height        weight        label\n",
      "count  20000.000000  20000.000000  20000.00000\n",
      "mean     160.164350     57.330450      2.05195\n",
      "std       23.352475     13.270383      0.83713\n",
      "min      120.000000     35.000000      1.00000\n",
      "25%      140.000000     46.000000      1.00000\n",
      "50%      160.000000     57.000000      2.00000\n",
      "75%      180.000000     69.000000      3.00000\n",
      "max      200.000000     80.000000      3.00000\n",
      "\n",
      "           height     weight\n",
      "label                       \n",
      "1      179.987567  47.433768\n",
      "2      163.973360  58.468555\n",
      "3      140.077045  64.972333\n"
     ]
    }
   ],
   "source": [
    "print(df.columns)\n",
    "print()\n",
    "print(df.shape)\n",
    "print()\n",
    "print(df.describe())\n",
    "print()\n",
    "print(df.groupby(\"label\").mean()) # 분류를 기준으로 한 평균값들\n"
   ]
  },
  {
   "cell_type": "code",
   "execution_count": 6,
   "metadata": {},
   "outputs": [
    {
     "name": "stderr",
     "output_type": "stream",
     "text": [
      "D:\\anaconda3\\lib\\site-packages\\seaborn\\_decorators.py:36: FutureWarning: Pass the following variable as a keyword arg: x. From version 0.12, the only valid positional argument will be `data`, and passing other arguments without an explicit keyword will result in an error or misinterpretation.\n",
      "  warnings.warn(\n"
     ]
    },
    {
     "data": {
      "text/plain": [
       "Text(0.5, 1.0, '분류\\n (1: thin, 2: normal, 3: fat)')"
      ]
     },
     "execution_count": 6,
     "metadata": {},
     "output_type": "execute_result"
    },
    {
     "data": {
      "image/png": "[encoded data removed]",
      "text/plain": [
       "<Figure size 432x288 with 1 Axes>"
      ]
     },
     "metadata": {
      "needs_background": "light"
     },
     "output_type": "display_data"
    }
   ],
   "source": [
    "%matplotlib inline\n",
    "from matplotlib import pyplot as plt\n",
    "from matplotlib import font_manager,rc\n",
    "import seaborn as sns\n",
    "\n",
    "font_name=font_manager.FontProperties(fname=\"c:/windows/fonts/malgun.ttf\").get_name() # 한글 처리\n",
    "rc('font', family=font_name)\n",
    "\n",
    "colors=[\"yellow\", \"red\", \"blue\"]\n",
    "sns.countplot('label', data=df, palette=colors)\n",
    "plt.title('분류\\n (1: thin, 2: normal, 3: fat)', fontsize=14)"
   ]
  },
  {
   "cell_type": "code",
   "execution_count": 7,
   "metadata": {},
   "outputs": [
    {
     "name": "stdout",
     "output_type": "stream",
     "text": [
      "<class 'pandas.core.frame.DataFrame'> <class 'pandas.core.series.Series'>\n",
      "   height  weight\n",
      "0     198      73\n",
      "1     195      67\n",
      "2     141      77\n",
      "3     186      38\n",
      "4     182      64\n",
      "0    2\n",
      "1    1\n",
      "2    3\n",
      "3    1\n",
      "4    2\n",
      "Name: label, dtype: int64\n"
     ]
    }
   ],
   "source": [
    "print(type(X), type(y))\n",
    "print(X.head())\n",
    "print(y.head())"
   ]
  },
  {
   "cell_type": "code",
   "execution_count": 8,
   "metadata": {},
   "outputs": [],
   "source": [
    "# 언더샘플링\n",
    "from imblearn.under_sampling import RandomUnderSampler\n",
    "\n",
    "X_sample, y_sample=RandomUnderSampler(random_state=0).fit_resample(X,y)\n",
    "\n",
    "X_samp=pd.DataFrame(data=X_sample, columns=train_cols)\n",
    "y_samp=pd.DataFrame(data=y_sample, columns=['label'])\n",
    "df2=pd.concat([X_samp,y_samp], axis=1)"
   ]
  },
  {
   "cell_type": "code",
   "execution_count": 9,
   "metadata": {},
   "outputs": [
    {
     "data": {
      "text/plain": [
       "1    5931\n",
       "2    5931\n",
       "3    5931\n",
       "Name: label, dtype: int64"
      ]
     },
     "execution_count": 9,
     "metadata": {},
     "output_type": "execute_result"
    }
   ],
   "source": [
    "df2['label'].value_counts()"
   ]
  },
  {
   "cell_type": "code",
   "execution_count": 10,
   "metadata": {},
   "outputs": [
    {
     "name": "stderr",
     "output_type": "stream",
     "text": [
      "D:\\anaconda3\\lib\\site-packages\\seaborn\\_decorators.py:36: FutureWarning: Pass the following variable as a keyword arg: x. From version 0.12, the only valid positional argument will be `data`, and passing other arguments without an explicit keyword will result in an error or misinterpretation.\n",
      "  warnings.warn(\n"
     ]
    },
    {
     "data": {
      "text/plain": [
       "Text(0.5, 1.0, '분류\\n (1: thin, 2: normal, 3: fat)')"
      ]
     },
     "execution_count": 10,
     "metadata": {},
     "output_type": "execute_result"
    },
    {
     "data": {
      "image/png": "[encoded data removed]",
      "text/plain": [
       "<Figure size 432x288 with 1 Axes>"
      ]
     },
     "metadata": {
      "needs_background": "light"
     },
     "output_type": "display_data"
    }
   ],
   "source": [
    "sns.countplot('label', data=df2, palette=colors)\n",
    "plt.title('분류\\n (1: thin, 2: normal, 3: fat)', fontsize=14)"
   ]
  },
  {
   "cell_type": "code",
   "execution_count": 11,
   "metadata": {},
   "outputs": [],
   "source": [
    "train_cols=['height', 'weight']\n",
    "\n",
    "X=X_samp[train_cols]\n",
    "y=y_samp['label']"
   ]
  },
  {
   "cell_type": "code",
   "execution_count": 12,
   "metadata": {},
   "outputs": [
    {
     "data": {
      "text/plain": [
       "LogisticRegression()"
      ]
     },
     "execution_count": 12,
     "metadata": {},
     "output_type": "execute_result"
    }
   ],
   "source": [
    "from sklearn.model_selection import train_test_split\n",
    "from sklearn.linear_model import LogisticRegression\n",
    "from sklearn import metrics\n",
    "\n",
    "X_train, X_test, y_train, y_test=train_test_split(X,y,test_size=0.2, random_state=0)\n",
    "model=LogisticRegression()\n",
    "model.fit(X_train, y_train)"
   ]
  },
  {
   "cell_type": "code",
   "execution_count": 13,
   "metadata": {},
   "outputs": [
    {
     "name": "stdout",
     "output_type": "stream",
     "text": [
      "학습용 : 0.9820148939159759\n",
      "검증용 : 0.9822983984265243\n"
     ]
    }
   ],
   "source": [
    "print(\"학습용 :\",model.score(X_train, y_train))\n",
    "print(\"검증용 :\",model.score(X_test, y_test))"
   ]
  },
  {
   "cell_type": "code",
   "execution_count": 14,
   "metadata": {},
   "outputs": [
    {
     "data": {
      "text/plain": [
       "array([[1138,   17,    0],\n",
       "       [  17, 1180,   10],\n",
       "       [   0,   19, 1178]], dtype=int64)"
      ]
     },
     "execution_count": 14,
     "metadata": {},
     "output_type": "execute_result"
    }
   ],
   "source": [
    "# confusion matrix(혼동행렬) 출력\n",
    "from sklearn.metrics import confusion_matrix\n",
    "\n",
    "pred=model.predict(X_test)\n",
    "cm=confusion_matrix(y_test,pred)\n",
    "cm"
   ]
  },
  {
   "cell_type": "code",
   "execution_count": 15,
   "metadata": {},
   "outputs": [
    {
     "data": {
      "text/html": [
       "<div>\n",
       "<style scoped>\n",
       "    .dataframe tbody tr th:only-of-type {\n",
       "        vertical-align: middle;\n",
       "    }\n",
       "\n",
       "    .dataframe tbody tr th {\n",
       "        vertical-align: top;\n",
       "    }\n",
       "\n",
       "    .dataframe thead th {\n",
       "        text-align: right;\n",
       "    }\n",
       "</style>\n",
       "<table border=\"1\" class=\"dataframe\">\n",
       "  <thead>\n",
       "    <tr style=\"text-align: right;\">\n",
       "      <th></th>\n",
       "      <th>1</th>\n",
       "      <th>2</th>\n",
       "      <th>3</th>\n",
       "    </tr>\n",
       "  </thead>\n",
       "  <tbody>\n",
       "    <tr>\n",
       "      <th>1</th>\n",
       "      <td>1138</td>\n",
       "      <td>17</td>\n",
       "      <td>0</td>\n",
       "    </tr>\n",
       "    <tr>\n",
       "      <th>2</th>\n",
       "      <td>17</td>\n",
       "      <td>1180</td>\n",
       "      <td>10</td>\n",
       "    </tr>\n",
       "    <tr>\n",
       "      <th>3</th>\n",
       "      <td>0</td>\n",
       "      <td>19</td>\n",
       "      <td>1178</td>\n",
       "    </tr>\n",
       "  </tbody>\n",
       "</table>\n",
       "</div>"
      ],
      "text/plain": [
       "      1     2     3\n",
       "1  1138    17     0\n",
       "2    17  1180    10\n",
       "3     0    19  1178"
      ]
     },
     "execution_count": 15,
     "metadata": {},
     "output_type": "execute_result"
    }
   ],
   "source": [
    "df_cm=pd.DataFrame(cm, index=[1,2,3], columns=[1,2,3])\n",
    "df_cm"
   ]
  },
  {
   "cell_type": "code",
   "execution_count": 16,
   "metadata": {},
   "outputs": [
    {
     "data": {
      "text/plain": [
       "<AxesSubplot:title={'center':'Confusion Matrix'}>"
      ]
     },
     "execution_count": 16,
     "metadata": {},
     "output_type": "execute_result"
    },
    {
     "data": {
      "image/png": "[encoded data removed]",
      "text/plain": [
       "<Figure size 648x432 with 2 Axes>"
      ]
     },
     "metadata": {},
     "output_type": "display_data"
    }
   ],
   "source": [
    "sns.set(font_scale=1.4)\n",
    "plt.figure(figsize=(9,6))\n",
    "plt.title(\"Confusion Matrix\")\n",
    "sns.heatmap(df_cm, annot=True, fmt='d')"
   ]
  }
 ],
 "metadata": {
  "interpreter": {
   "hash": "7b4b4feff2f24a0f0a34464dbe537a36fda679851528fb8735cb41fa49dffb2d"
  },
  "kernelspec": {
   "display_name": "Python 3.8.8 64-bit ('base': conda)",
   "language": "python",
   "name": "python3"
  },
  "language_info": {
   "codemirror_mode": {
    "name": "ipython",
    "version": 3
   },
   "file_extension": ".py",
   "mimetype": "text/x-python",
   "name": "python",
   "nbconvert_exporter": "python",
   "pygments_lexer": "ipython3",
   "version": "3.8.8"
  },
  "orig_nbformat": 4
 },
 "nbformat": 4,
 "nbformat_minor": 2
}
