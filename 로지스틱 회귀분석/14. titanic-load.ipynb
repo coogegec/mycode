{
 "cells": [
  {
   "cell_type": "code",
   "execution_count": 1,
   "metadata": {},
   "outputs": [],
   "source": [
    "import joblib\n",
    "model=joblib.load('d:/data/titanic/titanic_logit.model')"
   ]
  },
  {
   "cell_type": "code",
   "execution_count": 7,
   "metadata": {},
   "outputs": [
    {
     "name": "stdout",
     "output_type": "stream",
     "text": [
      "[0]\n",
      "[1]\n",
      "[1]\n",
      "0.15401432684520036\n",
      "0.9579442983828746\n",
      "0.7297010392361661\n"
     ]
    }
   ],
   "source": [
    "import numpy as np\n",
    "person1=np.array([0,0,1,1,0,19,1,0,50]).reshape(1,9)\n",
    "person2=np.array([1,0,0,0,1,17,0,2,30]).reshape(1,9)\n",
    "person3=np.array([0,1,0,0,1,40,2,0,70]).reshape(1,9)\n",
    "\n",
    "print(model.predict(person1))\n",
    "print(model.predict(person2))\n",
    "print(model.predict(person3))\n",
    "rate1=model.predict_proba(person1)\n",
    "rate2=model.predict_proba(person2)\n",
    "rate3=model.predict_proba(person3)\n",
    "print(rate1[0][-1]) # person1의 생존 확률\n",
    "print(rate2[0][-1]) # person2의 생존 확률\n",
    "print(rate3[0][-1]) # person3의 생존 확률"
   ]
  }
 ],
 "metadata": {
  "interpreter": {
   "hash": "7b4b4feff2f24a0f0a34464dbe537a36fda679851528fb8735cb41fa49dffb2d"
  },
  "kernelspec": {
   "display_name": "Python 3.8.8 64-bit ('base': conda)",
   "language": "python",
   "name": "python3"
  },
  "language_info": {
   "codemirror_mode": {
    "name": "ipython",
    "version": 3
   },
   "file_extension": ".py",
   "mimetype": "text/x-python",
   "name": "python",
   "nbconvert_exporter": "python",
   "pygments_lexer": "ipython3",
   "version": "3.8.8"
  },
  "orig_nbformat": 4
 },
 "nbformat": 4,
 "nbformat_minor": 2
}
