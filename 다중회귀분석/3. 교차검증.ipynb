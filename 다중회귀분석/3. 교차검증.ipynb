{
 "cells": [
  {
   "cell_type": "code",
   "execution_count": 13,
   "metadata": {},
   "outputs": [
    {
     "name": "stderr",
     "output_type": "stream",
     "text": [
      "<ipython-input-13-06e8615d514f>:14: DeprecationWarning: `np.int` is a deprecated alias for the builtin `int`. To silence this warning, use `int` by itself. Doing this will not modify any behavior and is safe. When replacing `np.int`, you may wish to use e.g. `np.int64` or `np.int32` to specify the precision. If you wish to review your current use, check the release note link for additional information.\n",
      "Deprecated in NumPy 1.20; for more details and guidance: https://numpy.org/devdocs/release/1.20.0-notes.html#deprecations\n",
      "  idx_train=np.random.choice(np.arange(N), np.int(ratio*N), replace=False)\n"
     ]
    }
   ],
   "source": [
    "from sklearn.datasets import load_boston\n",
    "import pandas as pd\n",
    "import numpy as np\n",
    "\n",
    "boston=load_boston()\n",
    "dfX=pd.DataFrame(boston.data, columns=boston.feature_names)\n",
    "dfy=pd.DataFrame(boston.target, columns=[\"MEDV\"])\n",
    "df=pd.concat([dfX,dfy], axis=1)\n",
    "\n",
    "N=len(df) # 샘플 개수\n",
    "ratio=0.7\n",
    "np.random.seed(0)\n",
    "\n",
    "idx_train=np.random.choice(np.arange(N), np.int(ratio*N), replace=False)\n",
    "idx_test=list(set(np.arange(N))-set(idx_train))\n",
    "\n",
    "df_train=df.iloc[idx_train]\n",
    "df_test=df.iloc[idx_test]"
   ]
  },
  {
   "cell_type": "code",
   "execution_count": 14,
   "metadata": {},
   "outputs": [
    {
     "name": "stdout",
     "output_type": "stream",
     "text": [
      "354 152\n"
     ]
    }
   ],
   "source": [
    "print(len(idx_train),len(idx_test))"
   ]
  },
  {
   "cell_type": "code",
   "execution_count": 15,
   "metadata": {},
   "outputs": [
    {
     "name": "stdout",
     "output_type": "stream",
     "text": [
      "                            OLS Regression Results                            \n",
      "==============================================================================\n",
      "Dep. Variable:                   MEDV   R-squared:                       0.728\n",
      "Model:                            OLS   Adj. R-squared:                  0.718\n",
      "Method:                 Least Squares   F-statistic:                     70.06\n",
      "Date:                Mon, 06 Dec 2021   Prob (F-statistic):           8.57e-88\n",
      "Time:                        10:32:17   Log-Likelihood:                -1043.0\n",
      "No. Observations:                 354   AIC:                             2114.\n",
      "Df Residuals:                     340   BIC:                             2168.\n",
      "Df Model:                          13                                         \n",
      "Covariance Type:            nonrobust                                         \n",
      "==============================================================================\n",
      "                 coef    std err          t      P>|t|      [0.025      0.975]\n",
      "------------------------------------------------------------------------------\n",
      "Intercept     35.0719      5.932      5.913      0.000      23.404      46.739\n",
      "CRIM          -0.1005      0.035     -2.869      0.004      -0.169      -0.032\n",
      "ZN             0.0381      0.017      2.248      0.025       0.005       0.071\n",
      "INDUS          0.0202      0.072      0.281      0.779      -0.121       0.162\n",
      "CHAS           1.1498      1.020      1.127      0.260      -0.856       3.156\n",
      "NOX          -17.3942      4.522     -3.847      0.000     -26.288      -8.500\n",
      "RM             3.8640      0.485      7.959      0.000       2.909       4.819\n",
      "AGE            0.0004      0.016      0.023      0.982      -0.030       0.031\n",
      "DIS           -1.3285      0.236     -5.626      0.000      -1.793      -0.864\n",
      "RAD            0.3741      0.084      4.447      0.000       0.209       0.540\n",
      "TAX           -0.0160      0.005     -3.315      0.001      -0.025      -0.007\n",
      "PTRATIO       -0.8989      0.153     -5.885      0.000      -1.199      -0.598\n",
      "B              0.0095      0.003      3.015      0.003       0.003       0.016\n",
      "LSTAT         -0.5013      0.060     -8.423      0.000      -0.618      -0.384\n",
      "==============================================================================\n",
      "Omnibus:                      136.641   Durbin-Watson:                   1.998\n",
      "Prob(Omnibus):                  0.000   Jarque-Bera (JB):              602.833\n",
      "Skew:                           1.618   Prob(JB):                    1.25e-131\n",
      "Kurtosis:                       8.513   Cond. No.                     1.47e+04\n",
      "==============================================================================\n",
      "\n",
      "Notes:\n",
      "[1] Standard Errors assume that the covariance matrix of the errors is correctly specified.\n",
      "[2] The condition number is large, 1.47e+04. This might indicate that there are\n",
      "strong multicollinearity or other numerical problems.\n"
     ]
    }
   ],
   "source": [
    "import statsmodels.api as sm\n",
    "\n",
    "model=sm.OLS.from_formula(\"MEDV ~ \"+'+'.join(boston.feature_names), data=df_train)\n",
    "result=model.fit()\n",
    "print(result.summary())"
   ]
  },
  {
   "cell_type": "code",
   "execution_count": 16,
   "metadata": {},
   "outputs": [
    {
     "data": {
      "text/plain": [
       "0.7519796502601109"
      ]
     },
     "execution_count": 16,
     "metadata": {},
     "output_type": "execute_result"
    }
   ],
   "source": [
    "pred=result.predict(df_test)\n",
    "rss=((df_test.MEDV-pred)**2).sum()\n",
    "tss=((df_test.MEDV-df_test.MEDV.mean())**2).sum()\n",
    "rsquared=1-rss/tss\n",
    "rsquared"
   ]
  },
  {
   "cell_type": "code",
   "execution_count": 17,
   "metadata": {},
   "outputs": [
    {
     "data": {
      "text/plain": [
       "((354, 14), (152, 14))"
      ]
     },
     "execution_count": 17,
     "metadata": {},
     "output_type": "execute_result"
    }
   ],
   "source": [
    "from sklearn.model_selection import train_test_split\n",
    "\n",
    "df_train, df_test=train_test_split(df, test_size=0.3, random_state=0)\n",
    "df_train.shape, df_test.shape"
   ]
  },
  {
   "cell_type": "code",
   "execution_count": 18,
   "metadata": {},
   "outputs": [
    {
     "data": {
      "text/plain": [
       "((354, 13), (354, 1), (152, 13), (152, 1))"
      ]
     },
     "execution_count": 18,
     "metadata": {},
     "output_type": "execute_result"
    }
   ],
   "source": [
    "dfX_train, dfX_test, dfy_train, dfy_test=train_test_split(dfX, dfy, test_size=0.3, random_state=0)\n",
    "dfX_train.shape, dfy_train.shape, dfX_test.shape, dfy_test.shape"
   ]
  },
  {
   "cell_type": "code",
   "execution_count": 19,
   "metadata": {},
   "outputs": [
    {
     "name": "stdout",
     "output_type": "stream",
     "text": [
      "학습용 R2=0.773, 검증용 R2=0.589\n",
      "학습용 R2=0.729, 검증용 R2=0.778\n",
      "학습용 R2=0.749, 검증용 R2=0.668\n",
      "학습용 R2=0.757, 검증용 R2=0.668\n",
      "학습용 R2=0.705, 검증용 R2=0.840\n"
     ]
    }
   ],
   "source": [
    "from sklearn.model_selection import KFold\n",
    "\n",
    "scores=np.zeros(5) # 0 다섯개 배열\n",
    "cv=KFold(5, shuffle=True, random_state=0)\n",
    "for i, (idx_train, idx_test) in enumerate(cv.split(df)):\n",
    "    df_train=df.iloc[idx_train]\n",
    "    df_test=df.iloc[idx_test]\n",
    "\n",
    "    model=sm.OLS.from_formula(\"MEDV ~ \"+'+'.join(boston.feature_names), data=df_train)\n",
    "    result=model.fit()\n",
    "\n",
    "    pred=result.predict(df_test)\n",
    "    rss=((df_test.MEDV-pred)**2).sum()\n",
    "    tss=((df_test.MEDV-df_test.MEDV.mean())**2).sum()\n",
    "    rsquared=1-rss/tss\n",
    "\n",
    "    scores[i]=rsquared\n",
    "    print(f'학습용 R2={result.rsquared:.3f}, 검증용 R2={rsquared:.3f}')"
   ]
  },
  {
   "cell_type": "code",
   "execution_count": 20,
   "metadata": {},
   "outputs": [
    {
     "name": "stdout",
     "output_type": "stream",
     "text": [
      "[0.58922238 0.77799144 0.66791979 0.6680163  0.83953317]\n",
      "[33.44898    18.65881615 21.23463289 29.22251557 16.57369039]\n",
      "[3.84290922 3.38979394 3.07473854 3.6463452  3.03058651]\n"
     ]
    }
   ],
   "source": [
    "from sklearn.metrics import r2_score,mean_squared_error,mean_absolute_error\n",
    "\n",
    "scores1=np.zeros(5) # 0 다섯개 배열\n",
    "scores2=np.zeros(5)\n",
    "scores3=np.zeros(5)\n",
    "cv=KFold(5, shuffle=True, random_state=0)\n",
    "for i, (idx_train, idx_test) in enumerate(cv.split(df)):\n",
    "    df_train=df.iloc[idx_train]\n",
    "    df_test=df.iloc[idx_test]\n",
    "\n",
    "    model=sm.OLS.from_formula(\"MEDV ~ \"+'+'.join(boston.feature_names), data=df_train)\n",
    "    result=model.fit()\n",
    "\n",
    "    pred=result.predict(df_test)\n",
    "    rsquared=r2_score(df_test.MEDV, pred) # 모형의 설명력\n",
    "    scores1[i]=rsquared\n",
    "    mse=mean_squared_error(df_test.MEDV, pred) # 평균 제곱 오차(Mean Squared Error) : 오차 제곱 합계의 평균\n",
    "    scores2[i]=mse\n",
    "    mae=mean_absolute_error(df_test.MEDV, pred) # 평균 절대 오차(Mean Squared Error) : 오차 합계의 평균\n",
    "    scores3[i]=mae\n",
    "\n",
    "print(scores1)\n",
    "print(scores2)\n",
    "print(scores3)"
   ]
  }
 ],
 "metadata": {
  "interpreter": {
   "hash": "7b4b4feff2f24a0f0a34464dbe537a36fda679851528fb8735cb41fa49dffb2d"
  },
  "kernelspec": {
   "display_name": "Python 3.8.8 64-bit ('base': conda)",
   "language": "python",
   "name": "python3"
  },
  "language_info": {
   "codemirror_mode": {
    "name": "ipython",
    "version": 3
   },
   "file_extension": ".py",
   "mimetype": "text/x-python",
   "name": "python",
   "nbconvert_exporter": "python",
   "pygments_lexer": "ipython3",
   "version": "3.8.8"
  },
  "orig_nbformat": 4
 },
 "nbformat": 4,
 "nbformat_minor": 2
}
