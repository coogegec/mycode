{
 "cells": [
  {
   "cell_type": "code",
   "execution_count": 12,
   "metadata": {},
   "outputs": [
    {
     "data": {
      "text/html": [
       "<div>\n",
       "<style scoped>\n",
       "    .dataframe tbody tr th:only-of-type {\n",
       "        vertical-align: middle;\n",
       "    }\n",
       "\n",
       "    .dataframe tbody tr th {\n",
       "        vertical-align: top;\n",
       "    }\n",
       "\n",
       "    .dataframe thead th {\n",
       "        text-align: right;\n",
       "    }\n",
       "</style>\n",
       "<table border=\"1\" class=\"dataframe\">\n",
       "  <thead>\n",
       "    <tr style=\"text-align: right;\">\n",
       "      <th></th>\n",
       "      <th>X1</th>\n",
       "      <th>X2</th>\n",
       "      <th>X3</th>\n",
       "      <th>X4</th>\n",
       "      <th>X5</th>\n",
       "      <th>X6</th>\n",
       "      <th>X7</th>\n",
       "      <th>X8</th>\n",
       "      <th>Y1</th>\n",
       "      <th>Y2</th>\n",
       "    </tr>\n",
       "  </thead>\n",
       "  <tbody>\n",
       "    <tr>\n",
       "      <th>0</th>\n",
       "      <td>0.98</td>\n",
       "      <td>514.5</td>\n",
       "      <td>294.0</td>\n",
       "      <td>110.25</td>\n",
       "      <td>7.0</td>\n",
       "      <td>2</td>\n",
       "      <td>0.0</td>\n",
       "      <td>0</td>\n",
       "      <td>15.55</td>\n",
       "      <td>21.33</td>\n",
       "    </tr>\n",
       "    <tr>\n",
       "      <th>1</th>\n",
       "      <td>0.98</td>\n",
       "      <td>514.5</td>\n",
       "      <td>294.0</td>\n",
       "      <td>110.25</td>\n",
       "      <td>7.0</td>\n",
       "      <td>3</td>\n",
       "      <td>0.0</td>\n",
       "      <td>0</td>\n",
       "      <td>15.55</td>\n",
       "      <td>21.33</td>\n",
       "    </tr>\n",
       "    <tr>\n",
       "      <th>2</th>\n",
       "      <td>0.98</td>\n",
       "      <td>514.5</td>\n",
       "      <td>294.0</td>\n",
       "      <td>110.25</td>\n",
       "      <td>7.0</td>\n",
       "      <td>4</td>\n",
       "      <td>0.0</td>\n",
       "      <td>0</td>\n",
       "      <td>15.55</td>\n",
       "      <td>21.33</td>\n",
       "    </tr>\n",
       "    <tr>\n",
       "      <th>3</th>\n",
       "      <td>0.98</td>\n",
       "      <td>514.5</td>\n",
       "      <td>294.0</td>\n",
       "      <td>110.25</td>\n",
       "      <td>7.0</td>\n",
       "      <td>5</td>\n",
       "      <td>0.0</td>\n",
       "      <td>0</td>\n",
       "      <td>15.55</td>\n",
       "      <td>21.33</td>\n",
       "    </tr>\n",
       "    <tr>\n",
       "      <th>4</th>\n",
       "      <td>0.90</td>\n",
       "      <td>563.5</td>\n",
       "      <td>318.5</td>\n",
       "      <td>122.50</td>\n",
       "      <td>7.0</td>\n",
       "      <td>2</td>\n",
       "      <td>0.0</td>\n",
       "      <td>0</td>\n",
       "      <td>20.84</td>\n",
       "      <td>28.28</td>\n",
       "    </tr>\n",
       "  </tbody>\n",
       "</table>\n",
       "</div>"
      ],
      "text/plain": [
       "     X1     X2     X3      X4   X5  X6   X7  X8     Y1     Y2\n",
       "0  0.98  514.5  294.0  110.25  7.0   2  0.0   0  15.55  21.33\n",
       "1  0.98  514.5  294.0  110.25  7.0   3  0.0   0  15.55  21.33\n",
       "2  0.98  514.5  294.0  110.25  7.0   4  0.0   0  15.55  21.33\n",
       "3  0.98  514.5  294.0  110.25  7.0   5  0.0   0  15.55  21.33\n",
       "4  0.90  563.5  318.5  122.50  7.0   2  0.0   0  20.84  28.28"
      ]
     },
     "execution_count": 12,
     "metadata": {},
     "output_type": "execute_result"
    }
   ],
   "source": [
    "import pandas as pd\n",
    "import matplotlib.pyplot as plt\n",
    "import seaborn as sns\n",
    "from scipy import stats\n",
    "\n",
    "df=pd.read_csv('d:/data/energy/ENB2012_data.csv')\n",
    "df.head()"
   ]
  },
  {
   "cell_type": "code",
   "execution_count": 13,
   "metadata": {},
   "outputs": [
    {
     "name": "stdout",
     "output_type": "stream",
     "text": [
      "Index(['X1', 'X2', 'X3', 'X4', 'X5', 'X6', 'X7', 'X8'], dtype='object')\n",
      "     X1     X2     X3      X4   X5  X6   X7  X8\n",
      "0  0.98  514.5  294.0  110.25  7.0   2  0.0   0\n",
      "1  0.98  514.5  294.0  110.25  7.0   3  0.0   0\n",
      "2  0.98  514.5  294.0  110.25  7.0   4  0.0   0\n",
      "3  0.98  514.5  294.0  110.25  7.0   5  0.0   0\n",
      "4  0.90  563.5  318.5  122.50  7.0   2  0.0   0\n",
      "0    21.33\n",
      "1    21.33\n",
      "2    21.33\n",
      "3    21.33\n",
      "4    28.28\n",
      "Name: Y2, dtype: float64\n"
     ]
    }
   ],
   "source": [
    "train_cols=df.columns[0:8]\n",
    "print(train_cols)\n",
    "X=df[train_cols]\n",
    "y=df[\"Y2\"]\n",
    "print(df[train_cols].head())\n",
    "print(y.head())"
   ]
  },
  {
   "cell_type": "code",
   "execution_count": 14,
   "metadata": {},
   "outputs": [
    {
     "name": "stdout",
     "output_type": "stream",
     "text": [
      "회귀계수\n",
      " X1   -19.013495\n",
      "X2     0.002107\n",
      "X3     0.017989\n",
      "X4    -0.007941\n",
      "X5     5.588124\n",
      "X6     0.129937\n",
      "X7    14.749602\n",
      "X8     0.043625\n",
      "dtype: float64\n",
      "R-squared\n",
      " 0.9849864771252053\n",
      "P values\n",
      " X1    8.097264e-21\n",
      "X2    1.283383e-01\n",
      "X3    1.593725e-05\n",
      "X4    3.001620e-03\n",
      "X5    3.534444e-88\n",
      "X6    2.150330e-01\n",
      "X7    6.492365e-52\n",
      "X8    5.727529e-01\n",
      "dtype: float64\n",
      "                                 OLS Regression Results                                \n",
      "=======================================================================================\n",
      "Dep. Variable:                     Y2   R-squared (uncentered):                   0.985\n",
      "Model:                            OLS   Adj. R-squared (uncentered):              0.985\n",
      "Method:                 Least Squares   F-statistic:                              7132.\n",
      "Date:                Mon, 06 Dec 2021   Prob (F-statistic):                        0.00\n",
      "Time:                        15:49:18   Log-Likelihood:                         -1990.2\n",
      "No. Observations:                 768   AIC:                                      3994.\n",
      "Df Residuals:                     761   BIC:                                      4027.\n",
      "Df Model:                           7                                                  \n",
      "Covariance Type:            nonrobust                                                  \n",
      "==============================================================================\n",
      "                 coef    std err          t      P>|t|      [0.025      0.975]\n",
      "------------------------------------------------------------------------------\n",
      "X1           -19.0135      1.973     -9.638      0.000     -22.886     -15.141\n",
      "X2             0.0021      0.001      1.522      0.128      -0.001       0.005\n",
      "X3             0.0180      0.004      4.343      0.000       0.010       0.026\n",
      "X4            -0.0079      0.003     -2.977      0.003      -0.013      -0.003\n",
      "X5             5.5881      0.245     22.812      0.000       5.107       6.069\n",
      "X6             0.1299      0.105      1.241      0.215      -0.076       0.335\n",
      "X7            14.7496      0.900     16.386      0.000      12.983      16.517\n",
      "X8             0.0436      0.077      0.564      0.573      -0.108       0.195\n",
      "==============================================================================\n",
      "Omnibus:                       77.438   Durbin-Watson:                   1.037\n",
      "Prob(Omnibus):                  0.000   Jarque-Bera (JB):              164.254\n",
      "Skew:                           0.596   Prob(JB):                     2.15e-36\n",
      "Kurtosis:                       4.927   Cond. No.                     4.48e+16\n",
      "==============================================================================\n",
      "\n",
      "Notes:\n",
      "[1] R² is computed without centering (uncentered) since the model does not contain a constant.\n",
      "[2] Standard Errors assume that the covariance matrix of the errors is correctly specified.\n",
      "[3] The smallest eigenvalue is 2.26e-25. This might indicate that there are\n",
      "strong multicollinearity problems or that the design matrix is singular.\n"
     ]
    }
   ],
   "source": [
    "import statsmodels.api as sm\n",
    "\n",
    "model=sm.OLS(y, X)\n",
    "result=model.fit()\n",
    "\n",
    "print('회귀계수\\n',result.params)\n",
    "print('R-squared\\n',result.rsquared)\n",
    "print('P values\\n',result.pvalues)\n",
    "print(result.summary())"
   ]
  },
  {
   "cell_type": "code",
   "execution_count": 15,
   "metadata": {},
   "outputs": [],
   "source": [
    "from sklearn.model_selection import train_test_split\n",
    "from sklearn.linear_model import LinearRegression\n",
    "X_train, X_test, y_train, y_test=train_test_split(X, y, test_size=0.2, random_state=10)\n",
    "model=LinearRegression().fit(X_train, y_train)"
   ]
  },
  {
   "cell_type": "code",
   "execution_count": 16,
   "metadata": {},
   "outputs": [
    {
     "name": "stdout",
     "output_type": "stream",
     "text": [
      "학습용 : 0.882472464160759\n",
      "검증용 : 0.9079786235531351\n"
     ]
    }
   ],
   "source": [
    "print(\"학습용 :\",model.score(X_train, y_train))\n",
    "print(\"검증용 :\",model.score(X_test, y_test))"
   ]
  }
 ],
 "metadata": {
  "interpreter": {
   "hash": "7b4b4feff2f24a0f0a34464dbe537a36fda679851528fb8735cb41fa49dffb2d"
  },
  "kernelspec": {
   "display_name": "Python 3.8.8 64-bit ('base': conda)",
   "language": "python",
   "name": "python3"
  },
  "language_info": {
   "codemirror_mode": {
    "name": "ipython",
    "version": 3
   },
   "file_extension": ".py",
   "mimetype": "text/x-python",
   "name": "python",
   "nbconvert_exporter": "python",
   "pygments_lexer": "ipython3",
   "version": "3.8.8"
  },
  "orig_nbformat": 4
 },
 "nbformat": 4,
 "nbformat_minor": 2
}
