{
 "cells": [
  {
   "cell_type": "code",
   "execution_count": 8,
   "metadata": {},
   "outputs": [],
   "source": [
    "import pandas as pd\n",
    "from sqlalchemy import create_engine\n",
    "import cx_Oracle\n",
    "\n",
    "df=pd.read_csv('d:/data/myemp.csv',encoding='CP949')\n",
    "engine=create_engine('oracle+cx_oracle://hr:hr@xe')\n",
    "conn=engine.connect()\n",
    "df.to_sql(name='myemp',con=engine,if_exists='replace',index=False)"
   ]
  },
  {
   "cell_type": "code",
   "execution_count": 9,
   "metadata": {},
   "outputs": [
    {
     "name": "stdout",
     "output_type": "stream",
     "text": [
      "(7369, <cx_Oracle.LOB object at 0x000001EB7AEF0ED0>, <cx_Oracle.LOB object at 0x000001EB7AE03960>, 7902.0, <cx_Oracle.LOB object at 0x000001EB7AE038D0>, 300, None, 20)\n",
      "(7499, <cx_Oracle.LOB object at 0x000001EB7AE03F30>, <cx_Oracle.LOB object at 0x000001EB7A248B40>, 7698.0, <cx_Oracle.LOB object at 0x000001EB74F12F90>, 360, 300.0, 30)\n",
      "(7521, <cx_Oracle.LOB object at 0x000001EB74F127B0>, <cx_Oracle.LOB object at 0x000001EB74F12D20>, 7698.0, <cx_Oracle.LOB object at 0x000001EB74F12E10>, 425, 500.0, 30)\n",
      "(7566, <cx_Oracle.LOB object at 0x000001EB74F12D50>, <cx_Oracle.LOB object at 0x000001EB74F12750>, 7839.0, <cx_Oracle.LOB object at 0x000001EB74F12D80>, 597, None, 20)\n",
      "(7654, <cx_Oracle.LOB object at 0x000001EB74F129F0>, <cx_Oracle.LOB object at 0x000001EB74F12720>, 7698.0, <cx_Oracle.LOB object at 0x000001EB74F12E40>, 425, 1400.0, 30)\n",
      "(7698, <cx_Oracle.LOB object at 0x000001EB74F127E0>, <cx_Oracle.LOB object at 0x000001EB74F12B70>, 7839.0, <cx_Oracle.LOB object at 0x000001EB74F12F30>, 585, None, 30)\n",
      "(7782, <cx_Oracle.LOB object at 0x000001EB74F12DE0>, <cx_Oracle.LOB object at 0x000001EB74F129C0>, 7839.0, <cx_Oracle.LOB object at 0x000001EB74F12780>, 545, None, 10)\n",
      "(7788, <cx_Oracle.LOB object at 0x000001EB7B702990>, <cx_Oracle.LOB object at 0x000001EB7B7020C0>, 7566.0, <cx_Oracle.LOB object at 0x000001EB7B7029C0>, 600, None, 20)\n",
      "(7839, <cx_Oracle.LOB object at 0x000001EB7B702A20>, <cx_Oracle.LOB object at 0x000001EB7B702B40>, None, <cx_Oracle.LOB object at 0x000001EB7B779720>, 900, None, 10)\n",
      "(7844, <cx_Oracle.LOB object at 0x000001EB7B779210>, <cx_Oracle.LOB object at 0x000001EB7B779090>, 7698.0, <cx_Oracle.LOB object at 0x000001EB7B7791E0>, 450, 0.0, 30)\n",
      "(7876, <cx_Oracle.LOB object at 0x000001EB7B779060>, <cx_Oracle.LOB object at 0x000001EB7B779240>, 7788.0, <cx_Oracle.LOB object at 0x000001EB7B7791B0>, 310, None, 20)\n",
      "(7900, <cx_Oracle.LOB object at 0x000001EB7B7792A0>, <cx_Oracle.LOB object at 0x000001EB7B779120>, 7698.0, <cx_Oracle.LOB object at 0x000001EB7B7797E0>, 395, None, 30)\n",
      "(7902, <cx_Oracle.LOB object at 0x000001EB7B7797B0>, <cx_Oracle.LOB object at 0x000001EB7B779780>, 7566.0, <cx_Oracle.LOB object at 0x000001EB7B7792D0>, 700, None, 20)\n",
      "(7934, <cx_Oracle.LOB object at 0x000001EB7B779810>, <cx_Oracle.LOB object at 0x000001EB7B779840>, 7782.0, <cx_Oracle.LOB object at 0x000001EB7B7798A0>, 330, None, 10)\n"
     ]
    }
   ],
   "source": [
    "conn=cx_Oracle.connect('hr/hr@localhost:1521/xe')\n",
    "cursor=conn.cursor()\n",
    "cursor.execute('select * from myemp')\n",
    "rows=cursor.fetchall()\n",
    "for row in rows:\n",
    "    print(row)\n",
    "\n",
    "cursor.close()\n",
    "conn.close()"
   ]
  },
  {
   "cell_type": "code",
   "execution_count": 16,
   "metadata": {},
   "outputs": [
    {
     "name": "stdout",
     "output_type": "stream",
     "text": [
      "부서코드\t\t평균급여\n",
      "10\t\t591.7\n",
      "20\t\t501.4\n",
      "30\t\t440.0\n"
     ]
    }
   ],
   "source": [
    "import cx_Oracle\n",
    "conn=cx_Oracle.connect(\"hr/hr@localhost:1521/xe\")\n",
    "cursor=conn.cursor()\n",
    "cursor.execute('select deptno,avg(sal) from myemp group by deptno order by deptno')\n",
    "rows=cursor.fetchall()\n",
    "print('부서코드\\t\\t평균급여')\n",
    "for row in rows:\n",
    "    print(f'{row[0]}\\t\\t{row[1]:.1f}')\n",
    "\n",
    "cursor.close()\n",
    "conn.close()"
   ]
  },
  {
   "cell_type": "code",
   "execution_count": 14,
   "metadata": {},
   "outputs": [
    {
     "data": {
      "text/plain": [
       "<BarContainer object of 3 artists>"
      ]
     },
     "execution_count": 14,
     "metadata": {},
     "output_type": "execute_result"
    },
    {
     "data": {
      "image/png": "[encoded data removed]",
      "text/plain": [
       "<Figure size 432x288 with 1 Axes>"
      ]
     },
     "metadata": {
      "needs_background": "light"
     },
     "output_type": "display_data"
    }
   ],
   "source": [
    "x=['교육팀','홍보팀','기획팀']\n",
    "y=[]\n",
    "for row in rows:\n",
    "    y.append(row[1])\n",
    "\n",
    "import pandas as pd\n",
    "%matplotlib inline\n",
    "import matplotlib.pyplot as plt\n",
    "\n",
    "from matplotlib import rc,font_manager\n",
    "font_name=font_manager.FontProperties(fname='c:/windows/fonts/malgun.ttf').get_name()\n",
    "rc('font',family=font_name)\n",
    "\n",
    "plt.bar(x,y)"
   ]
  }
 ],
 "metadata": {
  "interpreter": {
   "hash": "7b4b4feff2f24a0f0a34464dbe537a36fda679851528fb8735cb41fa49dffb2d"
  },
  "kernelspec": {
   "display_name": "Python 3.8.8 64-bit ('base': conda)",
   "language": "python",
   "name": "python3"
  },
  "language_info": {
   "codemirror_mode": {
    "name": "ipython",
    "version": 3
   },
   "file_extension": ".py",
   "mimetype": "text/x-python",
   "name": "python",
   "nbconvert_exporter": "python",
   "pygments_lexer": "ipython3",
   "version": "3.8.8"
  },
  "orig_nbformat": 4
 },
 "nbformat": 4,
 "nbformat_minor": 2
}
