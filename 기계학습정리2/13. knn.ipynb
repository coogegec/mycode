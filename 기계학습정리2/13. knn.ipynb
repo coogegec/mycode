{
 "cells": [
  {
   "cell_type": "code",
   "execution_count": 8,
   "metadata": {},
   "outputs": [
    {
     "data": {
      "text/plain": [
       "(array([[0.49140089, 0.74294782]]), array([[124, 110]], dtype=int64))"
      ]
     },
     "execution_count": 8,
     "metadata": {},
     "output_type": "execute_result"
    }
   ],
   "source": [
    "### 1. NearestNeighbors : 특정한 샘플의 최근접 이웃 찾기\n",
    "from sklearn import datasets\n",
    "from sklearn.neighbors import NearestNeighbors\n",
    "from sklearn.preprocessing import StandardScaler\n",
    "\n",
    "# 데이터를 로드\n",
    "iris=datasets.load_iris()\n",
    "features=iris.data\n",
    "\n",
    "# 표준화 객체\n",
    "standardizer=StandardScaler()\n",
    "\n",
    "# 특성을 표준화\n",
    "features_standardized=standardizer.fit_transform(features)\n",
    "\n",
    "# k=2인 최근접 이웃 모델\n",
    "# NearestNeighbors : 입력데이터와 가장 가까운 이웃 샘플을 구하는 클래스\n",
    "nearest_neighbors=NearestNeighbors(n_neighbors=2).fit(features_standardized)\n",
    "\n",
    "# 새로운 샘플\n",
    "new_observation=[1,1,1,1]\n",
    "\n",
    "# 이 샘플과 가장 가까운 이웃의 인덱스와 거리\n",
    "distances, indices=nearest_neighbors.kneighbors([new_observation])\n",
    "distances, indices"
   ]
  },
  {
   "cell_type": "code",
   "execution_count": 9,
   "metadata": {},
   "outputs": [
    {
     "data": {
      "text/plain": [
       "array([[[1.03800476, 0.55861082, 1.10378283, 1.18556721],\n",
       "        [0.79566902, 0.32841405, 0.76275827, 1.05393502]]])"
      ]
     },
     "execution_count": 9,
     "metadata": {},
     "output_type": "execute_result"
    }
   ],
   "source": [
    "# 최근접 이웃을 확인\n",
    "features_standardized[indices]"
   ]
  },
  {
   "cell_type": "code",
   "execution_count": 10,
   "metadata": {},
   "outputs": [
    {
     "name": "stdout",
     "output_type": "stream",
     "text": [
      "[[124 110 148]]\n"
     ]
    }
   ],
   "source": [
    "# 이 샘플과 가장 가까운 이웃의 3개의 인덱스\n",
    "indices=nearest_neighbors.kneighbors([new_observation], n_neighbors=3, return_distance=False)\n",
    "print(indices)"
   ]
  },
  {
   "cell_type": "code",
   "execution_count": 11,
   "metadata": {},
   "outputs": [
    {
     "data": {
      "text/plain": [
       "array([[[1.03800476, 0.55861082, 1.10378283, 1.18556721],\n",
       "        [0.79566902, 0.32841405, 0.76275827, 1.05393502],\n",
       "        [0.4321654 , 0.78880759, 0.93327055, 1.44883158]]])"
      ]
     },
     "execution_count": 11,
     "metadata": {},
     "output_type": "execute_result"
    }
   ],
   "source": [
    "# 최근접 이웃을 확인(자기 자신 제외)\n",
    "features_standardized[indices]"
   ]
  },
  {
   "cell_type": "code",
   "execution_count": 12,
   "metadata": {},
   "outputs": [
    {
     "name": "stdout",
     "output_type": "stream",
     "text": [
      "[array([124], dtype=int64)]\n"
     ]
    },
    {
     "data": {
      "text/plain": [
       "array([[1.03800476, 0.55861082, 1.10378283, 1.18556721]])"
      ]
     },
     "execution_count": 12,
     "metadata": {},
     "output_type": "execute_result"
    }
   ],
   "source": [
    "# 반경 0.5 안에 있는 모든 샘플의 인덱스\n",
    "indices=nearest_neighbors.radius_neighbors([new_observation], radius=0.5, return_distance=False)\n",
    "print(indices)\n",
    "# 반경 내의 이웃을 확인\n",
    "features_standardized[indices[0]]"
   ]
  },
  {
   "cell_type": "code",
   "execution_count": 15,
   "metadata": {},
   "outputs": [],
   "source": [
    "### 2. KNeighborsClassifier : 최선의 이웃 개수 결정하기\n",
    "from sklearn import datasets\n",
    "from sklearn.neighbors import KNeighborsClassifier\n",
    "from sklearn.preprocessing import StandardScaler\n",
    "from sklearn.pipeline import Pipeline\n",
    "from sklearn.model_selection import GridSearchCV\n",
    "\n",
    "# 데이터를 로드\n",
    "iris=datasets.load_iris()\n",
    "features=iris.data\n",
    "target=iris.target\n",
    "\n",
    "# 표준화 객체\n",
    "standardizer=StandardScaler()\n",
    "\n",
    "# KNN 분류기\n",
    "# KNeighborsClassifier : 입력된 데이터의 클래스를 분류\n",
    "knn=KNeighborsClassifier(n_jobs=-1)\n",
    "\n",
    "# 파이프라인\n",
    "pipe=Pipeline([(\"standardizer\", standardizer), (\"knn\", knn)])\n",
    "\n",
    "# 탐색 영역의 후보\n",
    "search_space=[{\"knn__n_neighbors\": range(1,11)}]\n",
    "\n",
    "# 그리드 서치\n",
    "classifier=GridSearchCV(pipe, search_space, cv=5, verbose=0).fit(features, target)"
   ]
  },
  {
   "cell_type": "code",
   "execution_count": 14,
   "metadata": {},
   "outputs": [
    {
     "data": {
      "text/plain": [
       "6"
      ]
     },
     "execution_count": 14,
     "metadata": {},
     "output_type": "execute_result"
    }
   ],
   "source": [
    "# 최선의 이웃 개수(k)\n",
    "classifier.best_estimator_.get_params()[\"knn__n_neighbors\"]"
   ]
  },
  {
   "cell_type": "code",
   "execution_count": 16,
   "metadata": {},
   "outputs": [
    {
     "data": {
      "text/plain": [
       "array([2])"
      ]
     },
     "execution_count": 16,
     "metadata": {},
     "output_type": "execute_result"
    }
   ],
   "source": [
    "### 3. RadiusNeighborsClassifier : 반지름 기반의 최근접 이웃 분류기 만들기,\n",
    "# 이웃의 개수가 아닌 반지름 기반으로 가장 가까운 이웃으로 분류\n",
    "from sklearn import datasets\n",
    "from sklearn.neighbors import RadiusNeighborsClassifier\n",
    "from sklearn.preprocessing import StandardScaler\n",
    "\n",
    "# 데이터를 로드\n",
    "iris=datasets.load_iris()\n",
    "features=iris.data\n",
    "target=iris.target\n",
    "\n",
    "# 표준화 객체\n",
    "standardizer=StandardScaler()\n",
    "\n",
    "# 특성을 표준화\n",
    "features_standardized=standardizer.fit_transform(features)\n",
    "\n",
    "# 반지름 이웃 분류기를 훈련\n",
    "rnn=RadiusNeighborsClassifier(radius=0.5, n_jobs=-1).fit(features_standardized, target)\n",
    "\n",
    "# 분류할 샘플\n",
    "new_observation=[[1,1,1,1]]\n",
    "\n",
    "# 샘플의 클래스를 예측\n",
    "rnn.predict(new_observation)"
   ]
  },
  {
   "cell_type": "code",
   "execution_count": 17,
   "metadata": {},
   "outputs": [
    {
     "name": "stderr",
     "output_type": "stream",
     "text": [
      "D:\\anaconda3\\lib\\site-packages\\sklearn\\neighbors\\_classification.py:601: UserWarning: Outlier label -1 is not in training classes. All class probabilities of outliers will be assigned with 0.\n",
      "  warnings.warn('Outlier label {} is not in training '\n"
     ]
    },
    {
     "data": {
      "text/plain": [
       "array([-1])"
      ]
     },
     "execution_count": 17,
     "metadata": {},
     "output_type": "execute_result"
    }
   ],
   "source": [
    "# 반지름 이웃 분류기를 훈련\n",
    "rnn=RadiusNeighborsClassifier(radius=0.5, outlier_label=-1, n_jobs=-1).fit(features_standardized, target)\n",
    "\n",
    "rnn.predict([[100,100,100,100]])\n",
    "# 분류하지 못할 경우 -1 리턴"
   ]
  }
 ],
 "metadata": {
  "interpreter": {
   "hash": "7b4b4feff2f24a0f0a34464dbe537a36fda679851528fb8735cb41fa49dffb2d"
  },
  "kernelspec": {
   "display_name": "Python 3.8.8 64-bit ('base': conda)",
   "language": "python",
   "name": "python3"
  },
  "language_info": {
   "codemirror_mode": {
    "name": "ipython",
    "version": 3
   },
   "file_extension": ".py",
   "mimetype": "text/x-python",
   "name": "python",
   "nbconvert_exporter": "python",
   "pygments_lexer": "ipython3",
   "version": "3.8.8"
  },
  "orig_nbformat": 4
 },
 "nbformat": 4,
 "nbformat_minor": 2
}
