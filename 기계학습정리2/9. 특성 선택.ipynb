{
 "cells": [
  {
   "cell_type": "code",
   "execution_count": 5,
   "metadata": {},
   "outputs": [
    {
     "name": "stdout",
     "output_type": "stream",
     "text": [
      "[[5.1 3.5 1.4 0.2]\n",
      " [4.9 3.  1.4 0.2]\n",
      " [4.7 3.2 1.3 0.2]]\n",
      "[[5.1 1.4 0.2]\n",
      " [4.9 1.4 0.2]\n",
      " [4.7 1.3 0.2]]\n"
     ]
    }
   ],
   "source": [
    "### 1. 분산을 기준으로 수치 특성 선택하기\n",
    "from sklearn import datasets\n",
    "from sklearn.feature_selection import VarianceThreshold\n",
    "\n",
    "iris=datasets.load_iris()\n",
    "print(iris.data[0:3])\n",
    "# 특성과 타겟\n",
    "features=iris.data\n",
    "target=iris.target\n",
    "\n",
    "# 분산 기준 설정\n",
    "thresholder=VarianceThreshold(threshold=0.5)\n",
    "\n",
    "# 분산 기준값보다 높은 특성을 선택(기준에 미달하는 모든 특성을 삭제함)\n",
    "features_high_variance=thresholder.fit_transform(features)\n",
    "\n",
    "# 선택한 특성을 확인\n",
    "print(features_high_variance[0:3])\n",
    "# 4개의 변수가 3개로 감소함(두 번째 변수가 삭제됨)"
   ]
  },
  {
   "cell_type": "code",
   "execution_count": 6,
   "metadata": {},
   "outputs": [
    {
     "data": {
      "text/plain": [
       "array([0.68112222, 0.18871289, 3.09550267, 0.57713289])"
      ]
     },
     "execution_count": 6,
     "metadata": {},
     "output_type": "execute_result"
    }
   ],
   "source": [
    "# 분산을 확인\n",
    "thresholder.variances_\n",
    "# 분산이 낮은 두 번째 변수가 삭제되었음"
   ]
  },
  {
   "cell_type": "code",
   "execution_count": 7,
   "metadata": {},
   "outputs": [
    {
     "data": {
      "text/plain": [
       "array([1., 1., 1., 1.])"
      ]
     },
     "execution_count": 7,
     "metadata": {},
     "output_type": "execute_result"
    }
   ],
   "source": [
    "# 이 방법은 분산을 기준으로 변수를 선택하므로 표준화를 한 후에 수행하면 효과가 없음\n",
    "# 표준화를 하면 평균 0, 표준편차 1로 조정되므로 모든 변수의 분산이 같아지게 되어 효과가 없음\n",
    "from sklearn.preprocessing import StandardScaler\n",
    "\n",
    "# 특성 행렬을 표준화\n",
    "scaler=StandardScaler()\n",
    "features_std=scaler.fit_transform(features)\n",
    "\n",
    "# 각 특성의 분산을 계산\n",
    "selector=VarianceThreshold()\n",
    "selector.fit(features_std).variances_"
   ]
  },
  {
   "cell_type": "code",
   "execution_count": 8,
   "metadata": {},
   "outputs": [
    {
     "name": "stdout",
     "output_type": "stream",
     "text": [
      "0.1875\n",
      "[[0]\n",
      " [1]\n",
      " [0]\n",
      " [1]\n",
      " [0]]\n"
     ]
    }
   ],
   "source": [
    "### 2. 분산을 기준으로 이진 특성 선택하기\n",
    "# 범주형 변수의 분산을 조사(이진분류의 경우)\n",
    "from sklearn.feature_selection import VarianceThreshold\n",
    "\n",
    "# 예제 특성 행렬\n",
    "# 특성 0 : 80%가 클래스 0, 20%가 클래스 1\n",
    "# 특성 1 : 20%가 클래스 0, 80%가 클래스 1\n",
    "# 특성 2 : 60%가 클래스 0, 40%가 클래스 1\n",
    "# 0 또는 1이 75% 이상인 변수는 제거하고 그렇지 않은 변수(여기서는 특성 2)를 선택\n",
    "features=[[0,1,0],[0,1,1],[0,1,0],[0,1,1],[1,0,0]]\n",
    "\n",
    "# 분산을 기준으로 선택\n",
    "# p * (1-p) : p는 클래스의 비율\n",
    "# threshold : 기본값 0 → 모든 특성을 선택함\n",
    "thresholder=VarianceThreshold(threshold=(0.75*(1-0.75)))\n",
    "features2=thresholder.fit_transform(features)\n",
    "print(0.75*(1-0.75))\n",
    "print(features2)\n",
    "# 각변수들의 분산이 0.1875보다 큰 변수인 세 번째 변수가 선택됨\n",
    "# 첫 번째 변수는 클래스 0이 80%, 두 번째 변수는 클래스 1이 80%이므로 제거되고 세 번째 변수는 분산이 높으므로 선택됨\n",
    "# 기본값은 0 (모든 변수 삭제)"
   ]
  },
  {
   "cell_type": "code",
   "execution_count": 9,
   "metadata": {},
   "outputs": [
    {
     "data": {
      "text/plain": [
       "array([0.16, 0.16, 0.24])"
      ]
     },
     "execution_count": 9,
     "metadata": {},
     "output_type": "execute_result"
    }
   ],
   "source": [
    "thresholder.variances_ # 각 변수들의 분산값"
   ]
  },
  {
   "cell_type": "code",
   "execution_count": 10,
   "metadata": {},
   "outputs": [
    {
     "data": {
      "text/plain": [
       "array([0.16, 0.16, 0.24])"
      ]
     },
     "execution_count": 10,
     "metadata": {},
     "output_type": "execute_result"
    }
   ],
   "source": [
    "# 분산을 계산하는 또 다른 방법\n",
    "import numpy as np\n",
    "np.var(features, axis=0)"
   ]
  },
  {
   "cell_type": "code",
   "execution_count": 26,
   "metadata": {},
   "outputs": [
    {
     "name": "stdout",
     "output_type": "stream",
     "text": [
      "          0         1         2\n",
      "0  1.000000  0.976103  0.000000\n",
      "1  0.976103  1.000000  0.034503\n",
      "2  0.000000  0.034503  1.000000\n",
      "    0         1         2\n",
      "0 NaN  0.976103  0.000000\n",
      "1 NaN       NaN  0.034503\n",
      "2 NaN       NaN       NaN\n"
     ]
    }
   ],
   "source": [
    "### 3. 상관관계가 큰 특성 다루기\n",
    "# 다중공선성 문제 : 독립변수들끼리 비슷하다면 가지고 있는 정보들이 비슷하므로 중복된 특성을 포함하게 되어\n",
    "#                  모형의 예측력이 왜곡될 수 있음\n",
    "import pandas as pd\n",
    "import numpy as np\n",
    "\n",
    "# 상관 관계가 큰 두 개의 특성을 가진 특성 행렬\n",
    "features = np.array([\\\n",
    "[1, 1, 1],\n",
    "[2, 2, 0],\n",
    "[3, 3, 1],\n",
    "[4, 4, 0],\n",
    "[5, 5, 1],\n",
    "[6, 6, 0],\n",
    "[7, 7, 1],\n",
    "[8, 7, 0],\n",
    "[9, 7, 1]])\n",
    "\n",
    "# 특성 행렬을 DataFrame으로 변환\n",
    "df=pd.DataFrame(features)\n",
    "\n",
    "# 상관계수 행렬\n",
    "corr_matrix=df.corr().abs()\n",
    "print(corr_matrix)"
   ]
  },
  {
   "cell_type": "code",
   "execution_count": 29,
   "metadata": {},
   "outputs": [
    {
     "name": "stdout",
     "output_type": "stream",
     "text": [
      "    0         1         2\n",
      "0 NaN  0.976103  0.000000\n",
      "1 NaN       NaN  0.034503\n",
      "2 NaN       NaN       NaN\n",
      "\n",
      " [1]\n",
      "\n",
      "    0  2\n",
      "0  1  1\n",
      "1  2  0\n",
      "2  3  1\n"
     ]
    }
   ],
   "source": [
    "# 상관관계 행렬의 상삼각(upper triangle) 행렬을 선택\n",
    "# 행렬의 대각선을 기준으로 윗부분을 상삼각 행렬, 아랫부분을 하삼각 행렬이라고 함\n",
    "# triu : 상삼각 행렬(upper triangle)\n",
    "# k=0 : 대각 원소가 포함(기본 옵션), k=1 : 대각선에서 1만큼 떨어진 삼각 행렬\n",
    "upper=corr_matrix.where(np.triu(np.ones(corr_matrix.shape), k=1).astype(np.bool))\n",
    "print(upper)\n",
    "\n",
    "# 상관 계수가 0.95보다 큰 특성 열의 인덱스\n",
    "to_drop=[column for column in upper.columns if any(upper[column]>0.95)]\n",
    "print(\"\\n\",to_drop)\n",
    "\n",
    "# 0과 1 변수의 상관관계가 높음\n",
    "# 인덱스 1 특성을 삭제\n",
    "df2=df.drop(df.columns[to_drop], axis=1).head(3)\n",
    "print(\"\\n\",df2)\n",
    "# 1번이 삭제되고 0, 2번 필드만 선택됨"
   ]
  },
  {
   "cell_type": "code",
   "execution_count": 31,
   "metadata": {},
   "outputs": [
    {
     "data": {
      "text/plain": [
       "array([[ 1.        ,  0.97610336,  0.        ],\n",
       "       [ 0.97610336,  1.        , -0.03450328],\n",
       "       [ 0.        , -0.03450328,  1.        ]])"
      ]
     },
     "execution_count": 31,
     "metadata": {},
     "output_type": "execute_result"
    }
   ],
   "source": [
    "# 넘파이에서 상관 행렬을 구하는 함수\n",
    "np.corrcoef(features, rowvar=False)"
   ]
  },
  {
   "cell_type": "code",
   "execution_count": 33,
   "metadata": {},
   "outputs": [
    {
     "data": {
      "text/plain": [
       "array([[0., 0., 1., 1.],\n",
       "       [0., 0., 0., 1.],\n",
       "       [0., 0., 0., 0.],\n",
       "       [0., 0., 0., 0.]])"
      ]
     },
     "execution_count": 33,
     "metadata": {},
     "output_type": "execute_result"
    }
   ],
   "source": [
    "# triu : 상삼각 행렬(upper triangle)\n",
    "# k=0 : 대각 원소가 포함(기본 옵션), k=1 : 대각선에서 1만큼 떨어진 삼각 행렬\n",
    "np.triu(np.ones((4,4)), k=2)"
   ]
  },
  {
   "cell_type": "code",
   "execution_count": 34,
   "metadata": {},
   "outputs": [
    {
     "data": {
      "text/plain": [
       "array([[1., 0., 0., 0.],\n",
       "       [1., 1., 0., 0.],\n",
       "       [1., 1., 1., 0.],\n",
       "       [1., 1., 1., 1.]])"
      ]
     },
     "execution_count": 34,
     "metadata": {},
     "output_type": "execute_result"
    }
   ],
   "source": [
    "# tril : 하삼각 행렬(lower triangle)\n",
    "np.tril(np.ones((4,4)), k=0)"
   ]
  },
  {
   "cell_type": "code",
   "execution_count": 35,
   "metadata": {},
   "outputs": [
    {
     "name": "stdout",
     "output_type": "stream",
     "text": [
      "원본 특성 개수 : 4\n",
      "줄어든 특성 개수 : 2\n",
      "[[5 3 1 0]\n",
      " [4 3 1 0]\n",
      " [4 3 1 0]]\n",
      "[[1 0]\n",
      " [1 0]\n",
      " [1 0]]\n",
      "[ 10.28712871   5.02267003 133.06854839  74.27906977]\n"
     ]
    }
   ],
   "source": [
    "### 4. 분류 작업에 관련 없는 특성 삭제하기\n",
    "\n",
    "# 번주형 변수에서 관련없는 특성 삭제\n",
    "\n",
    "from sklearn.datasets import load_iris\n",
    "from sklearn.feature_selection import SelectKBest\n",
    "from sklearn.feature_selection import chi2, f_classif\n",
    "\n",
    "# 데이터를 로드\n",
    "iris=datasets.load_iris()\n",
    "features=iris.data\n",
    "target=iris.target\n",
    "\n",
    "# 변수의 자료형을 정수형으로 변환\n",
    "features=features.astype(int)\n",
    "\n",
    "# 카이제곱 통계값이 가장 큰 특성 두 개를 선택(범주형 변수에만 사용 가능, 모든 샘플에 음수값이 없어야 함)\n",
    "chi2_selector=SelectKBest(chi2, k=2) # k : 변수의 수\n",
    "features_kbest=chi2_selector.fit_transform(features, target)\n",
    "\n",
    "# 결과를 확인\n",
    "print(\"원본 특성 개수 :\", features.shape[1])\n",
    "print(\"줄어든 특성 개수 :\", features_kbest.shape[1])\n",
    "print(features[:3])\n",
    "print(features_kbest[:3])\n",
    "# 0, 1번 변수가 삭제되었음\n",
    "# 카이제곱 통계량(통계량이 낮은 0, 1번 변수가 삭제됨)\n",
    "# ※ 통계량 : 표본 그룹의 분산값\n",
    "print(chi2_selector.scores_)"
   ]
  },
  {
   "cell_type": "code",
   "execution_count": 36,
   "metadata": {},
   "outputs": [
    {
     "name": "stdout",
     "output_type": "stream",
     "text": [
      "원본 특성 개수 : 4\n",
      "줄어든 특성 개수 : 2\n",
      "[[5.1 3.5 1.4 0.2]\n",
      " [4.9 3.  1.4 0.2]\n",
      " [4.7 3.2 1.3 0.2]]\n",
      "[[1.4 0.2]\n",
      " [1.4 0.2]\n",
      " [1.3 0.2]]\n"
     ]
    }
   ],
   "source": [
    "# 수치형 변수의 경우 분산분석(ANOVA)의 F값(표본 그룹의 분산)을 계산\n",
    "# F-값이 가장 높은 특성 두 개를 선택\n",
    "features=iris.data\n",
    "fvalue_selector=SelectKBest(f_classif, k=2)\n",
    "features_kbest=fvalue_selector.fit_transform(features,target)\n",
    "\n",
    "# 결과를 확인\n",
    "print(\"원본 특성 개수 :\", features.shape[1])\n",
    "print(\"줄어든 특성 개수 :\", features_kbest.shape[1])\n",
    "print(features[:3])\n",
    "print(features_kbest[:3])\n",
    "# 0, 1번 변수가 삭제되었음"
   ]
  },
  {
   "cell_type": "code",
   "execution_count": 37,
   "metadata": {},
   "outputs": [
    {
     "name": "stdout",
     "output_type": "stream",
     "text": [
      "원본 특성 개수 : 4\n",
      "줄어든 특성 개수 : 3\n",
      "[[5.1 3.5 1.4 0.2]\n",
      " [4.9 3.  1.4 0.2]\n",
      " [4.7 3.2 1.3 0.2]]\n",
      "[[5.1 1.4 0.2]\n",
      " [4.9 1.4 0.2]\n",
      " [4.7 1.3 0.2]]\n",
      "[ 119.26450218   49.16004009 1180.16118225  960.0071468 ]\n"
     ]
    }
   ],
   "source": [
    "from sklearn.feature_selection import SelectPercentile\n",
    "\n",
    "# 특성 개수 대신 비율로 선택하는 방법\n",
    "# 가장 큰 F-값의 상위 75% 특성을 선택\n",
    "fvalue_selector=SelectPercentile(f_classif, percentile=75)\n",
    "features_kbest=fvalue_selector.fit_transform(features,target)\n",
    "\n",
    "# 결과를 확인\n",
    "print(\"원본 특성 개수 :\", features.shape[1])\n",
    "print(\"줄어든 특성 개수 :\", features_kbest.shape[1])\n",
    "print(features[:3])\n",
    "print(features_kbest[:3])\n",
    "# 1번 변수가 삭제되었음\n",
    "# 변수별 아노바 F 통계량 ( 가장 낮은 1번 변수가 삭제됨)\n",
    "print(fvalue_selector.scores_)"
   ]
  },
  {
   "cell_type": "code",
   "execution_count": 38,
   "metadata": {},
   "outputs": [
    {
     "data": {
      "text/plain": [
       "array([0, 0, 0, 0, 0, 0, 0, 0, 0, 0, 0, 0, 0, 0, 0, 0, 0, 0, 0, 0, 0, 0,\n",
       "       0, 0, 0, 0, 0, 0, 0, 0, 0, 0, 0, 0, 0, 0, 0, 0, 0, 0, 0, 0, 0, 0,\n",
       "       0, 0, 0, 0, 0, 0, 1, 1, 1, 1, 1, 1, 1, 1, 1, 1, 1, 1, 1, 1, 1, 1,\n",
       "       1, 1, 1, 1, 1, 1, 1, 1, 1, 1, 1, 1, 1, 1, 1, 1, 1, 1, 1, 1, 1, 1,\n",
       "       1, 1, 1, 1, 1, 1, 1, 1, 1, 1, 1, 1, 2, 2, 2, 2, 2, 2, 2, 2, 2, 2,\n",
       "       2, 2, 2, 2, 2, 2, 2, 2, 2, 2, 2, 2, 2, 2, 2, 2, 2, 2, 2, 2, 2, 2,\n",
       "       2, 2, 2, 2, 2, 2, 2, 2, 2, 2, 2, 2, 2, 2, 2, 2, 2, 2])"
      ]
     },
     "execution_count": 38,
     "metadata": {},
     "output_type": "execute_result"
    }
   ],
   "source": [
    "# 카이제곱 통계 : 두 범주형 벡터의 독립성을 평가하는 지표\n",
    "\n",
    "# (Oi - Ei)**2 / Ei 의 합계\n",
    "# Oi : 클래스 i의 샘플 빈도\n",
    "# Ei : 특성과 target vector 사이에 관계가 없을 때 기대할 수 있는 클래스 i의 샘플 빈도\n",
    "\n",
    "# iris 데이터셋은 실수형이므로 범주형처럼 처리하기 위하여 정수로 미리 변환하였음\n",
    "target"
   ]
  },
  {
   "cell_type": "code",
   "execution_count": 39,
   "metadata": {},
   "outputs": [
    {
     "data": {
      "text/plain": [
       "array([[250.3, 171.4,  73.1,  12.3],\n",
       "       [296.8, 138.5, 213. ,  66.3],\n",
       "       [329.4, 148.7, 277.6, 101.3]])"
      ]
     },
     "execution_count": 39,
     "metadata": {},
     "output_type": "execute_result"
    }
   ],
   "source": [
    "# 150행 4열을 클래스 3개로 나누기 위하여 3차원으로 변환 3품종 × 50샘플 × 4변수\n",
    "observed=np.sum(features.reshape(3,50,4), axis=1)\n",
    "observed\n",
    "# 클래스별 합계값"
   ]
  },
  {
   "cell_type": "code",
   "execution_count": 40,
   "metadata": {},
   "outputs": [
    {
     "data": {
      "text/plain": [
       "array([292.16666667, 152.86666667, 187.9       ,  59.96666667])"
      ]
     },
     "execution_count": 40,
     "metadata": {},
     "output_type": "execute_result"
    }
   ],
   "source": [
    "# 기대 빈도 = 전체 합계 / 3(클래스 수)\n",
    "expected=features.sum(axis=0) / 3\n",
    "expected"
   ]
  },
  {
   "cell_type": "code",
   "execution_count": 41,
   "metadata": {},
   "outputs": [
    {
     "data": {
      "text/plain": [
       "array([ 10.81782088,   3.7107283 , 116.31261309,  67.0483602 ])"
      ]
     },
     "execution_count": 41,
     "metadata": {},
     "output_type": "execute_result"
    }
   ],
   "source": [
    "# 카이제곱 공식에 대입하여 얻은 카이제곱 점수\n",
    "np.sum((observed-expected)**2 / expected, axis=0)"
   ]
  },
  {
   "cell_type": "code",
   "execution_count": 42,
   "metadata": {},
   "outputs": [
    {
     "data": {
      "text/plain": [
       "array([ 10.28712871,   5.02267003, 133.06854839,  74.27906977])"
      ]
     },
     "execution_count": 42,
     "metadata": {},
     "output_type": "execute_result"
    }
   ],
   "source": [
    "# SelectKBest 모형에 저장된 카이제곱 점수\n",
    "chi2_selector.scores_"
   ]
  },
  {
   "cell_type": "code",
   "execution_count": null,
   "metadata": {},
   "outputs": [],
   "source": []
  }
 ],
 "metadata": {
  "interpreter": {
   "hash": "7b4b4feff2f24a0f0a34464dbe537a36fda679851528fb8735cb41fa49dffb2d"
  },
  "kernelspec": {
   "display_name": "Python 3.8.8 64-bit ('base': conda)",
   "language": "python",
   "name": "python3"
  },
  "language_info": {
   "codemirror_mode": {
    "name": "ipython",
    "version": 3
   },
   "file_extension": ".py",
   "mimetype": "text/x-python",
   "name": "python",
   "nbconvert_exporter": "python",
   "pygments_lexer": "ipython3",
   "version": "3.8.8"
  },
  "orig_nbformat": 4
 },
 "nbformat": 4,
 "nbformat_minor": 2
}
