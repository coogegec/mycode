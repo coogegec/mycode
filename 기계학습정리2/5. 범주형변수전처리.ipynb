{
 "cells": [
  {
   "cell_type": "code",
   "execution_count": 1,
   "metadata": {},
   "outputs": [
    {
     "data": {
      "text/plain": [
       "array([[0, 1, 0],\n",
       "       [1, 0, 0],\n",
       "       [0, 0, 1],\n",
       "       [1, 0, 0],\n",
       "       [0, 0, 1]])"
      ]
     },
     "execution_count": 1,
     "metadata": {},
     "output_type": "execute_result"
    }
   ],
   "source": [
    "### 순서가 없는 범주 특성 인코딩하기\n",
    "import numpy as np\n",
    "from sklearn.preprocessing import LabelBinarizer, MultiLabelBinarizer\n",
    "\n",
    "# 특성\n",
    "feature=np.array([['서울'],['경기'],['인천'],['경기'],['인천']])\n",
    "\n",
    "# 원-핫 인코더\n",
    "one_hot=LabelBinarizer()\n",
    "\n",
    "# 특성을 원-핫 인코딩\n",
    "one_hot.fit_transform(feature)"
   ]
  },
  {
   "cell_type": "code",
   "execution_count": 2,
   "metadata": {},
   "outputs": [
    {
     "data": {
      "text/plain": [
       "array(['경기', '서울', '인천'], dtype='<U2')"
      ]
     },
     "execution_count": 2,
     "metadata": {},
     "output_type": "execute_result"
    }
   ],
   "source": [
    "# 특성의 클래스를 확인\n",
    "one_hot.classes_"
   ]
  },
  {
   "cell_type": "code",
   "execution_count": 4,
   "metadata": {},
   "outputs": [
    {
     "data": {
      "text/plain": [
       "array(['서울', '경기', '인천', '경기', '인천'], dtype='<U2')"
      ]
     },
     "execution_count": 4,
     "metadata": {},
     "output_type": "execute_result"
    }
   ],
   "source": [
    "# 원-핫 인코딩된 데이터를 복원\n",
    "one_hot.inverse_transform(one_hot.transform(feature))"
   ]
  },
  {
   "cell_type": "code",
   "execution_count": 7,
   "metadata": {},
   "outputs": [
    {
     "data": {
      "text/plain": [
       "0    1\n",
       "1    1\n",
       "2    2\n",
       "3    2\n",
       "4    3\n",
       "Name: Score, dtype: int64"
      ]
     },
     "execution_count": 7,
     "metadata": {},
     "output_type": "execute_result"
    }
   ],
   "source": [
    "### 순서가 있는 범주형 특성 인코딩하기\n",
    "import pandas as pd\n",
    "\n",
    "# 특성\n",
    "df=pd.DataFrame({\"Score\": ['Low','Low','Medium','Medium','High']})\n",
    "\n",
    "# 매핑 딕셔너리\n",
    "scale_mapper={\"Low\":1, \"Medium\":2, \"High\":3}\n",
    "\n",
    "# 특성을 정수로 변환\n",
    "df[\"Score\"].replace(scale_mapper)"
   ]
  },
  {
   "cell_type": "code",
   "execution_count": 8,
   "metadata": {},
   "outputs": [
    {
     "data": {
      "text/plain": [
       "0    1\n",
       "1    1\n",
       "2    2\n",
       "3    2\n",
       "4    4\n",
       "5    3\n",
       "Name: Score, dtype: int64"
      ]
     },
     "execution_count": 8,
     "metadata": {},
     "output_type": "execute_result"
    }
   ],
   "source": [
    "df=pd.DataFrame({\"Score\":['낮다','낮다','보통이다','보통이다','높다','약간 보통이다']})\n",
    "\n",
    "# 클래스의 간격이 동일하지 않음\n",
    "scale_mapper={\"낮다\":1, \"보통이다\":2, \"약간 보통이다\":3, \"높다\":4}\n",
    "# \"보통이다\":2 에 \"높다\":3 을 주고 \"약간 보통이다\"에 실수를 줄 수가 없는 걸까...?\n",
    "\n",
    "df['Score'].replace(scale_mapper)"
   ]
  },
  {
   "cell_type": "code",
   "execution_count": 9,
   "metadata": {},
   "outputs": [
    {
     "data": {
      "text/plain": [
       "0    1.0\n",
       "1    1.0\n",
       "2    2.0\n",
       "3    2.0\n",
       "4    3.0\n",
       "5    2.5\n",
       "Name: Score, dtype: float64"
      ]
     },
     "execution_count": 9,
     "metadata": {},
     "output_type": "execute_result"
    }
   ],
   "source": [
    "# 클래스의 간격이 동일하도록 설정해야 함\n",
    "scale_mapper={\"낮다\":1, \"보통이다\":2, \"약간 보통이다\":2.5, \"높다\":3}\n",
    "# 뭐야.. 되네\n",
    "\n",
    "df['Score'].replace(scale_mapper)"
   ]
  },
  {
   "cell_type": "code",
   "execution_count": 11,
   "metadata": {},
   "outputs": [
    {
     "data": {
      "text/plain": [
       "array([[1., 2.],\n",
       "       [2., 1.],\n",
       "       [0., 0.]])"
      ]
     },
     "execution_count": 11,
     "metadata": {},
     "output_type": "execute_result"
    }
   ],
   "source": [
    "from sklearn.preprocessing import OrdinalEncoder\n",
    "import numpy as np\n",
    "\n",
    "features=np.array([[\"Low\",3],[\"Medium\",2],[\"High\",1]])\n",
    "\n",
    "# 클래스 범주와 숫자가 일치하도록 변환함\n",
    "ordinal_encoder=OrdinalEncoder()\n",
    "ordinal_encoder.fit_transform(features)"
   ]
  },
  {
   "cell_type": "code",
   "execution_count": 12,
   "metadata": {},
   "outputs": [
    {
     "data": {
      "text/plain": [
       "[array(['High', 'Low', 'Medium'], dtype='<U6'),\n",
       " array(['1', '2', '3'], dtype='<U6')]"
      ]
     },
     "execution_count": 12,
     "metadata": {},
     "output_type": "execute_result"
    }
   ],
   "source": [
    "# 문자열은 문자 코드 순으로 정렬\n",
    "# 숫자도 문자 코드 순으로 정렬\n",
    "# 같은 문자 코드끼리 조합\n",
    "# 인덱스 / 라벨\n",
    "#   0       1    High\n",
    "#   1       2    Low\n",
    "#   2       3    Medium\n",
    "ordinal_encoder.categories_"
   ]
  },
  {
   "cell_type": "code",
   "execution_count": 4,
   "metadata": {},
   "outputs": [
    {
     "data": {
      "text/plain": [
       "array([[ 0.  ,  0.87,  1.31],\n",
       "       [ 1.  , -0.67, -0.22],\n",
       "       [ 0.  ,  2.1 ,  1.45],\n",
       "       [ 1.  ,  1.18,  1.33],\n",
       "       [ 0.  ,  1.22,  1.27],\n",
       "       [ 1.  , -0.21, -1.19]])"
      ]
     },
     "execution_count": 4,
     "metadata": {},
     "output_type": "execute_result"
    }
   ],
   "source": [
    "### 누락된 클래스 값 대체\n",
    "# 범주형 변수의 결측값-1. KNN 분류 모형으로 분류하여 채우는 방법\n",
    "import numpy as np\n",
    "from sklearn.neighbors import KNeighborsClassifier\n",
    "\n",
    "# 범주형 특성을 가진 특성 행렬\n",
    "X=np.array([[0,2.10,1.45],[1,1.18,1.33],[0,1.22,1.27],[1,-0.21,-1.19]])\n",
    "\n",
    "# 누락된 값이 있는 데이터\n",
    "X_with_nan=np.array([[np.nan,0.87,1.31],[np.nan,-0.67,-0.22]])\n",
    "\n",
    "# KNN 모형 훈련\n",
    "clf=KNeighborsClassifier(3)\n",
    "trained_model=clf.fit(X[:,1:], X[:,0])\n",
    "\n",
    "# 누락된 값의 클래스를 예측\n",
    "imputed_values=trained_model.predict(X_with_nan[:,1:])\n",
    "\n",
    "# 예측된 클래스와 원본 특성을 열로 병합\n",
    "X_with_imputed=np.hstack((imputed_values.reshape(-1,1), X_with_nan[:,1:]))\n",
    "\n",
    "# 두 특성 행렬을 연결\n",
    "np.vstack((X_with_imputed, X))"
   ]
  },
  {
   "cell_type": "code",
   "execution_count": 5,
   "metadata": {},
   "outputs": [
    {
     "data": {
      "text/plain": [
       "array([[ 0.  ,  0.87,  1.31],\n",
       "       [ 0.  , -0.67, -0.22],\n",
       "       [ 0.  ,  2.1 ,  1.45],\n",
       "       [ 1.  ,  1.18,  1.33],\n",
       "       [ 0.  ,  1.22,  1.27],\n",
       "       [ 1.  , -0.21, -1.19]])"
      ]
     },
     "execution_count": 5,
     "metadata": {},
     "output_type": "execute_result"
    }
   ],
   "source": [
    "# 범주형 변수의 결측값-1. SimpleImputer를 사용하는 방법\n",
    "from sklearn.impute import SimpleImputer\n",
    "\n",
    "# 두 개의 특성 행렬을 병합\n",
    "X_complete=np.vstack((X_with_nan, X))\n",
    "\n",
    "imputer=SimpleImputer(strategy='most_frequent')\n",
    "imputer.fit_transform(X_complete)"
   ]
  }
 ],
 "metadata": {
  "interpreter": {
   "hash": "7b4b4feff2f24a0f0a34464dbe537a36fda679851528fb8735cb41fa49dffb2d"
  },
  "kernelspec": {
   "display_name": "Python 3.8.8 64-bit ('base': conda)",
   "language": "python",
   "name": "python3"
  },
  "language_info": {
   "codemirror_mode": {
    "name": "ipython",
    "version": 3
   },
   "file_extension": ".py",
   "mimetype": "text/x-python",
   "name": "python",
   "nbconvert_exporter": "python",
   "pygments_lexer": "ipython3",
   "version": "3.8.8"
  },
  "orig_nbformat": 4
 },
 "nbformat": 4,
 "nbformat_minor": 2
}
