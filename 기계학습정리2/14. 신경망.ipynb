{
 "cells": [
  {
   "cell_type": "code",
   "execution_count": 1,
   "metadata": {},
   "outputs": [
    {
     "data": {
      "text/plain": [
       "array([0.80593884, 0.91659164, 0.86558658])"
      ]
     },
     "execution_count": 1,
     "metadata": {},
     "output_type": "execute_result"
    }
   ],
   "source": [
    "### 1. 신경망을 k-폴드 교차검증하기\n",
    "import numpy as np\n",
    "from tensorflow.keras import models, layers\n",
    "from tensorflow.keras.wrappers.scikit_learn import KerasClassifier\n",
    "from sklearn.datasets import make_classification\n",
    "from sklearn.model_selection import cross_val_score\n",
    "\n",
    "# 랜덤 시드를 설정\n",
    "np.random.seed(0)\n",
    "\n",
    "# 특성 개수\n",
    "number_of_features=100\n",
    "\n",
    "# 특성 행렬과 타겟 벡터\n",
    "features, target=make_classification(n_samples=10000, n_features=number_of_features, n_informative=3, n_redundant=0,\\\n",
    "    n_classes=2, weights=[.5,.5], random_state=0)\n",
    "\n",
    "# 설정 완료된 신경망을 반환하는 함수\n",
    "def create_network():\n",
    "    # 신경망 모델\n",
    "    network=models.Sequential()\n",
    "\n",
    "    # 렐루 활성화 함수를 사용한 완전 연결층을 추가 1\n",
    "    network.add(layers.Dense(units=16, activation='relu', input_shape=(number_of_features,)))\n",
    "    \n",
    "    # 렐루 활성화 함수를 사용한 완전 연결층을 추가 2\n",
    "    network.add(layers.Dense(units=16, activation='relu'))\n",
    "\n",
    "    # 시그모이드 활성화 함수를 사용한 완전 연결층을 추가\n",
    "    network.add(layers.Dense(units=1, activation='sigmoid'))\n",
    "\n",
    "    # 신경망의 모델 설정을 완료\n",
    "    network.compile(loss='binary_crossentropy', # 크로스 엔트로피\n",
    "    optimizer='rmsprop', # 옵티마이저\n",
    "    metrics=['accuracy']) # 성능 지표\n",
    "    \n",
    "    # 설정 완료된 모델을 반환\n",
    "    return network\n",
    "\n",
    "neural_network=KerasClassifier(build_fn=create_network, epochs=10, batch_size=100, verbose=0)\n",
    "\n",
    "# 3-폴드 교차검증을 사용하여 신경망을 평가\n",
    "cross_val_score(neural_network, features, target, cv=3)"
   ]
  },
  {
   "cell_type": "code",
   "execution_count": 1,
   "metadata": {},
   "outputs": [],
   "source": [
    "### 2. 하이퍼 파라미터 튜닝\n",
    "import numpy as np\n",
    "from tensorflow.keras import models, layers\n",
    "from tensorflow.keras.wrappers.scikit_learn import KerasClassifier\n",
    "from sklearn.datasets import make_classification\n",
    "from sklearn.model_selection import GridSearchCV\n",
    "\n",
    "# 랜덤 시드를 설정\n",
    "np.random.seed(0)\n",
    "\n",
    "# 특성 개수\n",
    "number_of_features=10\n",
    "\n",
    "# 특성 행렬과 타겟 벡터\n",
    "features, target=make_classification(n_samples=10000, n_features=number_of_features, n_informative=3, n_redundant=0,\\\n",
    "    n_classes=2, weights=[.5,.5], random_state=0)\n",
    "\n",
    "# 설정 완료된 신경망을 반환하는 함수\n",
    "def create_network(optimizer='rmsprop'):\n",
    "    # 신경망 모델\n",
    "    network=models.Sequential()\n",
    "\n",
    "    # 렐루 활성화 함수를 사용한 완전 연결층을 추가 1\n",
    "    network.add(layers.Dense(units=16, activation='relu', input_shape=(number_of_features,)))\n",
    "    \n",
    "    # 렐루 활성화 함수를 사용한 완전 연결층을 추가 2\n",
    "    network.add(layers.Dense(units=16, activation='relu'))\n",
    "\n",
    "    # 시그모이드 활성화 함수를 사용한 완전 연결층을 추가\n",
    "    network.add(layers.Dense(units=1, activation='sigmoid'))\n",
    "\n",
    "    # 신경망의 모델 설정을 완료\n",
    "    network.compile(loss='binary_crossentropy', # 크로스 엔트로피\n",
    "    optimizer=optimizer, # 옵티마이저\n",
    "    metrics=['accuracy']) # 성능 지표\n",
    "    \n",
    "    # 설정 완료된 모델을 반환\n",
    "    return network\n",
    "\n",
    "neural_network=KerasClassifier(build_fn=create_network, verbose=0)\n",
    "\n",
    "# 하이퍼 파라미터 탐색 영역을 정의\n",
    "epochs=[5,10]\n",
    "batches=[5,10,100]\n",
    "optimizers=['rmsprop','adam']\n",
    "\n",
    "# 하이퍼 파라미터 그리드\n",
    "hyperparameters=dict(optimizer=optimizers, epochs=epochs, batch_size=batches)\n",
    "\n",
    "# 그리드 서치\n",
    "grid=GridSearchCV(estimator=neural_network, param_grid=hyperparameters)\n",
    "\n",
    "# 그리드 서치를 수행\n",
    "grid_result=grid.fit(features, target)"
   ]
  },
  {
   "cell_type": "code",
   "execution_count": 2,
   "metadata": {},
   "outputs": [
    {
     "data": {
      "text/plain": [
       "{'batch_size': 5, 'epochs': 10, 'optimizer': 'rmsprop'}"
      ]
     },
     "execution_count": 2,
     "metadata": {},
     "output_type": "execute_result"
    }
   ],
   "source": [
    "# 최상의 신경망 하이퍼 파라미터를 확인\n",
    "grid_result.best_params_"
   ]
  }
 ],
 "metadata": {
  "interpreter": {
   "hash": "7b4b4feff2f24a0f0a34464dbe537a36fda679851528fb8735cb41fa49dffb2d"
  },
  "kernelspec": {
   "display_name": "Python 3.8.8 64-bit ('base': conda)",
   "language": "python",
   "name": "python3"
  },
  "language_info": {
   "codemirror_mode": {
    "name": "ipython",
    "version": 3
   },
   "file_extension": ".py",
   "mimetype": "text/x-python",
   "name": "python",
   "nbconvert_exporter": "python",
   "pygments_lexer": "ipython3",
   "version": "3.8.8"
  },
  "orig_nbformat": 4
 },
 "nbformat": 4,
 "nbformat_minor": 2
}
