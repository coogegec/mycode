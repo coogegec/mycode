{
 "cells": [
  {
   "cell_type": "code",
   "execution_count": 1,
   "metadata": {},
   "outputs": [
    {
     "name": "stdout",
     "output_type": "stream",
     "text": [
      "원본 특성 개수 : 64\n",
      "줄어든 특성 개수 : 54\n"
     ]
    }
   ],
   "source": [
    "from sklearn.preprocessing import StandardScaler\n",
    "from sklearn.decomposition import PCA\n",
    "from sklearn import datasets\n",
    "\n",
    "# 데이터를 로드\n",
    "digits=datasets.load_digits()\n",
    "\n",
    "# 특성 행렬을 표준화 처리\n",
    "features=StandardScaler().fit_transform(digits.data)\n",
    "\n",
    "# 99%의 분산을 유지하도록 PCA 클래스 객체\n",
    "pca=PCA(n_components=0.99)\n",
    "\n",
    "# PCA를 수행\n",
    "features_pca=pca.fit_transform(features)\n",
    "\n",
    "# 결과 확인\n",
    "print(\"원본 특성 개수 :\",features.shape[1])\n",
    "print(\"줄어든 특성 개수 :\",features_pca.shape[1])"
   ]
  },
  {
   "cell_type": "code",
   "execution_count": 4,
   "metadata": {},
   "outputs": [
    {
     "data": {
      "image/png": "[encoded data removed]",
      "text/plain": [
       "<Figure size 432x288 with 1 Axes>"
      ]
     },
     "metadata": {
      "needs_background": "light"
     },
     "output_type": "display_data"
    }
   ],
   "source": [
    "import matplotlib.pyplot as plt\n",
    "import numpy as np\n",
    "\n",
    "pca=PCA().fit(features)\n",
    "plt.plot(np.cumsum(pca.explained_variance_ratio_))\n",
    "plt.show()\n",
    "# 대략 30개의 주성분으로 80% 이상을 표현할 수 있음"
   ]
  },
  {
   "cell_type": "code",
   "execution_count": 6,
   "metadata": {},
   "outputs": [
    {
     "data": {
      "image/png": "[encoded data removed]",
      "text/plain": [
       "<Figure size 432x288 with 1 Axes>"
      ]
     },
     "metadata": {
      "needs_background": "light"
     },
     "output_type": "display_data"
    }
   ],
   "source": [
    "# 정확하게 분산을 계산하기 위해서는 표준화하지 않은 원본 데이터를 사용하는 것이 좋음\n",
    "pca.fit(digits.data)\n",
    "plt.plot(np.cumsum(pca.explained_variance_ratio_))\n",
    "plt.show()"
   ]
  },
  {
   "cell_type": "code",
   "execution_count": 7,
   "metadata": {},
   "outputs": [
    {
     "name": "stdout",
     "output_type": "stream",
     "text": [
      "원본 특성 개수 : 4\n",
      "줄어든 특성 개수 : 1\n",
      "(150, 1)\n"
     ]
    }
   ],
   "source": [
    "# 클래스 분리를 최대화함으로써 특성을 줄이기\n",
    "from sklearn import datasets\n",
    "from sklearn.discriminant_analysis import LinearDiscriminantAnalysis\n",
    "\n",
    "# 붓꽃 데이터셋을 로드\n",
    "iris=datasets.load_iris()\n",
    "features=iris.data\n",
    "target=iris.target\n",
    "\n",
    "# PCA는 데이터에서 분산이 최대인 성분의 축에 관심이 있는 알고리즘\n",
    "# LDA는 클래스 간의 차이를 최대화하는 축에 관심이 있는 알고리즘\n",
    "# LDA 객체를 만들고 실행하여 특성을 변환\n",
    "# 클래스 간의 판별이 최대인 축\n",
    "lda=LinearDiscriminantAnalysis(n_components=1)\n",
    "features_lda=lda.fit(features, target).transform(features)\n",
    "\n",
    "# 특성 개수를 출력\n",
    "print(\"원본 특성 개수 :\",features.shape[1])\n",
    "print(\"줄어든 특성 개수 :\",features_lda.shape[1])\n",
    "print(features_lda.shape)"
   ]
  },
  {
   "cell_type": "code",
   "execution_count": 8,
   "metadata": {},
   "outputs": [
    {
     "data": {
      "text/plain": [
       "array([0.9912126])"
      ]
     },
     "execution_count": 8,
     "metadata": {},
     "output_type": "execute_result"
    }
   ],
   "source": [
    "# 각 성분이 설명하는 분산의 양\n",
    "# 여기서는 하나의 성분이 99%를 설명하고 있으므로 LinearDiscriminantAnalysis(n_components=1)로 설정함\n",
    "lda.explained_variance_ratio_"
   ]
  },
  {
   "cell_type": "code",
   "execution_count": 9,
   "metadata": {},
   "outputs": [
    {
     "name": "stderr",
     "output_type": "stream",
     "text": [
      "D:\\anaconda3\\lib\\site-packages\\sklearn\\decomposition\\_nmf.py:312: FutureWarning: The 'init' value, when 'init=None' and n_components is less than n_samples and n_features, will be changed from 'nndsvd' to 'nndsvda' in 1.1 (renaming of 0.26).\n",
      "  warnings.warn((\"The 'init' value, when 'init=None' and \"\n"
     ]
    },
    {
     "name": "stdout",
     "output_type": "stream",
     "text": [
      "원본 특성 개수 : 64\n",
      "줄어든 특성 개수 : 10\n"
     ]
    },
    {
     "name": "stderr",
     "output_type": "stream",
     "text": [
      "D:\\anaconda3\\lib\\site-packages\\sklearn\\decomposition\\_nmf.py:1090: ConvergenceWarning: Maximum number of iterations 200 reached. Increase it to improve convergence.\n",
      "  warnings.warn(\"Maximum number of iterations %d reached. Increase it to\"\n"
     ]
    }
   ],
   "source": [
    "# 행렬 분해를 사용하여 특성을 줄이기\n",
    "from sklearn.decomposition import NMF\n",
    "from sklearn import datasets\n",
    "\n",
    "# 데이터를 로드\n",
    "digits=datasets.load_digits()\n",
    "\n",
    "# 특성 행렬을 로드\n",
    "features=digits.data\n",
    "\n",
    "# NMF를 만들고 학습 적용\n",
    "nmf=NMF(n_components=10, random_state=1)\n",
    "features_nmf=nmf.fit_transform(features)\n",
    "\n",
    "# 결과를 출력\n",
    "print(\"원본 특성 개수 :\",features.shape[1])\n",
    "print(\"줄어든 특성 개수 :\",features_nmf.shape[1])"
   ]
  },
  {
   "cell_type": "code",
   "execution_count": 10,
   "metadata": {},
   "outputs": [
    {
     "name": "stdout",
     "output_type": "stream",
     "text": [
      "원본 특성 개수 : 64\n",
      "줄어든 특성 개수 : 10\n"
     ]
    }
   ],
   "source": [
    "# 희소한 데이터의 특성을 줄이기\n",
    "# TSVD : pca와 비슷하지만 pca와 달리 희소 행렬에도 사용할 수 있는 방법\n",
    "# 텍스트마이닝에서는 LSA(latent semantic analysis, 잠재의미분석)이라고도 함\n",
    "\n",
    "from sklearn.preprocessing import StandardScaler\n",
    "from sklearn.decomposition import TruncatedSVD\n",
    "from sklearn import datasets\n",
    "from scipy.sparse import csr_matrix\n",
    "import numpy as np\n",
    "\n",
    "# 데이터를 로드\n",
    "digits=datasets.load_digits()\n",
    "\n",
    "# 특성 행렬을 표준화 처리\n",
    "features=StandardScaler().fit_transform(digits.data)\n",
    "\n",
    "# 희소 행렬\n",
    "features_sparse=csr_matrix(features)\n",
    "\n",
    "# TSVD 객체\n",
    "tsvd=TruncatedSVD(n_components=10)\n",
    "\n",
    "# 희소 행렬에 TSVD를 적용\n",
    "features_sparse_tsvd=tsvd.fit(features_sparse).transform(features_sparse)\n",
    "\n",
    "# 결과를 출력\n",
    "print(\"원본 특성 개수 :\",features_sparse.shape[1])\n",
    "print(\"줄어든 특성 개수 :\",features_sparse_tsvd.shape[1])"
   ]
  },
  {
   "cell_type": "code",
   "execution_count": 11,
   "metadata": {},
   "outputs": [
    {
     "data": {
      "text/plain": [
       "0.30039385390732304"
      ]
     },
     "execution_count": 11,
     "metadata": {},
     "output_type": "execute_result"
    }
   ],
   "source": [
    "# 처음 세 개의 성분이 30%를 설명함\n",
    "tsvd.explained_variance_ratio_[0:3].sum()"
   ]
  }
 ],
 "metadata": {
  "interpreter": {
   "hash": "7b4b4feff2f24a0f0a34464dbe537a36fda679851528fb8735cb41fa49dffb2d"
  },
  "kernelspec": {
   "display_name": "Python 3.8.8 64-bit ('base': conda)",
   "language": "python",
   "name": "python3"
  },
  "language_info": {
   "codemirror_mode": {
    "name": "ipython",
    "version": 3
   },
   "file_extension": ".py",
   "mimetype": "text/x-python",
   "name": "python",
   "nbconvert_exporter": "python",
   "pygments_lexer": "ipython3",
   "version": "3.8.8"
  },
  "orig_nbformat": 4
 },
 "nbformat": 4,
 "nbformat_minor": 2
}
