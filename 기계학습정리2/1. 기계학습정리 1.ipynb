{
 "cells": [
  {
   "cell_type": "code",
   "execution_count": 1,
   "metadata": {},
   "outputs": [
    {
     "name": "stdout",
     "output_type": "stream",
     "text": [
      "[[0 0 0 0 0 0 0 0 0 0]\n",
      " [0 1 0 0 0 0 0 0 0 0]\n",
      " [3 0 0 0 0 0 0 0 0 0]]\n"
     ]
    }
   ],
   "source": [
    "# 희소 행렬\n",
    "import numpy as np\n",
    "from scipy import sparse\n",
    "matrix=np.array([[0, 0, 0, 0, 0, 0, 0, 0, 0, 0], [0, 1, 0, 0, 0, 0, 0, 0, 0, 0], [3, 0, 0, 0, 0, 0, 0, 0, 0, 0]])\n",
    "\n",
    "# 밀집 행렬(dense array)\n",
    "print(matrix)\n",
    "# CSR 행렬 (compressed sparse row)\n",
    "# 0이 아닌 원소만 저장하는 행렬(계산 비용이 절감됨)\n",
    "matrix_sparse=sparse.csr_matrix(matrix)"
   ]
  },
  {
   "cell_type": "code",
   "execution_count": 2,
   "metadata": {},
   "outputs": [
    {
     "name": "stdout",
     "output_type": "stream",
     "text": [
      "  (1, 1)\t1\n",
      "  (2, 0)\t3\n"
     ]
    }
   ],
   "source": [
    "# 희소 행렬을 출력\n",
    "print(matrix_sparse)\n",
    "# 1행 1열에 1이 있고\n",
    "# 2행 0열에 3이 있음"
   ]
  },
  {
   "cell_type": "code",
   "execution_count": 3,
   "metadata": {},
   "outputs": [
    {
     "name": "stdout",
     "output_type": "stream",
     "text": [
      "  (1, 1)\t1\n",
      "  (2, 0)\t3\n",
      "[[0 0 0 0 0 0 0 0 0 0]\n",
      " [0 1 0 0 0 0 0 0 0 0]\n",
      " [3 0 0 0 0 0 0 0 0 0]]\n"
     ]
    }
   ],
   "source": [
    "# (data, (row_index, col_index))로 구성된 튜플을 전달\n",
    "# shape 매개변수에서 0을 포함한 행렬의 전체 크기를 지정\n",
    "# 원소의 행과 열을 직접 지정하여 희소 행렬 생성\n",
    "matrix_sparse_2=sparse.csr_matrix(([1, 3], ([1, 2], [1, 0])), shape=(3, 10)) # ([원소], [행], [열])\n",
    "print(matrix_sparse_2)\n",
    "# 밀집 행렬로 변환\n",
    "print(matrix_sparse_2.toarray())"
   ]
  },
  {
   "cell_type": "code",
   "execution_count": 4,
   "metadata": {},
   "outputs": [
    {
     "name": "stdout",
     "output_type": "stream",
     "text": [
      "행렬의 크기 : (3, 4)\n",
      "행렬의 원소 개수 : 12\n",
      "차원 : 2\n",
      "원소의 데이터 타입 : int32\n",
      "원소 하나가 차지하는 바이트 크기 : 4\n",
      "배열 전체가 차지하는 바이트 크기 : 48\n",
      "1차원으로 변환 → [ 1  2  3  4  5  6  7  8  9 10 11 12]\n"
     ]
    }
   ],
   "source": [
    "import numpy as np\n",
    "matrix=np.array([[1, 2, 3, 4], [5, 6, 7, 8], [9, 10, 11, 12]])\n",
    "\n",
    "print(\"행렬의 크기 :\",matrix.shape) # 행렬의 크기\n",
    "print(\"행렬의 원소 개수 :\",matrix.size)\n",
    "print(\"차원 :\",matrix.ndim)\n",
    "print(\"원소의 데이터 타입 :\",matrix.dtype)\n",
    "print(\"원소 하나가 차지하는 바이트 크기 :\",matrix.itemsize)\n",
    "print(\"배열 전체가 차지하는 바이트 크기 :\",matrix.nbytes)\n",
    "print(\"1차원으로 변환 →\",matrix.flatten())"
   ]
  },
  {
   "cell_type": "code",
   "execution_count": 5,
   "metadata": {},
   "outputs": [
    {
     "data": {
      "text/plain": [
       "array([0.5488135 , 0.71518937, 0.60276338])"
      ]
     },
     "execution_count": 5,
     "metadata": {},
     "output_type": "execute_result"
    }
   ],
   "source": [
    "## 난수 생성\n",
    "np.random.seed(0) # 초깃값을 지정\n",
    "np.random.random(3) # 0.0 ~ 1.0 사이에서 3개의 실수 난수를 생성 "
   ]
  },
  {
   "cell_type": "code",
   "execution_count": 7,
   "metadata": {},
   "outputs": [
    {
     "name": "stdout",
     "output_type": "stream",
     "text": [
      "0 ~ 10 사이에서 3개의 정수 난수를 생성 : [1 4 9]\n",
      "\n",
      "1.0보다 크거나 같고 2.0보다 작은 3개의 수 선택 : [1.44994999 1.61306346 1.90234858]\n",
      "\n",
      "0 ~ 1 사이 2행 3열의 실수 난수1 : [[0.09928035 0.96980907 0.65314004]\n",
      " [0.17090959 0.35815217 0.75068614]]\n",
      "\n",
      "0 ~ 1 사이 2행 3열의 실수 난수2 : [[0.60783067 0.32504723 0.03842543]\n",
      " [0.63427406 0.95894927 0.65279032]]\n",
      "0 ~ 99 사이 10개의 정수 난수 : [ 3 76 52 78 15 20 99 58 23 79]\n",
      "\n",
      "평균 0, 표준편차 1인 정규 분포에서 3개의 수 선택 : [ 0.04736482  0.3113635  -0.77602047]\n",
      "\n",
      "평균 0, 표준편차 1인 정규 분포 난수 2행 3열 : [[-0.30736481 -0.36652394  1.11971196]\n",
      " [-0.45792242  0.4253934  -0.02797118]]\n",
      "\n",
      "0 ~ 9 사이의 정수 중 랜덤하게 5번 선택 : [7 5 9 0 2]\n"
     ]
    }
   ],
   "source": [
    "print(\"0 ~ 10 사이에서 3개의 정수 난수를 생성 :\",np.random.randint(0,11,3))\n",
    "print()\n",
    "print(\"1.0보다 크거나 같고 2.0보다 작은 3개의 수 선택 :\",np.random.uniform(1.0,2.0,3))\n",
    "print()\n",
    "print(\"0 ~ 1 사이 2행 3열의 실수 난수1 :\",np.random.random_sample((2,3)))\n",
    "print()\n",
    "print(\"0 ~ 1 사이 2행 3열의 실수 난수2 :\",np.random.rand(2,3))\n",
    "print(\"0 ~ 99 사이 10개의 정수 난수 :\",np.random.randint(0,100,10))\n",
    "print()\n",
    "print(\"평균 0, 표준편차 1인 정규 분포에서 3개의 수 선택 :\",np.random.normal(0.0,1.0,3))\n",
    "print()\n",
    "print(\"평균 0, 표준편차 1인 정규 분포 난수 2행 3열 :\",np.random.standard_normal((2,3)))\n",
    "print()\n",
    "print(\"0 ~ 9 사이의 정수 중 랜덤하게 5번 선택 :\",np.random.choice(range(0,10),5))"
   ]
  },
  {
   "cell_type": "code",
   "execution_count": 16,
   "metadata": {},
   "outputs": [
    {
     "data": {
      "text/plain": [
       "array([1, 2, 4, 0, 3])"
      ]
     },
     "execution_count": 16,
     "metadata": {},
     "output_type": "execute_result"
    }
   ],
   "source": [
    "# 리스트 섞기 (원본이 변경됨)\n",
    "a=np.array([0,1,2,3,4])\n",
    "np.random.shuffle(a)\n",
    "a"
   ]
  },
  {
   "cell_type": "code",
   "execution_count": 34,
   "metadata": {},
   "outputs": [
    {
     "name": "stdout",
     "output_type": "stream",
     "text": [
      "[2 4 3 1 0]\n",
      "[1 2 4 0 3]\n"
     ]
    }
   ],
   "source": [
    "# 복사본을 만든 후 셔플 (원본 유지)\n",
    "print(np.random.permutation(a))\n",
    "print(a)"
   ]
  }
 ],
 "metadata": {
  "interpreter": {
   "hash": "7b4b4feff2f24a0f0a34464dbe537a36fda679851528fb8735cb41fa49dffb2d"
  },
  "kernelspec": {
   "display_name": "Python 3.8.8 64-bit ('base': conda)",
   "language": "python",
   "name": "python3"
  },
  "language_info": {
   "codemirror_mode": {
    "name": "ipython",
    "version": 3
   },
   "file_extension": ".py",
   "mimetype": "text/x-python",
   "name": "python",
   "nbconvert_exporter": "python",
   "pygments_lexer": "ipython3",
   "version": "3.8.8"
  },
  "orig_nbformat": 4
 },
 "nbformat": 4,
 "nbformat_minor": 2
}
