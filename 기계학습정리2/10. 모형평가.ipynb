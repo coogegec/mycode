{
 "cells": [
  {
   "cell_type": "code",
   "execution_count": 3,
   "metadata": {},
   "outputs": [
    {
     "data": {
      "text/plain": [
       "0.9693916821849783"
      ]
     },
     "execution_count": 3,
     "metadata": {},
     "output_type": "execute_result"
    }
   ],
   "source": [
    "### 1. K-fold 교차검증\n",
    "from sklearn import datasets, metrics\n",
    "from sklearn.model_selection import KFold, cross_val_score\n",
    "from sklearn.pipeline import make_pipeline\n",
    "from sklearn.linear_model import LogisticRegression\n",
    "from sklearn.preprocessing import StandardScaler\n",
    "\n",
    "# 숫자 데이터셋을 로드\n",
    "digits=datasets.load_digits()\n",
    "\n",
    "# 특성 행렬\n",
    "features, target=digits.data, digits.target\n",
    "\n",
    "# 표준화 객체\n",
    "standardizer=StandardScaler()\n",
    "\n",
    "# 로지스틱 회귀 객체\n",
    "logit=LogisticRegression()\n",
    "\n",
    "# 표준화한 다음 로지스틱 회귀를 실행하는 파이프라인\n",
    "pipeline=make_pipeline(standardizer, logit)\n",
    "\n",
    "# K-fold 교차검증\n",
    "kf=KFold(n_splits=10, shuffle=True, random_state=1)\n",
    "\n",
    "# K-fold 교차검증을 수행\n",
    "cv_results=cross_val_score(pipeline, features, target, cv=kf, scoring='accuracy', n_jobs=-1)\n",
    "\n",
    "# 평균을 계산\n",
    "cv_results.mean()"
   ]
  },
  {
   "cell_type": "code",
   "execution_count": 4,
   "metadata": {},
   "outputs": [
    {
     "data": {
      "text/plain": [
       "0.9630555555555554"
      ]
     },
     "execution_count": 4,
     "metadata": {},
     "output_type": "execute_result"
    }
   ],
   "source": [
    "### 2. ShuffleSplit : 반복횟수에 관계없이 학습용, 검증용 데이터셋을 임의로 지정할 수 있음\n",
    "# 반복마다 랜덤하게 분할하므로 하나의 샘플이 여러번 포함될 수 있음\n",
    "from sklearn.model_selection import ShuffleSplit\n",
    "\n",
    "# ShuffleSplit 분할기(학습용 50%, 검증용 20%)\n",
    "ss=ShuffleSplit(n_splits=10, train_size=0.5, test_size=0.2, random_state=42)\n",
    "\n",
    "# 교차검증을 수행\n",
    "cv_results=cross_val_score(pipeline, features, target, cv=ss, scoring='accuracy', n_jobs=-1)\n",
    "\n",
    "# 평균을 계산\n",
    "cv_results.mean()"
   ]
  },
  {
   "cell_type": "code",
   "execution_count": 5,
   "metadata": {},
   "outputs": [
    {
     "name": "stdout",
     "output_type": "stream",
     "text": [
      "50\n",
      "0.9695065176908755\n"
     ]
    }
   ],
   "source": [
    "### 3. RepeatedKFold 교차검증\n",
    "from sklearn.model_selection import RepeatedKFold\n",
    "\n",
    "# RepeatedKFold 분할기(10회 교차검증을 5회 반복)\n",
    "rk=RepeatedKFold(n_splits=10, n_repeats=5, random_state=42)\n",
    "\n",
    "# 교차검증을 수행\n",
    "cv_results=cross_val_score(pipeline, features, target, cv=rk, scoring='accuracy', n_jobs=-1)\n",
    "\n",
    "# 검증 점수 개수를 확인\n",
    "print(len(cv_results))\n",
    "# 평균을 계산\n",
    "print(cv_results.mean())"
   ]
  },
  {
   "cell_type": "code",
   "execution_count": 2,
   "metadata": {},
   "outputs": [
    {
     "data": {
      "text/plain": [
       "-0.001119359203955339"
      ]
     },
     "execution_count": 2,
     "metadata": {},
     "output_type": "execute_result"
    }
   ],
   "source": [
    "### 4. 회귀 모형의 교차 검증\n",
    "# 더미 회귀 모델 만들기\n",
    "# 다른 모델과 비교하기 위해 성능이 떨어지는 더미 회귀 모형을 만드는 방법\n",
    "\n",
    "from sklearn.datasets import load_boston\n",
    "from sklearn.dummy import DummyRegressor\n",
    "from sklearn.model_selection import train_test_split\n",
    "\n",
    "# 데이터를 로드\n",
    "boston=load_boston()\n",
    "\n",
    "# 특성\n",
    "features, target=boston.data, boston.target\n",
    "\n",
    "features_train, features_test, target_train, target_test=train_test_split(features, target, random_state=0)\n",
    "\n",
    "# 더미 회귀 모델 모든 출력값을 샘플들의 평균값으로 분류하는 더미 모형\n",
    "dummy=DummyRegressor(strategy='mean')\n",
    "\n",
    "# 더미 회귀 모델을 훈련\n",
    "dummy.fit(features_train, target_train)\n",
    "\n",
    "# R^2 점수를 계산\n",
    "dummy.score(features_test, target_test)"
   ]
  },
  {
   "cell_type": "code",
   "execution_count": 3,
   "metadata": {},
   "outputs": [
    {
     "data": {
      "text/plain": [
       "0.6354638433202128"
      ]
     },
     "execution_count": 3,
     "metadata": {},
     "output_type": "execute_result"
    }
   ],
   "source": [
    "from sklearn.linear_model import LinearRegression\n",
    "\n",
    "# 간단한 선형 회귀 모델을 훈련\n",
    "ols=LinearRegression()\n",
    "ols.fit(features_train, target_train)\n",
    "\n",
    "# R^2 점수를 계산\n",
    "ols.score(features_test, target_test)"
   ]
  },
  {
   "cell_type": "code",
   "execution_count": 4,
   "metadata": {},
   "outputs": [
    {
     "data": {
      "text/plain": [
       "-0.06510502029325727"
      ]
     },
     "execution_count": 4,
     "metadata": {},
     "output_type": "execute_result"
    }
   ],
   "source": [
    "# 모든 샘플에 대해 20으로 예측하는 더미 회귀 모델\n",
    "clf=DummyRegressor(strategy='constant', constant=20)\n",
    "clf.fit(features_train, target_train)\n",
    "\n",
    "# R^2 점수를 계산\n",
    "clf.score(features_test, target_test)"
   ]
  },
  {
   "cell_type": "code",
   "execution_count": 5,
   "metadata": {},
   "outputs": [
    {
     "data": {
      "text/plain": [
       "array([24.5, 24.5, 24.5, 24.5, 24.5, 24.5, 24.5, 24.5, 24.5, 24.5, 24.5,\n",
       "       24.5, 24.5, 24.5, 24.5, 24.5, 24.5, 24.5, 24.5, 24.5, 24.5, 24.5,\n",
       "       24.5, 24.5, 24.5, 24.5, 24.5, 24.5, 24.5, 24.5, 24.5, 24.5, 24.5,\n",
       "       24.5, 24.5, 24.5, 24.5, 24.5, 24.5, 24.5, 24.5, 24.5, 24.5, 24.5,\n",
       "       24.5, 24.5, 24.5, 24.5, 24.5, 24.5, 24.5, 24.5, 24.5, 24.5, 24.5,\n",
       "       24.5, 24.5, 24.5, 24.5, 24.5, 24.5, 24.5, 24.5, 24.5, 24.5, 24.5,\n",
       "       24.5, 24.5, 24.5, 24.5, 24.5, 24.5, 24.5, 24.5, 24.5, 24.5, 24.5,\n",
       "       24.5, 24.5, 24.5, 24.5, 24.5, 24.5, 24.5, 24.5, 24.5, 24.5, 24.5,\n",
       "       24.5, 24.5, 24.5, 24.5, 24.5, 24.5, 24.5, 24.5, 24.5, 24.5, 24.5,\n",
       "       24.5, 24.5, 24.5, 24.5, 24.5, 24.5, 24.5, 24.5, 24.5, 24.5, 24.5,\n",
       "       24.5, 24.5, 24.5, 24.5, 24.5, 24.5, 24.5, 24.5, 24.5, 24.5, 24.5,\n",
       "       24.5, 24.5, 24.5, 24.5, 24.5, 24.5])"
      ]
     },
     "execution_count": 5,
     "metadata": {},
     "output_type": "execute_result"
    }
   ],
   "source": [
    "# y값의 70%값으로 출력\n",
    "clf=DummyRegressor(strategy='quantile', quantile=0.7) # quantile : 10분위수\n",
    "clf.fit(features_train, target_train)\n",
    "\n",
    "# 학습용 데이터셋 타겟의 70%값으로 예측\n",
    "clf.predict(features_test)"
   ]
  },
  {
   "cell_type": "code",
   "execution_count": 6,
   "metadata": {},
   "outputs": [
    {
     "data": {
      "text/plain": [
       "50.0"
      ]
     },
     "execution_count": 6,
     "metadata": {},
     "output_type": "execute_result"
    }
   ],
   "source": [
    "import numpy as np\n",
    "\n",
    "# 학습용 데이터셋의 타겟에서 최댓값을 확인\n",
    "np.max(target_train)"
   ]
  },
  {
   "cell_type": "code",
   "execution_count": 7,
   "metadata": {},
   "outputs": [
    {
     "data": {
      "text/plain": [
       "0.42105263157894735"
      ]
     },
     "execution_count": 7,
     "metadata": {},
     "output_type": "execute_result"
    }
   ],
   "source": [
    "### 5. 분류 모형의 검증\n",
    "# 더미 분류 모형\n",
    "\n",
    "from sklearn.datasets import load_iris\n",
    "from sklearn.dummy import DummyClassifier\n",
    "from sklearn.model_selection import train_test_split\n",
    "\n",
    "# 데이터를 로드\n",
    "iris=load_iris()\n",
    "\n",
    "# 타겟 벡터와 특성 행렬\n",
    "features, target=iris.data, iris.target\n",
    "features_train, features_test, target_train, target_test=train_test_split(features, target, random_state=0)\n",
    "\n",
    "# 더미 분류 모델(분류 결과를 50:50으로 분류하는 더미 모형)\n",
    "dummy=DummyClassifier(strategy='uniform', random_state=1)\n",
    "\n",
    "# 모델을 훈련\n",
    "dummy.fit(features_train, target_train)\n",
    "\n",
    "# 정확도 점수를 계산\n",
    "dummy.score(features_test, target_test)"
   ]
  },
  {
   "cell_type": "code",
   "execution_count": 8,
   "metadata": {},
   "outputs": [
    {
     "data": {
      "text/plain": [
       "0.9736842105263158"
      ]
     },
     "execution_count": 8,
     "metadata": {},
     "output_type": "execute_result"
    }
   ],
   "source": [
    "from sklearn.ensemble import RandomForestClassifier\n",
    "\n",
    "# 분류 모델\n",
    "classifier=RandomForestClassifier()\n",
    "\n",
    "# 모델을 훈련\n",
    "classifier.fit(features_train, target_train)\n",
    "\n",
    "# 정확도 점수를 계산\n",
    "classifier.score(features_test, target_test)"
   ]
  },
  {
   "cell_type": "code",
   "execution_count": 9,
   "metadata": {},
   "outputs": [
    {
     "name": "stdout",
     "output_type": "stream",
     "text": [
      "[2 2 2 2 2 2 2 2 2 2 2 2 2 2 2 2 2 2 2 2 2 2 2 2 2 2 2 2 2 2 2 2 2 2 2 2 2\n",
      " 2]\n",
      "0.23684210526315788\n"
     ]
    }
   ],
   "source": [
    "dummy=DummyClassifier(strategy='most_frequent')\n",
    "dummy.fit(features_train, target_train)\n",
    "\n",
    "# 학습용 데이터셋에서 가장 많은 값으로 예측\n",
    "print(dummy.predict(features_test))\n",
    "\n",
    "# 정확도 점수를 계산\n",
    "print(dummy.score(features_test, target_test))"
   ]
  },
  {
   "cell_type": "code",
   "execution_count": 10,
   "metadata": {},
   "outputs": [
    {
     "data": {
      "text/plain": [
       "array([37, 34, 41], dtype=int64)"
      ]
     },
     "execution_count": 10,
     "metadata": {},
     "output_type": "execute_result"
    }
   ],
   "source": [
    "# 실제 학습용 데이터셋의 타겟 개수를 확인\n",
    "np.bincount(target_train)"
   ]
  },
  {
   "cell_type": "code",
   "execution_count": 11,
   "metadata": {},
   "outputs": [
    {
     "data": {
      "text/plain": [
       "array([0.863 , 0.8795, 0.8775, 0.88  , 0.8775])"
      ]
     },
     "execution_count": 11,
     "metadata": {},
     "output_type": "execute_result"
    }
   ],
   "source": [
    "### 5.1 이진 분류기의 교차 검증\n",
    "from sklearn.model_selection import cross_val_score\n",
    "from sklearn.linear_model import LogisticRegression\n",
    "from sklearn.datasets import make_classification\n",
    "\n",
    "# 특성 행렬과 타겟 벡터\n",
    "X, y=make_classification(n_samples=10000, n_features=3, n_redundant=0, n_classes=2, random_state=1)\n",
    "\n",
    "# 로지스틱 회귀 모델\n",
    "logit=LogisticRegression()\n",
    "\n",
    "# 정확도를 사용하여 교차검증을 수행\n",
    "cross_val_score(logit, X, y, scoring='accuracy')"
   ]
  },
  {
   "cell_type": "code",
   "execution_count": 12,
   "metadata": {},
   "outputs": [
    {
     "data": {
      "text/plain": [
       "array([0.87435633, 0.88934426, 0.88809035, 0.90189873, 0.88900308])"
      ]
     },
     "execution_count": 12,
     "metadata": {},
     "output_type": "execute_result"
    }
   ],
   "source": [
    "# 정밀도를 사용하여 교차검증을 수행\n",
    "cross_val_score(logit, X, y, scoring='precision')"
   ]
  },
  {
   "cell_type": "code",
   "execution_count": 13,
   "metadata": {},
   "outputs": [
    {
     "data": {
      "text/plain": [
       "array([0.84815185, 0.86713287, 0.86413586, 0.85329341, 0.86327345])"
      ]
     },
     "execution_count": 13,
     "metadata": {},
     "output_type": "execute_result"
    }
   ],
   "source": [
    "# 재현율을 사용하여 교차검증을 수행\n",
    "cross_val_score(logit, X, y, scoring='recall')"
   ]
  },
  {
   "cell_type": "code",
   "execution_count": 14,
   "metadata": {},
   "outputs": [
    {
     "data": {
      "text/plain": [
       "array([0.86105477, 0.87809813, 0.87594937, 0.87692308, 0.87594937])"
      ]
     },
     "execution_count": 14,
     "metadata": {},
     "output_type": "execute_result"
    }
   ],
   "source": [
    "# f1 점수를 사용하여 교차검증을 수행\n",
    "cross_val_score(logit, X, y, scoring='f1')"
   ]
  },
  {
   "cell_type": "code",
   "execution_count": 15,
   "metadata": {},
   "outputs": [
    {
     "data": {
      "text/plain": [
       "{'fit_time': array([0.00797868, 0.00698113, 0.00797796, 0.00698113, 0.00797868]),\n",
       " 'score_time': array([0.02094364, 0.00299287, 0.00199413, 0.00299263, 0.00199461]),\n",
       " 'test_accuracy': array([0.863 , 0.8795, 0.8775, 0.88  , 0.8775]),\n",
       " 'test_precision': array([0.87435633, 0.88934426, 0.88809035, 0.90189873, 0.88900308]),\n",
       " 'test_f1': array([0.86105477, 0.87809813, 0.87594937, 0.87692308, 0.87594937])}"
      ]
     },
     "execution_count": 15,
     "metadata": {},
     "output_type": "execute_result"
    }
   ],
   "source": [
    "from sklearn.model_selection import cross_validate\n",
    "\n",
    "# 정확도, 정밀도, F1-score를 사용하여 교차검증을 수행\n",
    "cross_validate(logit, X, y, scoring=['accuracy','precision','f1'])"
   ]
  },
  {
   "cell_type": "code",
   "execution_count": 16,
   "metadata": {},
   "outputs": [
    {
     "data": {
      "text/plain": [
       "array([0.841 , 0.829 , 0.8265, 0.8155, 0.82  ])"
      ]
     },
     "execution_count": 16,
     "metadata": {},
     "output_type": "execute_result"
    }
   ],
   "source": [
    "### 5.2 다중클래스 분류기 예측 평가하기\n",
    "from sklearn.model_selection import cross_val_score\n",
    "from sklearn.linear_model import LogisticRegression\n",
    "from sklearn.datasets import make_classification\n",
    "\n",
    "# 특성 행렬과 타겟 벡터\n",
    "features, target=make_classification(n_samples=10000, n_features=3, n_informative=3,\\\n",
    "    n_redundant=0, n_classes=3, random_state=1)\n",
    "\n",
    "# 로지스틱 회귀 모델\n",
    "logit=LogisticRegression(max_iter=1000)\n",
    "\n",
    "# 정확도를 사용하여 교차검증을 수행\n",
    "cross_val_score(logit, features, target, scoring='accuracy')"
   ]
  },
  {
   "cell_type": "code",
   "execution_count": 18,
   "metadata": {},
   "outputs": [
    {
     "name": "stdout",
     "output_type": "stream",
     "text": [
      "[0.84084737 0.82892836 0.82617407 0.81510466 0.81991138]\n",
      "[0.84097366 0.82898341 0.82644282 0.81544078 0.81994306]\n",
      "[0.84061272 0.82895312 0.82625661 0.81515121 0.81992692]\n"
     ]
    }
   ],
   "source": [
    "# 매크로 평균 F1 점수를 사용하여 교차검증을 수행\n",
    "# 정밀도, 재현율, F1은 이진분류에 사용할 수 있음\n",
    "# macro : 하나의 클래스만 있는 것처럼 각 클래스에서 측정한 값을 수집하여 평균한 값\n",
    "#         각 클래스를 동등한 가중치로 클래스별 측정 점수를 평균화한 값\n",
    "# weighted : 샘플 개수에 비례하여 각 클래스별 측정 점수를 평균한 값\n",
    "# micro : 클래스별로 TP, TN, FP, FN을 모두 더하여 계산한 값\n",
    "# cross_val_score(logit, features, target, scoring='recall')\n",
    "# 에러가 발생함(이진분류에 사용 가능)\n",
    "\n",
    "print(cross_val_score(logit, features, target, scoring='precision_macro'))\n",
    "print(cross_val_score(logit, features, target, scoring='recall_macro'))\n",
    "print(cross_val_score(logit, features, target, scoring='f1_macro'))"
   ]
  },
  {
   "cell_type": "code",
   "execution_count": 19,
   "metadata": {},
   "outputs": [
    {
     "data": {
      "image/png": "[encoded data removed]",
      "text/plain": [
       "<Figure size 432x288 with 1 Axes>"
      ]
     },
     "metadata": {
      "needs_background": "light"
     },
     "output_type": "display_data"
    }
   ],
   "source": [
    "### 6. 하이퍼 파라미터 값의 영향을 시각화하기\n",
    "import matplotlib.pyplot as plt\n",
    "import numpy as np\n",
    "from sklearn.datasets import load_digits\n",
    "from sklearn.ensemble import RandomForestClassifier\n",
    "from sklearn.model_selection import validation_curve\n",
    "\n",
    "# 데이터를 로드\n",
    "digits=load_digits()\n",
    "\n",
    "# 특성 행렬과 타겟 벡터\n",
    "features, target=digits.data, digits.target\n",
    "\n",
    "# 파라미터 값의 범위\n",
    "param_range=np.arange(1, 250, 2)\n",
    "\n",
    "# 파라미터 값의 범위를 사용하여 학습용 데이터셋과 검증용 데이터셋의 정확도를 계산\n",
    "train_scores, test_scores=validation_curve(\n",
    "    RandomForestClassifier(),\n",
    "    features,\n",
    "    target,\n",
    "    param_name='n_estimators',\n",
    "    param_range=param_range,\n",
    "    cv=3,\n",
    "    scoring='accuracy',\n",
    "    n_jobs=-1\n",
    ")\n",
    "\n",
    "# 학습용 데이터셋 점수의 평균과 표준 편차를 계산\n",
    "train_mean=np.mean(train_scores, axis=1)\n",
    "train_std=np.std(train_scores, axis=1)\n",
    "\n",
    "# 검증용 데이터셋 점수의 평균과 표준편차를 계산\n",
    "test_mean=np.mean(test_scores, axis=1)\n",
    "test_std=np.std(test_scores, axis=1)\n",
    "\n",
    "# 학습용 데이터셋과 검증용 데이터셋의 평균 정확도 점수\n",
    "plt.plot(param_range, train_mean, label='Training score', color='black')\n",
    "plt.plot(param_range, test_mean, label='Cross-validation score', color='dimgrey')\n",
    "\n",
    "# 학습용 데이터셋과 검증용 데이터셋의 정확도에 대한 표준편차 그래프\n",
    "plt.fill_between(param_range, train_mean - train_std, train_mean + train_std, color='gray')\n",
    "plt.fill_between(param_range, test_mean - test_std, test_mean + test_std, color='gainsboro')\n",
    "\n",
    "# 그래프를 출력\n",
    "plt.title(\"Validation Curve With RandomForest\")\n",
    "plt.xlabel(\"Number of Trees\")\n",
    "plt.ylabel(\"Accuracy Score\")\n",
    "plt.tight_layout()\n",
    "plt.legend(loc='best')\n",
    "plt.show()"
   ]
  }
 ],
 "metadata": {
  "interpreter": {
   "hash": "7b4b4feff2f24a0f0a34464dbe537a36fda679851528fb8735cb41fa49dffb2d"
  },
  "kernelspec": {
   "display_name": "Python 3.8.8 64-bit ('base': conda)",
   "language": "python",
   "name": "python3"
  },
  "language_info": {
   "codemirror_mode": {
    "name": "ipython",
    "version": 3
   },
   "file_extension": ".py",
   "mimetype": "text/x-python",
   "name": "python",
   "nbconvert_exporter": "python",
   "pygments_lexer": "ipython3",
   "version": "3.8.8"
  },
  "orig_nbformat": 4
 },
 "nbformat": 4,
 "nbformat_minor": 2
}
