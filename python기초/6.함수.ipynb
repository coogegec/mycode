{
 "cells": [
  {
   "cell_type": "code",
   "execution_count": 1,
   "metadata": {},
   "outputs": [
    {
     "data": {
      "text/plain": [
       "3"
      ]
     },
     "execution_count": 1,
     "metadata": {},
     "output_type": "execute_result"
    }
   ],
   "source": [
    "abs(-3)"
   ]
  },
  {
   "cell_type": "code",
   "execution_count": 4,
   "metadata": {},
   "outputs": [
    {
     "name": "stdout",
     "output_type": "stream",
     "text": [
      "True\n",
      "False\n",
      "True\n",
      "False\n"
     ]
    }
   ],
   "source": [
    "# all : 모든 요소가 참이면 True, 아니면 False\n",
    "print(all([1,2,3]))\n",
    "print(all([1,2,3,0]))\n",
    "# any : 하나라도 참이면 True, 모두 거짓이면 False\n",
    "print(any([1,2,0]))\n",
    "print(all([\"\",0]))"
   ]
  },
  {
   "cell_type": "code",
   "execution_count": 5,
   "metadata": {},
   "outputs": [
    {
     "name": "stdout",
     "output_type": "stream",
     "text": [
      "리스트 관련 :  ['__add__', '__class__', '__contains__', '__delattr__', '__delitem__', '__dir__', '__doc__', '__eq__', '__format__', '__ge__', '__getattribute__', '__getitem__', '__gt__', '__hash__', '__iadd__', '__imul__', '__init__', '__init_subclass__', '__iter__', '__le__', '__len__', '__lt__', '__mul__', '__ne__', '__new__', '__reduce__', '__reduce_ex__', '__repr__', '__reversed__', '__rmul__', '__setattr__', '__setitem__', '__sizeof__', '__str__', '__subclasshook__', 'append', 'clear', 'copy', 'count', 'extend', 'index', 'insert', 'pop', 'remove', 'reverse', 'sort']\n",
      "딕셔너리 관련 :  ['__class__', '__contains__', '__delattr__', '__delitem__', '__dir__', '__doc__', '__eq__', '__format__', '__ge__', '__getattribute__', '__getitem__', '__gt__', '__hash__', '__init__', '__init_subclass__', '__iter__', '__le__', '__len__', '__lt__', '__ne__', '__new__', '__reduce__', '__reduce_ex__', '__repr__', '__reversed__', '__setattr__', '__setitem__', '__sizeof__', '__str__', '__subclasshook__', 'clear', 'copy', 'fromkeys', 'get', 'items', 'keys', 'pop', 'popitem', 'setdefault', 'update', 'values']\n"
     ]
    }
   ],
   "source": [
    "# dir : 객체의 멤버(변수 또는 함수)\n",
    "print('리스트 관련 : ', dir([1,2,3]))\n",
    "print('딕셔너리 관련 : ', dir({'1':'a'}))"
   ]
  },
  {
   "cell_type": "code",
   "execution_count": 7,
   "metadata": {},
   "outputs": [
    {
     "name": "stdout",
     "output_type": "stream",
     "text": [
      "(2, 1)\n",
      "(6.0, 0.09999999999999998)\n",
      "몫 :  2\n",
      "나머지 :  1\n"
     ]
    }
   ],
   "source": [
    "# divmod(x,y) : x를 y로 나눈 몫과 나머지를 튜플 형태로 리턴\n",
    "print(divmod(7,3))\n",
    "print(divmod(1.3,0.2))\n",
    "\n",
    "x, y=divmod(7,3)\n",
    "print(\"몫 : \",x)\n",
    "print(\"나머지 : \",y)"
   ]
  },
  {
   "cell_type": "code",
   "execution_count": 8,
   "metadata": {},
   "outputs": [
    {
     "name": "stdout",
     "output_type": "stream",
     "text": [
      "0 10\n",
      "1 20\n",
      "2 30\n",
      "3 40\n",
      "4 50\n"
     ]
    }
   ],
   "source": [
    "# enumerate : 순서가 있는 자료형(리스트, 튜플, 문자열)을 입력받아 인덱스를 포함해 리턴\n",
    "for i, num in enumerate([10,20,30,40,50]):\n",
    "    print(i,num)"
   ]
  },
  {
   "cell_type": "code",
   "execution_count": 11,
   "metadata": {},
   "outputs": [
    {
     "name": "stdout",
     "output_type": "stream",
     "text": [
      "3\n",
      "3\n",
      "(1, 1)\n",
      "(1, 1)\n"
     ]
    }
   ],
   "source": [
    "# eval : 실행가능한 문자열을 입력받아 문자열을 실행한 결과값을 리턴\n",
    "print(eval('1+2'))\n",
    "print(1+2)\n",
    "print(eval('divmod(4,3)'))\n",
    "print(divmod(4,3))"
   ]
  },
  {
   "cell_type": "code",
   "execution_count": 10,
   "metadata": {},
   "outputs": [
    {
     "name": "stdout",
     "output_type": "stream",
     "text": [
      "0xea\n",
      "0x3\n"
     ]
    }
   ],
   "source": [
    "# hex : 정수값을 입력받아 16진수(hexadecimal)로 변환하여 리턴\n",
    "print(hex(234))\n",
    "print(hex(3))"
   ]
  },
  {
   "cell_type": "code",
   "execution_count": 13,
   "metadata": {},
   "outputs": [
    {
     "name": "stdout",
     "output_type": "stream",
     "text": [
      "사과,배,수박,바나나,포도\n",
      "사과/배/수박/바나나/포도\n",
      "사과\n",
      "배\n",
      "수박\n",
      "바나나\n",
      "포도\n"
     ]
    }
   ],
   "source": [
    "# join : 리스트를 특정 구분자를 포함하여 문자열로 변환\n",
    "fruits=['사과','배','수박','바나나','포도']\n",
    "print(','.join(fruits)) # 리스트의 각 원소와 쉼표 구분자를 연결\n",
    "print('/'.join(fruits))\n",
    "print('\\n'.join(fruits))"
   ]
  },
  {
   "cell_type": "code",
   "execution_count": 14,
   "metadata": {},
   "outputs": [
    {
     "name": "stdout",
     "output_type": "stream",
     "text": [
      "6\n",
      "3\n",
      "2\n"
     ]
    }
   ],
   "source": [
    "# len : 요소 전체 개수\n",
    "a=len('python') # 문자열\n",
    "b=len([1,2,3]) # 리스트\n",
    "c=len((1,'a')) # 튜플\n",
    "print(a)\n",
    "print(b)\n",
    "print(c)"
   ]
  },
  {
   "cell_type": "code",
   "execution_count": 17,
   "metadata": {},
   "outputs": [
    {
     "name": "stdout",
     "output_type": "stream",
     "text": [
      "[2, 4, 6, 8]\n",
      "[2, 3, 4, 5, 6]\n"
     ]
    }
   ],
   "source": [
    "# map(function, iterable) : 집합의 각 요소가 함수에 의해 수행된 결과를 묶어서 리턴\n",
    "def calc(x):\n",
    "    return x*2\n",
    "a=list(map(calc,[1,2,3,4]))\n",
    "print(a)\n",
    "def plus(x):\n",
    "    return x+1\n",
    "a=list(map(plus,[1,2,3,4,5]))\n",
    "print(a)"
   ]
  },
  {
   "cell_type": "code",
   "execution_count": 22,
   "metadata": {},
   "outputs": [
    {
     "name": "stdout",
     "output_type": "stream",
     "text": [
      "김\n",
      "44608\n",
      "h ==> 104\n",
      "e ==> 101\n",
      "l ==> 108\n",
      "l ==> 108\n",
      "o ==> 111\n",
      "  ==> 32\n",
      "p ==> 112\n",
      "y ==> 121\n",
      "t ==> 116\n",
      "h ==> 104\n",
      "o ==> 111\n",
      "n ==> 110\n",
      "3\n",
      "y\n"
     ]
    }
   ],
   "source": [
    "# max(iterable) : 최댓값 리턴\n",
    "c=\"김\"\n",
    "print(c)\n",
    "print(ord(c)) # ord(str) : 한 글자의 문자 코드를 리턴\n",
    "b='hello python'\n",
    "for i in b:\n",
    "    print(f'{i} ==> {ord(i)}')\n",
    "\n",
    "a=max([1,2,3])\n",
    "print(a)\n",
    "b=max('python')\n",
    "print(b)"
   ]
  },
  {
   "cell_type": "code",
   "execution_count": 26,
   "metadata": {},
   "outputs": [
    {
     "name": "stdout",
     "output_type": "stream",
     "text": [
      "[1, 2, 3, 4]\n",
      "['a', 'b', 'c', 'd']\n",
      "['e', 'o', 'r', 'z']\n",
      "None\n",
      "[1, 2, 3, 4]\n"
     ]
    }
   ],
   "source": [
    "# sorted(iterable) : 입력값을 정렬한 후 그 결과를 리스트로 리턴\n",
    "a=sorted([3,4,1,2])\n",
    "print(a)\n",
    "b=sorted(['d','a','c','b'])\n",
    "print(b)\n",
    "c=sorted(\"zero\")\n",
    "print(c)\n",
    "# sort() : 정렬후 리턴하지는 않음\n",
    "items=[3,4,1,2]\n",
    "result=items.sort()\n",
    "print(result) # None\n",
    "print(items)"
   ]
  },
  {
   "cell_type": "code",
   "execution_count": 27,
   "metadata": {},
   "outputs": [
    {
     "name": "stdout",
     "output_type": "stream",
     "text": [
      "[(1, 4), (2, 5), (3, 6)]\n",
      "[(1, 4, 7), (2, 5, 8), (3, 6, 9)]\n",
      "[('a', 'd'), ('b', 'e'), ('c', 'f')]\n"
     ]
    }
   ],
   "source": [
    "# zip(iterable) : 동일한 개수로 이루어진 자료형을 묶어주는 역할. 같은 인덱스의 값끼리 튜플로 묶음\n",
    "a=list(zip([1,2,3],[4,5,6]))\n",
    "print(a)\n",
    "b=list(zip([1,2,3],[4,5,6],[7,8,9]))\n",
    "print(b)\n",
    "c=list(zip(\"abc\",\"def\"))\n",
    "print(c)"
   ]
  },
  {
   "cell_type": "code",
   "execution_count": 28,
   "metadata": {},
   "outputs": [
    {
     "name": "stdout",
     "output_type": "stream",
     "text": [
      "Hi\n"
     ]
    }
   ],
   "source": [
    "# 입력값 : 없음, 리턴값 : 없음\n",
    "def say():\n",
    "    print('Hi')\n",
    "say()"
   ]
  },
  {
   "cell_type": "code",
   "execution_count": 34,
   "metadata": {},
   "outputs": [
    {
     "name": "stdout",
     "output_type": "stream",
     "text": [
      "Hello David\n",
      "Hello Daivd\n",
      "None\n",
      "<class 'NoneType'>\n"
     ]
    }
   ],
   "source": [
    "# 입력값 : 있음, 리턴값 : 없음\n",
    "def hello(name):\n",
    "    print('Hello', name)   \n",
    "hello('David')\n",
    "a=hello('Daivd')\n",
    "print(a) # 리턴값이 없으므로 문자에 아무것도 안 담기게 되고 None이 반환됨\n",
    "print(type(None))"
   ]
  },
  {
   "cell_type": "code",
   "execution_count": 32,
   "metadata": {},
   "outputs": [
    {
     "name": "stdout",
     "output_type": "stream",
     "text": [
      "이름을 입력하세요\n",
      "Hello Sam\n"
     ]
    }
   ],
   "source": [
    "def hello2(name=None):\n",
    "    if name==None:\n",
    "        print('이름을 입력하세요')\n",
    "        return\n",
    "    print('Hello',name)\n",
    "\n",
    "hello2()\n",
    "hello2('Sam')"
   ]
  },
  {
   "cell_type": "code",
   "execution_count": 45,
   "metadata": {},
   "outputs": [
    {
     "name": "stdout",
     "output_type": "stream",
     "text": [
      "(1, 2, 3)\n",
      "6\n",
      "(1, 2, 3, 4, 5, 6, 7, 8, 9, 10)\n",
      "55\n"
     ]
    }
   ],
   "source": [
    "# 가변 사이즈 매개변수\n",
    "# 여러 개의 입력값을 받는 함수\n",
    "# *변수 : 입력값들을 모두 모아 튜플로 처리\n",
    "def mysum(*args):\n",
    "    print(args)\n",
    "    result=0\n",
    "    for i in args:\n",
    "        result+=i\n",
    "    return result\n",
    "\n",
    "result=mysum(1,2,3)\n",
    "print(result)\n",
    "result=mysum(1,2,3,4,5,6,7,8,9,10)\n",
    "print(result)"
   ]
  },
  {
   "cell_type": "code",
   "execution_count": 50,
   "metadata": {},
   "outputs": [
    {
     "name": "stdout",
     "output_type": "stream",
     "text": [
      "1 2 3 4 5\n"
     ]
    }
   ],
   "source": [
    "# 함수의 리턴값은 1개지만 튜플을 이용하여 여러개처럼 처리할 수 있음\n",
    "def a():\n",
    "    return 1,2,3,4,5\n",
    "a,b,c,d,e=a()\n",
    "print(a,b,c,d,e)"
   ]
  },
  {
   "cell_type": "code",
   "execution_count": 52,
   "metadata": {},
   "outputs": [
    {
     "ename": "SyntaxError",
     "evalue": "non-default argument follows default argument (<ipython-input-52-ca860e8627f5>, line 9)",
     "output_type": "error",
     "traceback": [
      "\u001b[1;36m  File \u001b[1;32m\"<ipython-input-52-ca860e8627f5>\"\u001b[1;36m, line \u001b[1;32m9\u001b[0m\n\u001b[1;33m    def say2(name='김철수',age):\u001b[0m\n\u001b[1;37m             ^\u001b[0m\n\u001b[1;31mSyntaxError\u001b[0m\u001b[1;31m:\u001b[0m non-default argument follows default argument\n"
     ]
    }
   ],
   "source": [
    "# 매개변수의 default값 지정\n",
    "def say(name,age=20):\n",
    "    print('당신의 이름은 %s입니다.' %name)\n",
    "    print('당신의 나이는 %d살입니다.' %age)\n",
    "\n",
    "say('김철수',27)\n",
    "say('박선영')"
   ]
  },
  {
   "cell_type": "code",
   "execution_count": 1,
   "metadata": {},
   "outputs": [
    {
     "ename": "SyntaxError",
     "evalue": "non-default argument follows default argument (<ipython-input-1-5760c5ddadcf>, line 2)",
     "output_type": "error",
     "traceback": [
      "\u001b[1;36m  File \u001b[1;32m\"<ipython-input-1-5760c5ddadcf>\"\u001b[1;36m, line \u001b[1;32m2\u001b[0m\n\u001b[1;33m    def say2(name='김철수',age):\u001b[0m\n\u001b[1;37m             ^\u001b[0m\n\u001b[1;31mSyntaxError\u001b[0m\u001b[1;31m:\u001b[0m non-default argument follows default argument\n"
     ]
    }
   ],
   "source": [
    "# default 입력매개변수는 마지막에 위치해야 함\n",
    "def say2(name='김철수',age):\n",
    "    print('당신의 이름은 %s입니다.' %name)\n",
    "    print('당신의 나이는 %d살입니다.' %age)\n",
    "\n",
    "say(27) # 첫번째 값이 비어있으므로 에러 발생"
   ]
  },
  {
   "cell_type": "code",
   "execution_count": 6,
   "metadata": {},
   "outputs": [
    {
     "name": "stdout",
     "output_type": "stream",
     "text": [
      "1\n",
      "2\n"
     ]
    }
   ],
   "source": [
    "# 지역변수와 전역변수\n",
    "a=1\n",
    "def test(a):\n",
    "    # 입력매개변수 a는 지역변수\n",
    "    a=a+1    \n",
    "test(a) # 전역변수 a의 값은 그대로 1\n",
    "print(a)\n",
    "def test():\n",
    "    global a #전역변수 a의 값이 바뀐다.\n",
    "    a=a+1\n",
    "test()\n",
    "print(a)"
   ]
  },
  {
   "cell_type": "code",
   "execution_count": 7,
   "metadata": {},
   "outputs": [
    {
     "name": "stdout",
     "output_type": "stream",
     "text": [
      "{'이름': '김철수', '직업': '작가', '나이': 27}\n"
     ]
    }
   ],
   "source": [
    "# 함수로 딕셔너리 반환\n",
    "def set_person(name,job,age=''):\n",
    "    person={'이름':name,'직업':job}\n",
    "    if age:\n",
    "        person['나이']=age\n",
    "    return person\n",
    "writer=set_person('김철수','작가',27)\n",
    "print(writer)"
   ]
  },
  {
   "cell_type": "code",
   "execution_count": 10,
   "metadata": {},
   "outputs": [
    {
     "name": "stdout",
     "output_type": "stream",
     "text": [
      "김철수님 환영합니다.\n",
      "나철호님 환영합니다.\n",
      "송민수님 환영합니다.\n"
     ]
    }
   ],
   "source": [
    "# 함수에 리스트 전달\n",
    "def greet(n):\n",
    "    for name in n:\n",
    "        msg=name+\"님 환영합니다.\"\n",
    "        print(msg)\n",
    "\n",
    "names=['김철수','나철호','송민수']\n",
    "greet(names)"
   ]
  },
  {
   "cell_type": "code",
   "execution_count": null,
   "metadata": {},
   "outputs": [],
   "source": []
  }
 ],
 "metadata": {
  "interpreter": {
   "hash": "7b4b4feff2f24a0f0a34464dbe537a36fda679851528fb8735cb41fa49dffb2d"
  },
  "kernelspec": {
   "display_name": "Python 3.8.8 64-bit ('base': conda)",
   "language": "python",
   "name": "python3"
  },
  "language_info": {
   "codemirror_mode": {
    "name": "ipython",
    "version": 3
   },
   "file_extension": ".py",
   "mimetype": "text/x-python",
   "name": "python",
   "nbconvert_exporter": "python",
   "pygments_lexer": "ipython3",
   "version": "3.8.8"
  },
  "orig_nbformat": 4
 },
 "nbformat": 4,
 "nbformat_minor": 2
}
