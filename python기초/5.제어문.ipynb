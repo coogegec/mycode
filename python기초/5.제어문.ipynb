{
 "cells": [
  {
   "cell_type": "code",
   "execution_count": 26,
   "metadata": {},
   "outputs": [
    {
     "name": "stdout",
     "output_type": "stream",
     "text": [
      "건너가세요.\n"
     ]
    }
   ],
   "source": [
    "color=input('색상을 입력하세요:')\n",
    "if color=='blue' or color=='파랑':\n",
    "    print('건너가세요.')\n",
    "else:    \n",
    "    print('기다리세요.')"
   ]
  },
  {
   "cell_type": "code",
   "execution_count": 5,
   "metadata": {},
   "outputs": [
    {
     "name": "stdout",
     "output_type": "stream",
     "text": [
      "짝수입니다.\n"
     ]
    }
   ],
   "source": [
    "num=100\n",
    "if num%2==0:\n",
    "    print('짝수입니다.')\n",
    "else:    \n",
    "    print('짝수입니다.')"
   ]
  },
  {
   "cell_type": "code",
   "execution_count": 29,
   "metadata": {},
   "outputs": [
    {
     "name": "stdout",
     "output_type": "stream",
     "text": [
      "잘못된 색상입니다.\n"
     ]
    }
   ],
   "source": [
    "color=input('색상을 입력하세요:')\n",
    "if color=='blue' or color=='파랑':\n",
    "    print('건너가세요.')\n",
    "elif color=='red' or color=='빨강':\n",
    "    print('기다리세요.')\n",
    "else:    \n",
    "    print('잘못된 색상입니다.')"
   ]
  },
  {
   "cell_type": "code",
   "execution_count": 11,
   "metadata": {},
   "outputs": [
    {
     "name": "stdout",
     "output_type": "stream",
     "text": [
      "1\n",
      "2\n",
      "3\n",
      "4\n",
      "5\n"
     ]
    }
   ],
   "source": [
    "for i in [1,2,3,4,5]:\n",
    "    print (i)"
   ]
  },
  {
   "cell_type": "code",
   "execution_count": 12,
   "metadata": {},
   "outputs": [
    {
     "name": "stdout",
     "output_type": "stream",
     "text": [
      "1\n",
      "2\n",
      "3\n",
      "4\n",
      "5\n"
     ]
    }
   ],
   "source": [
    "numbers=[1,2,3,4,5]\n",
    "for i in numbers:\n",
    "    print(i)"
   ]
  },
  {
   "cell_type": "code",
   "execution_count": 32,
   "metadata": {},
   "outputs": [
    {
     "name": "stdout",
     "output_type": "stream",
     "text": [
      "<class 'range'>\n",
      "range(0, 10)\n",
      "[0, 1, 2, 3, 4, 5, 6, 7, 8, 9]\n",
      "\n",
      "range(1, 11)\n",
      "[1, 2, 3, 4, 5, 6, 7, 8, 9, 10]\n",
      "\n",
      "[1, 3, 5, 7, 9]\n",
      "\n",
      "55\n"
     ]
    }
   ],
   "source": [
    "# 0부터 9\n",
    "a=range(10)\n",
    "print(type(a))\n",
    "print(a)\n",
    "a=list(range(10))\n",
    "print(a)\n",
    "print()\n",
    "# 1이상 11미만\n",
    "a=range(1,11)\n",
    "print(a)\n",
    "a=list(range(1,11))\n",
    "print(a)\n",
    "print()\n",
    "# 1이상 11미만 공차2\n",
    "a=list(range(1,11,2))\n",
    "print(a)\n",
    "print()\n",
    "# 1이상 11미만 합 구하기\n",
    "sum=0\n",
    "for i in range(1,11):\n",
    "    sum+=i\n",
    "print(sum)    \n",
    "\n"
   ]
  },
  {
   "cell_type": "code",
   "execution_count": 33,
   "metadata": {},
   "outputs": [
    {
     "name": "stdout",
     "output_type": "stream",
     "text": [
      "=====2단=====\n",
      "2 × 1 =  2\n",
      "2 × 2 =  4\n",
      "2 × 3 =  6\n",
      "2 × 4 =  8\n",
      "2 × 5 = 10\n",
      "2 × 6 = 12\n",
      "2 × 7 = 14\n",
      "2 × 8 = 16\n",
      "2 × 9 = 18\n",
      "\n",
      "=====3단=====\n",
      "3 × 1 =  3\n",
      "3 × 2 =  6\n",
      "3 × 3 =  9\n",
      "3 × 4 = 12\n",
      "3 × 5 = 15\n",
      "3 × 6 = 18\n",
      "3 × 7 = 21\n",
      "3 × 8 = 24\n",
      "3 × 9 = 27\n",
      "\n",
      "=====4단=====\n",
      "4 × 1 =  4\n",
      "4 × 2 =  8\n",
      "4 × 3 = 12\n",
      "4 × 4 = 16\n",
      "4 × 5 = 20\n",
      "4 × 6 = 24\n",
      "4 × 7 = 28\n",
      "4 × 8 = 32\n",
      "4 × 9 = 36\n",
      "\n"
     ]
    }
   ],
   "source": [
    "# 다중 for문\n",
    "for x in range(2,5):\n",
    "    print(\"====={0}단=====\".format(x))\n",
    "    for y in range(1,10):\n",
    "        print(\"{0} × {1} = {2:2d}\".format(x,y,x*y)) # :2d 결과값 두 자리로 자리 확보 - 정렬에 용이함\n",
    "    print()"
   ]
  },
  {
   "cell_type": "code",
   "execution_count": 34,
   "metadata": {},
   "outputs": [
    {
     "name": "stdout",
     "output_type": "stream",
     "text": [
      "1+2=3\n",
      "3+4=7\n",
      "5+6=11\n"
     ]
    }
   ],
   "source": [
    "# 리스트의 원소가 튜플인 경우\n",
    "a=[(1,2),(3,4),(5,6)]\n",
    "for (first, last) in a:\n",
    "    print(f'{first}+{last}={first+last}') # f스트링"
   ]
  },
  {
   "cell_type": "code",
   "execution_count": 37,
   "metadata": {},
   "outputs": [
    {
     "name": "stdout",
     "output_type": "stream",
     "text": [
      "1번 학생 : 90점, 합격입니다.\n",
      "2번 학생 : 25점, 불합격입니다.\n",
      "3번 학생 : 67점, 합격입니다.\n",
      "4번 학생 : 45점, 불합격입니다.\n",
      "5번 학생 : 80점, 합격입니다.\n"
     ]
    }
   ],
   "source": [
    "points=[90,25,67,45,80]\n",
    "number=0\n",
    "for point in points:\n",
    "    number=number+1\n",
    "    result=\"\"\n",
    "    if point>=60:\n",
    "        result=\"합격\"\n",
    "    else:\n",
    "        result=\"불합격\"\n",
    "    print(\"%d번 학생 : %d점, %s입니다.\" %(number,point,result)) # %자료형 %(변수)"
   ]
  },
  {
   "cell_type": "code",
   "execution_count": 38,
   "metadata": {},
   "outputs": [
    {
     "data": {
      "text/plain": [
       "{2: 4, 4: 16, 6: 36}"
      ]
     },
     "execution_count": 38,
     "metadata": {},
     "output_type": "execute_result"
    }
   ],
   "source": [
    "a={x:x**2 for x in (2,4,6)}\n",
    "a"
   ]
  },
  {
   "cell_type": "code",
   "execution_count": 47,
   "metadata": {},
   "outputs": [
    {
     "name": "stdout",
     "output_type": "stream",
     "text": [
      "커피를 드립니다.\n",
      "\n",
      "남은 커피는 9잔이고 잔액은 27000입니다.\n",
      "\n",
      "남은 커피는 8잔이고 잔액은 24000입니다.\n",
      "\n",
      "남은 커피는 7잔이고 잔액은 21000입니다.\n",
      "\n",
      "남은 커피는 6잔이고 잔액은 18000입니다.\n",
      "\n",
      "남은 커피는 5잔이고 잔액은 15000입니다.\n",
      "\n",
      "남은 커피는 4잔이고 잔액은 12000입니다.\n",
      "\n",
      "남은 커피는 3잔이고 잔액은 9000입니다.\n",
      "\n",
      "남은 커피는 2잔이고 잔액은 6000입니다.\n",
      "\n",
      "남은 커피는 1잔이고 잔액은 3000입니다.\n",
      "\n",
      "남은 커피는 0잔이고 잔액은 0입니다.\n",
      "\n",
      "품절입니다.\n"
     ]
    }
   ],
   "source": [
    "coffee=10\n",
    "money=30000\n",
    "print(\"커피를 드립니다.\")\n",
    "print()\n",
    "while money: # 조건식 0이 아니면 True, 0이면 False\n",
    "    coffee=coffee-1\n",
    "    money=money-3000\n",
    "    print('남은 커피는 %d잔이고 잔액은 %d입니다.\\n' %(coffee,money))\n",
    "    if not coffee: # coffee==0\n",
    "        print('품절입니다.')\n",
    "        break"
   ]
  },
  {
   "cell_type": "code",
   "execution_count": 49,
   "metadata": {},
   "outputs": [
    {
     "name": "stdout",
     "output_type": "stream",
     "text": [
      "1\n",
      "3\n",
      "5\n",
      "7\n",
      "9\n"
     ]
    }
   ],
   "source": [
    "# continue 예제 : 홀수만 출력\n",
    "a=0\n",
    "while a<10:\n",
    "    a=a+1\n",
    "    if a%2==0:\n",
    "        continue # 아래 코드를 건너뛰고 다음 while로\n",
    "    print(a)"
   ]
  },
  {
   "cell_type": "code",
   "execution_count": 50,
   "metadata": {},
   "outputs": [],
   "source": [
    "# 무한 루프\n",
    "while True:\n",
    "    s=input('내용을 입력하세요(종료하려면 x 버튼을 누르세요):')\n",
    "    if s=='x':\n",
    "        break"
   ]
  },
  {
   "cell_type": "code",
   "execution_count": 52,
   "metadata": {},
   "outputs": [
    {
     "name": "stdout",
     "output_type": "stream",
     "text": [
      "2  ×  1  =  2\n",
      "2  ×  2  =  4\n",
      "2  ×  3  =  6\n",
      "2  ×  4  =  8\n",
      "2  ×  5  =  10\n",
      "2  ×  6  =  12\n",
      "2  ×  7  =  14\n",
      "2  ×  8  =  16\n",
      "2  ×  9  =  18\n",
      "17  ×  1  =  17\n",
      "17  ×  2  =  34\n",
      "17  ×  3  =  51\n",
      "17  ×  4  =  68\n",
      "17  ×  5  =  85\n",
      "17  ×  6  =  102\n",
      "17  ×  7  =  119\n",
      "17  ×  8  =  136\n",
      "17  ×  9  =  153\n"
     ]
    }
   ],
   "source": [
    "while 1: # 0만 아니면 다 True. 융통성 甲\n",
    "    dan=int(input('단을 입력하세요(종료하려면 0을 입력하세요):'))\n",
    "    if dan==0:\n",
    "        break\n",
    "    for n in range(1,10):\n",
    "        print(dan,' × ',n,' = ',dan*n)"
   ]
  },
  {
   "cell_type": "code",
   "execution_count": 53,
   "metadata": {},
   "outputs": [
    {
     "name": "stdout",
     "output_type": "stream",
     "text": [
      "447\n",
      "100128\n"
     ]
    }
   ],
   "source": [
    "# 합계가 10만보다 커지게 되면 n값 구하기\n",
    "x=1\n",
    "tot=0\n",
    "while 1:\n",
    "    tot=tot+x\n",
    "    if tot>100000:\n",
    "        print(x)\n",
    "        print(tot)\n",
    "        break\n",
    "    x+=1"
   ]
  },
  {
   "cell_type": "code",
   "execution_count": 152,
   "metadata": {},
   "outputs": [
    {
     "name": "stdout",
     "output_type": "stream",
     "text": [
      "0.06275423200484986\n",
      "0.5725687528895232\n",
      "0.21024645436778377\n",
      "0.5807703668925221\n",
      "0.5650524009966469\n",
      "9\n",
      "8\n",
      "8\n",
      "5\n",
      "6\n",
      "95.31133469055905\n",
      "53.26036869018791\n",
      "76.93926306809985\n",
      "14.395460227284637\n",
      "11.084279145507981\n"
     ]
    }
   ],
   "source": [
    "#실수 난수(0이상 1미만)\n",
    "import random\n",
    "for i in range(5):\n",
    "    print(random.random())\n",
    "# 정수 난수(1~10)\n",
    "for i in range(5):\n",
    "    print(random.randint(1,10))\n",
    "# 실수 난수(1~100)\n",
    "for i in range(5):\n",
    "    print(random.uniform(1,100))"
   ]
  },
  {
   "cell_type": "code",
   "execution_count": 81,
   "metadata": {},
   "outputs": [
    {
     "data": {
      "text/plain": [
       "['짜장면', '짬뽕', '탕수육', '군만두']"
      ]
     },
     "execution_count": 81,
     "metadata": {},
     "output_type": "execute_result"
    }
   ],
   "source": [
    "food=['짜장면','짬뽕','탕수육','군만두']\n",
    "f=random.choice(food) # 리스트의 원소 중 무작위로 하나 선택\n",
    "f\n"
   ]
  },
  {
   "cell_type": "code",
   "execution_count": 153,
   "metadata": {},
   "outputs": [
    {
     "name": "stdout",
     "output_type": "stream",
     "text": [
      "['짜장면', '짬뽕', '탕수육', '군만두']\n",
      "['탕수육', '짬뽕', '짜장면', '군만두']\n"
     ]
    }
   ],
   "source": [
    "food=['짜장면','짬뽕','탕수육','군만두']\n",
    "print(food)\n",
    "random.shuffle(food) # 리스트 원소 섞기\n",
    "print(food)"
   ]
  },
  {
   "cell_type": "code",
   "execution_count": 167,
   "metadata": {},
   "outputs": [
    {
     "name": "stdout",
     "output_type": "stream",
     "text": [
      "['탕수육', '군만두']\n"
     ]
    }
   ],
   "source": [
    "food=['짜장면','짬뽕','탕수육','군만두']\n",
    "print(random.sample(food,2))"
   ]
  },
  {
   "cell_type": "code",
   "execution_count": 175,
   "metadata": {},
   "outputs": [
    {
     "name": "stdout",
     "output_type": "stream",
     "text": [
      "틀렸습니다.\n"
     ]
    }
   ],
   "source": [
    "a=random.randint(1,9)\n",
    "b=random.randint(1,9)\n",
    "question=f'{a} + {b} = ?'\n",
    "c=int(input(question))\n",
    "\n",
    "if c==a+b:\n",
    "    print('정답입니다.')\n",
    "else:    \n",
    "    print('틀렸습니다.')"
   ]
  },
  {
   "cell_type": "code",
   "execution_count": 177,
   "metadata": {},
   "outputs": [
    {
     "name": "stdout",
     "output_type": "stream",
     "text": [
      "정답입니다.\n",
      "정답입니다.\n",
      "정답입니다.\n",
      "정답입니다.\n",
      "정답입니다.\n",
      "정답입니다.\n",
      "정답입니다.\n",
      "정답입니다.\n",
      "정답입니다.\n",
      "정답입니다.\n",
      "정답입니다.\n",
      "11개 맞췄습니다.\n"
     ]
    }
   ],
   "source": [
    "correct=0\n",
    "while 1:\n",
    "    a=random.randint(1,9)\n",
    "    b=random.randint(1,9)\n",
    "    question=f'{a} + {b} = ? (0입력시 종료)'\n",
    "    c=int(input(question))\n",
    "    \n",
    "    if c==0:\n",
    "        break\n",
    "    elif c==a+b:\n",
    "        print('정답입니다.')\n",
    "        correct+=1\n",
    "    else:\n",
    "        print('틀렸습니다.')\n",
    "\n",
    "print(f'{correct}개 맞췄습니다.')"
   ]
  },
  {
   "cell_type": "code",
   "execution_count": 7,
   "metadata": {},
   "outputs": [
    {
     "name": "stdout",
     "output_type": "stream",
     "text": [
      "더 작은 수를 입력하세요.\n",
      "더 큰 수를 입력하세요.\n"
     ]
    }
   ],
   "source": [
    "import random\n",
    "secret=random.randint(1,100)\n",
    "count=0\n",
    "while 1:\n",
    "    num=int(input(\"숫자를 입력하세요(0입력시 종료):\"))\n",
    "    if num==0:\n",
    "        break\n",
    "    count+=1\n",
    "    if num==secret:\n",
    "        print(f'{count}번만에 맞췄습니다.')\n",
    "        break\n",
    "    elif num>secret:\n",
    "        print('더 작은 수를 입력하세요.')\n",
    "    else:\n",
    "        print('더 큰 수를 입력하세요.')"
   ]
  }
 ],
 "metadata": {
  "interpreter": {
   "hash": "7b4b4feff2f24a0f0a34464dbe537a36fda679851528fb8735cb41fa49dffb2d"
  },
  "kernelspec": {
   "display_name": "Python 3.8.8 64-bit ('base': conda)",
   "language": "python",
   "name": "python3"
  },
  "language_info": {
   "codemirror_mode": {
    "name": "ipython",
    "version": 3
   },
   "file_extension": ".py",
   "mimetype": "text/x-python",
   "name": "python",
   "nbconvert_exporter": "python",
   "pygments_lexer": "ipython3",
   "version": "3.8.8"
  },
  "orig_nbformat": 4
 },
 "nbformat": 4,
 "nbformat_minor": 2
}
