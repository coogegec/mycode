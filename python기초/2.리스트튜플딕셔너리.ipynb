{
 "cells": [
  {
   "cell_type": "code",
   "execution_count": 2,
   "metadata": {},
   "outputs": [
    {
     "name": "stdout",
     "output_type": "stream",
     "text": [
      "[1, 3, 5, 7, 9]\n",
      "1\n",
      "9\n",
      "a\n"
     ]
    }
   ],
   "source": [
    "# 리스트 : [] 로 감싸고 각 원소를 , 로 구분\n",
    "a=[1,3,5,7,9]\n",
    "print(a)\n",
    "print(a[0]) # 첫번째 원소\n",
    "print(a[-1]) # 뒤에서 첫번째 원소\n",
    "\n",
    "a=[1,2,3,['a','b','c']]\n",
    "print(a[-1][0]) # 뒤에서 첫번째 원소에서의 첫번째 값"
   ]
  },
  {
   "cell_type": "code",
   "execution_count": 4,
   "metadata": {},
   "outputs": [
    {
     "name": "stdout",
     "output_type": "stream",
     "text": [
      "1777992865024\n",
      "1777992865024\n",
      "a: [10, 2, 3, 4, 5]\n",
      "b: [10, 2, 3, 4, 5]\n",
      "1777992859968\n",
      "1777993339840\n",
      "a: [1, 2, 3, 4, 5]\n",
      "b: [10, 2, 3, 4, 5]\n"
     ]
    }
   ],
   "source": [
    "# 리스트의 복사\n",
    "a=[1,2,3,4,5]\n",
    "\n",
    "# 얕은 복사\n",
    "b=a # 원본 리스트는 한개, 리스트 참조변수만 2개 : 리스트에 변화가 있을 경우, a로 호출하든 b로 호출하든 같은 결과\n",
    "print(id(a))\n",
    "print(id(b)) # 변수의 주소값이 같음\n",
    "b[0]=10\n",
    "print('a:',a)\n",
    "print('b:',b)\n",
    "\n",
    "# 깊은 복사\n",
    "a=[1,2,3,4,5]\n",
    "b=a[:] # [:] 리스트 전체, 리스트 전체를 b에 연결시킴으로써 2개의 리스트가 생성\n",
    "print(id(a))\n",
    "print(id(b)) # 변수의 주소값이 다름\n",
    "b[0]=10\n",
    "print('a:',a)\n",
    "print('b:',b)"
   ]
  },
  {
   "cell_type": "code",
   "execution_count": 5,
   "metadata": {},
   "outputs": [
    {
     "name": "stdout",
     "output_type": "stream",
     "text": [
      "[1, 2]\n",
      "[1, 2, 3, 4, 5, 6]\n",
      "[1, 2, 3, 1, 2, 3, 1, 2, 3]\n"
     ]
    }
   ],
   "source": [
    "# 리스트 슬라이싱(부분 출력)\n",
    "a=[1,2,3,4,5]\n",
    "print(a[0:2])\n",
    "\n",
    "# 리스트 더하기\n",
    "a=[1,2,3]\n",
    "b=[4,5,6]\n",
    "c=a+b\n",
    "print(c)\n",
    "\n",
    "# 리스트 반복\n",
    "a=[1,2,3]\n",
    "b=a*3 # 3회 반복\n",
    "print(b)"
   ]
  },
  {
   "cell_type": "code",
   "execution_count": 12,
   "metadata": {},
   "outputs": [
    {
     "ename": "TypeError",
     "evalue": "unsupported operand type(s) for +: 'int' and 'str'",
     "output_type": "error",
     "traceback": [
      "\u001b[1;31m---------------------------------------------------------------------------\u001b[0m",
      "\u001b[1;31mTypeError\u001b[0m                                 Traceback (most recent call last)",
      "\u001b[1;32m<ipython-input-12-4fcbec378d5a>\u001b[0m in \u001b[0;36m<module>\u001b[1;34m\u001b[0m\n\u001b[0;32m      1\u001b[0m \u001b[1;31m# 숫자와 문자열 연결\u001b[0m\u001b[1;33m\u001b[0m\u001b[1;33m\u001b[0m\u001b[1;33m\u001b[0m\u001b[0m\n\u001b[0;32m      2\u001b[0m \u001b[0ma\u001b[0m\u001b[1;33m=\u001b[0m\u001b[1;33m[\u001b[0m\u001b[1;36m1\u001b[0m\u001b[1;33m,\u001b[0m\u001b[1;36m2\u001b[0m\u001b[1;33m,\u001b[0m\u001b[1;36m3\u001b[0m\u001b[1;33m]\u001b[0m\u001b[1;33m\u001b[0m\u001b[1;33m\u001b[0m\u001b[0m\n\u001b[1;32m----> 3\u001b[1;33m \u001b[0mprint\u001b[0m\u001b[1;33m(\u001b[0m\u001b[0ma\u001b[0m\u001b[1;33m[\u001b[0m\u001b[1;36m2\u001b[0m\u001b[1;33m]\u001b[0m\u001b[1;33m+\u001b[0m\u001b[1;34m\"hi\"\u001b[0m\u001b[1;33m)\u001b[0m \u001b[1;31m# 에러\u001b[0m\u001b[1;33m\u001b[0m\u001b[1;33m\u001b[0m\u001b[0m\n\u001b[0m",
      "\u001b[1;31mTypeError\u001b[0m: unsupported operand type(s) for +: 'int' and 'str'"
     ]
    }
   ],
   "source": [
    "# 숫자와 문자열 연결\n",
    "a=[1,2,3]\n",
    "print(a[2]+\"hi\") # 에러"
   ]
  },
  {
   "cell_type": "code",
   "execution_count": 7,
   "metadata": {},
   "outputs": [
    {
     "name": "stdout",
     "output_type": "stream",
     "text": [
      "3hi\n"
     ]
    }
   ],
   "source": [
    "# 숫자와 문자열 연결\n",
    "a=[1,2,3]\n",
    "print(str(a[2])+\"hi\") # 에러"
   ]
  },
  {
   "cell_type": "code",
   "execution_count": 14,
   "metadata": {},
   "outputs": [
    {
     "name": "stdout",
     "output_type": "stream",
     "text": [
      "[2]\n",
      "[1, 'a', 'b', 'c', 3]\n",
      "[1, ['a', 'b', 'c'], 3]\n"
     ]
    }
   ],
   "source": [
    "a=[1,2,3]\n",
    "print(a[1:2])\n",
    "\n",
    "# a[1]에서 a[2] 사이의 값을 바꿈\n",
    "a[1:2]=['a','b','c']\n",
    "print(a)\n",
    "\n",
    "a=[1,2,3]\n",
    "a[1]=['a','b','c'] # a[1]을 변경\n",
    "print(a)"
   ]
  },
  {
   "cell_type": "code",
   "execution_count": 15,
   "metadata": {},
   "outputs": [
    {
     "name": "stdout",
     "output_type": "stream",
     "text": [
      "[1]\n",
      "[1, 3]\n"
     ]
    }
   ],
   "source": [
    "# 리스트 삭제\n",
    "a=[1,2,3]\n",
    "a[1:3]=[] # a[1]부터 a[3]전까지 빈 리스트로\n",
    "print(a)\n",
    "\n",
    "a=[1,2,3]\n",
    "del a[1] # a[1]을 지목해서 삭제\n",
    "print(a)"
   ]
  },
  {
   "cell_type": "code",
   "execution_count": 16,
   "metadata": {},
   "outputs": [
    {
     "name": "stdout",
     "output_type": "stream",
     "text": [
      "[1, 2, 3, 4]\n",
      "[1, 2, 3, 4, [5, 6]]\n"
     ]
    }
   ],
   "source": [
    "# 리스트에 요소 추가 (append)\n",
    "a=[1,2,3]\n",
    "a.append(4)\n",
    "print(a)\n",
    "\n",
    "# 원소뿐만 아니라 리스트도 추가 가능\n",
    "a.append([5,6])\n",
    "print(a)"
   ]
  },
  {
   "cell_type": "code",
   "execution_count": 18,
   "metadata": {},
   "outputs": [
    {
     "name": "stdout",
     "output_type": "stream",
     "text": [
      "[1, 2, 3, 4]\n",
      "['a', 'b', 'c']\n"
     ]
    }
   ],
   "source": [
    "# 리스트의 정렬 (sort)\n",
    "a=[1,4,3,2]\n",
    "a.sort()\n",
    "print(a)\n",
    "\n",
    "a=['c','b','a']\n",
    "a.sort()\n",
    "print(a)"
   ]
  },
  {
   "cell_type": "code",
   "execution_count": 19,
   "metadata": {},
   "outputs": [
    {
     "name": "stdout",
     "output_type": "stream",
     "text": [
      "['a', 'd', 'b', 'c']\n"
     ]
    }
   ],
   "source": [
    "# 리스트 순서 뒤집기 (reverse)\n",
    "a=['c','b','d','a']\n",
    "a.reverse()\n",
    "print(a)"
   ]
  },
  {
   "cell_type": "code",
   "execution_count": 21,
   "metadata": {},
   "outputs": [
    {
     "name": "stdout",
     "output_type": "stream",
     "text": [
      "2\n",
      "0\n",
      "error\n"
     ]
    }
   ],
   "source": [
    "# 인덱스 반환 ( index(원소) )\n",
    "a=[1,2,3]\n",
    "print(a.index(3))\n",
    "print(a.index(1))\n",
    "# print(a.index(0)) # 없는 원소이므로 에러\n",
    "try:\n",
    "    print(a.index(0))\n",
    "except:\n",
    "    print('error')"
   ]
  },
  {
   "cell_type": "code",
   "execution_count": 22,
   "metadata": {},
   "outputs": [
    {
     "name": "stdout",
     "output_type": "stream",
     "text": [
      "[1, 2, 4, 5]\n",
      "[1, 2, 3, 4, 5]\n"
     ]
    }
   ],
   "source": [
    "# 리스트에 원소 삽입 (insert)\n",
    "a=[1,2,4,5]\n",
    "print(a)\n",
    "a.insert(2,3) # 인덱스2에 원소3을 insert\n",
    "print(a)"
   ]
  },
  {
   "cell_type": "code",
   "execution_count": 23,
   "metadata": {},
   "outputs": [
    {
     "name": "stdout",
     "output_type": "stream",
     "text": [
      "[1, 2, 1, 2, 3]\n"
     ]
    }
   ],
   "source": [
    "# 리스트 원소 제거 (remove)\n",
    "a=[1,2,3,1,2,3]\n",
    "a.remove(3) # 처음 나오는 3만 제거\n",
    "print(a)"
   ]
  },
  {
   "cell_type": "code",
   "execution_count": 24,
   "metadata": {},
   "outputs": [
    {
     "name": "stdout",
     "output_type": "stream",
     "text": [
      "[1, 2]\n",
      "3\n"
     ]
    }
   ],
   "source": [
    "# 리스트 원소 끄집어내기 (pop)\n",
    "# pop : 맨 마지막 원소를 끄집어내고 그 원소는 리스트에서 삭제\n",
    "a=[1,2,3]\n",
    "b=a.pop()\n",
    "print(a)\n",
    "print(b)"
   ]
  },
  {
   "cell_type": "code",
   "execution_count": 26,
   "metadata": {},
   "outputs": [
    {
     "name": "stdout",
     "output_type": "stream",
     "text": [
      "3\n"
     ]
    }
   ],
   "source": [
    "# 리스트에 포함된 원소 x의 개수 세기 (count)\n",
    "a=[1,2,3,1,1,3]\n",
    "print(a.count(1))"
   ]
  },
  {
   "cell_type": "code",
   "execution_count": 27,
   "metadata": {},
   "outputs": [
    {
     "name": "stdout",
     "output_type": "stream",
     "text": [
      "[1, 2, 3, 4, 5]\n"
     ]
    }
   ],
   "source": [
    "# 리스트 확장 (extend)\n",
    "a=[1,2,3]\n",
    "a.extend([4,5]) # 파라미터로 리스트가 들어가며 a리스트에 파라미터 리스트의 원소들이 추가 (append와 유사하나 다름)\n",
    "print(a)"
   ]
  },
  {
   "cell_type": "code",
   "execution_count": 29,
   "metadata": {},
   "outputs": [
    {
     "name": "stdout",
     "output_type": "stream",
     "text": [
      "True\n",
      "False\n"
     ]
    }
   ],
   "source": [
    "# in & not in (True or False)\n",
    "a=[1,2,3,4,5]\n",
    "\n",
    "#a에 2가 포함되어 있나?\n",
    "result=2 in a\n",
    "print(result)\n",
    "\n",
    "#a에 2가 포함되어 있지 않나?\n",
    "result=2 not in a\n",
    "print(result)"
   ]
  },
  {
   "cell_type": "code",
   "execution_count": 31,
   "metadata": {},
   "outputs": [
    {
     "name": "stdout",
     "output_type": "stream",
     "text": [
      "error\n",
      "error\n"
     ]
    }
   ],
   "source": [
    "# 튜플 자료형\n",
    "# 리스트는 []를 사용, 튜플은 ()를 사용\n",
    "# 리스트는 수정, 삭제 가능하지만 튜플은 수정, 삭제 불가능\n",
    "\n",
    "t1=(1,2,'a','b')\n",
    "try :\n",
    "    t1[0]='c' # 수정 불가\n",
    "except:\n",
    "    print('error')\n",
    "    t1=(1,2,'a','b')\n",
    "try :\n",
    "    del t1[0] # 삭제 불가\n",
    "except:\n",
    "    print('error')"
   ]
  },
  {
   "cell_type": "code",
   "execution_count": 33,
   "metadata": {},
   "outputs": [
    {
     "name": "stdout",
     "output_type": "stream",
     "text": [
      "(1, 2, 'a', 'b')\n",
      "1\n",
      "(2, 'a', 'b')\n",
      "(1, 2, 'a', 'b', 3, 4)\n",
      "(1, 2, 'a', 'b', 1, 2, 'a', 'b', 3, 4, 3, 4, 3, 4)\n"
     ]
    }
   ],
   "source": [
    "t1=(1,2,'a','b')\n",
    "print(t1)\n",
    "print(t1[0])\n",
    "print(t1[1:])\n",
    "\n",
    "t2=(3,4)\n",
    "print(t1+t2)\n",
    "print(t1*2+t2*3)"
   ]
  },
  {
   "cell_type": "code",
   "execution_count": 40,
   "metadata": {},
   "outputs": [
    {
     "ename": "ValueError",
     "evalue": "too many values to unpack (expected 2)",
     "output_type": "error",
     "traceback": [
      "\u001b[1;31m---------------------------------------------------------------------------\u001b[0m",
      "\u001b[1;31mValueError\u001b[0m                                Traceback (most recent call last)",
      "\u001b[1;32m<ipython-input-40-94a060e8bbf4>\u001b[0m in \u001b[0;36m<module>\u001b[1;34m\u001b[0m\n\u001b[0;32m      1\u001b[0m \u001b[1;31m# 튜플 해체하기\u001b[0m\u001b[1;33m\u001b[0m\u001b[1;33m\u001b[0m\u001b[1;33m\u001b[0m\u001b[0m\n\u001b[0;32m      2\u001b[0m \u001b[0mt1\u001b[0m\u001b[1;33m=\u001b[0m\u001b[1;33m(\u001b[0m\u001b[1;36m1\u001b[0m\u001b[1;33m,\u001b[0m\u001b[1;36m2\u001b[0m\u001b[1;33m,\u001b[0m\u001b[1;36m3\u001b[0m\u001b[1;33m)\u001b[0m\u001b[1;33m\u001b[0m\u001b[1;33m\u001b[0m\u001b[0m\n\u001b[1;32m----> 3\u001b[1;33m \u001b[0mn1\u001b[0m\u001b[1;33m,\u001b[0m\u001b[0mn2\u001b[0m\u001b[1;33m=\u001b[0m\u001b[0mt1\u001b[0m \u001b[1;31m# 튜플의 값을 각각의 변수에 저장\u001b[0m\u001b[1;33m\u001b[0m\u001b[1;33m\u001b[0m\u001b[0m\n\u001b[0m\u001b[0;32m      4\u001b[0m \u001b[0mprint\u001b[0m\u001b[1;33m(\u001b[0m\u001b[1;34m\"{0} {1} {2}\"\u001b[0m\u001b[1;33m.\u001b[0m\u001b[0mformat\u001b[0m\u001b[1;33m(\u001b[0m\u001b[0mn1\u001b[0m\u001b[1;33m,\u001b[0m\u001b[0mn2\u001b[0m\u001b[1;33m,\u001b[0m\u001b[0mn3\u001b[0m\u001b[1;33m)\u001b[0m\u001b[1;33m)\u001b[0m\u001b[1;33m\u001b[0m\u001b[1;33m\u001b[0m\u001b[0m\n\u001b[0;32m      5\u001b[0m \u001b[1;33m\u001b[0m\u001b[0m\n",
      "\u001b[1;31mValueError\u001b[0m: too many values to unpack (expected 2)"
     ]
    }
   ],
   "source": [
    "# 튜플 해체하기\n",
    "t1=(1,2,3)\n",
    "n1,n2,n3=t1 # 튜플의 값을 각각의 변수에 저장 (튜플 원소의 개수와 변수의 개수가 반드시 같아야 한다.)\n",
    "print(\"{0} {1} {2}\".format(n1,n2,n3))\n",
    "\n",
    "# 변수 값 교환하기\n",
    "n1,n2=n2,n1\n",
    "print(\"{} {}\".format(n1,n2))"
   ]
  },
  {
   "cell_type": "code",
   "execution_count": 41,
   "metadata": {},
   "outputs": [
    {
     "name": "stdout",
     "output_type": "stream",
     "text": [
      "(1, 2, 3)\n",
      "['x', 'y', 'z']\n"
     ]
    }
   ],
   "source": [
    "# 튜플과 리스트의 변환\n",
    "my_list=[1,2,3]\n",
    "my_tuple=('x','y','z')\n",
    "\n",
    "print(tuple(my_list))# 리스트를 튜플로\n",
    "print(list(my_tuple))# 튜플을 리스트로"
   ]
  },
  {
   "cell_type": "code",
   "execution_count": 42,
   "metadata": {},
   "outputs": [
    {
     "name": "stdout",
     "output_type": "stream",
     "text": [
      "{1: 'a', 2: 'b'}\n"
     ]
    }
   ],
   "source": [
    "# 딕셔너리 자료형\n",
    "# key와 value를 한 쌍으로 갖는 자료형 (자바의 map과 비슷함)\n",
    "# {key: value}\n",
    "a={1: 'a'}\n",
    "a[2]='b'\n",
    "print(a)"
   ]
  },
  {
   "cell_type": "code",
   "execution_count": 43,
   "metadata": {},
   "outputs": [
    {
     "name": "stdout",
     "output_type": "stream",
     "text": [
      "김철수\n",
      "김철수\n",
      "01099999999\n",
      "01099999999\n",
      "901231\n",
      "901231\n"
     ]
    }
   ],
   "source": [
    "a={'name': '김철수', 'phone': '01099999999', 'birth': '901231'}\n",
    "print(a['name'])\n",
    "print(a.get('name'))\n",
    "print(a['phone'])\n",
    "print(a.get('phone'))\n",
    "print(a['birth'])\n",
    "print(a.get('birth'))"
   ]
  },
  {
   "cell_type": "code",
   "execution_count": 47,
   "metadata": {},
   "outputs": [
    {
     "name": "stdout",
     "output_type": "stream",
     "text": [
      "dict_values(['김철수', '01099999999', '901231'])\n",
      "dict_keys(['name', 'phone', 'birth'])\n"
     ]
    }
   ],
   "source": [
    "a={'name': '김철수', 'phone': '01099999999', 'birth': '901231'}\n",
    "print(a.values()) # value 리스트 만들기 (values)\n",
    "print(a.keys()) # key 리스트 만들기 (keys)"
   ]
  },
  {
   "cell_type": "code",
   "execution_count": 45,
   "metadata": {},
   "outputs": [
    {
     "name": "stdout",
     "output_type": "stream",
     "text": [
      "dict_items([('name', '김철수'), ('phone', '01099999999'), ('birth', '901231')])\n"
     ]
    }
   ],
   "source": [
    "# 딕셔너리의 아이템 (items)\n",
    "a={'name': '김철수', 'phone': '01099999999', 'birth': '901231'}\n",
    "# 튜플 형식의 키-값 쌍으로 구성된 리스트가 리턴됨\n",
    "print(a.items())"
   ]
  },
  {
   "cell_type": "code",
   "execution_count": 52,
   "metadata": {},
   "outputs": [
    {
     "name": "stdout",
     "output_type": "stream",
     "text": [
      "True\n"
     ]
    },
    {
     "data": {
      "text/plain": [
       "False"
      ]
     },
     "execution_count": 52,
     "metadata": {},
     "output_type": "execute_result"
    }
   ],
   "source": [
    "# 해당 key가 딕셔너리 안에 있는지 조사하기 (in)\n",
    "a={'name': '김철수', 'phone': '01099999999', 'birth': '901231'}\n",
    "b='name' in a\n",
    "print(b)\n",
    "b='email' in a\n",
    "print(b)"
   ]
  },
  {
   "cell_type": "code",
   "execution_count": 53,
   "metadata": {},
   "outputs": [
    {
     "data": {
      "text/plain": [
       "{1, 2, 3}"
      ]
     },
     "execution_count": 53,
     "metadata": {},
     "output_type": "execute_result"
    }
   ],
   "source": [
    "# 집합 자료형 (set) - 중복값을 허용하지 않고, 순서가 없음\n",
    "s1=set([1,2,3])\n",
    "s1"
   ]
  },
  {
   "cell_type": "code",
   "execution_count": 58,
   "metadata": {},
   "outputs": [
    {
     "name": "stdout",
     "output_type": "stream",
     "text": [
      "{4, 5, 6}\n",
      "{4, 5, 6}\n",
      "{1, 2, 3, 4, 5, 6, 7, 8, 9}\n",
      "{1, 2, 3, 4, 5, 6, 7, 8, 9}\n",
      "{1, 2, 3}\n",
      "{1, 2, 3}\n"
     ]
    }
   ],
   "source": [
    "# 교집합 (intersection)\n",
    "s1=set([1,2,3,4,5,6])\n",
    "s2=set([7,8,9,4,5,6])\n",
    "s3=s1&s2\n",
    "print(s3)\n",
    "s3=s1.intersection(s2)\n",
    "print(s3)\n",
    "\n",
    "# 합집합 (union)\n",
    "s4=s1|s2\n",
    "print(s4)\n",
    "s4=s1.union(s2)\n",
    "print(s4)\n",
    "\n",
    "# 차집합 (difference)\n",
    "s5=s1-s2\n",
    "print(s5)\n",
    "s5=s1.difference(s2)\n",
    "print(s5)\n",
    "\n",
    "# 연산자, 함수 둘 다 존재"
   ]
  },
  {
   "cell_type": "code",
   "execution_count": 96,
   "metadata": {},
   "outputs": [
    {
     "name": "stdout",
     "output_type": "stream",
     "text": [
      "오늘 : 2021-11-11\n",
      "연도 : 2021\n",
      "월 : 11\n",
      "일 : 11\n",
      "날짜시간 : 2021-11-11 12:57:36.132772\n"
     ]
    }
   ],
   "source": [
    "# 날짜\n",
    "# import 모듈 : 해당 모듈 전체를 가져옴\n",
    "# from 모듈 import method/변수 : 해당 모듈 내에 있는 특정 method나 변수만 가져옴\n",
    "\n",
    "from datetime import date, time, datetime, timedelta\n",
    "\n",
    "# 오늘 날짜 구하기 (today)\n",
    "today=date.today()\n",
    "print(\"오늘 : {}\".format(today))\n",
    "\n",
    "print(\"연도 : {}\".format(today.year))\n",
    "print(\"월 : {0}\".format(today.month))\n",
    "print(\"일 : {}\".format(today.day))\n",
    "\n",
    "# 날짜 시간 구하기\n",
    "current_datetime=datetime.today()\n",
    "print(\"날짜시간 : {0}\".format(current_datetime))"
   ]
  },
  {
   "cell_type": "code",
   "execution_count": 100,
   "metadata": {},
   "outputs": [
    {
     "name": "stdout",
     "output_type": "stream",
     "text": [
      "어제 : 2021-11-10\n",
      "1주 전 : 2021-11-04\n",
      "한 달 전 : 2021-10-12\n",
      "-1일 57600초\n"
     ]
    }
   ],
   "source": [
    "todya=date.today()\n",
    "\n",
    "days=timedelta(days=-1)\n",
    "print(\"어제 : {0!s}\".format(today+days))\n",
    "\n",
    "days=timedelta(days=-7)\n",
    "print(\"1주 전 : {0!s}\".format(today+days))\n",
    "\n",
    "days=timedelta(days=-30)\n",
    "print(\"한 달 전 : {0!s}\".format(today+days))\n",
    "\n",
    "hours=timedelta(hours=-8)\n",
    "print(\"{0!s}일 {1!s}초\".format(hours.days, hours.seconds))"
   ]
  },
  {
   "cell_type": "code",
   "execution_count": 103,
   "metadata": {},
   "outputs": [
    {
     "name": "stdout",
     "output_type": "stream",
     "text": [
      "11/11/2021\n",
      "2021-11-11  13:08:22\n",
      "21-11-11  01:08:22\n"
     ]
    }
   ],
   "source": [
    "# 날짜 출력 형식\n",
    "today=datetime.today()\n",
    "print(\"{}\".format(today.strftime('%m/%d/%Y')))\n",
    "print(\"{}\".format(today.strftime('%Y-%m-%d  %H:%M:%S')))\n",
    "# 연도 Y(4자리), y(2자리)\n",
    "# 시간 H(24시간제), I(12시간제)\n",
    "print(\"{}\".format(today.strftime('%y-%m-%d  %I:%M:%S')))"
   ]
  },
  {
   "cell_type": "code",
   "execution_count": 104,
   "metadata": {},
   "outputs": [
    {
     "name": "stdout",
     "output_type": "stream",
     "text": [
      "error\n",
      "<class 'datetime.datetime'>\n",
      "2015-04-15 12:23:38\n",
      "2015-04-14 12:23:38\n"
     ]
    }
   ],
   "source": [
    "# 문자열을 날짜 형식으로 변환\n",
    "dateStr='2015-04-15 12:23:38'\n",
    "days=timedelta(days=-1)\n",
    "try:\n",
    "    print(dateStr+days) # 에러 : 스트링과 날짜의 연산이기 때문\n",
    "except:\n",
    "    print('error')\n",
    "myDate=datetime.strptime(dateStr, '%Y-%m-%d %H:%M:%S') # dateStr에서 parsing\n",
    "print(type(myDate)) # 날짜 형식으로 바뀐 것 확인\n",
    "print(myDate)\n",
    "print(myDate+days) # 날짜 연산 가능"
   ]
  },
  {
   "cell_type": "code",
   "execution_count": 106,
   "metadata": {},
   "outputs": [
    {
     "name": "stdout",
     "output_type": "stream",
     "text": [
      "1636604199.0287673\n",
      "Thu Nov 11 13:16:39 2021\n"
     ]
    }
   ],
   "source": [
    "import time\n",
    "\n",
    "# 유닉스 시간, 1970년 1월 1일을 기준으로 경과한 시간을 초 단위로 표시\n",
    "print(time.time())\n",
    "\n",
    "#문자열로 표현한 시간\n",
    "t=time.time()\n",
    "print(time.ctime(t))"
   ]
  },
  {
   "cell_type": "code",
   "execution_count": 115,
   "metadata": {},
   "outputs": [
    {
     "name": "stdout",
     "output_type": "stream",
     "text": [
      "0 1 2 3 4 5 6 7 8 9 10 11 12 13 14 15 16 17 18 19 20 21 22 23 24 25 26 27 28 29 30 31 32 33 34 35 36 37 38 39 40 41 42 43 44 45 46 47 48 49 50 51 52 53 54 55 56 57 58 59 60 61 62 63 64 65 66 67 68 69 70 71 72 73 74 75 76 77 78 79 80 81 82 83 84 85 86 87 88 89 90 91 92 93 94 95 96 97 98 99 100 101 102 103 104 105 106 107 108 109 110 111 112 113 114 115 116 117 118 119 120 121 122 123 124 125 126 127 128 129 130 131 132 133 134 135 136 137 138 139 140 141 142 143 144 145 146 147 148 149 150 151 152 153 154 155 156 157 158 159 160 161 162 163 164 165 166 167 168 169 170 171 172 173 174 175 176 177 178 179 180 181 182 183 184 185 186 187 188 189 190 191 192 193 194 195 196 197 198 199 200 201 202 203 204 205 206 207 208 209 210 211 212 213 214 215 216 217 218 219 220 221 222 223 224 225 226 227 228 229 230 231 232 233 234 235 236 237 238 239 240 241 242 243 244 245 246 247 248 249 250 251 252 253 254 255 256 257 258 259 260 261 262 263 264 265 266 267 268 269 270 271 272 273 274 275 276 277 278 279 280 281 282 283 284 285 286 287 288 289 290 291 292 293 294 295 296 297 298 299 300 301 302 303 304 305 306 307 308 309 310 311 312 313 314 315 316 317 318 319 320 321 322 323 324 325 326 327 328 329 330 331 332 333 334 335 336 337 338 339 340 341 342 343 344 345 346 347 348 349 350 351 352 353 354 355 356 357 358 359 360 361 362 363 364 365 366 367 368 369 370 371 372 373 374 375 376 377 378 379 380 381 382 383 384 385 386 387 388 389 390 391 392 393 394 395 396 397 398 399 400 401 402 403 404 405 406 407 408 409 410 411 412 413 414 415 416 417 418 419 420 421 422 423 424 425 426 427 428 429 430 431 432 433 434 435 436 437 438 439 440 441 442 443 444 445 446 447 448 449 450 451 452 453 454 455 456 457 458 459 460 461 462 463 464 465 466 467 468 469 470 471 472 473 474 475 476 477 478 479 480 481 482 483 484 485 486 487 488 489 490 491 492 493 494 495 496 497 498 499 500 501 502 503 504 505 506 507 508 509 510 511 512 513 514 515 516 517 518 519 520 521 522 523 524 525 526 527 528 529 530 531 532 533 534 535 536 537 538 539 540 541 542 543 544 545 546 547 548 549 550 551 552 553 554 555 556 557 558 559 560 561 562 563 564 565 566 567 568 569 570 571 572 573 574 575 576 577 578 579 580 581 582 583 584 585 586 587 588 589 590 591 592 593 594 595 596 597 598 599 600 601 602 603 604 605 606 607 608 609 610 611 612 613 614 615 616 617 618 619 620 621 622 623 624 625 626 627 628 629 630 631 632 633 634 635 636 637 638 639 640 641 642 643 644 645 646 647 648 649 650 651 652 653 654 655 656 657 658 659 660 661 662 663 664 665 666 667 668 669 670 671 672 673 674 675 676 677 678 679 680 681 682 683 684 685 686 687 688 689 690 691 692 693 694 695 696 697 698 699 700 701 702 703 704 705 706 707 708 709 710 711 712 713 714 715 716 717 718 719 720 721 722 723 724 725 726 727 728 729 730 731 732 733 734 735 736 737 738 739 740 741 742 743 744 745 746 747 748 749 750 751 752 753 754 755 756 757 758 759 760 761 762 763 764 765 766 767 768 769 770 771 772 773 774 775 776 777 778 779 780 781 782 783 784 785 786 787 788 789 790 791 792 793 794 795 796 797 798 799 800 801 802 803 804 805 806 807 808 809 810 811 812 813 814 815 816 817 818 819 820 821 822 823 824 825 826 827 828 829 830 831 832 833 834 835 836 837 838 839 840 841 842 843 844 845 846 847 848 849 850 851 852 853 854 855 856 857 858 859 860 861 862 863 864 865 866 867 868 869 870 871 872 873 874 875 876 877 878 879 880 881 882 883 884 885 886 887 888 889 890 891 892 893 894 895 896 897 898 899 900 901 902 903 904 905 906 907 908 909 910 911 912 913 914 915 916 917 918 919 920 921 922 923 924 925 926 927 928 929 930 931 932 933 934 935 936 937 938 939 940 941 942 943 944 945 946 947 948 949 950 951 952 953 954 955 956 957 958 959 960 961 962 963 964 965 966 967 968 969 970 971 972 973 974 975 976 977 978 979 980 981 982 983 984 985 986 987 988 989 990 991 992 993 994 995 996 997 998 999 for 문이 돌아가는 데 걸린 시간 : 0.027948856353759766\n"
     ]
    }
   ],
   "source": [
    "import time\n",
    "\n",
    "# 실행 시간 측정\n",
    "start= time.time()\n",
    "for a in range(1000):\n",
    "    print(a,end=\" \")\n",
    "end=time.time()\n",
    "print()\n",
    "print(\"for 문이 돌아가는 데 걸린 시간 : \"+str(end-start))"
   ]
  },
  {
   "cell_type": "code",
   "execution_count": 1,
   "metadata": {},
   "outputs": [
    {
     "name": "stdout",
     "output_type": "stream",
     "text": [
      "1\n",
      "2\n",
      "7\n"
     ]
    }
   ],
   "source": [
    "import time\n",
    "\n",
    "print('1')\n",
    "time.sleep(1) # 1초 멈춤\n",
    "print('2')\n",
    "time.sleep(5) # 5초 멈춤\n",
    "print('7')"
   ]
  }
 ],
 "metadata": {
  "interpreter": {
   "hash": "7b4b4feff2f24a0f0a34464dbe537a36fda679851528fb8735cb41fa49dffb2d"
  },
  "kernelspec": {
   "display_name": "Python 3.8.8 64-bit ('base': conda)",
   "language": "python",
   "name": "python3"
  },
  "language_info": {
   "codemirror_mode": {
    "name": "ipython",
    "version": 3
   },
   "file_extension": ".py",
   "mimetype": "text/x-python",
   "name": "python",
   "nbconvert_exporter": "python",
   "pygments_lexer": "ipython3",
   "version": "3.8.8"
  },
  "orig_nbformat": 4
 },
 "nbformat": 4,
 "nbformat_minor": 2
}
