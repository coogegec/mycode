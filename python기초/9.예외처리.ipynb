{
 "cells": [
  {
   "cell_type": "code",
   "execution_count": 1,
   "metadata": {},
   "outputs": [
    {
     "ename": "ZeroDivisionError",
     "evalue": "division by zero",
     "output_type": "error",
     "traceback": [
      "\u001b[1;31m---------------------------------------------------------------------------\u001b[0m",
      "\u001b[1;31mZeroDivisionError\u001b[0m                         Traceback (most recent call last)",
      "\u001b[1;32m<ipython-input-1-221068dc2815>\u001b[0m in \u001b[0;36m<module>\u001b[1;34m\u001b[0m\n\u001b[1;32m----> 1\u001b[1;33m \u001b[1;36m4\u001b[0m\u001b[1;33m/\u001b[0m\u001b[1;36m0\u001b[0m\u001b[1;33m\u001b[0m\u001b[1;33m\u001b[0m\u001b[0m\n\u001b[0m",
      "\u001b[1;31mZeroDivisionError\u001b[0m: division by zero"
     ]
    }
   ],
   "source": [
    "# 예외 - 코드 실행 중에 에러가 발생하는 경우\n",
    "4/0"
   ]
  },
  {
   "cell_type": "code",
   "execution_count": 3,
   "metadata": {},
   "outputs": [
    {
     "name": "stdout",
     "output_type": "stream",
     "text": [
      "division by zero\n",
      "종료\n"
     ]
    }
   ],
   "source": [
    "try:\n",
    "    4/0\n",
    "except ZeroDivisionError as e:\n",
    "    print(e)\n",
    "\n",
    "print('종료')"
   ]
  },
  {
   "cell_type": "code",
   "execution_count": 5,
   "metadata": {},
   "outputs": [
    {
     "name": "stdout",
     "output_type": "stream",
     "text": [
      "종료하려면 q를 입력하세요.\n",
      "올바른 값을 입력하세요.\n",
      "프로그램을 종료합니다.\n"
     ]
    }
   ],
   "source": [
    "print('종료하려면 q를 입력하세요.')\n",
    "while 1:\n",
    "    num1=input(\"\\n분자 : \")\n",
    "    if num1=='q':\n",
    "        break\n",
    "    num2=input(\"\\n분모 : \")\n",
    "    try:\n",
    "        result=int(num1)/int(num2)\n",
    "    except ZeroDivisionError:\n",
    "        print(\"분모에 0이 올 수 없습니다.\")\n",
    "    except:\n",
    "        print(\"올바른 값을 입력하세요.\")\n",
    "    else:\n",
    "        print(result)\n",
    "print(\"프로그램을 종료합니다.\")"
   ]
  },
  {
   "cell_type": "code",
   "execution_count": 6,
   "metadata": {},
   "outputs": [
    {
     "name": "stdout",
     "output_type": "stream",
     "text": [
      "start\n",
      "TypeError : unsupported operand type(s) for +: 'int' and 'str'\n",
      "end\n"
     ]
    }
   ],
   "source": [
    "def exception_test():\n",
    "    print('start')\n",
    "    try:\n",
    "        print(2+'2')\n",
    "    except TypeError as e:\n",
    "        print(f'TypeError : {e}') # 자세한 에러 메시지 출력\n",
    "    print('end')\n",
    "\n",
    "exception_test()"
   ]
  },
  {
   "cell_type": "code",
   "execution_count": 7,
   "metadata": {},
   "outputs": [
    {
     "name": "stdout",
     "output_type": "stream",
     "text": [
      "start\n",
      "end\n"
     ]
    },
    {
     "name": "stderr",
     "output_type": "stream",
     "text": [
      "Traceback (most recent call last):\n",
      "  File \"<ipython-input-7-7a80b49516ff>\", line 5, in exception_test\n",
      "    print(2+'2')\n",
      "TypeError: unsupported operand type(s) for +: 'int' and 'str'\n"
     ]
    }
   ],
   "source": [
    "import traceback\n",
    "def exception_test():\n",
    "    print('start')\n",
    "    try:\n",
    "        print(2+'2')\n",
    "    except TypeError as e:\n",
    "        traceback.print_exc() # 트레이스백 메시지 출력\n",
    "    print('end')\n",
    "\n",
    "exception_test()"
   ]
  },
  {
   "cell_type": "code",
   "execution_count": 9,
   "metadata": {},
   "outputs": [
    {
     "name": "stdout",
     "output_type": "stream",
     "text": [
      "111\n",
      "222\n",
      "333\n",
      "444\n",
      "555"
     ]
    }
   ],
   "source": [
    "try:\n",
    "    f=open('c:/python/temp/test.txt','r')\n",
    "except FileNotFoundError as e:\n",
    "    print(e)\n",
    "else:\n",
    "    while 1:\n",
    "        line=f.readline()\n",
    "        if not line: break\n",
    "        print(line,end='')\n",
    "    f.close()"
   ]
  },
  {
   "cell_type": "code",
   "execution_count": 11,
   "metadata": {},
   "outputs": [
    {
     "name": "stdout",
     "output_type": "stream",
     "text": [
      "파일 이름 : c:/data/text/alice.txt \n",
      "단어개수 : 29461\n"
     ]
    }
   ],
   "source": [
    "# 예외 처리가 되지 않았으므로 파일 경로가 잘못될 경우 예외가 발생\n",
    "filename='c:/data/text/alice.txt'\n",
    "with open(filename) as file:\n",
    "    contents=file.read()\n",
    "    words=contents.split()\n",
    "    num=len(words)\n",
    "    print(\"파일 이름 : \"+filename,\"\\n단어개수 : \"+str(num))"
   ]
  },
  {
   "cell_type": "code",
   "execution_count": 12,
   "metadata": {},
   "outputs": [
    {
     "name": "stdout",
     "output_type": "stream",
     "text": [
      "파일 이름 : c:/data/text/alice.txt \n",
      "단어개수 : 29461\n"
     ]
    }
   ],
   "source": [
    "# 예외 처리한 코드\n",
    "filename='c:/data/text/alice.txt'\n",
    "try:\n",
    "    with open(filename) as file:\n",
    "        contents=file.read()\n",
    "except FileNotFoundError as e:\n",
    "    print(e)\n",
    "    msg=\"파일을 찾을 수 없습니다.\"\n",
    "    print(msg)\n",
    "else:    \n",
    "    words=contents.split()\n",
    "    num=len(words)\n",
    "    print(\"파일 이름 : \"+filename,\"\\n단어개수 : \"+str(num))"
   ]
  },
  {
   "cell_type": "code",
   "execution_count": 15,
   "metadata": {},
   "outputs": [
    {
     "name": "stdout",
     "output_type": "stream",
     "text": [
      "인덱싱 할 수 없습니다.\n",
      "종료\n"
     ]
    }
   ],
   "source": [
    "try:\n",
    "    a=[1,2]\n",
    "    4/0 # 산술연산 오류\n",
    "    print(a[2]) # 인덱스 오류\n",
    "except ZeroDivisionError:\n",
    "    print('0으로 나눌 수 없습니다.')\n",
    "except IndexError:\n",
    "    print('인덱싱 할 수 없습니다.') \n",
    "except Exception:\n",
    "    print('기타 예외입니다.')\n",
    "\n",
    "print('종료')"
   ]
  },
  {
   "cell_type": "code",
   "execution_count": 19,
   "metadata": {},
   "outputs": [
    {
     "name": "stdout",
     "output_type": "stream",
     "text": [
      "111\n",
      "222\n",
      "333\n",
      "444\n",
      "555\n",
      "종료되었습니다.\n"
     ]
    }
   ],
   "source": [
    "try:\n",
    "    f=open('c:/python/temp/test.txt','r')\n",
    "except FileNotFoundError as e:\n",
    "    print(str(e))\n",
    "else:\n",
    "    while 1:\n",
    "        line=f.readline()\n",
    "        if not line: break\n",
    "        print(line,end='')\n",
    "    f.close()\n",
    "finally:\n",
    "    print('\\n종료되었습니다.')"
   ]
  },
  {
   "cell_type": "code",
   "execution_count": 18,
   "metadata": {},
   "outputs": [
    {
     "name": "stdout",
     "output_type": "stream",
     "text": [
      "파일명 : alice.txt\n",
      "단어수 : 29461\n",
      "\n",
      "파일명 : moby_dick.txt\n",
      "단어수 : 215136\n",
      "\n",
      "파일명 : little_women.txt\n",
      "단어수 : 189079\n",
      "\n"
     ]
    }
   ],
   "source": [
    "def count_words(filename):\n",
    "    try:\n",
    "        with open(\"c:/data/text/\"+filename) as f_obj:\n",
    "            contents=f_obj.read()\n",
    "    except FileNotFoundError:\n",
    "        pass\n",
    "    else:\n",
    "        words=contents.split()\n",
    "        num_words=len(words)\n",
    "        print(f'파일명 : {filename}\\n단어수 : {num_words}\\n')\n",
    "filenames=['alice.txt', 'moby_dick.txt', 'little_women.txt']\n",
    "for filename in filenames:\n",
    "    count_words(filename)"
   ]
  }
 ],
 "metadata": {
  "interpreter": {
   "hash": "247ab06e135bb35fa78c5eff31b2a9a0050dcb5fb773c2631d2a29ac689eeccb"
  },
  "kernelspec": {
   "display_name": "Python 3.9.5 64-bit",
   "language": "python",
   "name": "python3"
  },
  "language_info": {
   "codemirror_mode": {
    "name": "ipython",
    "version": 3
   },
   "file_extension": ".py",
   "mimetype": "text/x-python",
   "name": "python",
   "nbconvert_exporter": "python",
   "pygments_lexer": "ipython3",
   "version": "3.8.8"
  },
  "orig_nbformat": 4
 },
 "nbformat": 4,
 "nbformat_minor": 2
}
