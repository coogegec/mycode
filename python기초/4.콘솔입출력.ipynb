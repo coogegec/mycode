{
 "cells": [
  {
   "cell_type": "code",
   "execution_count": 2,
   "metadata": {},
   "outputs": [
    {
     "name": "stdout",
     "output_type": "stream",
     "text": [
      "결과 안녕하세요\n"
     ]
    }
   ],
   "source": [
    "a=input('입력하세요 : ')\n",
    "print('결과',a)"
   ]
  },
  {
   "cell_type": "code",
   "execution_count": 7,
   "metadata": {},
   "outputs": [
    {
     "name": "stdout",
     "output_type": "stream",
     "text": [
      "<class 'str'>\n",
      "<class 'int'>\n"
     ]
    }
   ],
   "source": [
    "dan=input('단을 입력하세요 : ')\n",
    "print(type(dan))\n",
    "dan=eval(input('단을 입력하세요 : '))\n",
    "print(type(dan))"
   ]
  },
  {
   "cell_type": "code",
   "execution_count": 8,
   "metadata": {},
   "outputs": [
    {
     "name": "stdout",
     "output_type": "stream",
     "text": [
      "8  ×  1  =  8\n",
      "8  ×  2  =  16\n",
      "8  ×  3  =  24\n",
      "8  ×  4  =  32\n",
      "8  ×  5  =  40\n",
      "8  ×  6  =  48\n",
      "8  ×  7  =  56\n",
      "8  ×  8  =  64\n",
      "8  ×  9  =  72\n"
     ]
    }
   ],
   "source": [
    "dan=eval(input('단을 입력하세요 : '))\n",
    "for i in range(1,10):\n",
    "    print(dan,' × ',i,' = ',dan*i)"
   ]
  },
  {
   "cell_type": "code",
   "execution_count": null,
   "metadata": {},
   "outputs": [],
   "source": [
    "import sys\n",
    "args=sys.argv[1:]\n",
    "for i in args:\n",
    "    print(i.upper(), end=' ')"
   ]
  },
  {
   "cell_type": "code",
   "execution_count": 9,
   "metadata": {},
   "outputs": [
    {
     "name": "stdout",
     "output_type": "stream",
     "text": [
      "Hello, Kim.\n"
     ]
    }
   ],
   "source": [
    "print('Hello, {0}.'.format('Kim'))"
   ]
  },
  {
   "cell_type": "code",
   "execution_count": 10,
   "metadata": {},
   "outputs": [
    {
     "name": "stdout",
     "output_type": "stream",
     "text": [
      "Hello, Kim.\n"
     ]
    }
   ],
   "source": [
    "name=input('이름을 입력하세요 : ')\n",
    "print('Hello, {}.'.format(name))"
   ]
  },
  {
   "cell_type": "code",
   "execution_count": 11,
   "metadata": {},
   "outputs": [
    {
     "name": "stdout",
     "output_type": "stream",
     "text": [
      "김철수의 직업은 프로그래머입니다.\n"
     ]
    }
   ],
   "source": [
    "name=input('이름을 입력하세요 : ')\n",
    "job=input('직업을 입력하세요 : ')\n",
    "print('{}의 직업은 {}입니다.'.format(name,job))"
   ]
  },
  {
   "cell_type": "code",
   "execution_count": 13,
   "metadata": {},
   "outputs": [
    {
     "name": "stdout",
     "output_type": "stream",
     "text": [
      "오은환의 직업은 백수입니다.\n"
     ]
    }
   ],
   "source": [
    "name=input('이름을 입력하세요 : ')\n",
    "job=input('직업을 입력하세요 : ')\n",
    "print('{1}의 직업은 {0}입니다.'.format(job,name))"
   ]
  },
  {
   "cell_type": "code",
   "execution_count": 14,
   "metadata": {},
   "outputs": [
    {
     "name": "stdout",
     "output_type": "stream",
     "text": [
      "은환의 직업은 백수입니다.\n"
     ]
    }
   ],
   "source": [
    "name=input('이름을 입력하세요 : ')\n",
    "job=input('직업을 입력하세요 : ')\n",
    "print('{n}의 직업은 {j}입니다.'.format(j=job,n=name))"
   ]
  },
  {
   "cell_type": "code",
   "execution_count": 15,
   "metadata": {},
   "outputs": [
    {
     "name": "stdout",
     "output_type": "stream",
     "text": [
      "원주율:3.141593\n",
      "원주율:3.14\n"
     ]
    }
   ],
   "source": [
    "import math\n",
    "print('원주율:{:f}'.format(math.pi))\n",
    "print('원주율:{:.2f}'.format(math.pi))"
   ]
  },
  {
   "cell_type": "code",
   "execution_count": 19,
   "metadata": {},
   "outputs": [
    {
     "name": "stdout",
     "output_type": "stream",
     "text": [
      "10진수 : 10, 16진수(소문자) : a, 16진수(대문자) : A, 8진수 : 12, 2진수 : 1010\n",
      "10진수 : 10, 16진수(소문자) : 0xa, 16진수(대문자) : 0XA, 8진수 : 0o12, 2진수 : 0b1010\n"
     ]
    }
   ],
   "source": [
    "num=10\n",
    "a='10진수 : {0:d}, 16진수(소문자) : {0:x}, 16진수(대문자) : {0:X}, 8진수 : {0:o}, 2진수 : {0:b}'.format(num)\n",
    "print(a)\n",
    "# #을 붙이면 접두사가 추가됨\n",
    "a='10진수 : {0:d}, 16진수(소문자) : {0:#x}, 16진수(대문자) : {0:#X}, 8진수 : {0:#o}, 2진수 : {0:#b}'.format(num)\n",
    "print(a)"
   ]
  },
  {
   "cell_type": "code",
   "execution_count": 26,
   "metadata": {},
   "outputs": [
    {
     "name": "stdout",
     "output_type": "stream",
     "text": [
      "1,234,567,890\n",
      "98%\n",
      "98.15%\n"
     ]
    }
   ],
   "source": [
    "# 천단위 comma\n",
    "num=1234567890\n",
    "print('{:,}'.format(num))\n",
    "# 백분율\n",
    "num=0.9815\n",
    "print('{:.0%}'.format(num))\n",
    "print('{:.2%}'.format(num))"
   ]
  }
 ],
 "metadata": {
  "interpreter": {
   "hash": "7b4b4feff2f24a0f0a34464dbe537a36fda679851528fb8735cb41fa49dffb2d"
  },
  "kernelspec": {
   "display_name": "Python 3.8.8 64-bit ('base': conda)",
   "language": "python",
   "name": "python3"
  },
  "language_info": {
   "codemirror_mode": {
    "name": "ipython",
    "version": 3
   },
   "file_extension": ".py",
   "mimetype": "text/x-python",
   "name": "python",
   "nbconvert_exporter": "python",
   "pygments_lexer": "ipython3",
   "version": "3.8.8"
  },
  "orig_nbformat": 4
 },
 "nbformat": 4,
 "nbformat_minor": 2
}
