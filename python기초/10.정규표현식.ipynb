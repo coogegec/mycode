{
 "cells": [
  {
   "cell_type": "code",
   "execution_count": 6,
   "metadata": {},
   "outputs": [
    {
     "name": "stdout",
     "output_type": "stream",
     "text": [
      "올바른 값을 입력해주세요.\n",
      "올바른 값을 입력해주세요.\n",
      "올바른 값을 입력해주세요.\n",
      "올바른 값을 입력해주세요.\n",
      "올바른 값을 입력해주세요.\n",
      "합계 : 253\n"
     ]
    }
   ],
   "source": [
    "while 1:\n",
    "    try:\n",
    "        n=int(input('숫자를 입력하세요:'))\n",
    "        result=0\n",
    "        for i in range(1, n+1):\n",
    "            result+=i\n",
    "        print(f'합계 : {result}')\n",
    "        break\n",
    "    except:\n",
    "        print('올바른 값을 입력해주세요.')"
   ]
  },
  {
   "cell_type": "code",
   "execution_count": 1,
   "metadata": {},
   "outputs": [
    {
     "name": "stdout",
     "output_type": "stream",
     "text": [
      "[]\n",
      "['kim']\n",
      "['m', 'm']\n"
     ]
    }
   ],
   "source": [
    "# re : Regular Expression\n",
    "import re\n",
    "s='My id number is kim0902'\n",
    "# findall('정규식패턴', 문자열)\n",
    "a=re.findall('a',s)\n",
    "print(a)\n",
    "b=re.findall('kim',s)\n",
    "print(b)\n",
    "c=re.findall('m',s)\n",
    "print(c)"
   ]
  },
  {
   "cell_type": "code",
   "execution_count": 7,
   "metadata": {},
   "outputs": [
    {
     "name": "stdout",
     "output_type": "stream",
     "text": [
      "['y', 'i', 'd', 'n', 'u', 'm', 'b', 'e', 'r', 'i', 's', 'k', 'i', 'm']\n",
      "['y', 'id', 'number', 'is', 'kim']\n",
      "['M']\n",
      "['0', '9', '0', '2']\n",
      "['0902']\n"
     ]
    }
   ],
   "source": [
    "s='My id number is kim0902'\n",
    "a=re.findall('[a-z]',s) # 소문자를 모두 찾아서 리스트로 반환\n",
    "print(a)\n",
    "b=re.findall('[a-z]+',s) # + : 반복 옵션, 소문자를 한 글자씩이 아닌 한 단어씩 찾음\n",
    "print(b)\n",
    "c=re.findall('[A-Z]',s) # 대문자를 모두 찾아서 리스트로 변환\n",
    "print(c)\n",
    "d=re.findall('[0-9]',s) # 숫자를 모두 찾아서 리스트로 변환\n",
    "print(d)\n",
    "e=re.findall('[0-9]+',s) # 연속된 숫자\n",
    "print(e)"
   ]
  },
  {
   "cell_type": "code",
   "execution_count": 9,
   "metadata": {},
   "outputs": [
    {
     "name": "stdout",
     "output_type": "stream",
     "text": [
      "['M', 'y', 'i', 'd', 'n', 'u', 'm', 'b', 'e', 'r', 'i', 's', 'k', 'i', 'm', '0', '9', '0', '2']\n",
      "['My', 'id', 'number', 'is', 'kim0902']\n",
      "[' ', ' ', ' ', ' ', '$', '%', '_', '_']\n",
      "['M', 'y', 'i', 'd', 'n', 'u', 'm', 'b', 'e', 'r', 'i', 's', 'k', 'i', 'm', '0', '9', '0', '2', '_', '_']\n",
      "['My', 'id', 'number', 'is', 'kim0902', '__']\n",
      "[' ', ' ', ' ', ' ', '$%']\n"
     ]
    }
   ],
   "source": [
    "s='My id number is kim0902$%__'\n",
    "a=re.findall('[a-zA-Z0-9]',s) # 소문자, 대문자, 숫자(문자 단위)\n",
    "print(a)\n",
    "b=re.findall('[a-zA-Z0-9]+',s) # 소문자, 대문자, 숫자(단어 단위)\n",
    "print(b)\n",
    "c=re.findall('[^a-zA-Z0-9]',s) # ^ : not, 소문자, 대문자, 숫자가 아닌 문자들(공백, 특수문자)\n",
    "print(c)\n",
    "d=re.findall('[\\w]',s) # \\w = [a-zA-Z0-9_]  -  영문자, 숫자, _\n",
    "print(d)\n",
    "e=re.findall('[\\w]+',s) # 영문자, 숫자, _ (단어 단위)\n",
    "print(e)\n",
    "f=re.findall('[\\W]+',s) # 영문자, 숫자, _ 가 아닌 경우\n",
    "print(f)"
   ]
  },
  {
   "cell_type": "code",
   "execution_count": 12,
   "metadata": {},
   "outputs": [
    {
     "name": "stdout",
     "output_type": "stream",
     "text": [
      "12abc → 길이가 적당하지 않습니다.\n",
      "123abc → 대문자와 소문자가 모두 필요합니다.\n",
      "12abc% → 숫자와 영문자로만 구성되어야 합니다.\n",
      "123Abc → 올바른 비밀번호입니다.\n"
     ]
    }
   ],
   "source": [
    "import re\n",
    "def pwd_check(pwd):\n",
    "    if len(pwd)<6 or len(pwd)>12: # 비밀번호 길이 확인 (6~12)\n",
    "        print(f'{pwd} → 길이가 적당하지 않습니다.')\n",
    "        return\n",
    "    if re.findall('[a-zA-Z0-9]+',pwd)[0] != pwd: # pwd에서 영문자, 숫자만 선택, 특수문자는 걸러짐.\n",
    "        print(f'{pwd} → 숫자와 영문자로만 구성되어야 합니다.')\n",
    "        return\n",
    "    if len(re.findall('[a-z]',pwd))==0 or len(re.findall('[A-Z]',pwd))==0: # 소문자가 없거나 대문자가 없다면\n",
    "        print(f'{pwd} → 대문자와 소문자가 모두 필요합니다.')\n",
    "        return\n",
    "    print(f'{pwd} → 올바른 비밀번호입니다.')\n",
    "\n",
    "pwd_check('12abc') # False, 길이 오류\n",
    "pwd_check('123abc') # False, 대문자 없음\n",
    "pwd_check('12abc%') # False, 특수문자 포함\n",
    "pwd_check('123Abc') # True"
   ]
  },
  {
   "cell_type": "code",
   "execution_count": 15,
   "metadata": {},
   "outputs": [
    {
     "name": "stdout",
     "output_type": "stream",
     "text": [
      "kim@gmail → 잘못된 이메일 주소입니다.\n",
      "kim_@gmail.com → 잘못된 이메일 주소입니다.\n",
      "kim → 잘못된 이메일 주소입니다.\n",
      "kim@gmail.com → 올바른 이메일 주소입니다!\n"
     ]
    },
    {
     "data": {
      "text/plain": [
       "True"
      ]
     },
     "execution_count": 15,
     "metadata": {},
     "output_type": "execute_result"
    }
   ],
   "source": [
    "import re\n",
    "def email_check(email):\n",
    "    exp=re.findall('^[a-z0-9]{2,}@[a-z0-9]{2,}\\.[a-z]{2,}$',email)\n",
    "    if len(exp)==0:\n",
    "        print(f'{email} → 잘못된 이메일 주소입니다.')\n",
    "        return False\n",
    "    print(f'{email} → 올바른 이메일 주소입니다!')\n",
    "    return True\n",
    "\n",
    "email_check('kim@gmail')\n",
    "email_check('kim_@gmail.com')\n",
    "email_check('kim')\n",
    "email_check('kim@gmail.com')"
   ]
  },
  {
   "cell_type": "code",
   "execution_count": 20,
   "metadata": {},
   "outputs": [
    {
     "name": "stdout",
     "output_type": "stream",
     "text": [
      "kim@hanmail.net → 올바른 이메일 주소입니다!\n"
     ]
    }
   ],
   "source": [
    "a=input('이메일 주소를 입력하세요.')\n",
    "if email_check(a):\n",
    "    pass\n",
    "else:\n",
    "    pass"
   ]
  }
 ],
 "metadata": {
  "interpreter": {
   "hash": "7b4b4feff2f24a0f0a34464dbe537a36fda679851528fb8735cb41fa49dffb2d"
  },
  "kernelspec": {
   "display_name": "Python 3.8.8 64-bit ('base': conda)",
   "language": "python",
   "name": "python3"
  },
  "language_info": {
   "codemirror_mode": {
    "name": "ipython",
    "version": 3
   },
   "file_extension": ".py",
   "mimetype": "text/x-python",
   "name": "python",
   "nbconvert_exporter": "python",
   "pygments_lexer": "ipython3",
   "version": "3.8.8"
  },
  "orig_nbformat": 4
 },
 "nbformat": 4,
 "nbformat_minor": 2
}
