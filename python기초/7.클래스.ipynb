{
 "cells": [
  {
   "cell_type": "code",
   "execution_count": 1,
   "metadata": {},
   "outputs": [
    {
     "name": "stdout",
     "output_type": "stream",
     "text": [
      "<class 'int'>\n",
      "<class 'str'>\n"
     ]
    }
   ],
   "source": [
    "a=1\n",
    "print(type(a))\n",
    "b='a'\n",
    "print(type(b))"
   ]
  },
  {
   "cell_type": "code",
   "execution_count": 10,
   "metadata": {},
   "outputs": [],
   "source": [
    "import math\n",
    "\n",
    "class MyCircle: # 새로운 클래스 (사용자 정의 자료형)\n",
    "    def set_r(self,r): # 반지름을 입력하는 함수 : 첫번째 매개변수 self\n",
    "        # self.변수 : 클래스 전체에서 사용할 수 있는 변수\n",
    "        # self가 붙지 않은 변수 : 지역변수\n",
    "        self.r=r\n",
    "    def length(self): # 둘레 계산\n",
    "        self.a=2*math.pi*self.r\n",
    "    def area(self): # 넓이 계산\n",
    "        self.b=math.pi*self.r*self.r\n",
    "    def disp(self): # 출력\n",
    "        print('반지름 : {}, 둘레 : {:.2f}, 넓이:{:.2f}'.format(self.r,self.a,self.b))    "
   ]
  },
  {
   "cell_type": "code",
   "execution_count": 11,
   "metadata": {},
   "outputs": [
    {
     "name": "stdout",
     "output_type": "stream",
     "text": [
      "반지름 : 50, 둘레 : 314.16, 넓이:7853.98\n"
     ]
    }
   ],
   "source": [
    "a=MyCircle()\n",
    "a.set_r(50)\n",
    "a.length()\n",
    "a.area()\n",
    "a.disp()"
   ]
  },
  {
   "cell_type": "code",
   "execution_count": 14,
   "metadata": {},
   "outputs": [
    {
     "name": "stdout",
     "output_type": "stream",
     "text": [
      "이름 : 김철수, 나이 : 20, 키 : 187.7\n"
     ]
    }
   ],
   "source": [
    "# Person 1 : 변수들로만 구성된 클래스\n",
    "class Person:\n",
    "    name=''\n",
    "    age=0\n",
    "    height=0\n",
    "\n",
    "p1=Person()\n",
    "p1.name='김철수'\n",
    "p1.age=20\n",
    "p1.height=187.7\n",
    "print(f'이름 : {p1.name}, 나이 : {p1.age}, 키 : {p1.height}')"
   ]
  },
  {
   "cell_type": "code",
   "execution_count": 15,
   "metadata": {},
   "outputs": [
    {
     "name": "stdout",
     "output_type": "stream",
     "text": [
      "이름 : 김철수, 나이 : -50, 키 : 178.7\n"
     ]
    }
   ],
   "source": [
    "# Person 2 : 함수가 추가됨, 클래스의 멤버함수(method)\n",
    "class Person:\n",
    "    name=''\n",
    "    age=0\n",
    "    height=0\n",
    "    # 첫번째 매개변수는 self를 써야함\n",
    "    # self : 현재 인스턴스의 시작번지값, self.변수 : 클래스의 멤버변수\n",
    "    def disp(self):\n",
    "        print(f'이름 : {self.name}, 나이 : {self.age}, 키 : {self.height}')\n",
    "\n",
    "p2=Person()\n",
    "p2.name='김철수'\n",
    "p2.age=-50\n",
    "p2.height=178.7\n",
    "p2.disp()"
   ]
  },
  {
   "cell_type": "code",
   "execution_count": 20,
   "metadata": {},
   "outputs": [
    {
     "name": "stdout",
     "output_type": "stream",
     "text": [
      "이름 : 김철수, 나이 : 20, 키 : 178.7\n"
     ]
    }
   ],
   "source": [
    "# Person 3\n",
    "class Person:\n",
    "    name=''\n",
    "    age=0\n",
    "    height=0\n",
    "    def set_age(self,age):\n",
    "        if age>100 or age<0:\n",
    "            self.age=int(input('나이를 정확히 입력하세요:'))\n",
    "        else:\n",
    "            self.age=age\n",
    "\n",
    "    def disp(self):\n",
    "        print(f'이름 : {self.name}, 나이 : {self.age}, 키 : {self.height}')\n",
    "\n",
    "p3=Person()\n",
    "p3.name='김철수'\n",
    "p3.set_age(-100)\n",
    "p3.height=178.7\n",
    "p3.disp()"
   ]
  },
  {
   "cell_type": "code",
   "execution_count": 21,
   "metadata": {},
   "outputs": [
    {
     "name": "stdout",
     "output_type": "stream",
     "text": [
      "이름 : 김철수, 월급 : 500, 보너스 : 300, 연봉 : 6300\n"
     ]
    }
   ],
   "source": [
    "# Emp 1\n",
    "class Emp:\n",
    "    name=''\n",
    "    salary=0\n",
    "    bonus=0\n",
    "    money=0\n",
    "\n",
    "e1=Emp()\n",
    "e1.name='김철수'\n",
    "e1.salary=500\n",
    "e1.bonus=300\n",
    "e1.money=e1.salary*12+e1.bonus\n",
    "print(f'이름 : {e1.name}, 월급 : {e1.salary}, 보너스 : {e1.bonus}, 연봉 : {e1.money}')"
   ]
  },
  {
   "cell_type": "code",
   "execution_count": 22,
   "metadata": {},
   "outputs": [
    {
     "name": "stdout",
     "output_type": "stream",
     "text": [
      "이름 : 김철수, 월급 : 500, 보너스 : 300, 연봉 : 6300\n"
     ]
    }
   ],
   "source": [
    "# Emp 2\n",
    "class Emp:\n",
    "    name=''\n",
    "    salary=0\n",
    "    bonus=0\n",
    "    money=0\n",
    "\n",
    "    def disp(self): # 출력함수\n",
    "        print(f'이름 : {self.name}, 월급 : {self.salary}, 보너스 : {self.bonus}, 연봉 : {self.money}')\n",
    "\n",
    "e2=Emp()\n",
    "e2.name='김철수'\n",
    "e2.salary=500\n",
    "e2.bonus=300\n",
    "e2.money=e2.salary*12+e2.bonus\n",
    "e2.disp()"
   ]
  },
  {
   "cell_type": "code",
   "execution_count": 23,
   "metadata": {},
   "outputs": [
    {
     "name": "stdout",
     "output_type": "stream",
     "text": [
      "이름 : 김철수, 월급 : 500, 보너스 : 700, 연봉 : 6700\n"
     ]
    }
   ],
   "source": [
    "# Emp 3\n",
    "class Emp:\n",
    "    name=''\n",
    "    salary=0\n",
    "    bonus=0\n",
    "    money=0\n",
    "\n",
    "    def __init__(self,name,salary,bonus): # 초기화 함수 (인스턴스를 만들 때 자동으로 호출되는 함수)\n",
    "        self.name=name    \n",
    "        self.salary=salary    \n",
    "        self.bonus=bonus    \n",
    "\n",
    "    def disp(self): # 출력함수\n",
    "        print(f'이름 : {self.name}, 월급 : {self.salary}, 보너스 : {self.bonus}, 연봉 : {self.money}')\n",
    "\n",
    "        \n",
    "\n",
    "e3=Emp('김철수',500,700) # 인스턴스 생성, 괄호 안의 값들이 init 함수에 전달됨\n",
    "e3.money=e3.salary*12+e3.bonus\n",
    "e3.disp()"
   ]
  },
  {
   "cell_type": "code",
   "execution_count": 26,
   "metadata": {},
   "outputs": [
    {
     "name": "stdout",
     "output_type": "stream",
     "text": [
      "이름 : 김철수, 월급 : 300, 보너스 : 300, 연봉 : 3900\n"
     ]
    }
   ],
   "source": [
    "# Emp 4\n",
    "class Emp:\n",
    "    name=''\n",
    "    salary=0\n",
    "    bonus=0\n",
    "    money=0\n",
    "\n",
    "    def __init__(self,name,salary,bonus): # 초기화 함수 (인스턴스를 만들 때 자동으로 호출되는 함수)\n",
    "        self.name=name    \n",
    "        self.salary=salary    \n",
    "        self.bonus=bonus    \n",
    "\n",
    "    def calc(self):\n",
    "        self.money=self.salary*12+self.bonus\n",
    "\n",
    "    def disp(self): # 출력함수\n",
    "        print(f'이름 : {self.name}, 월급 : {self.salary}, 보너스 : {self.bonus}, 연봉 : {self.money}')\n",
    "\n",
    "        \n",
    "\n",
    "e4=Emp('김철수',300,300) # 인스턴스 생성, 괄호 안의 값들이 init 함수에 전달됨\n",
    "e4.calc()\n",
    "e4.disp()"
   ]
  },
  {
   "cell_type": "code",
   "execution_count": 31,
   "metadata": {},
   "outputs": [
    {
     "name": "stdout",
     "output_type": "stream",
     "text": [
      "이름\t국어\t영어\t수학\t총점\t평균\t등급\n",
      "김철수\t80\t90\t95\t265\t88.3\tB\n"
     ]
    }
   ],
   "source": [
    "# Point 1\n",
    "class Point:\n",
    "    name=''\n",
    "    kor=0\n",
    "    eng=0\n",
    "    mat=0\n",
    "    tot=0\n",
    "    avg=0\n",
    "    grade=''\n",
    "\n",
    "p1=Point()\n",
    "p1.name='김철수'\n",
    "p1.kor=80\n",
    "p1.eng=90\n",
    "p1.mat=95\n",
    "p1.tot=p1.kor+p1.eng+p1.mat\n",
    "p1.avg=p1.tot/3\n",
    "if 90<=p1.avg<=100:\n",
    "    p1.grade='A'\n",
    "elif 80<=p1.avg<90:\n",
    "    p1.grade='B'\n",
    "elif 70<=p1.avg<80:\n",
    "    p1.grade='C'\n",
    "elif 60<=p1.avg<70:\n",
    "    p1.grade='D'\n",
    "else:\n",
    "    p1.grade='F'\n",
    "\n",
    "print('이름\\t국어\\t영어\\t수학\\t총점\\t평균\\t등급')\n",
    "print(f'{p1.name}\\t{p1.kor}\\t{p1.eng}\\t{p1.mat}\\t{p1.tot}\\t{p1.avg:.1f}\\t{p1.grade}')"
   ]
  },
  {
   "cell_type": "code",
   "execution_count": 32,
   "metadata": {},
   "outputs": [
    {
     "name": "stdout",
     "output_type": "stream",
     "text": [
      "이름\t국어\t영어\t수학\t총점\t평균\t등급\n",
      "김철수\t88\t99\t100\t287\t95.7\tA\n"
     ]
    }
   ],
   "source": [
    "# Point 2\n",
    "class Point:\n",
    "    name=''\n",
    "    kor=0\n",
    "    eng=0\n",
    "    mat=0\n",
    "    tot=0\n",
    "    avg=0\n",
    "    grade=''\n",
    "\n",
    "    def __init__(self,name,kor,eng,mat): # 초기화함수\n",
    "        self.name=name\n",
    "        self.kor=kor\n",
    "        self.eng=eng\n",
    "        self.mat=mat\n",
    "\n",
    "p2=Point('김철수',88,99,100)\n",
    "p2.tot=p2.kor+p2.eng+p2.mat\n",
    "p2.avg=p2.tot/3\n",
    "if 90<=p2.avg<=100:\n",
    "    p2.grade='A'\n",
    "elif 80<=p2.avg<90:\n",
    "    p2.grade='B'\n",
    "elif 70<=p2.avg<80:\n",
    "    p2.grade='C'\n",
    "elif 60<=p2.avg<70:\n",
    "    p2.grade='D'\n",
    "else:\n",
    "    p2.grade='F'\n",
    "\n",
    "print('이름\\t국어\\t영어\\t수학\\t총점\\t평균\\t등급')\n",
    "print(f'{p2.name}\\t{p2.kor}\\t{p2.eng}\\t{p2.mat}\\t{p2.tot}\\t{p2.avg:.1f}\\t{p2.grade}')"
   ]
  },
  {
   "cell_type": "code",
   "execution_count": 33,
   "metadata": {},
   "outputs": [
    {
     "name": "stdout",
     "output_type": "stream",
     "text": [
      "이름\t국어\t영어\t수학\t총점\t평균\t등급\n",
      "김철수\t68\t69\t100\t237\t79.0\tC\n"
     ]
    }
   ],
   "source": [
    "# Point 3\n",
    "class Point:\n",
    "    def __init__(self,name,kor,eng,mat): # 초기화함수\n",
    "        self.name=name\n",
    "        self.kor=kor\n",
    "        self.eng=eng\n",
    "        self.mat=mat\n",
    "\n",
    "    def calc(self):\n",
    "        self.tot=self.kor+self.eng+self.mat\n",
    "        self.avg=self.tot/3\n",
    "        if 90<=self.avg<=100:\n",
    "            self.grade='A'\n",
    "        elif 80<=self.avg<90:\n",
    "            self.grade='B'\n",
    "        elif 70<=self.avg<80:\n",
    "            self.grade='C'\n",
    "        elif 60<=self.avg<70:\n",
    "            self.grade='D'\n",
    "        else:\n",
    "            self.grade='F'\n",
    "\n",
    "p3=Point('김철수',68,69,100)\n",
    "p3.calc()\n",
    "print('이름\\t국어\\t영어\\t수학\\t총점\\t평균\\t등급')\n",
    "print(f'{p3.name}\\t{p3.kor}\\t{p3.eng}\\t{p3.mat}\\t{p3.tot}\\t{p3.avg:.1f}\\t{p3.grade}')"
   ]
  },
  {
   "cell_type": "code",
   "execution_count": 34,
   "metadata": {},
   "outputs": [
    {
     "name": "stdout",
     "output_type": "stream",
     "text": [
      "이름\t국어\t영어\t수학\t총점\t평균\t등급\n",
      "김철수\t78\t79\t100\t257\t85.7\tB\n"
     ]
    }
   ],
   "source": [
    "# Point 4\n",
    "class Point:\n",
    "    def __init__(self,name,kor,eng,mat): # 초기화함수\n",
    "        self.name=name\n",
    "        self.kor=kor\n",
    "        self.eng=eng\n",
    "        self.mat=mat\n",
    "\n",
    "    def calc(self):\n",
    "        self.tot=self.kor+self.eng+self.mat\n",
    "        self.avg=self.tot/3\n",
    "        if 90<=self.avg<=100:\n",
    "            self.grade='A'\n",
    "        elif 80<=self.avg<90:\n",
    "            self.grade='B'\n",
    "        elif 70<=self.avg<80:\n",
    "            self.grade='C'\n",
    "        elif 60<=self.avg<70:\n",
    "            self.grade='D'\n",
    "        else:\n",
    "            self.grade='F'\n",
    "\n",
    "    def disp(self):\n",
    "        print('이름\\t국어\\t영어\\t수학\\t총점\\t평균\\t등급')\n",
    "        print(f'{self.name}\\t{self.kor}\\t{self.eng}\\t{self.mat}\\t{self.tot}\\t{self.avg:.1f}\\t{self.grade}')    \n",
    "\n",
    "p4=Point('김철수',78,79,100)\n",
    "p4.calc()\n",
    "p4.disp()"
   ]
  },
  {
   "cell_type": "code",
   "execution_count": 35,
   "metadata": {},
   "outputs": [],
   "source": [
    "# 클래스의 상속\n",
    "class Book:\n",
    "    def __init__(self,name,price):\n",
    "        self.name=name\n",
    "        self.price=price\n",
    "    \n",
    "    def disp(self):\n",
    "        print(f'{self.name}\\t{self.price}')\n",
    "\n",
    "class BookSale(Book): # class 하위클래스(상위클래스,상위클래스) ※ 다중 상속 가능\n",
    "    def __init__(self,name,price,amount):\n",
    "        Book.__init__(self,name,price) # 상위클래스의 초기화 함수에 값 전달\n",
    "        self.amount=amount\n",
    "        \n",
    "    def calc(self):\n",
    "        self.money=self.price*self.amount\n",
    "        if 1<=self.amount<=1000:\n",
    "            self.fee=self.money*0.01\n",
    "        elif 1001<=self.amount<=3000:\n",
    "            self.fee=self.money*0.03\n",
    "        elif 3001<=self.amount:\n",
    "            self.fee=self.money*0.05\n",
    "\n",
    "    def disp(self):\n",
    "        print(f'{self.name}\\t{self.price}\\t{self.amount}\\t{self.money}\\t{self.fee}')"
   ]
  },
  {
   "cell_type": "code",
   "execution_count": 36,
   "metadata": {},
   "outputs": [
    {
     "name": "stdout",
     "output_type": "stream",
     "text": [
      "Java\t50000\t1000\t50000000\t500000.0\n",
      "C\t40000\t2500\t100000000\t3000000.0\n",
      "Python\t35000\t3500\t122500000\t6125000.0\n"
     ]
    }
   ],
   "source": [
    "b1=BookSale('Java',50000,1000)\n",
    "b1.calc()\n",
    "b1.disp()\n",
    "\n",
    "b2=BookSale('C',40000,2500)\n",
    "b2.calc()\n",
    "b2.disp()\n",
    "\n",
    "b3=BookSale('Python',35000,3500)\n",
    "b3.calc()\n",
    "b3.disp()"
   ]
  }
 ],
 "metadata": {
  "interpreter": {
   "hash": "7b4b4feff2f24a0f0a34464dbe537a36fda679851528fb8735cb41fa49dffb2d"
  },
  "kernelspec": {
   "display_name": "Python 3.8.8 64-bit ('base': conda)",
   "language": "python",
   "name": "python3"
  },
  "language_info": {
   "codemirror_mode": {
    "name": "ipython",
    "version": 3
   },
   "file_extension": ".py",
   "mimetype": "text/x-python",
   "name": "python",
   "nbconvert_exporter": "python",
   "pygments_lexer": "ipython3",
   "version": "3.8.8"
  },
  "orig_nbformat": 4
 },
 "nbformat": 4,
 "nbformat_minor": 2
}
