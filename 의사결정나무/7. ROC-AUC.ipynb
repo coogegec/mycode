{
 "cells": [
  {
   "cell_type": "code",
   "execution_count": 1,
   "metadata": {},
   "outputs": [
    {
     "data": {
      "text/html": [
       "<div>\n",
       "<style scoped>\n",
       "    .dataframe tbody tr th:only-of-type {\n",
       "        vertical-align: middle;\n",
       "    }\n",
       "\n",
       "    .dataframe tbody tr th {\n",
       "        vertical-align: top;\n",
       "    }\n",
       "\n",
       "    .dataframe thead th {\n",
       "        text-align: right;\n",
       "    }\n",
       "</style>\n",
       "<table border=\"1\" class=\"dataframe\">\n",
       "  <thead>\n",
       "    <tr style=\"text-align: right;\">\n",
       "      <th></th>\n",
       "      <th>cement</th>\n",
       "      <th>flag</th>\n",
       "      <th>ash</th>\n",
       "      <th>water</th>\n",
       "      <th>superplastic</th>\n",
       "      <th>coarseagg</th>\n",
       "      <th>findagg</th>\n",
       "      <th>age</th>\n",
       "      <th>strength</th>\n",
       "      <th>class</th>\n",
       "    </tr>\n",
       "  </thead>\n",
       "  <tbody>\n",
       "    <tr>\n",
       "      <th>0</th>\n",
       "      <td>164.2</td>\n",
       "      <td>0.0</td>\n",
       "      <td>200.1</td>\n",
       "      <td>181.2</td>\n",
       "      <td>12.6</td>\n",
       "      <td>849.3</td>\n",
       "      <td>846.0</td>\n",
       "      <td>28</td>\n",
       "      <td>15.09</td>\n",
       "      <td>0</td>\n",
       "    </tr>\n",
       "    <tr>\n",
       "      <th>1</th>\n",
       "      <td>164.0</td>\n",
       "      <td>0.0</td>\n",
       "      <td>200.0</td>\n",
       "      <td>181.0</td>\n",
       "      <td>13.0</td>\n",
       "      <td>849.0</td>\n",
       "      <td>846.0</td>\n",
       "      <td>28</td>\n",
       "      <td>15.09</td>\n",
       "      <td>0</td>\n",
       "    </tr>\n",
       "    <tr>\n",
       "      <th>2</th>\n",
       "      <td>158.0</td>\n",
       "      <td>0.0</td>\n",
       "      <td>195.0</td>\n",
       "      <td>220.0</td>\n",
       "      <td>11.0</td>\n",
       "      <td>898.0</td>\n",
       "      <td>713.0</td>\n",
       "      <td>28</td>\n",
       "      <td>8.54</td>\n",
       "      <td>0</td>\n",
       "    </tr>\n",
       "    <tr>\n",
       "      <th>3</th>\n",
       "      <td>144.0</td>\n",
       "      <td>15.0</td>\n",
       "      <td>195.0</td>\n",
       "      <td>176.0</td>\n",
       "      <td>6.0</td>\n",
       "      <td>1021.0</td>\n",
       "      <td>709.0</td>\n",
       "      <td>28</td>\n",
       "      <td>15.34</td>\n",
       "      <td>0</td>\n",
       "    </tr>\n",
       "    <tr>\n",
       "      <th>4</th>\n",
       "      <td>167.0</td>\n",
       "      <td>187.0</td>\n",
       "      <td>195.0</td>\n",
       "      <td>185.0</td>\n",
       "      <td>7.0</td>\n",
       "      <td>898.0</td>\n",
       "      <td>636.0</td>\n",
       "      <td>28</td>\n",
       "      <td>23.89</td>\n",
       "      <td>0</td>\n",
       "    </tr>\n",
       "  </tbody>\n",
       "</table>\n",
       "</div>"
      ],
      "text/plain": [
       "   cement   flag    ash  water  superplastic  coarseagg  findagg  age  \\\n",
       "0   164.2    0.0  200.1  181.2          12.6      849.3    846.0   28   \n",
       "1   164.0    0.0  200.0  181.0          13.0      849.0    846.0   28   \n",
       "2   158.0    0.0  195.0  220.0          11.0      898.0    713.0   28   \n",
       "3   144.0   15.0  195.0  176.0           6.0     1021.0    709.0   28   \n",
       "4   167.0  187.0  195.0  185.0           7.0      898.0    636.0   28   \n",
       "\n",
       "   strength  class  \n",
       "0     15.09      0  \n",
       "1     15.09      0  \n",
       "2      8.54      0  \n",
       "3     15.34      0  \n",
       "4     23.89      0  "
      ]
     },
     "execution_count": 1,
     "metadata": {},
     "output_type": "execute_result"
    }
   ],
   "source": [
    "import pandas as pd\n",
    "\n",
    "df=pd.read_csv(\"d:/data/concrete/concrete.csv\")\n",
    "df.head()"
   ]
  },
  {
   "cell_type": "code",
   "execution_count": 2,
   "metadata": {},
   "outputs": [],
   "source": [
    "train_cols=df.columns[0:-2]\n",
    "X=df[train_cols]\n",
    "y=df['class']"
   ]
  },
  {
   "cell_type": "code",
   "execution_count": 3,
   "metadata": {},
   "outputs": [],
   "source": [
    "# 언더샘플링\n",
    "from imblearn.under_sampling import RandomUnderSampler\n",
    "\n",
    "X_sample, y_sample=RandomUnderSampler(random_state=0).fit_resample(X,y)\n",
    "\n",
    "X_samp=pd.DataFrame(data=X_sample, columns=train_cols)\n",
    "y_samp=pd.DataFrame(data=y_sample, columns=['class'])\n",
    "df2=pd.concat([X_samp,y_samp],axis=1)"
   ]
  },
  {
   "cell_type": "code",
   "execution_count": 4,
   "metadata": {},
   "outputs": [
    {
     "data": {
      "text/plain": [
       "0    507\n",
       "1    507\n",
       "Name: class, dtype: int64"
      ]
     },
     "execution_count": 4,
     "metadata": {},
     "output_type": "execute_result"
    }
   ],
   "source": [
    "df2['class'].value_counts()"
   ]
  },
  {
   "cell_type": "code",
   "execution_count": 5,
   "metadata": {},
   "outputs": [],
   "source": [
    "from sklearn.model_selection import train_test_split\n",
    "\n",
    "X_train, X_test, y_train, y_test=train_test_split(X,y,test_size=0.2, stratify=y, random_state=0)"
   ]
  },
  {
   "cell_type": "code",
   "execution_count": 6,
   "metadata": {},
   "outputs": [
    {
     "data": {
      "text/plain": [
       "LogisticRegression(max_iter=1000, random_state=0)"
      ]
     },
     "execution_count": 6,
     "metadata": {},
     "output_type": "execute_result"
    }
   ],
   "source": [
    "from sklearn.linear_model import LogisticRegression\n",
    "model1=LogisticRegression(random_state=0, max_iter=1000)\n",
    "model1.fit(X_train, y_train)"
   ]
  },
  {
   "cell_type": "code",
   "execution_count": 9,
   "metadata": {},
   "outputs": [
    {
     "name": "stdout",
     "output_type": "stream",
     "text": [
      "학습용 : 0.8543689320388349\n",
      "검증용 : 0.8106796116504854\n"
     ]
    }
   ],
   "source": [
    "print(\"학습용 :\",model1.score(X_train, y_train))\n",
    "print(\"검증용 :\",model1.score(X_test, y_test))"
   ]
  },
  {
   "cell_type": "code",
   "execution_count": 10,
   "metadata": {},
   "outputs": [
    {
     "data": {
      "text/plain": [
       "array([-3.91525645e+00, -8.18207470e-01, -4.10472790e+00, -2.29068422e-01,\n",
       "        1.21657118e+00,  3.30876960e+00,  2.17730048e+00,  1.15047952e+00,\n",
       "        1.09784413e+00, -4.61640512e+00, -1.08198461e+00,  3.03614806e-02,\n",
       "       -1.23877328e+00,  3.04335365e+00, -7.01413034e-01,  3.55350642e+00,\n",
       "       -3.00048863e-01,  2.38454913e+00, -2.18481192e+00, -2.79195506e+00,\n",
       "        1.42787292e+00, -6.50340130e-01,  5.56169300e-01, -2.44768611e+00,\n",
       "        5.27719956e-01, -2.96858297e+00, -1.01021864e+00, -2.51032501e+00,\n",
       "        1.74922550e+00,  4.04975690e-02,  7.75637682e+00,  4.54147370e+00,\n",
       "        1.10067046e+01,  3.45697113e+00, -5.55422651e-01,  1.07670088e+01,\n",
       "       -4.05187892e+00, -2.16558138e-01, -7.21581668e-01,  1.35175082e+01,\n",
       "       -4.58294719e-01,  4.58674116e+00,  1.92450968e+00, -3.09480681e+00,\n",
       "       -2.52356190e+00, -3.04669700e+00, -3.25300542e-02, -3.07445578e-01,\n",
       "        1.26513072e+00, -3.14676298e+00, -1.01688762e+00, -1.03936770e+00,\n",
       "       -7.04426812e-01,  2.02538034e-01,  7.35126371e-01, -4.63336201e+00,\n",
       "        6.06830487e-01,  2.42461278e+00,  7.20286337e-01,  5.53762622e+00,\n",
       "       -4.77934953e+00,  5.15898191e+00, -4.07720300e+00,  3.28449015e+00,\n",
       "        3.25767695e+00, -3.36937689e+00,  2.55912299e+00, -4.61895204e-01,\n",
       "        2.33894866e+00, -5.02606721e+00, -1.40014228e+00,  2.12263954e+00,\n",
       "        1.72615268e+00,  7.07580897e-02, -1.55244788e+00, -3.82778150e+00,\n",
       "       -2.41556604e+00,  7.80126313e+00, -2.93946178e+00, -3.45242368e+00,\n",
       "        3.43740155e+00,  5.05644026e-01,  1.16264686e+00,  2.50573286e+00,\n",
       "       -2.80474016e+00,  2.09364491e+00, -2.78583195e+00, -2.87534408e+00,\n",
       "       -6.38986096e-01, -3.44388526e+00, -4.80764254e+00, -2.48832191e+00,\n",
       "       -1.68455319e+00, -2.76635696e+00,  6.18707800e-01, -8.14334786e-01,\n",
       "        4.46141913e+00,  8.13264337e-01, -1.45809047e-01, -4.78191638e+00,\n",
       "        5.94998212e-01,  3.54862987e-01,  4.56428333e+00, -6.22438399e-01,\n",
       "        2.21188673e-01, -3.75270593e-01,  4.23856951e+00, -6.22576095e-01,\n",
       "       -2.39998569e+00,  3.34931416e+00,  4.10328150e+00,  7.36788534e-01,\n",
       "        3.32754600e+00, -5.06697285e+00,  3.09166982e+00, -1.06978082e+00,\n",
       "        3.57982572e-03, -2.04476394e+00, -2.44305790e+00, -2.51801523e+00,\n",
       "       -2.63160479e+00, -6.52140551e-01,  2.55239918e+00,  4.45566929e+00,\n",
       "        3.37742166e+00, -2.11122706e+00,  2.26047257e+00, -4.96291870e+00,\n",
       "        1.66676225e+00,  4.23271484e-01, -7.71548427e-01,  1.37989440e-02,\n",
       "       -3.26251498e+00, -1.06548241e+00, -2.40062204e+00, -2.83194469e+00,\n",
       "        4.10071937e+00, -1.42889646e+00,  2.27218977e+00, -2.44536235e+00,\n",
       "       -1.16191851e+00, -3.18798666e+00,  2.49087591e+00,  1.40914046e-01,\n",
       "        4.80217536e-02, -3.90047639e-01, -1.02043776e+00, -1.79575812e+00,\n",
       "        4.05822381e+00,  4.07237953e+00, -2.59610264e-01, -1.83835237e+00,\n",
       "       -1.09159771e+00, -9.65613713e-01, -9.67512823e-01, -5.95439685e-01,\n",
       "        4.34701832e+00,  1.52536104e+00, -9.25460102e-01, -2.12274539e+00,\n",
       "        4.70639449e-01, -3.92174161e+00,  6.44721557e+00, -4.47449629e+00,\n",
       "       -1.80066448e+00, -5.12676152e+00, -2.44757625e-01, -3.58338453e+00,\n",
       "       -3.29878355e+00, -3.90518671e+00,  1.28781374e+00, -1.32176181e+00,\n",
       "        1.40759094e+00,  1.59907389e+00,  2.21286793e+00,  3.71107828e+00,\n",
       "       -2.81996765e-01, -1.73536836e+00,  4.10071937e+00,  3.63377798e+00,\n",
       "       -2.68607168e-01, -1.82991034e+00, -9.38497336e-01,  5.18136678e+00,\n",
       "       -1.06735778e-01, -1.18180685e+00, -2.41509391e+00,  3.26899789e+00,\n",
       "        5.18888374e-01, -1.96450729e+00, -8.83448328e-01,  1.34223971e+00,\n",
       "       -2.62109939e-01,  1.36489779e-01, -1.74159005e+00,  1.00421225e+00,\n",
       "       -3.06575930e+00, -4.67848281e-01,  1.28826135e+00,  3.17218754e+00,\n",
       "       -1.77339498e+00, -2.25605968e+00,  5.62015152e+00, -4.60687517e-01,\n",
       "        1.90880733e+00, -3.74134389e+00])"
      ]
     },
     "execution_count": 10,
     "metadata": {},
     "output_type": "execute_result"
    }
   ],
   "source": [
    "# 판별함수 : 음수면 0, 양수면 1로 판별함, 0이 판별기준\n",
    "model1.decision_function(X_test)"
   ]
  },
  {
   "cell_type": "code",
   "execution_count": 11,
   "metadata": {},
   "outputs": [
    {
     "data": {
      "text/plain": [
       "SVC(random_state=0)"
      ]
     },
     "execution_count": 11,
     "metadata": {},
     "output_type": "execute_result"
    }
   ],
   "source": [
    "from sklearn.svm import SVC\n",
    "model2=SVC(random_state=0)\n",
    "model2.fit(X_train, y_train)"
   ]
  },
  {
   "cell_type": "code",
   "execution_count": 12,
   "metadata": {},
   "outputs": [
    {
     "name": "stdout",
     "output_type": "stream",
     "text": [
      "학습용 : 0.7912621359223301\n",
      "검증용 : 0.7669902912621359\n"
     ]
    }
   ],
   "source": [
    "print(\"학습용 :\",model2.score(X_train, y_train))\n",
    "print(\"검증용 :\",model2.score(X_test, y_test))"
   ]
  },
  {
   "cell_type": "code",
   "execution_count": 14,
   "metadata": {},
   "outputs": [
    {
     "data": {
      "text/plain": [
       "array([-1.41175307e+00, -7.25934767e-01, -1.26178529e+00, -6.15779784e-01,\n",
       "        4.94928235e-01,  1.19982636e+00,  4.32487668e-01, -1.83807433e-01,\n",
       "       -8.22702522e-02, -1.50153272e+00, -8.00687654e-01, -1.77742100e-01,\n",
       "       -6.89350890e-01,  9.21683562e-01, -2.45680018e-01,  1.45296057e+00,\n",
       "       -6.52501450e-01,  7.16564988e-01, -8.00260625e-01, -9.49058678e-01,\n",
       "        9.04639143e-01, -2.67657812e-02, -4.17809978e-01, -6.98864561e-01,\n",
       "        1.14602496e-01, -6.93287162e-01, -8.13592896e-01, -1.12420172e+00,\n",
       "       -1.27967193e-01, -6.09373169e-02,  1.95934785e+00,  1.15721813e+00,\n",
       "        2.39593079e+00,  1.20177411e+00, -1.60594546e-03,  2.20333358e+00,\n",
       "       -1.08449836e+00,  2.02900292e-01, -5.55067855e-01,  3.32918268e+00,\n",
       "       -6.01849434e-01,  1.37100914e+00, -7.77480623e-02, -1.01938180e+00,\n",
       "       -1.16842943e+00, -1.01294354e+00,  5.65917668e-01, -1.03940136e-01,\n",
       "        1.28690063e+00, -7.70928944e-01, -4.16929829e-01, -5.88794835e-01,\n",
       "       -5.50389729e-01, -7.41926003e-01,  4.84746453e-02, -1.53140028e+00,\n",
       "        1.23447598e-01,  1.13210125e+00, -3.36198254e-01,  1.83658825e+00,\n",
       "       -1.67811490e+00,  1.35177391e+00, -1.51718284e+00,  1.13385992e+00,\n",
       "        1.38975172e+00, -1.05640258e+00,  4.51463912e-01, -9.88662750e-02,\n",
       "        7.15959330e-01, -1.40885385e+00,  9.03091668e-03,  1.25111061e+00,\n",
       "        9.78106136e-01, -6.55982046e-02, -8.46251936e-01, -1.39894421e+00,\n",
       "       -9.25317866e-01,  1.96424359e+00, -1.48653959e+00, -9.19919979e-01,\n",
       "        6.78132328e-01,  2.80410932e-02,  3.55034448e-01,  4.80665246e-01,\n",
       "       -6.51507461e-01,  7.81823584e-01, -9.23150133e-01, -1.11719961e+00,\n",
       "        4.95750353e-01, -1.30712157e+00, -1.65674788e+00, -6.28383374e-01,\n",
       "       -3.86207655e-01, -4.77476416e-01,  1.24568268e-01,  9.60344995e-02,\n",
       "        9.30422775e-01,  5.69035681e-01, -2.21341731e-01, -1.81379120e+00,\n",
       "        2.12724426e-01, -2.64582148e-01,  9.70841925e-01, -6.97503401e-02,\n",
       "        6.99384357e-01, -5.78905971e-01,  1.28371006e+00, -4.89841620e-01,\n",
       "       -1.17777646e+00,  7.17597259e-01,  1.03582080e+00, -2.06995558e-02,\n",
       "        7.48210356e-01, -1.61531055e+00,  1.00376753e+00, -6.23008152e-01,\n",
       "       -4.84525647e-01, -1.06703040e+00, -1.18137888e+00, -5.78359314e-01,\n",
       "       -1.18519479e+00, -2.36870055e-01,  1.29028939e+00,  1.48472865e+00,\n",
       "        1.45875761e+00, -4.06456749e-01,  8.87361753e-01, -1.67364555e+00,\n",
       "        2.94017008e-01,  5.91100733e-01, -2.11769689e-01, -5.47903475e-01,\n",
       "       -1.36664610e+00, -4.80988962e-01, -1.36387260e+00, -9.67579081e-01,\n",
       "        1.28750701e+00, -6.53223973e-01,  1.08349356e+00, -9.30625645e-01,\n",
       "       -7.16600420e-01, -1.29189185e+00,  1.49725735e-01, -5.25619478e-01,\n",
       "       -5.94127509e-01, -2.99230934e-01, -7.53225301e-01, -2.20936715e-01,\n",
       "        7.81524197e-01,  7.81617648e-01, -1.03830549e-01, -1.61254887e-01,\n",
       "       -8.13641442e-01, -7.98786846e-01, -9.34121680e-01,  7.23867269e-02,\n",
       "        1.33100952e+00, -2.28746097e-01, -2.27118293e-01, -5.10173192e-01,\n",
       "        1.09773728e-01, -1.59614162e+00,  2.10536726e+00, -1.64546588e+00,\n",
       "       -1.40772039e-01, -1.71386128e+00, -5.76186835e-01, -1.16278858e+00,\n",
       "       -1.15312948e+00, -1.37191084e+00, -2.28412421e-01, -3.21546503e-01,\n",
       "        4.99199334e-01,  7.06523470e-01,  2.07069116e-01,  5.85434867e-01,\n",
       "       -3.53930087e-01, -8.66149778e-01,  1.28750701e+00,  8.46573215e-01,\n",
       "       -5.52213057e-01, -7.76312584e-01, -7.56446730e-01,  1.51283654e+00,\n",
       "       -6.98989127e-01, -9.89640427e-01, -1.42643379e+00,  1.37311997e+00,\n",
       "       -8.29972829e-02, -1.81913642e-01, -5.56416432e-01,  2.05218364e-01,\n",
       "       -4.44095338e-01,  2.36643702e-01, -8.53990638e-01, -8.04183238e-02,\n",
       "       -6.91342037e-01, -6.83324329e-01, -2.99966137e-01,  9.55245845e-01,\n",
       "       -1.04628070e+00, -1.06036155e+00,  1.44092139e+00, -6.31241738e-01,\n",
       "        1.21348795e-01, -1.33053928e+00])"
      ]
     },
     "execution_count": 14,
     "metadata": {},
     "output_type": "execute_result"
    }
   ],
   "source": [
    "model2.decision_function(X_test)"
   ]
  },
  {
   "cell_type": "code",
   "execution_count": 15,
   "metadata": {},
   "outputs": [],
   "source": [
    "%matplotlib inline\n",
    "import matplotlib.pyplot as plt\n",
    "from sklearn.metrics import roc_curve\n",
    "\n",
    "fpr1,tpr1,thresholds1=roc_curve(y,model1.decision_function(X))\n",
    "fpr2,tpr2,thresholds2=roc_curve(y,model2.decision_function(X))"
   ]
  },
  {
   "cell_type": "code",
   "execution_count": 16,
   "metadata": {},
   "outputs": [
    {
     "data": {
      "image/png": "[encoded data removed]",
      "text/plain": [
       "<Figure size 432x288 with 1 Axes>"
      ]
     },
     "metadata": {
      "needs_background": "light"
     },
     "output_type": "display_data"
    }
   ],
   "source": [
    "plt.plot(fpr1, tpr1, 'o-', ms=2, label=\"LOGIT\")\n",
    "plt.plot(fpr2, tpr2, 'o-', ms=2, label=\"SVM\")\n",
    "plt.legend()\n",
    "plt.plot([0,1],[0,1],'k--',label=\"random guess\")\n",
    "plt.xlabel('FPR')\n",
    "plt.ylabel('TPR')\n",
    "plt.title('ROC curve')\n",
    "plt.show()\n",
    "# 면적(0.5~1.0)이 1에 가까울수록-그래프가 좌상단 꼭짓점에 다가갈수록-좋은 모형"
   ]
  },
  {
   "cell_type": "code",
   "execution_count": 17,
   "metadata": {},
   "outputs": [
    {
     "data": {
      "text/plain": [
       "(0.9202541097672734, 0.8914602826207474)"
      ]
     },
     "execution_count": 17,
     "metadata": {},
     "output_type": "execute_result"
    }
   ],
   "source": [
    "# AUC(Area Under the Curve) : ROC curve의 면적\n",
    "# 1에 가까울수록 좋은 모형\n",
    "from sklearn.metrics import auc\n",
    "auc(fpr1, tpr1), auc(fpr2, tpr2)"
   ]
  }
 ],
 "metadata": {
  "interpreter": {
   "hash": "7b4b4feff2f24a0f0a34464dbe537a36fda679851528fb8735cb41fa49dffb2d"
  },
  "kernelspec": {
   "display_name": "Python 3.8.8 64-bit ('base': conda)",
   "language": "python",
   "name": "python3"
  },
  "language_info": {
   "codemirror_mode": {
    "name": "ipython",
    "version": 3
   },
   "file_extension": ".py",
   "mimetype": "text/x-python",
   "name": "python",
   "nbconvert_exporter": "python",
   "pygments_lexer": "ipython3",
   "version": "3.8.8"
  },
  "orig_nbformat": 4
 },
 "nbformat": 4,
 "nbformat_minor": 2
}
