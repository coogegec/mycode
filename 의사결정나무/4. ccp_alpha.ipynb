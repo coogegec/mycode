{
 "cells": [
  {
   "cell_type": "code",
   "execution_count": 1,
   "metadata": {},
   "outputs": [
    {
     "data": {
      "text/html": [
       "<div>\n",
       "<style scoped>\n",
       "    .dataframe tbody tr th:only-of-type {\n",
       "        vertical-align: middle;\n",
       "    }\n",
       "\n",
       "    .dataframe tbody tr th {\n",
       "        vertical-align: top;\n",
       "    }\n",
       "\n",
       "    .dataframe thead th {\n",
       "        text-align: right;\n",
       "    }\n",
       "</style>\n",
       "<table border=\"1\" class=\"dataframe\">\n",
       "  <thead>\n",
       "    <tr style=\"text-align: right;\">\n",
       "      <th></th>\n",
       "      <th>Int'l Plan</th>\n",
       "      <th>VMail Plan</th>\n",
       "      <th>VMail Message</th>\n",
       "      <th>Day Mins</th>\n",
       "      <th>Day Calls</th>\n",
       "      <th>Day Charge</th>\n",
       "      <th>Eve Mins</th>\n",
       "      <th>Eve Calls</th>\n",
       "      <th>Eve Charge</th>\n",
       "      <th>Night Mins</th>\n",
       "      <th>Night Calls</th>\n",
       "      <th>Night Charge</th>\n",
       "      <th>Intl Mins</th>\n",
       "      <th>Intl Calls</th>\n",
       "      <th>Intl Charge</th>\n",
       "      <th>CustServ Calls</th>\n",
       "      <th>Churn</th>\n",
       "    </tr>\n",
       "  </thead>\n",
       "  <tbody>\n",
       "    <tr>\n",
       "      <th>0</th>\n",
       "      <td>0</td>\n",
       "      <td>1</td>\n",
       "      <td>25</td>\n",
       "      <td>265.1</td>\n",
       "      <td>110</td>\n",
       "      <td>45.07</td>\n",
       "      <td>197.4</td>\n",
       "      <td>99</td>\n",
       "      <td>16.78</td>\n",
       "      <td>244.7</td>\n",
       "      <td>91</td>\n",
       "      <td>11.01</td>\n",
       "      <td>10.0</td>\n",
       "      <td>3</td>\n",
       "      <td>2.70</td>\n",
       "      <td>1</td>\n",
       "      <td>0</td>\n",
       "    </tr>\n",
       "    <tr>\n",
       "      <th>1</th>\n",
       "      <td>0</td>\n",
       "      <td>1</td>\n",
       "      <td>26</td>\n",
       "      <td>161.6</td>\n",
       "      <td>123</td>\n",
       "      <td>27.47</td>\n",
       "      <td>195.5</td>\n",
       "      <td>103</td>\n",
       "      <td>16.62</td>\n",
       "      <td>254.4</td>\n",
       "      <td>103</td>\n",
       "      <td>11.45</td>\n",
       "      <td>13.7</td>\n",
       "      <td>3</td>\n",
       "      <td>3.70</td>\n",
       "      <td>1</td>\n",
       "      <td>0</td>\n",
       "    </tr>\n",
       "    <tr>\n",
       "      <th>2</th>\n",
       "      <td>0</td>\n",
       "      <td>0</td>\n",
       "      <td>0</td>\n",
       "      <td>243.4</td>\n",
       "      <td>114</td>\n",
       "      <td>41.38</td>\n",
       "      <td>121.2</td>\n",
       "      <td>110</td>\n",
       "      <td>10.30</td>\n",
       "      <td>162.6</td>\n",
       "      <td>104</td>\n",
       "      <td>7.32</td>\n",
       "      <td>12.2</td>\n",
       "      <td>5</td>\n",
       "      <td>3.29</td>\n",
       "      <td>0</td>\n",
       "      <td>0</td>\n",
       "    </tr>\n",
       "    <tr>\n",
       "      <th>3</th>\n",
       "      <td>1</td>\n",
       "      <td>0</td>\n",
       "      <td>0</td>\n",
       "      <td>299.4</td>\n",
       "      <td>71</td>\n",
       "      <td>50.90</td>\n",
       "      <td>61.9</td>\n",
       "      <td>88</td>\n",
       "      <td>5.26</td>\n",
       "      <td>196.9</td>\n",
       "      <td>89</td>\n",
       "      <td>8.86</td>\n",
       "      <td>6.6</td>\n",
       "      <td>7</td>\n",
       "      <td>1.78</td>\n",
       "      <td>2</td>\n",
       "      <td>0</td>\n",
       "    </tr>\n",
       "    <tr>\n",
       "      <th>4</th>\n",
       "      <td>1</td>\n",
       "      <td>0</td>\n",
       "      <td>0</td>\n",
       "      <td>166.7</td>\n",
       "      <td>113</td>\n",
       "      <td>28.34</td>\n",
       "      <td>148.3</td>\n",
       "      <td>122</td>\n",
       "      <td>12.61</td>\n",
       "      <td>186.9</td>\n",
       "      <td>121</td>\n",
       "      <td>8.41</td>\n",
       "      <td>10.1</td>\n",
       "      <td>3</td>\n",
       "      <td>2.73</td>\n",
       "      <td>3</td>\n",
       "      <td>0</td>\n",
       "    </tr>\n",
       "  </tbody>\n",
       "</table>\n",
       "</div>"
      ],
      "text/plain": [
       "   Int'l Plan  VMail Plan  VMail Message  Day Mins  Day Calls  Day Charge  \\\n",
       "0           0           1             25     265.1        110       45.07   \n",
       "1           0           1             26     161.6        123       27.47   \n",
       "2           0           0              0     243.4        114       41.38   \n",
       "3           1           0              0     299.4         71       50.90   \n",
       "4           1           0              0     166.7        113       28.34   \n",
       "\n",
       "   Eve Mins  Eve Calls  Eve Charge  Night Mins  Night Calls  Night Charge  \\\n",
       "0     197.4         99       16.78       244.7           91         11.01   \n",
       "1     195.5        103       16.62       254.4          103         11.45   \n",
       "2     121.2        110       10.30       162.6          104          7.32   \n",
       "3      61.9         88        5.26       196.9           89          8.86   \n",
       "4     148.3        122       12.61       186.9          121          8.41   \n",
       "\n",
       "   Intl Mins  Intl Calls  Intl Charge  CustServ Calls  Churn  \n",
       "0       10.0           3         2.70               1      0  \n",
       "1       13.7           3         3.70               1      0  \n",
       "2       12.2           5         3.29               0      0  \n",
       "3        6.6           7         1.78               2      0  \n",
       "4       10.1           3         2.73               3      0  "
      ]
     },
     "execution_count": 1,
     "metadata": {},
     "output_type": "execute_result"
    }
   ],
   "source": [
    "# ccp_alpha : 값이 커지면 가지치기하는 노드 수가 증가하고, 값이 작아지면 가지치기하는 노드수가 감소한다.\n",
    "\n",
    "import pandas as pd\n",
    "\n",
    "df=pd.read_csv(\"d:/data/customer/customer.csv\")\n",
    "df.head()"
   ]
  },
  {
   "cell_type": "code",
   "execution_count": 2,
   "metadata": {},
   "outputs": [],
   "source": [
    "train_cols=[\"Int'l Plan\", 'VMail Plan', 'VMail Message', 'Day Mins', 'Day Calls',\n",
    "'Day Charge', 'Eve Mins', 'Eve Calls', 'Eve Charge', 'Night Mins',\n",
    "'Night Calls', 'Night Charge', 'Intl Mins', 'Intl Calls', 'Intl Charge','CustServ Calls']\n",
    "\n",
    "X=df[train_cols]\n",
    "y=df['Churn']"
   ]
  },
  {
   "cell_type": "code",
   "execution_count": 3,
   "metadata": {},
   "outputs": [],
   "source": [
    "from sklearn.model_selection import train_test_split\n",
    "X_train, X_test, y_train, y_test=train_test_split(X,y,stratify=y,random_state=0)"
   ]
  },
  {
   "cell_type": "code",
   "execution_count": 4,
   "metadata": {},
   "outputs": [
    {
     "name": "stdout",
     "output_type": "stream",
     "text": [
      "[0.         0.00019908 0.00026042 0.00026445 0.00026491 0.00026538\n",
      " 0.00031594 0.00037412 0.00038015 0.00038015 0.00038015 0.00038015\n",
      " 0.00038197 0.00038197 0.00038768 0.00039094 0.00039295 0.00039309\n",
      " 0.00039444 0.00039693 0.00039873 0.00039913 0.00040016 0.00040016\n",
      " 0.00047358 0.00050914 0.00051515 0.00051849 0.00052346 0.00053355\n",
      " 0.00053355 0.00053355 0.00060024 0.00060977 0.00060977 0.00066693\n",
      " 0.00066693 0.00067847 0.0007114  0.00072029 0.00073343 0.0007503\n",
      " 0.00075493 0.00076281 0.00076666 0.00076954 0.00077809 0.00078116\n",
      " 0.0008161  0.00090036 0.00096038 0.00097442 0.00103476 0.00105485\n",
      " 0.00131228 0.00169012 0.00186842 0.00205094 0.00216086 0.00219508\n",
      " 0.00250862 0.00304989 0.00310298 0.00373953 0.00418187 0.00745216\n",
      " 0.0078461  0.00952263 0.01230072 0.01620748 0.02223509 0.02556861]\n",
      "[0.         0.00079632 0.00157758 0.00237094 0.00316567 0.0039618\n",
      " 0.00554151 0.00628975 0.00705005 0.00857066 0.00933097 0.01009127\n",
      " 0.01085521 0.01161915 0.01239452 0.01317639 0.01474819 0.01632053\n",
      " 0.01710942 0.01790329 0.01870074 0.02349032 0.02389048 0.02429064\n",
      " 0.02665853 0.02818595 0.0297314  0.03439783 0.04277327 0.04330682\n",
      " 0.04384036 0.04437391 0.04497415 0.04558392 0.04619369 0.04686062\n",
      " 0.04752755 0.05227684 0.05298823 0.05370852 0.05444195 0.05519225\n",
      " 0.05670212 0.05899054 0.0597572  0.06052674 0.06130483 0.06208599\n",
      " 0.06779872 0.06869908 0.06965947 0.0716083  0.07264306 0.07475275\n",
      " 0.07606503 0.07944526 0.08131369 0.08541556 0.08757643 0.0897715\n",
      " 0.09228012 0.09533002 0.098433   0.10217253 0.1063544  0.11380657\n",
      " 0.12949877 0.13902139 0.15132211 0.19994455 0.22217963 0.24774824]\n"
     ]
    }
   ],
   "source": [
    "from sklearn.tree import DecisionTreeClassifier\n",
    "\n",
    "clf=DecisionTreeClassifier(random_state=0)\n",
    "path=clf.cost_complexity_pruning_path(X_train, y_train) # 가지치기 경로 정보\n",
    "ccp_alphas, impurities=path.ccp_alphas, path.impurities\n",
    "print(ccp_alphas) # 값이 크면 제거된 노드 수가 증가 (가지치기 양을 조정하는 옵션)\n",
    "print(impurities) # 노드의 불순도"
   ]
  },
  {
   "cell_type": "code",
   "execution_count": 5,
   "metadata": {},
   "outputs": [
    {
     "data": {
      "text/plain": [
       "Text(0, 0.5, 'impurities')"
      ]
     },
     "execution_count": 5,
     "metadata": {},
     "output_type": "execute_result"
    },
    {
     "data": {
      "image/png": "[encoded data removed]",
      "text/plain": [
       "<Figure size 648x432 with 1 Axes>"
      ]
     },
     "metadata": {
      "needs_background": "light"
     },
     "output_type": "display_data"
    }
   ],
   "source": [
    "%matplotlib inline\n",
    "import matplotlib.pyplot as plt\n",
    "\n",
    "plt.figure(figsize=(9,6))\n",
    "plt.plot(ccp_alphas[:-1], impurities[:-1], marker='o') # 마지막 값은 전체 트리를 가지치기하여 하나의 노드로\n",
    "                                                       # 트리를 남기는 알파값이므로 제외하고 출력\n",
    "plt.xlabel('ccp_alphas')\n",
    "plt.ylabel('impurities')"
   ]
  },
  {
   "cell_type": "code",
   "execution_count": 6,
   "metadata": {},
   "outputs": [],
   "source": [
    "clfs=[]\n",
    "for ccp_alpha in ccp_alphas:\n",
    "    clf=DecisionTreeClassifier(random_state=0, ccp_alpha=ccp_alpha)\n",
    "    clf.fit(X_train, y_train)\n",
    "    clfs.append(clf)"
   ]
  },
  {
   "cell_type": "code",
   "execution_count": 7,
   "metadata": {},
   "outputs": [
    {
     "data": {
      "text/plain": [
       "<matplotlib.legend.Legend at 0x12eb1f03d60>"
      ]
     },
     "execution_count": 7,
     "metadata": {},
     "output_type": "execute_result"
    },
    {
     "data": {
      "image/png": "[encoded data removed]",
      "text/plain": [
       "<Figure size 648x432 with 1 Axes>"
      ]
     },
     "metadata": {
      "needs_background": "light"
     },
     "output_type": "display_data"
    }
   ],
   "source": [
    "clfs=clfs[:-1]\n",
    "ccp_alphas=ccp_alphas[:-1]\n",
    "\n",
    "node_counts=[clf.tree_.node_count for clf in clfs]\n",
    "depth=[clf.tree_.max_depth for clf in clfs]\n",
    "\n",
    "plt.figure(figsize=(9,6))\n",
    "plt.plot(ccp_alphas, node_counts, marker='o', label='node count')\n",
    "plt.plot(ccp_alphas, depth, marker='x', label='depth')\n",
    "plt.xlabel('ccp_alpha')\n",
    "plt.legend()\n",
    "# ccp_alpha가 증가하면 노드 개수가 감소한다.(가지치기를 많이 하는 옵션)"
   ]
  },
  {
   "cell_type": "code",
   "execution_count": 8,
   "metadata": {},
   "outputs": [
    {
     "name": "stdout",
     "output_type": "stream",
     "text": [
      "최고 정확도 : 0.9616306954436451\n",
      "최적의 alpha : 0.0008161045299304866\n"
     ]
    },
    {
     "data": {
      "text/plain": [
       "<matplotlib.legend.Legend at 0x12eb1f89610>"
      ]
     },
     "execution_count": 8,
     "metadata": {},
     "output_type": "execute_result"
    },
    {
     "data": {
      "image/png": "[encoded data removed]",
      "text/plain": [
       "<Figure size 648x432 with 1 Axes>"
      ]
     },
     "metadata": {
      "needs_background": "light"
     },
     "output_type": "display_data"
    }
   ],
   "source": [
    "import numpy as np\n",
    "\n",
    "train_scores=[clf.score(X_train, y_train) for clf in clfs]\n",
    "test_scores=[clf.score(X_test, y_test) for clf in clfs]\n",
    "\n",
    "m=max(test_scores)\n",
    "i=np.argmax(test_scores)\n",
    "print(\"최고 정확도 :\",m)\n",
    "print(\"최적의 alpha :\",ccp_alphas[i])\n",
    "\n",
    "plt.figure(figsize=(9,6))\n",
    "plt.xlabel('alpha')\n",
    "plt.ylabel('accuracy')\n",
    "plt.plot(ccp_alphas, train_scores, marker='o', label='train')\n",
    "plt.plot(ccp_alphas, test_scores, marker='x', label='test')\n",
    "plt.legend()\n",
    "# ccp_alpha가 0이면 과적합 문제 발생\n",
    "# 알파가 증가하면 가지치기가 진행되어 일반적인 트리가 됨"
   ]
  }
 ],
 "metadata": {
  "interpreter": {
   "hash": "7b4b4feff2f24a0f0a34464dbe537a36fda679851528fb8735cb41fa49dffb2d"
  },
  "kernelspec": {
   "display_name": "Python 3.8.8 64-bit ('base': conda)",
   "language": "python",
   "name": "python3"
  },
  "language_info": {
   "codemirror_mode": {
    "name": "ipython",
    "version": 3
   },
   "file_extension": ".py",
   "mimetype": "text/x-python",
   "name": "python",
   "nbconvert_exporter": "python",
   "pygments_lexer": "ipython3",
   "version": "3.8.8"
  },
  "orig_nbformat": 4
 },
 "nbformat": 4,
 "nbformat_minor": 2
}
