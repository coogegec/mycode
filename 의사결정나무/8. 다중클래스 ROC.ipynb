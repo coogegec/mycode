{
 "cells": [
  {
   "cell_type": "code",
   "execution_count": 1,
   "metadata": {},
   "outputs": [
    {
     "data": {
      "text/html": [
       "<div>\n",
       "<style scoped>\n",
       "    .dataframe tbody tr th:only-of-type {\n",
       "        vertical-align: middle;\n",
       "    }\n",
       "\n",
       "    .dataframe tbody tr th {\n",
       "        vertical-align: top;\n",
       "    }\n",
       "\n",
       "    .dataframe thead th {\n",
       "        text-align: right;\n",
       "    }\n",
       "</style>\n",
       "<table border=\"1\" class=\"dataframe\">\n",
       "  <thead>\n",
       "    <tr style=\"text-align: right;\">\n",
       "      <th></th>\n",
       "      <th>SepalLength</th>\n",
       "      <th>SepalWidth</th>\n",
       "      <th>PetalLength</th>\n",
       "      <th>PetalWidth</th>\n",
       "      <th>Name</th>\n",
       "      <th>Species</th>\n",
       "    </tr>\n",
       "  </thead>\n",
       "  <tbody>\n",
       "    <tr>\n",
       "      <th>0</th>\n",
       "      <td>5.1</td>\n",
       "      <td>3.5</td>\n",
       "      <td>1.4</td>\n",
       "      <td>0.2</td>\n",
       "      <td>setosa</td>\n",
       "      <td>0</td>\n",
       "    </tr>\n",
       "    <tr>\n",
       "      <th>1</th>\n",
       "      <td>4.9</td>\n",
       "      <td>3.0</td>\n",
       "      <td>1.4</td>\n",
       "      <td>0.2</td>\n",
       "      <td>setosa</td>\n",
       "      <td>0</td>\n",
       "    </tr>\n",
       "    <tr>\n",
       "      <th>2</th>\n",
       "      <td>4.7</td>\n",
       "      <td>3.2</td>\n",
       "      <td>1.3</td>\n",
       "      <td>0.2</td>\n",
       "      <td>setosa</td>\n",
       "      <td>0</td>\n",
       "    </tr>\n",
       "    <tr>\n",
       "      <th>3</th>\n",
       "      <td>4.6</td>\n",
       "      <td>3.1</td>\n",
       "      <td>1.5</td>\n",
       "      <td>0.2</td>\n",
       "      <td>setosa</td>\n",
       "      <td>0</td>\n",
       "    </tr>\n",
       "    <tr>\n",
       "      <th>4</th>\n",
       "      <td>5.0</td>\n",
       "      <td>3.6</td>\n",
       "      <td>1.4</td>\n",
       "      <td>0.2</td>\n",
       "      <td>setosa</td>\n",
       "      <td>0</td>\n",
       "    </tr>\n",
       "  </tbody>\n",
       "</table>\n",
       "</div>"
      ],
      "text/plain": [
       "   SepalLength  SepalWidth  PetalLength  PetalWidth    Name  Species\n",
       "0          5.1         3.5          1.4         0.2  setosa        0\n",
       "1          4.9         3.0          1.4         0.2  setosa        0\n",
       "2          4.7         3.2          1.3         0.2  setosa        0\n",
       "3          4.6         3.1          1.5         0.2  setosa        0\n",
       "4          5.0         3.6          1.4         0.2  setosa        0"
      ]
     },
     "execution_count": 1,
     "metadata": {},
     "output_type": "execute_result"
    }
   ],
   "source": [
    "import pandas as pd\n",
    "df=pd.read_csv(\"d:/data/iris/iris.csv\")\n",
    "df.head()"
   ]
  },
  {
   "cell_type": "code",
   "execution_count": 2,
   "metadata": {},
   "outputs": [],
   "source": [
    "cols=df.columns[0:-2]\n",
    "X=df[cols]\n",
    "y=df['Species']"
   ]
  },
  {
   "cell_type": "code",
   "execution_count": 3,
   "metadata": {},
   "outputs": [],
   "source": [
    "from sklearn.model_selection import train_test_split\n",
    "X_train, X_test, y_train, y_test=train_test_split(X,y,test_size=0.2,stratify=y,random_state=0)"
   ]
  },
  {
   "cell_type": "code",
   "execution_count": 4,
   "metadata": {},
   "outputs": [
    {
     "data": {
      "text/plain": [
       "array([[  6.70082448,   2.86780209,  -9.56862656],\n",
       "       [  6.34361969,   2.95342261,  -9.2970423 ],\n",
       "       [  6.83119372,   2.81816212,  -9.64935584],\n",
       "       [  6.31548535,   2.79739849,  -9.11288383],\n",
       "       [  6.82761439,   2.79650424,  -9.62411863],\n",
       "       [  6.02513771,   2.66024036,  -8.68537807],\n",
       "       [  6.70918486,   2.62131003,  -9.33049489],\n",
       "       [  6.4191103 ,   2.85437366,  -9.27348397],\n",
       "       [  6.45403959,   2.79254727,  -9.24658686],\n",
       "       [  6.29893996,   2.9991018 ,  -9.29804176],\n",
       "       [  6.52273526,   2.91134884,  -9.4340841 ],\n",
       "       [  6.26418605,   2.76964739,  -9.03383344],\n",
       "       [  6.48521418,   3.00034379,  -9.48555797],\n",
       "       [  7.38487162,   2.82887176, -10.21374338],\n",
       "       [  7.32834281,   2.99032964, -10.31867245],\n",
       "       [  6.81079593,   2.62798578,  -9.43878171],\n",
       "       [  6.9611145 ,   2.6895812 ,  -9.6506957 ],\n",
       "       [  6.59876495,   2.78218538,  -9.38095033],\n",
       "       [  5.92133738,   2.89454599,  -8.81588337],\n",
       "       [  6.62653559,   2.67704321,  -9.30357881],\n",
       "       [  5.79298203,   2.99448537,  -8.7874674 ],\n",
       "       [  6.43722112,   2.62402882,  -9.06124994],\n",
       "       [  7.92173106,   2.67106294, -10.59279401],\n",
       "       [  5.51815342,   2.65415096,  -8.17230438],\n",
       "       [  5.56220345,   2.74764176,  -8.30984522],\n",
       "       [  5.83609632,   2.97744773,  -8.81354405],\n",
       "       [  5.98099706,   2.67580503,  -8.65680209],\n",
       "       [  6.42729531,   2.89916241,  -9.32645772],\n",
       "       [  6.57403456,   2.93909994,  -9.5131345 ],\n",
       "       [  6.12921112,   2.79615649,  -8.92536762],\n",
       "       [  6.00242121,   2.86745435,  -8.86987555],\n",
       "       [  6.05685138,   2.83792237,  -8.89477375],\n",
       "       [  7.05288451,   2.78916521,  -9.84204972],\n",
       "       [  7.15346922,   2.79436799,  -9.94783721],\n",
       "       [  6.29893996,   2.9991018 ,  -9.29804176],\n",
       "       [  6.946583  ,   2.94158393,  -9.88816693],\n",
       "       [  6.77667879,   3.02991942,  -9.80659822],\n",
       "       [  6.29893996,   2.9991018 ,  -9.29804176],\n",
       "       [  6.77528873,   2.76728016,  -9.5425689 ],\n",
       "       [  6.37957533,   2.8930692 ,  -9.27264453],\n",
       "       [  6.87229412,   2.75082505,  -9.62311917],\n",
       "       [  6.02290962,   2.94857521,  -8.97148483],\n",
       "       [  6.94979863,   2.70207553,  -9.65187415],\n",
       "       [  5.86413296,   2.47196929,  -8.33610225],\n",
       "       [  5.58849928,   2.56208567,  -8.15058495],\n",
       "       [  6.28109513,   2.82911037,  -9.1102055 ],\n",
       "       [  6.49460092,   2.75532471,  -9.24992564],\n",
       "       [  6.63673449,   2.77213138,  -9.40886587],\n",
       "       [  6.56227023,   2.87265331,  -9.43492354],\n",
       "       [  6.56584955,   2.89431119,  -9.46016075],\n",
       "       [ -3.25862759,   2.43136173,   0.82726586],\n",
       "       [ -2.6554889 ,   2.12824224,   0.52724666],\n",
       "       [ -3.87639549,   2.32498139,   1.5514141 ],\n",
       "       [ -1.71087865,   2.28131278,  -0.57043413],\n",
       "       [ -3.27803785,   2.29001184,   0.98802601],\n",
       "       [ -2.52364485,   2.15901621,   0.36462863],\n",
       "       [ -3.0987469 ,   1.95665727,   1.14208964],\n",
       "       [  0.55772407,   2.32473387,  -2.88245794],\n",
       "       [ -3.02619883,   2.46733848,   0.55886035],\n",
       "       [ -1.11131928,   1.95653541,  -0.84521613],\n",
       "       [ -0.29881908,   2.47916826,  -2.18034917],\n",
       "       [ -1.93034135,   2.02197485,  -0.0916335 ],\n",
       "       [ -1.68962988,   2.7642429 ,  -1.07461302],\n",
       "       [ -3.1645777 ,   2.1809089 ,   0.98366881],\n",
       "       [ -0.29090716,   2.15373524,  -1.86282809],\n",
       "       [ -2.52529504,   2.36988308,   0.15541196],\n",
       "       [ -2.51371903,   1.88388262,   0.62983641],\n",
       "       [ -1.4082794 ,   2.51650503,  -1.10822563],\n",
       "       [ -3.44896842,   2.37687436,   1.07209406],\n",
       "       [ -1.13779048,   2.43337231,  -1.29558183],\n",
       "       [ -3.46597522,   1.65590883,   1.81006639],\n",
       "       [ -1.51181374,   2.35047439,  -0.83866064],\n",
       "       [ -4.16271534,   2.2884221 ,   1.87429324],\n",
       "       [ -3.0477136 ,   2.38474464,   0.66296896],\n",
       "       [ -2.2451463 ,   2.41195304,  -0.16680674],\n",
       "       [ -2.57301501,   2.36378986,   0.20922515],\n",
       "       [ -3.76257164,   2.47704473,   1.28552691],\n",
       "       [ -4.32269374,   2.10162401,   2.22106973],\n",
       "       [ -2.75911386,   2.07126707,   0.68784679],\n",
       "       [ -0.0520342 ,   2.55442307,  -2.50238888],\n",
       "       [ -0.95151626,   2.43461431,  -1.48309804],\n",
       "       [ -0.61546254,   2.52756623,  -1.91210368],\n",
       "       [ -1.14441006,   2.35994203,  -1.21553197],\n",
       "       [ -4.43964846,   2.00684374,   2.43280472],\n",
       "       [ -2.43464909,   1.80649156,   0.62815753],\n",
       "       [ -2.42489865,   1.82263877,   0.60225988],\n",
       "       [ -3.32933715,   2.26226074,   1.06707641],\n",
       "       [ -2.9631352 ,   2.56153621,   0.401599  ],\n",
       "       [ -1.3736232 ,   2.08445688,  -0.71083368],\n",
       "       [ -1.53636876,   2.21610815,  -0.67973939],\n",
       "       [ -2.28303108,   2.23978171,   0.04324937],\n",
       "       [ -2.84332856,   2.15564179,   0.68768677],\n",
       "       [ -1.4656592 ,   2.38520914,  -0.91954994],\n",
       "       [  0.43093415,   2.39603172,  -2.82696587],\n",
       "       [ -1.86938223,   2.17492863,  -0.30554639],\n",
       "       [ -1.54509284,   2.20143392,  -0.65634108],\n",
       "       [ -1.73440731,   2.14841952,  -0.41401221],\n",
       "       [ -2.16607636,   2.33456197,  -0.16848562],\n",
       "       [  1.16583214,   2.30591153,  -3.47174367],\n",
       "       [ -1.58766806,   2.18835705,  -0.60068899],\n",
       "       [ -7.05920718,   1.09074915,   5.96845803],\n",
       "       [ -4.66675709,   1.67260255,   2.99415455],\n",
       "       [ -6.99501949,   1.84792242,   5.14709707],\n",
       "       [ -5.75783351,   1.84981624,   3.90801728],\n",
       "       [ -6.625875  ,   1.53746772,   5.08840727],\n",
       "       [ -8.83065372,   1.99005362,   6.84060011],\n",
       "       [ -2.87736802,   1.60479207,   1.27257595],\n",
       "       [ -7.7911426 ,   2.1854251 ,   5.6057175 ],\n",
       "       [ -6.73298157,   2.12033722,   4.61264435],\n",
       "       [ -7.38725127,   1.33386678,   6.05338449],\n",
       "       [ -4.60928668,   1.69484297,   2.91444371],\n",
       "       [ -5.37195531,   1.89010532,   3.48184999],\n",
       "       [ -5.94043779,   1.76117666,   4.17926114],\n",
       "       [ -4.66979734,   1.62083015,   3.04896719],\n",
       "       [ -5.08979977,   1.21191667,   3.87788309],\n",
       "       [ -5.34391867,   1.38462689,   3.95929178],\n",
       "       [ -5.51565431,   1.90194019,   3.61371412],\n",
       "       [ -8.50820285,   1.67497868,   6.83322416],\n",
       "       [-10.12531012,   1.96591937,   8.15939075],\n",
       "       [ -4.53986947,   2.26280725,   2.27706222],\n",
       "       [ -6.47757031,   1.54876371,   4.9288066 ],\n",
       "       [ -4.13450333,   1.49166287,   2.64284046],\n",
       "       [ -9.17663326,   2.17223529,   7.00439797],\n",
       "       [ -4.29438402,   1.96636734,   2.32801669],\n",
       "       [ -6.10712638,   1.61000375,   4.49712263],\n",
       "       [ -6.78786019,   2.07092824,   4.71693196],\n",
       "       [ -3.93359991,   1.90240469,   2.03119522],\n",
       "       [ -3.95354925,   1.79116932,   2.16237993],\n",
       "       [ -6.190802  ,   1.66426396,   4.52653805],\n",
       "       [ -6.29026264,   2.32203671,   3.96822593],\n",
       "       [ -7.55200364,   2.18577665,   5.36622699],\n",
       "       [ -7.68117115,   1.9456088 ,   5.73556235],\n",
       "       [ -6.29286152,   1.57864724,   4.71421428],\n",
       "       [ -4.3689389 ,   2.17594473,   2.19299417],\n",
       "       [ -5.53229032,   2.21269897,   3.31959134],\n",
       "       [ -7.90433675,   1.89419177,   6.01014498],\n",
       "       [ -5.93391593,   1.17310438,   4.76081154],\n",
       "       [ -5.38886439,   1.83064234,   3.55822205],\n",
       "       [ -3.68002008,   1.75980899,   1.92021108],\n",
       "       [ -5.65872362,   1.77460508,   3.88411854],\n",
       "       [ -6.35382064,   1.42569346,   4.92812718],\n",
       "       [ -5.16086007,   1.62537728,   3.53548279],\n",
       "       [ -4.66675709,   1.67260255,   2.99415455],\n",
       "       [ -6.90602374,   1.49539776,   5.41062597],\n",
       "       [ -6.51536447,   1.26753691,   5.24782756],\n",
       "       [ -5.40303928,   1.57325333,   3.82978595],\n",
       "       [ -4.80494764,   1.93862005,   2.86632759],\n",
       "       [ -5.01779077,   1.7527124 ,   3.26507837],\n",
       "       [ -5.32433304,   1.23469598,   4.08963706],\n",
       "       [ -4.3424677 ,   1.69910784,   2.64335986]])"
      ]
     },
     "execution_count": 4,
     "metadata": {},
     "output_type": "execute_result"
    }
   ],
   "source": [
    "from sklearn.linear_model import LogisticRegression\n",
    "model=LogisticRegression(max_iter=1000)\n",
    "model.fit(X_train, y_train)\n",
    "y_score=model.decision_function(X)\n",
    "y_score"
   ]
  },
  {
   "cell_type": "code",
   "execution_count": 5,
   "metadata": {},
   "outputs": [
    {
     "data": {
      "text/plain": [
       "array([[10,  0,  0],\n",
       "       [ 0, 10,  0],\n",
       "       [ 0,  0, 10]], dtype=int64)"
      ]
     },
     "execution_count": 5,
     "metadata": {},
     "output_type": "execute_result"
    }
   ],
   "source": [
    "from sklearn.metrics import confusion_matrix\n",
    "y_hat=model.predict(X_test)\n",
    "confusion_matrix(y_test, y_hat, labels=[0,1,2])"
   ]
  },
  {
   "cell_type": "code",
   "execution_count": 6,
   "metadata": {},
   "outputs": [
    {
     "name": "stdout",
     "output_type": "stream",
     "text": [
      "              precision    recall  f1-score   support\n",
      "\n",
      "           0       1.00      1.00      1.00        10\n",
      "           1       1.00      1.00      1.00        10\n",
      "           2       1.00      1.00      1.00        10\n",
      "\n",
      "    accuracy                           1.00        30\n",
      "   macro avg       1.00      1.00      1.00        30\n",
      "weighted avg       1.00      1.00      1.00        30\n",
      "\n"
     ]
    }
   ],
   "source": [
    "from sklearn.metrics import classification_report\n",
    "print(classification_report(y_test,y_hat,target_names=['0','1','2']))"
   ]
  },
  {
   "cell_type": "code",
   "execution_count": 7,
   "metadata": {},
   "outputs": [],
   "source": [
    "# roc_curve() 함수는 이진 분류에만 지원된다\n",
    "# 다중 클래스에 대해서는 ROC curve를 그릴 수 없으므로\n",
    "# 각각의 클래스에 대해 별도로 ROC curve를 그려야 함\n",
    "\n",
    "from sklearn.preprocessing import label_binarize\n",
    "y=label_binarize(y, classes=[0,1,2])"
   ]
  },
  {
   "cell_type": "code",
   "execution_count": 8,
   "metadata": {},
   "outputs": [
    {
     "name": "stdout",
     "output_type": "stream",
     "text": [
      "{0: 1.0, 1: 0.46020000000000005, 2: 0.9967999999999999}\n"
     ]
    },
    {
     "data": {
      "image/png": "[encoded data removed]",
      "text/plain": [
       "<Figure size 432x288 with 1 Axes>"
      ]
     },
     "metadata": {
      "needs_background": "light"
     },
     "output_type": "display_data"
    },
    {
     "data": {
      "image/png": "[encoded data removed]",
      "text/plain": [
       "<Figure size 432x288 with 1 Axes>"
      ]
     },
     "metadata": {
      "needs_background": "light"
     },
     "output_type": "display_data"
    },
    {
     "data": {
      "image/png": "[encoded data removed]",
      "text/plain": [
       "<Figure size 432x288 with 1 Axes>"
      ]
     },
     "metadata": {
      "needs_background": "light"
     },
     "output_type": "display_data"
    }
   ],
   "source": [
    "%matplotlib inline\n",
    "from sklearn.metrics import roc_curve,auc\n",
    "import matplotlib.pyplot as plt\n",
    "\n",
    "n_classes=3\n",
    "\n",
    "fpr=dict()\n",
    "tpr=dict()\n",
    "roc_auc=dict()\n",
    "for i in range(n_classes):\n",
    "    fpr[i], tpr[i], _=roc_curve(y[:,i],y_score[:,i])\n",
    "    roc_auc[i]=auc(fpr[i],tpr[i])\n",
    "\n",
    "print(roc_auc)\n",
    "y_score=model.decision_function(X)\n",
    "for i in range(n_classes):\n",
    "    plt.figure()\n",
    "    plt.plot(fpr[i], tpr[i], label='ROC curve (area = %.3f' % roc_auc[i])\n",
    "    plt.plot([0,1],[0,1],'k--')\n",
    "    plt.xlim([0.0,1.0])\n",
    "    plt.ylim([0.0,1.05])\n",
    "    plt.xlabel('FPR')\n",
    "    plt.ylabel('TPR')\n",
    "    plt.title('ROC')\n",
    "    plt.legend(loc=\"lower right\")\n",
    "    plt.show()"
   ]
  }
 ],
 "metadata": {
  "interpreter": {
   "hash": "7b4b4feff2f24a0f0a34464dbe537a36fda679851528fb8735cb41fa49dffb2d"
  },
  "kernelspec": {
   "display_name": "Python 3.8.8 64-bit ('base': conda)",
   "language": "python",
   "name": "python3"
  },
  "language_info": {
   "codemirror_mode": {
    "name": "ipython",
    "version": 3
   },
   "file_extension": ".py",
   "mimetype": "text/x-python",
   "name": "python",
   "nbconvert_exporter": "python",
   "pygments_lexer": "ipython3",
   "version": "3.8.8"
  },
  "orig_nbformat": 4
 },
 "nbformat": 4,
 "nbformat_minor": 2
}
