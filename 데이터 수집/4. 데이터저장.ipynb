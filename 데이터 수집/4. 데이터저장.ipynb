{
 "cells": [
  {
   "cell_type": "code",
   "execution_count": 2,
   "metadata": {},
   "outputs": [
    {
     "name": "stdout",
     "output_type": "stream",
     "text": [
      "csv로 저장되었습니다.\n"
     ]
    }
   ],
   "source": [
    "# 웹 페이지의 내용을 분석하여 csv 파일로 저장\n",
    "import csv\n",
    "from urllib.request import urlopen\n",
    "from bs4 import BeautifulSoup\n",
    "\n",
    "html=urlopen('http://en.wikipedia.org/wiki/Comparison_of_text_editors')\n",
    "bs=BeautifulSoup(html, 'html.parser')\n",
    "table=bs.find_all('table',{'class':'wikitable'})[0]\n",
    "rows=table.find_all('tr')\n",
    "\n",
    "csvFile=open('d:/data/csv/editors.csv','w',newline='',encoding='utf-8')\n",
    "writer=csv.writer(csvFile)\n",
    "try:\n",
    "    for row in rows:\n",
    "        csvRow=[]\n",
    "        for cell in row.find_all(['td','th']):\n",
    "            csvRow.append(cell.text.strip())\n",
    "        writer.writerow(csvRow)\n",
    "finally:\n",
    "    print('csv로 저장되었습니다.')\n",
    "    csvFile.close()"
   ]
  },
  {
   "cell_type": "code",
   "execution_count": 5,
   "metadata": {},
   "outputs": [
    {
     "name": "stdout",
     "output_type": "stream",
     "text": [
      "/wiki/%EB%AF%B8%EA%B5%AD%EC%9D%98_%EC%BD%94%EB%A1%9C%EB%82%9819_%EB%B2%94%EC%9C%A0%ED%96%89\n",
      "/wiki/%EC%BF%A0%EC%9B%A8%EC%9D%B4%ED%8A%B8%EC%9D%98_%EC%BD%94%EB%A1%9C%EB%82%9819_%EB%B2%94%EC%9C%A0%ED%96%89\n",
      "/wiki/2020%EB%85%84_%EC%A3%BC%EA%B0%80_%EB%8C%80%ED%8F%AD%EB%9D%BD\n",
      "/wiki/%EC%A5%90%EC%8A%A4%ED%83%B1_%ED%8A%B8%EB%A4%BC%EB%8F%84\n",
      "/wiki/%EA%B8%B0%EC%8B%9C%EB%8B%A4_%ED%9B%84%EB%AF%B8%EC%98%A4\n",
      "/wiki/%ED%9E%88%EB%A1%9C%EC%8B%9C%EB%A7%88%ED%98%84_%EC%A0%9C1%EA%B5%AC\n",
      "/wiki/%EC%95%84%EC%98%A4%EB%AA%A8%EB%A6%AC%ED%98%84_%EC%A0%9C1%EA%B5%AC\n",
      "/wiki/%ED%9B%84%EC%BF%A0%EC%98%A4%EC%B9%B4%ED%98%84_%EC%A0%9C3%EA%B5%AC\n",
      "/wiki/%EB%8F%84%EC%BF%84%EB%8F%84_%EC%A0%9C21%EA%B5%AC\n",
      "/wiki/%ED%9A%A8%EA%B3%A0%ED%98%84_%EC%A0%9C2%EA%B5%AC\n",
      "완료되었습니다.\n"
     ]
    }
   ],
   "source": [
    "from urllib.request import urlopen\n",
    "from bs4 import BeautifulSoup as bs\n",
    "import re\n",
    "import datetime\n",
    "import random\n",
    "import pymysql\n",
    "\n",
    "conn=pymysql.connect(host='localhost', port=3306, user='web', password='1234', db='myweb', charset='utf8')\n",
    "cursor=conn.cursor()\n",
    "cursor.execute('use myweb')\n",
    "cursor.execute('delete from pages')\n",
    "random.seed(datetime.datetime.now())\n",
    "\n",
    "def store(title, content):\n",
    "    title=title.replace(\"'\",\"''\")\n",
    "    content=content.replace(\"'\",\"''\")\n",
    "    sql=f\"insert into pages (title,content) values ('{title}','{content}')\"\n",
    "    cursor.execute(sql)\n",
    "    conn.commit()\n",
    "\n",
    "def getLinks(url):\n",
    "    html=urlopen('http://ko.wikipedia.org'+url)\n",
    "    obj=bs(html,'html.parser')\n",
    "    title=obj.find('h1').text\n",
    "    content=obj.find('div',{'id':'mw-content-text'}).find('p').text\n",
    "    store(title,content)\n",
    "    return obj.find('div', {'id':'bodyContent'}).find_all('a',href=re.compile(\"^(/wiki/)((?!:).)*$\"))\n",
    "\n",
    "links=getLinks('/wiki/SARS-CoV-2_%EC%98%A4%EB%AF%B8%ED%81%AC%EB%A1%A0_%EB%B3%80%EC%9D%B4')\n",
    "try:\n",
    "    cnt=0\n",
    "    while len(links) > 0:\n",
    "        cnt+=1\n",
    "        if cnt >= 10:\n",
    "            break\n",
    "        newArticle=links[random.randint(0, len(links)-1)].attrs['href']\n",
    "        print(newArticle)\n",
    "        links=getLinks(newArticle)\n",
    "finally:\n",
    "    cursor.close()\n",
    "    conn.close()\n",
    "    print('완료되었습니다.')\n",
    "    "
   ]
  }
 ],
 "metadata": {
  "interpreter": {
   "hash": "7b4b4feff2f24a0f0a34464dbe537a36fda679851528fb8735cb41fa49dffb2d"
  },
  "kernelspec": {
   "display_name": "Python 3.8.8 64-bit ('base': conda)",
   "language": "python",
   "name": "python3"
  },
  "language_info": {
   "codemirror_mode": {
    "name": "ipython",
    "version": 3
   },
   "file_extension": ".py",
   "mimetype": "text/x-python",
   "name": "python",
   "nbconvert_exporter": "python",
   "pygments_lexer": "ipython3",
   "version": "3.8.8"
  },
  "orig_nbformat": 4
 },
 "nbformat": 4,
 "nbformat_minor": 2
}
