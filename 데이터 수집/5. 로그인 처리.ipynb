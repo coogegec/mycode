{
 "cells": [
  {
   "cell_type": "code",
   "execution_count": 1,
   "metadata": {},
   "outputs": [
    {
     "data": {
      "text/plain": [
       "'<!DOCTYPE html>\\n<html lang=\"en\">\\n<head>\\n    <meta charset=\"UTF-8\">\\n    <title>Title</title>\\n</head>\\n<body>\\n<h2>로그인</h2>\\n<form method=\"post\" action=\"/member/login\">\\n    <input type=\"hidden\" name=\"csrfmiddlewaretoken\" value=\"3MiHemp1s2rUyPfwYaAX3RPvqxGU9hCj2ohGhCIK6rYVcP7Od5d9liTC3EU8LpGc\">\\n    <table>\\n        <tr>\\n            <td>아이디</td>\\n            <td><input id=\"id_username\" maxlength=\"15\" name=\"username\">\\n            </td>\\n        </tr>\\n        <tr>\\n            <td>비밀번호</td>\\n            <td><input id=\"id_password\" maxlength=\"120\" name=\"password\" type=\"password\">\\n            </td>\\n        </tr>\\n        <tr>\\n            <td colspan=\"2\" align=\"center\">\\n                <input type=\"submit\" value=\"로그인\">\\n                <input type=\"button\" value=\"회원관리 메인\" onclick=\"location.href=\\'/member/\\'\">\\n            </td>\\n        </tr>\\n    </table>\\n</form>\\n\\n\\n<link rel=\"stylesheet\" href=\"/static/debug_toolbar/css/print.css\" media=\"print\">\\n<link rel=\"stylesheet\" href=\"/static/debug_toolbar/css/toolbar.css\">\\n\\n\\n<script type=\"module\" src=\"/static/debug_toolbar/js/toolbar.js\" async></script>\\n\\n<div id=\"djDebug\" class=\"djdt-hidden\" dir=\"ltr\"\\n     \\n     data-store-id=\"2f66f6d2378246839f33a7de86e13801\"\\n     data-render-panel-url=\"/__debug__/render_panel/\"\\n     \\n     data-default-show=\"true\"\\n     >\\n  <div class=\"djdt-hidden\" id=\"djDebugToolbar\">\\n    <ul id=\"djDebugPanelList\">\\n      <li><a id=\"djHideToolBarButton\" href=\"#\" title=\"Hide toolbar\">Hide »</a></li>\\n      \\n        \\n\\n<li id=\"djdt-HistoryPanel\" class=\"djDebugPanelButton\">\\n  <input type=\"checkbox\" data-cookie=\"djdtHistoryPanel\" checked title=\"Disable for next and successive requests\">\\n  \\n    <a href=\"#\" title=\"히스토리\" class=\"HistoryPanel\">\\n  \\n  히스토리\\n  \\n    \\n      <br><small>/member/login</small>\\n    \\n  \\n  \\n    </a>\\n  \\n</li>\\n\\n      \\n        \\n\\n<li id=\"djdt-VersionsPanel\" class=\"djDebugPanelButton\">\\n  <input type=\"checkbox\" data-cookie=\"djdtVersionsPanel\" checked title=\"Disable for next and successive requests\">\\n  \\n    <a href=\"#\" title=\"Versions\" class=\"VersionsPanel\">\\n  \\n  Versions\\n  \\n    \\n      <br><small>Django 3.2.9</small>\\n    \\n  \\n  \\n    </a>\\n  \\n</li>\\n\\n      \\n        \\n\\n<li id=\"djdt-TimerPanel\" class=\"djDebugPanelButton\">\\n  <input type=\"checkbox\" data-cookie=\"djdtTimerPanel\" checked title=\"Disable for next and successive requests\">\\n  \\n    <div class=\"djdt-contentless\">\\n  \\n  시각\\n  \\n    \\n      <br><small>Total: 8.98ms</small>\\n    \\n  \\n  \\n    </div>\\n  \\n</li>\\n\\n      \\n        \\n\\n<li id=\"djdt-SettingsPanel\" class=\"djDebugPanelButton\">\\n  <input type=\"checkbox\" data-cookie=\"djdtSettingsPanel\" checked title=\"Disable for next and successive requests\">\\n  \\n    <a href=\"#\" title=\"Settings from config.settings\" class=\"SettingsPanel\">\\n  \\n  Settings\\n  \\n    \\n      \\n    \\n  \\n  \\n    </a>\\n  \\n</li>\\n\\n      \\n        \\n\\n<li id=\"djdt-HeadersPanel\" class=\"djDebugPanelButton\">\\n  <input type=\"checkbox\" data-cookie=\"djdtHeadersPanel\" checked title=\"Disable for next and successive requests\">\\n  \\n    <a href=\"#\" title=\"Headers\" class=\"HeadersPanel\">\\n  \\n  Headers\\n  \\n    \\n      \\n    \\n  \\n  \\n    </a>\\n  \\n</li>\\n\\n      \\n        \\n\\n<li id=\"djdt-RequestPanel\" class=\"djDebugPanelButton\">\\n  <input type=\"checkbox\" data-cookie=\"djdtRequestPanel\" checked title=\"Disable for next and successive requests\">\\n  \\n    <a href=\"#\" title=\"Request\" class=\"RequestPanel\">\\n  \\n  Request\\n  \\n    \\n      <br><small>login_check</small>\\n    \\n  \\n  \\n    </a>\\n  \\n</li>\\n\\n      \\n        \\n\\n<li id=\"djdt-SQLPanel\" class=\"djDebugPanelButton\">\\n  <input type=\"checkbox\" data-cookie=\"djdtSQLPanel\" checked title=\"Disable for next and successive requests\">\\n  \\n    <a href=\"#\" title=\"SQL queries from 0 connections\" class=\"SQLPanel\">\\n  \\n  SQL\\n  \\n    \\n      <br><small>0 queries in 0.00ms</small>\\n    \\n  \\n  \\n    </a>\\n  \\n</li>\\n\\n      \\n        \\n\\n<li id=\"djdt-StaticFilesPanel\" class=\"djDebugPanelButton\">\\n  <input type=\"checkbox\" data-cookie=\"djdtStaticFilesPanel\" checked title=\"Disable for next and successive requests\">\\n  \\n    <a href=\"#\" title=\"Static files (139 found, 0 used)\" class=\"StaticFilesPanel\">\\n  \\n  Static files\\n  \\n    \\n      <br><small>0 files used</small>\\n    \\n  \\n  \\n    </a>\\n  \\n</li>\\n\\n      \\n        \\n\\n<li id=\"djdt-TemplatesPanel\" class=\"djDebugPanelButton\">\\n  <input type=\"checkbox\" data-cookie=\"djdtTemplatesPanel\" checked title=\"Disable for next and successive requests\">\\n  \\n    <a href=\"#\" title=\"Templates (1 rendered)\" class=\"TemplatesPanel\">\\n  \\n  Templates\\n  \\n    \\n      <br><small>member/login.html</small>\\n    \\n  \\n  \\n    </a>\\n  \\n</li>\\n\\n      \\n        \\n\\n<li id=\"djdt-CachePanel\" class=\"djDebugPanelButton\">\\n  <input type=\"checkbox\" data-cookie=\"djdtCachePanel\" checked title=\"Disable for next and successive requests\">\\n  \\n    <a href=\"#\" title=\"Cache calls from 1 backend\" class=\"CachePanel\">\\n  \\n  Cache\\n  \\n    \\n      <br><small>0 calls in 0.00ms</small>\\n    \\n  \\n  \\n    </a>\\n  \\n</li>\\n\\n      \\n        \\n\\n<li id=\"djdt-SignalsPanel\" class=\"djDebugPanelButton\">\\n  <input type=\"checkbox\" data-cookie=\"djdtSignalsPanel\" checked title=\"Disable for next and successive requests\">\\n  \\n    <a href=\"#\" title=\"Signals\" class=\"SignalsPanel\">\\n  \\n  Signals\\n  \\n    \\n      <br><small>29 receivers of 15 signals</small>\\n    \\n  \\n  \\n    </a>\\n  \\n</li>\\n\\n      \\n        \\n\\n<li id=\"djdt-LoggingPanel\" class=\"djDebugPanelButton\">\\n  <input type=\"checkbox\" data-cookie=\"djdtLoggingPanel\" checked title=\"Disable for next and successive requests\">\\n  \\n    <a href=\"#\" title=\"Log messages\" class=\"LoggingPanel\">\\n  \\n  Logging\\n  \\n    \\n      <br><small>0 messages</small>\\n    \\n  \\n  \\n    </a>\\n  \\n</li>\\n\\n      \\n        \\n\\n<li id=\"djdt-RedirectsPanel\" class=\"djDebugPanelButton\">\\n  <input type=\"checkbox\" data-cookie=\"djdtRedirectsPanel\" title=\"Enable for next and successive requests\">\\n  \\n    <div class=\"djdt-contentless djdt-disabled\">\\n  \\n  Intercept redirects\\n  \\n  \\n    </div>\\n  \\n</li>\\n\\n      \\n        \\n\\n<li id=\"djdt-ProfilingPanel\" class=\"djDebugPanelButton\">\\n  <input type=\"checkbox\" data-cookie=\"djdtProfilingPanel\" title=\"Enable for next and successive requests\">\\n  \\n    <div class=\"djdt-contentless djdt-disabled\">\\n  \\n  Profiling\\n  \\n  \\n    </div>\\n  \\n</li>\\n\\n      \\n    </ul>\\n  </div>\\n  <div class=\"djdt-hidden\" id=\"djDebugToolbarHandle\">\\n    <div title=\"Show toolbar\" id=\"djShowToolBarButton\">\\n      <span id=\"djShowToolBarD\">D</span><span id=\"djShowToolBarJ\">J</span>DT\\n    </div>\\n  </div>\\n\\n  \\n    \\n\\n\\n  <div id=\"HistoryPanel\" class=\"djdt-panelContent djdt-hidden\">\\n    <div class=\"djDebugPanelTitle\">\\n      <button type=\"button\" class=\"djDebugClose\">×</button>\\n      <h3>히스토리</h3>\\n    </div>\\n    <div class=\"djDebugPanelContent\">\\n      \\n        <div class=\"djdt-loader\"></div>\\n        <div class=\"djdt-scroll\"></div>\\n      \\n    </div>\\n  </div>\\n\\n\\n  \\n    \\n\\n\\n  <div id=\"VersionsPanel\" class=\"djdt-panelContent djdt-hidden\">\\n    <div class=\"djDebugPanelTitle\">\\n      <button type=\"button\" class=\"djDebugClose\">×</button>\\n      <h3>Versions</h3>\\n    </div>\\n    <div class=\"djDebugPanelContent\">\\n      \\n        <div class=\"djdt-loader\"></div>\\n        <div class=\"djdt-scroll\"></div>\\n      \\n    </div>\\n  </div>\\n\\n\\n  \\n    \\n\\n\\n\\n  \\n    \\n\\n\\n  <div id=\"SettingsPanel\" class=\"djdt-panelContent djdt-hidden\">\\n    <div class=\"djDebugPanelTitle\">\\n      <button type=\"button\" class=\"djDebugClose\">×</button>\\n      <h3>Settings from config.settings</h3>\\n    </div>\\n    <div class=\"djDebugPanelContent\">\\n      \\n        <div class=\"djdt-loader\"></div>\\n        <div class=\"djdt-scroll\"></div>\\n      \\n    </div>\\n  </div>\\n\\n\\n  \\n    \\n\\n\\n  <div id=\"HeadersPanel\" class=\"djdt-panelContent djdt-hidden\">\\n    <div class=\"djDebugPanelTitle\">\\n      <button type=\"button\" class=\"djDebugClose\">×</button>\\n      <h3>Headers</h3>\\n    </div>\\n    <div class=\"djDebugPanelContent\">\\n      \\n        <div class=\"djdt-loader\"></div>\\n        <div class=\"djdt-scroll\"></div>\\n      \\n    </div>\\n  </div>\\n\\n\\n  \\n    \\n\\n\\n  <div id=\"RequestPanel\" class=\"djdt-panelContent djdt-hidden\">\\n    <div class=\"djDebugPanelTitle\">\\n      <button type=\"button\" class=\"djDebugClose\">×</button>\\n      <h3>Request</h3>\\n    </div>\\n    <div class=\"djDebugPanelContent\">\\n      \\n        <div class=\"djdt-loader\"></div>\\n        <div class=\"djdt-scroll\"></div>\\n      \\n    </div>\\n  </div>\\n\\n\\n  \\n    \\n\\n\\n  <div id=\"SQLPanel\" class=\"djdt-panelContent djdt-hidden\">\\n    <div class=\"djDebugPanelTitle\">\\n      <button type=\"button\" class=\"djDebugClose\">×</button>\\n      <h3>SQL queries from 0 connections</h3>\\n    </div>\\n    <div class=\"djDebugPanelContent\">\\n      \\n        <div class=\"djdt-loader\"></div>\\n        <div class=\"djdt-scroll\"></div>\\n      \\n    </div>\\n  </div>\\n\\n\\n  \\n    \\n\\n\\n  <div id=\"StaticFilesPanel\" class=\"djdt-panelContent djdt-hidden\">\\n    <div class=\"djDebugPanelTitle\">\\n      <button type=\"button\" class=\"djDebugClose\">×</button>\\n      <h3>Static files (139 found, 0 used)</h3>\\n    </div>\\n    <div class=\"djDebugPanelContent\">\\n      \\n        <div class=\"djdt-loader\"></div>\\n        <div class=\"djdt-scroll\"></div>\\n      \\n    </div>\\n  </div>\\n\\n\\n  \\n    \\n\\n\\n  <div id=\"TemplatesPanel\" class=\"djdt-panelContent djdt-hidden\">\\n    <div class=\"djDebugPanelTitle\">\\n      <button type=\"button\" class=\"djDebugClose\">×</button>\\n      <h3>Templates (1 rendered)</h3>\\n    </div>\\n    <div class=\"djDebugPanelContent\">\\n      \\n        <div class=\"djdt-loader\"></div>\\n        <div class=\"djdt-scroll\"></div>\\n      \\n    </div>\\n  </div>\\n\\n\\n  \\n    \\n\\n\\n  <div id=\"CachePanel\" class=\"djdt-panelContent djdt-hidden\">\\n    <div class=\"djDebugPanelTitle\">\\n      <button type=\"button\" class=\"djDebugClose\">×</button>\\n      <h3>Cache calls from 1 backend</h3>\\n    </div>\\n    <div class=\"djDebugPanelContent\">\\n      \\n        <div class=\"djdt-loader\"></div>\\n        <div class=\"djdt-scroll\"></div>\\n      \\n    </div>\\n  </div>\\n\\n\\n  \\n    \\n\\n\\n  <div id=\"SignalsPanel\" class=\"djdt-panelContent djdt-hidden\">\\n    <div class=\"djDebugPanelTitle\">\\n      <button type=\"button\" class=\"djDebugClose\">×</button>\\n      <h3>Signals</h3>\\n    </div>\\n    <div class=\"djDebugPanelContent\">\\n      \\n        <div class=\"djdt-loader\"></div>\\n        <div class=\"djdt-scroll\"></div>\\n      \\n    </div>\\n  </div>\\n\\n\\n  \\n    \\n\\n\\n  <div id=\"LoggingPanel\" class=\"djdt-panelContent djdt-hidden\">\\n    <div class=\"djDebugPanelTitle\">\\n      <button type=\"button\" class=\"djDebugClose\">×</button>\\n      <h3>Log messages</h3>\\n    </div>\\n    <div class=\"djDebugPanelContent\">\\n      \\n        <div class=\"djdt-loader\"></div>\\n        <div class=\"djdt-scroll\"></div>\\n      \\n    </div>\\n  </div>\\n\\n\\n  \\n    \\n\\n\\n\\n  \\n    \\n\\n\\n\\n  \\n  <div id=\"djDebugWindow\" class=\"djdt-panelContent djdt-hidden\"></div>\\n</div>\\n</body>\\n</html>'"
      ]
     },
     "execution_count": 1,
     "metadata": {},
     "output_type": "execute_result"
    }
   ],
   "source": [
    "import requests\n",
    "result=requests.get('http://localhost/shop/cart_list')\n",
    "result.text"
   ]
  },
  {
   "cell_type": "code",
   "execution_count": 2,
   "metadata": {},
   "outputs": [
    {
     "name": "stdout",
     "output_type": "stream",
     "text": [
      "세션 아이디 : {'csrftoken': 'aPEmPDZiJOrxRSYFgk8Tw7IoUVDzp1Z9JFQZxGFOt2oIUaT9HlfAJMjw4cKZ9fYP'}\n",
      "딸기\n",
      "사과\n",
      "포도\n"
     ]
    }
   ],
   "source": [
    "import requests\n",
    "from bs4 import BeautifulSoup\n",
    "\n",
    "params={'username':'kim', 'password':'1234'}\n",
    "session=requests.Session()\n",
    "\n",
    "s=session.post('http://localhost/member/login', params)\n",
    "print('세션 아이디 :',s.cookies.get_dict())\n",
    "res=session.get('http://localhost/shop/cart_list')\n",
    "\n",
    "bs=BeautifulSoup(res.text, \"html.parser\")\n",
    "carts=bs.select(\"#form1 > table > tr > td > span\")\n",
    "for cart in carts:\n",
    "    a=cart.text\n",
    "    print(a)"
   ]
  }
 ],
 "metadata": {
  "interpreter": {
   "hash": "7b4b4feff2f24a0f0a34464dbe537a36fda679851528fb8735cb41fa49dffb2d"
  },
  "kernelspec": {
   "display_name": "Python 3.8.8 64-bit ('base': conda)",
   "language": "python",
   "name": "python3"
  },
  "language_info": {
   "codemirror_mode": {
    "name": "ipython",
    "version": 3
   },
   "file_extension": ".py",
   "mimetype": "text/x-python",
   "name": "python",
   "nbconvert_exporter": "python",
   "pygments_lexer": "ipython3",
   "version": "3.8.8"
  },
  "orig_nbformat": 4
 },
 "nbformat": 4,
 "nbformat_minor": 2
}
