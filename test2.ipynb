{
 "cells": [
  {
   "cell_type": "code",
   "execution_count": null,
   "metadata": {},
   "outputs": [],
   "source": [
    "while 1:\n",
    "    num=eval(input('단을 입력하세요 : '))\n",
    "    if num==0:\n",
    "        print('프로그램을 종료합니다.')\n",
    "        break\n",
    "    elif 2<=num<=9:\n",
    "        for i in range(1,10):\n",
    "            print(num,' × ',i,' = ',num*i)\n",
    "    else:\n",
    "        print('올바른 숫자를 입력하세요.')"
   ]
  },
  {
   "cell_type": "code",
   "execution_count": null,
   "metadata": {},
   "outputs": [],
   "source": [
    "from scipy import stats\n",
    "import matplotlib.pyplot as plt\n",
    "from matplotlib import font_manager,rc\n",
    "import numpy as np\n",
    "\n",
    "font_name=font_manager.FontProperties(fname='c:/windows/fonts/malgun.ttf').get_name()\n",
    "rc('font',family=font_name)\n",
    "\n",
    "x=[3.52,2.58,3.31,4.07,4.62,3.98,4.29,4.83,3.71,4.61,3.90,3.20]\n",
    "y=[2.48,2.27,2.47,2.77,2.98,3.05,3.18,3.46,3.03,3.25,2.67,2.53]\n",
    "\n",
    "slope,intercept,r_value,p_value,stderr=stats.linregress(x,y)\n",
    "x1=np.array(x)\n",
    "plt.scatter(x,y, c='green')\n",
    "plt.plot(x1, slope*x1+intercept, c='red')\n",
    "plt.xlabel(\"전기 생산 금액\")\n",
    "plt.ylabel(\"전기 사용량\")\n",
    "\n",
    "print(f'전기 생산 금액이 4.5일 때의 전기 사용량 : {4.5*slope+intercept:.2f}','\\n')\n",
    "print(f'p value : {p_value:.7f}')"
   ]
  },
  {
   "cell_type": "code",
   "execution_count": null,
   "metadata": {},
   "outputs": [],
   "source": [
    "import csv\n",
    "import MySQLdb\n",
    "\n",
    "input_file='d:/data/traffic/data.csv'\n",
    "conn=MySQLdb.connect(host='localhost',port=3306,db='myweb',user='web',passwd='1234',charset='utf8')\n",
    "cursor=conn.cursor()\n",
    "\n",
    "file_reader=csv.reader(open(input_file,'r'),delimiter=',')\n",
    "header=next(file_reader)\n",
    "for row in file_reader:\n",
    "    data=[]\n",
    "    for idx in range(len(header)):\n",
    "        data.append(row[idx])\n",
    "    if int(data[-1]) >= 1000000:\n",
    "        cursor.execute('insert into traffic values (%s,%s,%s,%s,%s,%s,%s,%s,%s,%s,%s,%s,%s,%s,%s)',data)\n",
    "\n",
    "conn.commit()\n",
    "conn.close()"
   ]
  },
  {
   "cell_type": "code",
   "execution_count": null,
   "metadata": {},
   "outputs": [],
   "source": [
    "import pandas as pd\n",
    "import matplotlib.pyplot as plt\n",
    "from matplotlib import font_manager,rc\n",
    "\n",
    "font_name=font_manager.FontProperties(fname=\"c:/windows/fonts/malgun.ttf\").get_name()\n",
    "rc('font',family=font_name)\n",
    "\n",
    "df=pd.read_csv('d:/data/iris/iris.csv')\n",
    "condition=(df.Name=='setosa') | (df.Name=='virginica')\n",
    "df=df[condition]"
   ]
  },
  {
   "cell_type": "code",
   "execution_count": null,
   "metadata": {},
   "outputs": [],
   "source": [
    "import seaborn as sns\n",
    "\n",
    "colors=['red','green']\n",
    "sns.countplot('Name', data=df, palette=colors)\n",
    "plt.title('분류\\n (0: setosa, 1: versicolor)', fontsize=14)\n",
    "print(df['Name'].value_counts(),'\\n')\n"
   ]
  },
  {
   "cell_type": "code",
   "execution_count": null,
   "metadata": {},
   "outputs": [],
   "source": [
    "from sklearn.model_selection import train_test_split\n",
    "from sklearn.linear_model import LogisticRegression\n",
    "from sklearn import metrics\n",
    "\n",
    "cols=['SepalLength', 'SepalWidth', 'PetalLength', 'PetalWidth']\n",
    "X=df[cols]\n",
    "y=df['Species']\n",
    "\n",
    "X_train, X_test, y_train, y_test=train_test_split(X, y, test_size=0.2, random_state=0)\n",
    "model=LogisticRegression(max_iter=1000)\n",
    "model.fit(X_train, y_train)\n",
    "\n",
    "print('학습용 :',model.score(X_train, y_train))\n",
    "print('검증용 :',model.score(X_test, y_test))"
   ]
  },
  {
   "cell_type": "code",
   "execution_count": null,
   "metadata": {},
   "outputs": [],
   "source": [
    "from sklearn.metrics import confusion_matrix\n",
    "\n",
    "pred=model.predict(X_test)\n",
    "cm=confusion_matrix(y_test, pred)\n",
    "cm"
   ]
  },
  {
   "cell_type": "code",
   "execution_count": null,
   "metadata": {},
   "outputs": [],
   "source": [
    "sns.set(font_scale=1.4)\n",
    "plt.figure(figsize=(9,6))\n",
    "plt.title('Confusion Matrix')\n",
    "sns.heatmap(cm, annot=True)"
   ]
  }
 ],
 "metadata": {
  "interpreter": {
   "hash": "7b4b4feff2f24a0f0a34464dbe537a36fda679851528fb8735cb41fa49dffb2d"
  },
  "kernelspec": {
   "display_name": "Python 3.8.8 64-bit ('base': conda)",
   "language": "python",
   "name": "python3"
  },
  "language_info": {
   "codemirror_mode": {
    "name": "ipython",
    "version": 3
   },
   "file_extension": ".py",
   "mimetype": "text/x-python",
   "name": "python",
   "nbconvert_exporter": "python",
   "pygments_lexer": "ipython3",
   "version": "3.8.8"
  },
  "orig_nbformat": 4
 },
 "nbformat": 4,
 "nbformat_minor": 2
}
